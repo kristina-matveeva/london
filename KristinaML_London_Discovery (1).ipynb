{
 "cells": [
  {
   "cell_type": "markdown",
   "metadata": {},
   "source": [
    "# Exploring Areas of London\n",
    "\n",
    "## Table of contents\n",
    "1. [Introduction](#1.-Introduction)\n",
    "2. [Data](#2.-Data)\n",
    "3. [Methodology](#3.-Methodology)\n",
    "4. [Analysis & Machine Learning](#4.-Analysis-&-Machine-Learning)\n",
    "5. [Results](#5.-Results)\n",
    "6. [Discussion](#6.-Discussion)\n",
    "7. [Conclusion](#7.-Conclusion)\n",
    "\n",
    "## 1. Introduction\n",
    "London is one of the largest and most important cities of Europe with diverse population of close to 9 million people. It makes a considerable impact upon the arts, commerce, education, entertainment, fashion, finance, healthcare, media, professional services, research and development, tourism and transportation.\n",
    "\n",
    "In this project we aim to understand the structure of London better: is there a clear distinction between some areas and what is it? For that we will analyse different locations around the city and venues close to them. This should tell us how people use them.\n",
    "\n",
    "Aside of pure academical interest, our research can help the goverement of London in city development planning.\n",
    "\n",
    "## 2. Data\n",
    "For the investigation, the following data sets have been used:\n",
    "1. [Wikipedia](https://en.wikipedia.org/wiki/List_of_areas_of_London) for areas of London.\n",
    "2. [Geocoder](https://geocoder.readthedocs.io/) for coordinates of the areas.\n",
    "3. [Foursquare](https://developer.foursquare.com/docs/places-api/) a source of venues.\n",
    "\n",
    "\n",
    "## 3. Methodology\n",
    "### Download all dependencies"
   ]
  },
  {
   "cell_type": "code",
   "execution_count": 1,
   "metadata": {},
   "outputs": [
    {
     "name": "stdout",
     "output_type": "stream",
     "text": [
      "Requirement already satisfied: lxml in c:\\users\\dgolu\\anaconda3\\lib\\site-packages (4.5.0)\n",
      "Requirement already satisfied: geocoder in c:\\users\\dgolu\\anaconda3\\lib\\site-packages (1.38.1)\n",
      "Requirement already satisfied: six in c:\\users\\dgolu\\anaconda3\\lib\\site-packages (from geocoder) (1.14.0)\n",
      "Requirement already satisfied: click in c:\\users\\dgolu\\anaconda3\\lib\\site-packages (from geocoder) (7.0)\n",
      "Requirement already satisfied: ratelim in c:\\users\\dgolu\\anaconda3\\lib\\site-packages (from geocoder) (0.1.6)\n",
      "Requirement already satisfied: requests in c:\\users\\dgolu\\anaconda3\\lib\\site-packages (from geocoder) (2.22.0)\n",
      "Requirement already satisfied: future in c:\\users\\dgolu\\anaconda3\\lib\\site-packages (from geocoder) (0.18.2)\n",
      "Requirement already satisfied: decorator in c:\\users\\dgolu\\anaconda3\\lib\\site-packages (from ratelim->geocoder) (4.4.1)\n",
      "Requirement already satisfied: certifi>=2017.4.17 in c:\\users\\dgolu\\anaconda3\\lib\\site-packages (from requests->geocoder) (2019.11.28)\n",
      "Requirement already satisfied: idna<2.9,>=2.5 in c:\\users\\dgolu\\anaconda3\\lib\\site-packages (from requests->geocoder) (2.8)\n",
      "Requirement already satisfied: urllib3!=1.25.0,!=1.25.1,<1.26,>=1.21.1 in c:\\users\\dgolu\\anaconda3\\lib\\site-packages (from requests->geocoder) (1.25.8)\n",
      "Requirement already satisfied: chardet<3.1.0,>=3.0.2 in c:\\users\\dgolu\\anaconda3\\lib\\site-packages (from requests->geocoder) (3.0.4)\n",
      "Requirement already satisfied: plotly in c:\\users\\dgolu\\anaconda3\\lib\\site-packages (4.8.1)\n",
      "Requirement already satisfied: retrying>=1.3.3 in c:\\users\\dgolu\\anaconda3\\lib\\site-packages (from plotly) (1.3.3)\n",
      "Requirement already satisfied: six in c:\\users\\dgolu\\anaconda3\\lib\\site-packages (from plotly) (1.14.0)\n",
      "Requirement already satisfied: requests in c:\\users\\dgolu\\anaconda3\\lib\\site-packages (2.22.0)\n",
      "Requirement already satisfied: chardet<3.1.0,>=3.0.2 in c:\\users\\dgolu\\anaconda3\\lib\\site-packages (from requests) (3.0.4)\n",
      "Requirement already satisfied: urllib3!=1.25.0,!=1.25.1,<1.26,>=1.21.1 in c:\\users\\dgolu\\anaconda3\\lib\\site-packages (from requests) (1.25.8)\n",
      "Requirement already satisfied: certifi>=2017.4.17 in c:\\users\\dgolu\\anaconda3\\lib\\site-packages (from requests) (2019.11.28)\n",
      "Requirement already satisfied: idna<2.9,>=2.5 in c:\\users\\dgolu\\anaconda3\\lib\\site-packages (from requests) (2.8)\n"
     ]
    }
   ],
   "source": [
    "!pip install lxml\n",
    "!pip install geocoder\n",
    "!pip install plotly\n",
    "!pip install requests"
   ]
  },
  {
   "cell_type": "code",
   "execution_count": 117,
   "metadata": {},
   "outputs": [],
   "source": [
    "import pandas as pd\n",
    "import re # Regex\n",
    "import geocoder\n",
    "import plotly.express as px # graphs\n",
    "import requests # HTTP client\n",
    "import numpy as np\n",
    "import seaborn as sns\n",
    "import matplotlib.pyplot as plt\n",
    "from sklearn.cluster import KMeans\n",
    "from sklearn.metrics import silhouette_score\n",
    "from collections import Counter"
   ]
  },
  {
   "cell_type": "markdown",
   "metadata": {},
   "source": [
    "### Loading London locations\n",
    "Wikipedia is a free source of all different kinds of data. It also has a list of London locations."
   ]
  },
  {
   "cell_type": "code",
   "execution_count": 118,
   "metadata": {},
   "outputs": [
    {
     "data": {
      "text/html": [
       "<div>\n",
       "<style scoped>\n",
       "    .dataframe tbody tr th:only-of-type {\n",
       "        vertical-align: middle;\n",
       "    }\n",
       "\n",
       "    .dataframe tbody tr th {\n",
       "        vertical-align: top;\n",
       "    }\n",
       "\n",
       "    .dataframe thead th {\n",
       "        text-align: right;\n",
       "    }\n",
       "</style>\n",
       "<table border=\"1\" class=\"dataframe\">\n",
       "  <thead>\n",
       "    <tr style=\"text-align: right;\">\n",
       "      <th></th>\n",
       "      <th>Location</th>\n",
       "      <th>Borough</th>\n",
       "      <th>Town</th>\n",
       "      <th>Postcode</th>\n",
       "    </tr>\n",
       "  </thead>\n",
       "  <tbody>\n",
       "    <tr>\n",
       "      <th>0</th>\n",
       "      <td>Abbey Wood</td>\n",
       "      <td>Bexley, Greenwich [7]</td>\n",
       "      <td>LONDON</td>\n",
       "      <td>SE2</td>\n",
       "    </tr>\n",
       "    <tr>\n",
       "      <th>1</th>\n",
       "      <td>Acton</td>\n",
       "      <td>Ealing, Hammersmith and Fulham[8]</td>\n",
       "      <td>LONDON</td>\n",
       "      <td>W3, W4</td>\n",
       "    </tr>\n",
       "    <tr>\n",
       "      <th>2</th>\n",
       "      <td>Addington</td>\n",
       "      <td>Croydon[8]</td>\n",
       "      <td>CROYDON</td>\n",
       "      <td>CR0</td>\n",
       "    </tr>\n",
       "    <tr>\n",
       "      <th>3</th>\n",
       "      <td>Addiscombe</td>\n",
       "      <td>Croydon[8]</td>\n",
       "      <td>CROYDON</td>\n",
       "      <td>CR0</td>\n",
       "    </tr>\n",
       "    <tr>\n",
       "      <th>4</th>\n",
       "      <td>Albany Park</td>\n",
       "      <td>Bexley</td>\n",
       "      <td>BEXLEY, SIDCUP</td>\n",
       "      <td>DA5, DA14</td>\n",
       "    </tr>\n",
       "    <tr>\n",
       "      <th>...</th>\n",
       "      <td>...</td>\n",
       "      <td>...</td>\n",
       "      <td>...</td>\n",
       "      <td>...</td>\n",
       "    </tr>\n",
       "    <tr>\n",
       "      <th>528</th>\n",
       "      <td>Woolwich</td>\n",
       "      <td>Greenwich</td>\n",
       "      <td>LONDON</td>\n",
       "      <td>SE18</td>\n",
       "    </tr>\n",
       "    <tr>\n",
       "      <th>529</th>\n",
       "      <td>Worcester Park</td>\n",
       "      <td>Sutton, Kingston upon Thames</td>\n",
       "      <td>WORCESTER PARK</td>\n",
       "      <td>KT4</td>\n",
       "    </tr>\n",
       "    <tr>\n",
       "      <th>530</th>\n",
       "      <td>Wormwood Scrubs</td>\n",
       "      <td>Hammersmith and Fulham</td>\n",
       "      <td>LONDON</td>\n",
       "      <td>W12</td>\n",
       "    </tr>\n",
       "    <tr>\n",
       "      <th>531</th>\n",
       "      <td>Yeading</td>\n",
       "      <td>Hillingdon</td>\n",
       "      <td>HAYES</td>\n",
       "      <td>UB4</td>\n",
       "    </tr>\n",
       "    <tr>\n",
       "      <th>532</th>\n",
       "      <td>Yiewsley</td>\n",
       "      <td>Hillingdon</td>\n",
       "      <td>WEST DRAYTON</td>\n",
       "      <td>UB7</td>\n",
       "    </tr>\n",
       "  </tbody>\n",
       "</table>\n",
       "<p>533 rows × 4 columns</p>\n",
       "</div>"
      ],
      "text/plain": [
       "            Location                            Borough            Town  \\\n",
       "0         Abbey Wood              Bexley, Greenwich [7]          LONDON   \n",
       "1              Acton  Ealing, Hammersmith and Fulham[8]          LONDON   \n",
       "2          Addington                         Croydon[8]         CROYDON   \n",
       "3         Addiscombe                         Croydon[8]         CROYDON   \n",
       "4        Albany Park                             Bexley  BEXLEY, SIDCUP   \n",
       "..               ...                                ...             ...   \n",
       "528         Woolwich                          Greenwich          LONDON   \n",
       "529   Worcester Park       Sutton, Kingston upon Thames  WORCESTER PARK   \n",
       "530  Wormwood Scrubs             Hammersmith and Fulham          LONDON   \n",
       "531          Yeading                         Hillingdon           HAYES   \n",
       "532         Yiewsley                         Hillingdon    WEST DRAYTON   \n",
       "\n",
       "      Postcode  \n",
       "0          SE2  \n",
       "1       W3, W4  \n",
       "2          CR0  \n",
       "3          CR0  \n",
       "4    DA5, DA14  \n",
       "..         ...  \n",
       "528       SE18  \n",
       "529        KT4  \n",
       "530        W12  \n",
       "531        UB4  \n",
       "532        UB7  \n",
       "\n",
       "[533 rows x 4 columns]"
      ]
     },
     "execution_count": 118,
     "metadata": {},
     "output_type": "execute_result"
    }
   ],
   "source": [
    "dfs = pd.read_html(\"https://en.wikipedia.org/wiki/List_of_areas_of_London\")\n",
    "df = dfs[1]\n",
    "df_locations = df.drop(columns=[df.columns[4], df.columns[5]])\n",
    "df_locations.columns = [\"Location\", \"Borough\", \"Town\", \"Postcode\"]\n",
    "df_locations"
   ]
  },
  {
   "cell_type": "markdown",
   "metadata": {},
   "source": [
    "#### Cleaning\n",
    "Borough, Town and Postcode columns have multiple comma-separated values in many cases. We only want to take a single one for geocoding purposes.\n",
    "There are also numeric references present in some bouroughs which we want to remove."
   ]
  },
  {
   "cell_type": "code",
   "execution_count": 119,
   "metadata": {
    "scrolled": true
   },
   "outputs": [
    {
     "data": {
      "text/html": [
       "<div>\n",
       "<style scoped>\n",
       "    .dataframe tbody tr th:only-of-type {\n",
       "        vertical-align: middle;\n",
       "    }\n",
       "\n",
       "    .dataframe tbody tr th {\n",
       "        vertical-align: top;\n",
       "    }\n",
       "\n",
       "    .dataframe thead th {\n",
       "        text-align: right;\n",
       "    }\n",
       "</style>\n",
       "<table border=\"1\" class=\"dataframe\">\n",
       "  <thead>\n",
       "    <tr style=\"text-align: right;\">\n",
       "      <th></th>\n",
       "      <th>Location</th>\n",
       "      <th>Borough</th>\n",
       "      <th>Town</th>\n",
       "      <th>Postcode</th>\n",
       "    </tr>\n",
       "  </thead>\n",
       "  <tbody>\n",
       "    <tr>\n",
       "      <th>0</th>\n",
       "      <td>Abbey Wood</td>\n",
       "      <td>Bexley</td>\n",
       "      <td>LONDON</td>\n",
       "      <td>SE2</td>\n",
       "    </tr>\n",
       "    <tr>\n",
       "      <th>1</th>\n",
       "      <td>Acton</td>\n",
       "      <td>Ealing</td>\n",
       "      <td>LONDON</td>\n",
       "      <td>W3</td>\n",
       "    </tr>\n",
       "    <tr>\n",
       "      <th>2</th>\n",
       "      <td>Addington</td>\n",
       "      <td>Croydon</td>\n",
       "      <td>CROYDON</td>\n",
       "      <td>CR0</td>\n",
       "    </tr>\n",
       "    <tr>\n",
       "      <th>3</th>\n",
       "      <td>Addiscombe</td>\n",
       "      <td>Croydon</td>\n",
       "      <td>CROYDON</td>\n",
       "      <td>CR0</td>\n",
       "    </tr>\n",
       "    <tr>\n",
       "      <th>4</th>\n",
       "      <td>Albany Park</td>\n",
       "      <td>Bexley</td>\n",
       "      <td>BEXLEY</td>\n",
       "      <td>DA5</td>\n",
       "    </tr>\n",
       "    <tr>\n",
       "      <th>...</th>\n",
       "      <td>...</td>\n",
       "      <td>...</td>\n",
       "      <td>...</td>\n",
       "      <td>...</td>\n",
       "    </tr>\n",
       "    <tr>\n",
       "      <th>528</th>\n",
       "      <td>Woolwich</td>\n",
       "      <td>Greenwich</td>\n",
       "      <td>LONDON</td>\n",
       "      <td>SE18</td>\n",
       "    </tr>\n",
       "    <tr>\n",
       "      <th>529</th>\n",
       "      <td>Worcester Park</td>\n",
       "      <td>Sutton</td>\n",
       "      <td>WORCESTER PARK</td>\n",
       "      <td>KT4</td>\n",
       "    </tr>\n",
       "    <tr>\n",
       "      <th>530</th>\n",
       "      <td>Wormwood Scrubs</td>\n",
       "      <td>Hammersmith and Fulham</td>\n",
       "      <td>LONDON</td>\n",
       "      <td>W12</td>\n",
       "    </tr>\n",
       "    <tr>\n",
       "      <th>531</th>\n",
       "      <td>Yeading</td>\n",
       "      <td>Hillingdon</td>\n",
       "      <td>HAYES</td>\n",
       "      <td>UB4</td>\n",
       "    </tr>\n",
       "    <tr>\n",
       "      <th>532</th>\n",
       "      <td>Yiewsley</td>\n",
       "      <td>Hillingdon</td>\n",
       "      <td>WEST DRAYTON</td>\n",
       "      <td>UB7</td>\n",
       "    </tr>\n",
       "  </tbody>\n",
       "</table>\n",
       "<p>533 rows × 4 columns</p>\n",
       "</div>"
      ],
      "text/plain": [
       "            Location                 Borough            Town Postcode\n",
       "0         Abbey Wood                  Bexley          LONDON      SE2\n",
       "1              Acton                  Ealing          LONDON       W3\n",
       "2          Addington                 Croydon         CROYDON      CR0\n",
       "3         Addiscombe                 Croydon         CROYDON      CR0\n",
       "4        Albany Park                  Bexley          BEXLEY      DA5\n",
       "..               ...                     ...             ...      ...\n",
       "528         Woolwich               Greenwich          LONDON     SE18\n",
       "529   Worcester Park                  Sutton  WORCESTER PARK      KT4\n",
       "530  Wormwood Scrubs  Hammersmith and Fulham          LONDON      W12\n",
       "531          Yeading              Hillingdon           HAYES      UB4\n",
       "532         Yiewsley              Hillingdon    WEST DRAYTON      UB7\n",
       "\n",
       "[533 rows x 4 columns]"
      ]
     },
     "execution_count": 119,
     "metadata": {},
     "output_type": "execute_result"
    }
   ],
   "source": [
    "# turns 'Croydon[8]' into 'Croydon'\n",
    "def clean_ref(s):\n",
    "    res = re.search(r'([\\w\\s,]+)(\\[\\d+\\])?', s)\n",
    "    if res != None:\n",
    "        s = res.group(1);\n",
    "    return s\n",
    "\n",
    "# returns first of comma-separated values\n",
    "def head(s):\n",
    "    return s.split(\",\")[0]\n",
    "\n",
    "df_locations.Borough = df_locations.Borough.apply(lambda x: head(clean_ref(x)))\n",
    "df_locations.Town = df_locations.Town.apply(lambda x: head(x))\n",
    "df_locations.Postcode = df_locations.Postcode.apply(lambda x: head(x))\n",
    "df_locations"
   ]
  },
  {
   "cell_type": "markdown",
   "metadata": {},
   "source": [
    "### Add coordinates\n",
    "We don't have any coordinates in the dataset so far. To get them we will use Geocoder python library with Arcgis provider which doesn't require any API key.\n",
    "\n",
    "We will also save the resulting dataset to disk, to avoid repeated geocoding for subsequent notebook runs, because that process is slow."
   ]
  },
  {
   "cell_type": "code",
   "execution_count": 133,
   "metadata": {},
   "outputs": [],
   "source": [
    "def geocode(address):\n",
    "    g = geocoder.arcgis(address)\n",
    "    return g.lat, g.lng\n",
    "\n",
    "geocoded_file_name = \"london_locations.pickle\"\n",
    "\n",
    "try:\n",
    "    df_locations = pd.read_pickle(geocoded_file_name)\n",
    "except:\n",
    "    # add columns for Latitude and Longitude\n",
    "    df_locations[\"Lat\"] = None\n",
    "    df_locations[\"Lng\"] = None\n",
    "    for index, row in df_locations.iterrows():\n",
    "        # form address line (with UK in the end to avoid London in US and other funny coincidences)\n",
    "        address = \", \".join([row[\"Location\"], row[\"Borough\"], row[\"Town\"], \"UK\"])\n",
    "        lat, lng = geocode(address)\n",
    "        print(f\"({index}){address}: {lat}, {lng}\")\n",
    "        row[\"Lat\"] = lat\n",
    "        row[\"Lng\"] = lng    \n",
    "    df_locations.to_pickle(geocoded_file_name)"
   ]
  },
  {
   "cell_type": "markdown",
   "metadata": {},
   "source": [
    "### Visualize\n",
    "Let's take a look at the locations on the map."
   ]
  },
  {
   "cell_type": "code",
   "execution_count": 121,
   "metadata": {},
   "outputs": [
    {
     "data": {
      "application/vnd.plotly.v1+json": {
       "config": {
        "plotlyServerURL": "https://plot.ly"
       },
       "data": [
        {
         "customdata": [
          [
           "Bexley",
           "LONDON"
          ],
          [
           "Ealing",
           "LONDON"
          ],
          [
           "Croydon",
           "CROYDON"
          ],
          [
           "Croydon",
           "CROYDON"
          ],
          [
           "Bexley",
           "BEXLEY"
          ],
          [
           "Redbridge",
           "ILFORD"
          ],
          [
           "City",
           "LONDON"
          ],
          [
           "Westminster",
           "LONDON"
          ],
          [
           "Brent",
           "WEMBLEY"
          ],
          [
           "Bromley",
           "LONDON"
          ],
          [
           "Islington",
           "LONDON"
          ],
          [
           "Bromley",
           "WESTERHAM"
          ],
          [
           "Islington",
           "LONDON"
          ],
          [
           "Havering",
           "HORNCHURCH"
          ],
          [
           "Barnet",
           "BARNET"
          ],
          [
           "Enfield",
           "LONDON"
          ],
          [
           "Wandsworth",
           "LONDON"
          ],
          [
           "Southwark",
           "LONDON"
          ],
          [
           "City",
           "LONDON"
          ],
          [
           "Barking and Dagenham",
           "BARKING"
          ],
          [
           "Redbridge",
           "ILFORD"
          ],
          [
           "Bexley",
           "BEXLEYHEATH"
          ],
          [
           "Richmond upon Thames",
           "LONDON"
          ],
          [
           "Bexley",
           "DARTFORD"
          ],
          [
           "Barnet",
           "LONDON"
          ],
          [
           "Barnet",
           "BARNET"
          ],
          [
           "Islington",
           "LONDON"
          ],
          [
           "Wandsworth",
           "LONDON"
          ],
          [
           "Westminster",
           "LONDON"
          ],
          [
           "Bromley",
           "BECKENHAM"
          ],
          [
           "Newham",
           "LONDON"
          ],
          [
           "Barking and Dagenham",
           "DAGENHAM"
          ],
          [
           "Barking and Dagenham",
           "DAGENHAM"
          ],
          [
           "Sutton",
           "WALLINGTON"
          ],
          [
           "Ealing",
           "LONDON"
          ],
          [
           "Westminster",
           "LONDON"
          ],
          [
           "Lewisham",
           "LONDON"
          ],
          [
           "Harrow",
           "HARROW"
          ],
          [
           "Sutton",
           "SUTTON"
          ],
          [
           "Camden",
           "LONDON"
          ],
          [
           "Bexley",
           "BELVEDERE"
          ],
          [
           "Southwark",
           "LONDON"
          ],
          [
           "Kingston upon Thames",
           "SURBITON"
          ],
          [
           "Tower Hamlets",
           "LONDON"
          ],
          [
           "Bexley",
           "BEXLEY"
          ],
          [
           "Bexley",
           "BEXLEYHEATH"
          ],
          [
           "Bromley",
           "BROMLEY"
          ],
          [
           "Bromley",
           "WESTERHAM"
          ],
          [
           "Bexley",
           "SIDCUP"
          ],
          [
           "City",
           "LONDON"
          ],
          [
           "Lewisham",
           "LONDON"
          ],
          [
           "Greenwich",
           "LONDON"
          ],
          [
           "Tower Hamlets",
           "LONDON"
          ],
          [
           "Bexley",
           "BEXLEY"
          ],
          [
           "Camden",
           "LONDON"
          ],
          [
           "Enfield",
           "ENFIELD"
          ],
          [
           "Haringey",
           "LONDON"
          ],
          [
           "Tower Hamlets",
           "LONDON"
          ],
          [
           "Haringey",
           "LONDON"
          ],
          [
           "Hounslow",
           "BRENTFORD"
          ],
          [
           "Barnet",
           "LONDON"
          ],
          [
           "Brent",
           "LONDON"
          ],
          [
           "Enfield",
           "ENFIELD"
          ],
          [
           "Lambeth",
           "LONDON"
          ],
          [
           "Lewisham",
           "LONDON"
          ],
          [
           "Bromley",
           "BROMLEY"
          ],
          [
           "Tower Hamlets",
           "LONDON"
          ],
          [
           "Bromley",
           "BROMLEY"
          ],
          [
           "Kensington and ChelseaHammersmith and Fulham",
           "LONDON"
          ],
          [
           "Brent",
           "LONDON"
          ],
          [
           "Barnet",
           "LONDON"
          ],
          [
           "Enfield",
           "ENFIELD"
          ],
          [
           "Barnet",
           "EDGWARE"
          ],
          [
           "Barnet",
           "LONDON"
          ],
          [
           "Southwark",
           "LONDON"
          ],
          [
           "Tower Hamlets",
           "LONDON"
          ],
          [
           "Camden",
           "LONDON"
          ],
          [
           "Tower Hamlets",
           "LONDON"
          ],
          [
           "Waltham Forest",
           "LONDON"
          ],
          [
           "Newham",
           "LONDON"
          ],
          [
           "Islington",
           "LONDON"
          ],
          [
           "Sutton",
           "CARSHALTON"
          ],
          [
           "Richmond upon Thames",
           "LONDON"
          ],
          [
           "Barking and Dagenham",
           "DAGENHAM"
          ],
          [
           "Lewisham",
           "LONDON"
          ],
          [
           "Redbridge",
           "ROMFORD"
          ],
          [
           "Camden",
           "LONDON"
          ],
          [
           "Westminster",
           "LONDON"
          ],
          [
           "Greenwich",
           "LONDON"
          ],
          [
           "Havering",
           "ROMFORD"
          ],
          [
           "Sutton",
           "SUTTON/MERTON"
          ],
          [
           "Kensington and Chelsea",
           "LONDON"
          ],
          [
           "Bromley",
           "ORPINGTON"
          ],
          [
           "Kingston upon Thames",
           "CHESSINGTON"
          ],
          [
           "Barnet",
           "LONDON"
          ],
          [
           "Westminster",
           "LONDON"
          ],
          [
           "Lewisham",
           "LONDON"
          ],
          [
           "Waltham Forest",
           "LONDON"
          ],
          [
           "Bromley",
           "CHISLEHURST"
          ],
          [
           "Hounslow",
           "LONDON"
          ],
          [
           "Brent",
           "LONDON"
          ],
          [
           "Barnet",
           "LONDON"
          ],
          [
           "Lambeth",
           "LONDON"
          ],
          [
           "Islington",
           "LONDON"
          ],
          [
           "Barnet",
           "BARNET"
          ],
          [
           "Barnet",
           "LONDON"
          ],
          [
           "Havering",
           "ROMFORD"
          ],
          [
           "Merton",
           "LONDON"
          ],
          [
           "Barnet",
           "LONDON"
          ],
          [
           "Bexley",
           "ERITH"
          ],
          [
           "Bromley",
           "WEST WICKHAM"
          ],
          [
           "Croydon",
           "CROYDON"
          ],
          [
           "Kingston upon Thames",
           "KINGSTON UPON THAMES"
          ],
          [
           "Croydon",
           "COULSDON"
          ],
          [
           "Westminster",
           "LONDON"
          ],
          [
           "Hillingdon",
           "UXBRIDGE"
          ],
          [
           "Hounslow",
           "HOUNSLOW"
          ],
          [
           "Havering",
           "UPMINSTER"
          ],
          [
           "Bexley",
           "DARTFORD"
          ],
          [
           "Barking and Dagenham",
           "BARKING"
          ],
          [
           "Enfield",
           "ENFIELD"
          ],
          [
           "Barnet",
           "LONDON"
          ],
          [
           "Lewisham",
           "LONDON"
          ],
          [
           "Bexley",
           "BEXLEYHEATH"
          ],
          [
           "Bexley",
           "LONDON"
          ],
          [
           "Haringey",
           "LONDON"
          ],
          [
           "Croydon",
           "CROYDON"
          ],
          [
           "Bromley",
           "LONDON"
          ],
          [
           "Tower Hamlets",
           "LONDON"
          ],
          [
           "Bromley",
           "SEVENOAKS"
          ],
          [
           "Newham",
           "LONDON"
          ],
          [
           "Barking and Dagenham",
           "DAGENHAM"
          ],
          [
           "Hackney",
           "LONDON"
          ],
          [
           "Dartford",
           "LONDON"
          ],
          [
           "Islington",
           "LONDON"
          ],
          [
           "Southwark",
           "LONDON"
          ],
          [
           "Lewisham",
           "LONDON"
          ],
          [
           "Bromley",
           "ORPINGTON"
          ],
          [
           "Brent",
           "LONDON"
          ],
          [
           "Bromley",
           "ORPINGTON"
          ],
          [
           "Lewisham",
           "BROMLEY"
          ],
          [
           "Southwark",
           "LONDON"
          ],
          [
           "Ealing",
           "LONDON"
          ],
          [
           "Kensington and Chelsea",
           "LONDON"
          ],
          [
           "Wandsworth",
           "LONDON"
          ],
          [
           "Barnet",
           "BARNET"
          ],
          [
           "Hounslow",
           "FELTHAM"
          ],
          [
           "Southwark",
           "LONDON"
          ],
          [
           "Barnet",
           "LONDON"
          ],
          [
           "Newham",
           "LONDON"
          ],
          [
           "Richmond upon Thames",
           "LONDON"
          ],
          [
           "Bexley",
           "WELLING"
          ],
          [
           "Hillingdon",
           "PINNER"
          ],
          [
           "Bromley",
           "BECKENHAM"
          ],
          [
           "Barnet",
           "EDGWARE"
          ],
          [
           "Enfield",
           "LONDON"
          ],
          [
           "Richmond upon Thames",
           "TWICKENHAM"
          ],
          [
           "Southwark",
           "LONDON"
          ],
          [
           "Havering",
           "HORNCHURCH"
          ],
          [
           "Bromley",
           "BECKENHAM"
          ],
          [
           "Bromley",
           "CHISLEHURST"
          ],
          [
           "Greenwich",
           "LONDON"
          ],
          [
           "Havering",
           "HORNCHURCH"
          ],
          [
           "Enfield",
           "ENFIELD"
          ],
          [
           "Enfield",
           "ENFIELD"
          ],
          [
           "Enfield",
           "ENFIELD"
          ],
          [
           "Enfield",
           "ENFIELD"
          ],
          [
           "Bexley",
           "ERITH"
          ],
          [
           "Bexley",
           "LONDON"
          ],
          [
           "Islington ",
           "LONDON"
          ],
          [
           "Hounslow",
           "FELTHAM"
          ],
          [
           "Barnet",
           "LONDON"
          ],
          [
           "Islington",
           "LONDON"
          ],
          [
           "Haringey",
           "LONDON"
          ],
          [
           "Camden",
           "LONDON"
          ],
          [
           "Bexley",
           "SIDCUP"
          ],
          [
           "Newham",
           "LONDON"
          ],
          [
           "Lewisham",
           "LONDON"
          ],
          [
           "Croydon",
           "CROYDON"
          ],
          [
           "Haringey",
           "LONDON"
          ],
          [
           "Enfield",
           "ENFIELD"
          ],
          [
           "Barnet",
           "LONDON"
          ],
          [
           "Camden",
           "LONDON"
          ],
          [
           "Hammersmith and Fulham",
           "LONDON"
          ],
          [
           "Richmond upon Thames",
           "TEDDINGTON"
          ],
          [
           "Havering",
           "ROMFORD"
          ],
          [
           "Redbridge",
           "ILFORD"
          ],
          [
           "Havering",
           "ROMFORD"
          ],
          [
           "Lambeth",
           "LONDON"
          ],
          [
           "Bromley",
           "ORPINGTON"
          ],
          [
           "Barnet",
           "LONDON"
          ],
          [
           "Redbridge",
           "ILFORD"
          ],
          [
           "Camden",
           "LONDON"
          ],
          [
           "Barnet",
           "LONDON"
          ],
          [
           "Enfield",
           "LONDON"
          ],
          [
           "Ealing",
           "GREENFORD"
          ],
          [
           "Greenwich",
           "LONDON"
          ],
          [
           "Hounslow",
           "LONDON"
          ],
          [
           "Lewisham",
           "LONDON"
          ],
          [
           "Hounslow",
           "LONDON"
          ],
          [
           "Hackney",
           "LONDON"
          ],
          [
           "Hackney",
           "LONDON"
          ],
          [
           "Hackney",
           "LONDON"
          ],
          [
           "Hackney",
           "LONDON"
          ],
          [
           "Enfield",
           "BARNET"
          ],
          [
           "Hackney",
           "LONDON"
          ],
          [
           "Redbridge",
           "CHIGWELL"
          ],
          [
           "Barnet",
           "LONDON"
          ],
          [
           "Richmond upon Thames",
           "RICHMOND"
          ],
          [
           "Hammersmith and Fulham",
           "LONDON"
          ],
          [
           "Camden",
           "LONDON"
          ],
          [
           "Barnet",
           "LONDON"
          ],
          [
           "Richmond upon Thames",
           "HAMPTON"
          ],
          [
           "Richmond upon Thames",
           "HAMPTON"
          ],
          [
           "Richmond upon Thames",
           "KINGSTON UPON THAMES"
          ],
          [
           "Ealing",
           "LONDON"
          ],
          [
           "Hounslow",
           "FELTHAM"
          ],
          [
           "Hillingdon",
           "UXBRIDGE"
          ],
          [
           "Brent",
           "LONDON"
          ],
          [
           "Hillingdon",
           "HAYES"
          ],
          [
           "Hillingdon",
           "WEST DRAYTON"
          ],
          [
           "Havering",
           "ROMFORD"
          ],
          [
           "Havering",
           "ROMFORD"
          ],
          [
           "Havering",
           "ROMFORD"
          ],
          [
           "Haringey",
           "LONDON"
          ],
          [
           "Harrow",
           "HARROW"
          ],
          [
           "Harrow",
           "HARROW"
          ],
          [
           "Harrow",
           "HARROW"
          ],
          [
           "Harrow",
           "PINNER"
          ],
          [
           "Hounslow",
           "FELTHAM"
          ],
          [
           "Havering",
           "ROMFORD"
          ],
          [
           "Bromley",
           "BROMLEY"
          ],
          [
           "Hillingdon",
           "HAYES"
          ],
          [
           "Bromley",
           "ORPINGTON"
          ],
          [
           "Barnet",
           "LONDON"
          ],
          [
           "Lambeth",
           "LONDON"
          ],
          [
           "Hounslow",
           "HOUNSLOW"
          ],
          [
           "Waltham Forest",
           "LONDON"
          ],
          [
           "Islington",
           "LONDON"
          ],
          [
           "Camden",
           "LONDON"
          ],
          [
           "Hillingdon",
           "UXBRIDGE"
          ],
          [
           "Lewisham",
           "LONDON"
          ],
          [
           "Camden",
           "LONDON"
          ],
          [
           "Kensington and Chelsea",
           "LONDON"
          ],
          [
           "Islington",
           "LONDON"
          ],
          [
           "Hackney",
           "LONDON"
          ],
          [
           "Lewisham",
           "LONDON"
          ],
          [
           "Kingston upon Thames",
           "CHESSINGTON"
          ],
          [
           "Havering",
           "HORNCHURCH"
          ],
          [
           "Greenwich",
           "LONDON"
          ],
          [
           "Haringey",
           "LONDON"
          ],
          [
           "Hounslow",
           "HOUNSLOW"
          ],
          [
           "Hackney",
           "LONDON"
          ],
          [
           "Barnet",
           "LONDON"
          ],
          [
           "Hillingdon",
           "UXBRIDGE"
          ],
          [
           "Redbridge",
           "ILFORD"
          ],
          [
           "Tower Hamlets",
           "LONDON"
          ],
          [
           "Hounslow",
           "ISLEWORTH"
          ],
          [
           "Islington",
           "LONDON"
          ],
          [
           "Croydon",
           "KENLEY"
          ],
          [
           "Lambeth",
           "LONDON"
          ],
          [
           "Brent",
           "LONDON"
          ],
          [
           "Kensington and Chelsea",
           "LONDON"
          ],
          [
           "Camden",
           "LONDON"
          ],
          [
           "Brent",
           "HARROW"
          ],
          [
           "Bromley",
           "KESTON"
          ],
          [
           "Richmond upon Thames",
           "RICHMOND"
          ],
          [
           "Greenwich",
           "LONDON"
          ],
          [
           "Brent",
           "LONDON"
          ],
          [
           "Camden and Islington",
           "LONDON"
          ],
          [
           "Brent",
           "LONDON"
          ],
          [
           "Kingston upon Thames",
           "LONDON"
          ],
          [
           "Kingston upon Thames",
           "KINGSTON UPON THAMES"
          ],
          [
           "Westminster",
           "LONDON"
          ],
          [
           "Lewisham",
           "LONDON"
          ],
          [
           "Lambeth",
           "LONDON"
          ],
          [
           "Bexley",
           "SIDCUP"
          ],
          [
           "Hounslow",
           "HOUNSLOW"
          ],
          [
           "Hackney",
           "LONDON"
          ],
          [
           "Tower Hamlets",
           "LONDON"
          ],
          [
           "Bromley",
           "KESTON"
          ],
          [
           "Lewisham",
           "LONDON"
          ],
          [
           "Bexley",
           "BELVEDERE"
          ],
          [
           "Lewisham",
           "LONDON"
          ],
          [
           "Waltham Forest",
           "LONDON"
          ],
          [
           "Waltham Forest",
           "LONDON"
          ],
          [
           "Tower Hamlets",
           "LONDON"
          ],
          [
           "Westminster",
           "LONDON"
          ],
          [
           "Newham",
           "LONDON"
          ],
          [
           "Westminster",
           "LONDON"
          ],
          [
           "Bromley",
           "ORPINGTON"
          ],
          [
           "Hillingdon",
           "WEST DRAYTON"
          ],
          [
           "Bexley",
           "LONDON"
          ],
          [
           "Hackney",
           "LONDON"
          ],
          [
           "Merton",
           "MORDEN"
          ],
          [
           "Redbridge",
           "ILFORD"
          ],
          [
           "Westminster",
           "LONDON"
          ],
          [
           "Kingston upon Thames",
           "CHESSINGTON"
          ],
          [
           "Hackney",
           "LONDON"
          ],
          [
           "Newham",
           "LONDON"
          ],
          [
           "Barking and Dagenham",
           "ROMFORD"
          ],
          [
           "Newham",
           "LONDON"
          ],
          [
           "Westminster",
           "LONDON"
          ],
          [
           "Westminster",
           "LONDON"
          ],
          [
           "Greenwich",
           "LONDON"
          ],
          [
           "Merton",
           "LONDON"
          ],
          [
           "Greenwich",
           "LONDON"
          ],
          [
           "Tower Hamlets",
           "LONDON"
          ],
          [
           "Barnet",
           "LONDON"
          ],
          [
           "Westminster",
           "LONDON"
          ],
          [
           "Tower Hamlets",
           "LONDON"
          ],
          [
           "Merton",
           "MITCHAM"
          ],
          [
           "Barnet",
           "BARNET"
          ],
          [
           "Merton",
           "MORDEN"
          ],
          [
           "Merton",
           "MORDEN"
          ],
          [
           "Richmond upon Thames",
           "LONDON"
          ],
          [
           "Kingston upon Thames",
           "NEW MALDEN"
          ],
          [
           "Bromley",
           "LONDON"
          ],
          [
           "Haringey and Barnet",
           "LONDON"
          ],
          [
           "Islington",
           "LONDON"
          ],
          [
           "Brent",
           "LONDON"
          ],
          [
           "Croydon",
           "CROYDON"
          ],
          [
           "Barnet",
           "BARNET"
          ],
          [
           "Lewisham",
           "LONDON"
          ],
          [
           "Greenwich",
           "LONDON"
          ],
          [
           "Kingston upon Thames",
           "NEW MALDEN"
          ],
          [
           "Barnet",
           "LONDON"
          ],
          [
           "Redbridge",
           "ILFORD"
          ],
          [
           "Southwark",
           "LONDON"
          ],
          [
           "Wandsworth",
           "LONDON"
          ],
          [
           "Havering",
           "ROMFORD"
          ],
          [
           "Kingston upon Thames",
           "KINGSTON UPON THAMES"
          ],
          [
           "Croydon",
           "LONDON"
          ],
          [
           "Bexley",
           "SIDCUP"
          ],
          [
           "Bexley",
           "ERITH"
          ],
          [
           "Barnet",
           "LONDON"
          ],
          [
           "Harrow",
           "HARROW"
          ],
          [
           "Kensington and Chelsea",
           "LONDON"
          ],
          [
           "Havering",
           "UPMINSTER"
          ],
          [
           "Richmond upon Thames",
           "RICHMOND"
          ],
          [
           "Newham",
           "LONDON"
          ],
          [
           "Ealing",
           "NORTHOLT"
          ],
          [
           "Bexley",
           "ERITH"
          ],
          [
           "Hillingdon",
           "NORTHWOOD"
          ],
          [
           "Ealing",
           "SOUTHALL"
          ],
          [
           "Kensington and Chelsea",
           "LONDON"
          ],
          [
           "Southwark",
           "LONDON"
          ],
          [
           "Barnet",
           "LONDON"
          ],
          [
           "Croydon",
           "COULSDON"
          ],
          [
           "Tower Hamlets",
           "LONDON"
          ],
          [
           "Kingston upon Thames",
           "WORCESTER PARK"
          ],
          [
           "Hammersmith and Fulham",
           "LONDON"
          ],
          [
           "Bromley",
           "ORPINGTON"
          ],
          [
           "Barnet",
           "LONDON"
          ],
          [
           "Hounslow",
           "ISLEWORTH"
          ],
          [
           "Lambeth",
           "LONDON"
          ],
          [
           "Westminster",
           "LONDON"
          ],
          [
           "Enfield",
           "LONDON"
          ],
          [
           "Brent",
           "LONDON"
          ],
          [
           "Hammersmith and Fulham",
           "LONDON"
          ],
          [
           "Southwark",
           "LONDON"
          ],
          [
           "Bromley",
           "LONDON"
          ],
          [
           "Islington",
           "LONDON"
          ],
          [
           "Ealing",
           "GREENFORD"
          ],
          [
           "Richmond upon Thames",
           "RICHMOND"
          ],
          [
           "Bromley",
           "ORPINGTON"
          ],
          [
           "Westminster",
           "LONDON"
          ],
          [
           "Harrow",
           "PINNER"
          ],
          [
           "Newham",
           "LONDON"
          ],
          [
           "Bromley",
           "BROMLEY"
          ],
          [
           "Greenwich",
           "LONDON"
          ],
          [
           "Enfield",
           "ENFIELD"
          ],
          [
           "Tower Hamlets",
           "LONDON"
          ],
          [
           "Bromley",
           "ORPINGTON"
          ],
          [
           "Brent",
           "WEMBLEY"
          ],
          [
           "Camden",
           "LONDON"
          ],
          [
           "Croydon",
           "PURLEY"
          ],
          [
           "Wandsworth",
           "LONDON"
          ],
          [
           "Brent",
           "LONDON"
          ],
          [
           "Harrow",
           "HARROW"
          ],
          [
           "Havering",
           "RAINHAM"
          ],
          [
           "Tower Hamlets",
           "LONDON"
          ],
          [
           "Harrow",
           "PINNER"
          ],
          [
           "Merton",
           "LONDON"
          ],
          [
           "Redbridge",
           "ILFORD"
          ],
          [
           "Richmond upon Thames",
           "RICHMOND"
          ],
          [
           "Croydon",
           "PURLEY"
          ],
          [
           "Wandsworth",
           "LONDON"
          ],
          [
           "Havering",
           "ROMFORD"
          ],
          [
           "Southwark",
           "LONDON"
          ],
          [
           "Hillingdon",
           "RUISLIP"
          ],
          [
           "Barking and Dagenham",
           "ROMFORD"
          ],
          [
           "Bexley",
           "SIDCUP"
          ],
          [
           "Croydon",
           "SOUTH CROYDON"
          ],
          [
           "Hammersmith and Fulham",
           "LONDON"
          ],
          [
           "Croydon",
           "LONDON"
          ],
          [
           "Croydon",
           "SOUTH CROYDON"
          ],
          [
           "Redbridge",
           "ILFORD"
          ],
          [
           "Haringey",
           "LONDON"
          ],
          [
           "Hackney",
           "LONDON"
          ],
          [
           "Tower Hamlets",
           "LONDON"
          ],
          [
           "Hammersmith and Fulham",
           "LONDON"
          ],
          [
           "Croydon",
           "CROYDON"
          ],
          [
           "Greenwich",
           "LONDON"
          ],
          [
           "Hackney",
           "LONDON"
          ],
          [
           "Bexley",
           "SIDCUP"
          ],
          [
           "Newham",
           "LONDON"
          ],
          [
           "Hillingdon",
           "WEST DRAYTON"
          ],
          [
           "Bexley",
           "ERITH"
          ],
          [
           "Redbridge",
           "LONDON"
          ],
          [
           "Westminster",
           "LONDON"
          ],
          [
           "Camden",
           "LONDON"
          ],
          [
           "Croydon",
           "SOUTH CROYDON"
          ],
          [
           "Hackney",
           "LONDON"
          ],
          [
           "Harrow",
           "HARROW"
          ],
          [
           "Havering",
           "RAINHAM"
          ],
          [
           "Kensington and Chelsea",
           "LONDON"
          ],
          [
           "Croydon",
           "LONDON"
          ],
          [
           "Hillingdon",
           "RUISLIP"
          ],
          [
           "Merton",
           "LONDON"
          ],
          [
           "Redbridge",
           "LONDON"
          ],
          [
           "Haringey",
           "LONDON"
          ],
          [
           "Lewisham",
           "LONDON"
          ],
          [
           "Ealing",
           "SOUTHALL"
          ],
          [
           "Bromley",
           "BROMLEY"
          ],
          [
           "Wandsworth",
           "LONDON"
          ],
          [
           "Enfield",
           "LONDON"
          ],
          [
           "Tower Hamlets",
           "LONDON"
          ],
          [
           "Merton",
           "MORDEN"
          ],
          [
           "Westminster",
           "LONDON"
          ],
          [
           "Richmond upon Thames",
           "TWICKENHAM"
          ],
          [
           "Camden",
           "LONDON"
          ],
          [
           "Lewisham",
           "LONDON"
          ],
          [
           "Westminster",
           "LONDON"
          ],
          [
           "Islington",
           "LONDON"
          ],
          [
           "Bromley",
           "ORPINGTON"
          ],
          [
           "Camden",
           "LONDON"
          ],
          [
           "Bromley",
           "ORPINGTON"
          ],
          [
           "Hackney",
           "LONDON"
          ],
          [
           "Harrow",
           "STANMORE"
          ],
          [
           "Tower Hamlets",
           "LONDON"
          ],
          [
           "Lambeth",
           "LONDON"
          ],
          [
           "Hackney",
           "LONDON"
          ],
          [
           "Brent",
           "LONDON"
          ],
          [
           "Newham",
           "LONDON"
          ],
          [
           "Richmond upon Thames",
           "TWICKENHAM"
          ],
          [
           "Lambeth",
           "LONDON"
          ],
          [
           "Haringey",
           "LONDON"
          ],
          [
           "Brent",
           "HARROW"
          ],
          [
           "Bromley",
           "BROMLEY"
          ],
          [
           "Kingston upon Thames",
           "SURBITON"
          ],
          [
           "Southwark",
           "LONDON"
          ],
          [
           "Sutton",
           "SUTTON"
          ],
          [
           "Camden",
           "LONDON"
          ],
          [
           "Lewisham",
           "LONDON"
          ],
          [
           "Lewisham",
           "LONDON"
          ],
          [
           "Richmond upon Thames",
           "TEDDINGTON"
          ],
          [
           "City",
           "LONDON"
          ],
          [
           "Barnet",
           "BARNET"
          ],
          [
           "Bexley",
           "LONDON"
          ],
          [
           "Croydon",
           "THORNTON HEATH"
          ],
          [
           "Brent",
           "WEMBLEY"
          ],
          [
           "Kingston upon Thames",
           "SURBITON"
          ],
          [
           "Wandsworth",
           "LONDON"
          ],
          [
           "Wandsworth",
           "LONDON"
          ],
          [
           "Haringey",
           "LONDON"
          ],
          [
           "Haringey",
           "LONDON"
          ],
          [
           "Haringey",
           "LONDON"
          ],
          [
           "Barnet",
           "LONDON"
          ],
          [
           "Tower Hamlets",
           "LONDON"
          ],
          [
           "Islington",
           "LONDON"
          ],
          [
           "Lambeth",
           "LONDON"
          ],
          [
           "Haringey",
           "LONDON"
          ],
          [
           "Richmond upon Thames",
           "TWICKENHAM"
          ],
          [
           "Havering",
           "UPMINSTER"
          ],
          [
           "Havering",
           "HORNCHURCH"
          ],
          [
           "Hackney",
           "LONDON"
          ],
          [
           "Islington",
           "LONDON"
          ],
          [
           "Croydon",
           "LONDON"
          ],
          [
           "Bexley",
           "SIDCUP"
          ],
          [
           "Waltham Forest",
           "LONDON"
          ],
          [
           "Bexley",
           "BEXLEYHEATH"
          ],
          [
           "Newham",
           "LONDON"
          ],
          [
           "Hillingdon",
           "UXBRIDGE"
          ],
          [
           "Lambeth",
           "LONDON"
          ],
          [
           "Croydon",
           "CROYDON"
          ],
          [
           "Sutton",
           "WALLINGTON"
          ],
          [
           "Waltham Forest",
           "LONDON"
          ],
          [
           "Waltham Forest",
           "LONDON"
          ],
          [
           "Southwark",
           "LONDON"
          ],
          [
           "Wandsworth",
           "LONDON"
          ],
          [
           "Redbridge",
           "LONDON"
          ],
          [
           "Tower Hamlets",
           "LONDON"
          ],
          [
           "Harrow",
           "HARROW"
          ],
          [
           "Greenwich",
           "LONDON"
          ],
          [
           "Bexley",
           "WELLING"
          ],
          [
           "Brent",
           "WEMBLEY"
          ],
          [
           "Brent",
           "WEMBLEY"
          ],
          [
           "Havering",
           "RAINHAM"
          ],
          [
           "Kensington and Chelsea",
           "LONDON"
          ],
          [
           "Hillingdon",
           "WEST DRAYTON"
          ],
          [
           "Ealing",
           "LONDON"
          ],
          [
           "Haringey",
           "LONDON"
          ],
          [
           "Hackney",
           "LONDON"
          ],
          [
           "Newham",
           "LONDON"
          ],
          [
           "Camden",
           "LONDON"
          ],
          [
           "Harrow",
           "HARROW"
          ],
          [
           "Bexley",
           "LONDON"
          ],
          [
           "Barnet",
           "LONDON"
          ],
          [
           "Hammersmith and Fulham",
           "LONDON"
          ],
          [
           "Lambeth",
           "LONDON"
          ],
          [
           "Bromley",
           "WEST WICKHAM"
          ],
          [
           "Greenwich",
           "LONDON"
          ],
          [
           "Westminster",
           "LONDON"
          ],
          [
           "Barnet",
           "LONDON"
          ],
          [
           "Hammersmith and Fulham",
           "LONDON"
          ],
          [
           "Tower Hamlets",
           "LONDON"
          ],
          [
           "Bromley",
           "BROMLEY"
          ],
          [
           "Richmond upon Thames",
           "TWICKENHAM"
          ],
          [
           "Brent",
           "LONDON"
          ],
          [
           "Merton",
           "LONDON"
          ],
          [
           "Enfield",
           "LONDON"
          ],
          [
           "Haringey",
           "LONDON"
          ],
          [
           "Redbridge",
           "LONDON"
          ],
          [
           "Redbridge",
           "LONDON"
          ],
          [
           "Hounslow",
           "ISLEWORTH"
          ],
          [
           "Croydon",
           "CROYDON"
          ],
          [
           "Barnet",
           "LONDON"
          ],
          [
           "Greenwich",
           "LONDON"
          ],
          [
           "Sutton",
           "WORCESTER PARK"
          ],
          [
           "Hammersmith and Fulham",
           "LONDON"
          ],
          [
           "Hillingdon",
           "HAYES"
          ],
          [
           "Hillingdon",
           "WEST DRAYTON"
          ]
         ],
         "hovertemplate": "<b>%{hovertext}</b><br><br>Lat=%{lat}<br>Lng=%{lon}<br>Borough=%{customdata[0]}<br>Town=%{customdata[1]}<extra></extra>",
         "hovertext": [
          "Abbey Wood",
          "Acton",
          "Addington",
          "Addiscombe",
          "Albany Park",
          "Aldborough Hatch",
          "Aldgate",
          "Aldwych",
          "Alperton",
          "Anerley",
          "Angel",
          "Aperfield",
          "Archway",
          "Ardleigh Green",
          "Arkley",
          "Arnos Grove",
          "Balham",
          "Bankside",
          "Barbican",
          "Barking",
          "Barkingside",
          "Barnehurst",
          "Barnes",
          "Barnes Cray",
          "Barnet Gate",
          "Barnet (also Chipping Barnet, High Barnet)",
          "Barnsbury",
          "Battersea",
          "Bayswater",
          "Beckenham",
          "Beckton",
          "Becontree",
          "Becontree Heath",
          "Beddington",
          "Bedford Park",
          "Belgravia",
          "Bellingham",
          "Belmont",
          "Belmont",
          "Belsize Park",
          "Belvedere",
          "Bermondsey",
          "Berrylands",
          "Bethnal Green",
          "Bexley (also Old Bexley, Bexley Village)",
          "Bexleyheath (also Bexley New Town)",
          "Bickley",
          "Biggin Hill",
          "Blackfen",
          "Blackfriars",
          "Blackheath",
          "Blackheath Royal Standard",
          "Blackwall",
          "Blendon",
          "Bloomsbury",
          "Botany Bay",
          "Bounds Green",
          "Bow",
          "Bowes Park",
          "Brentford",
          "Brent Cross",
          "Brent Park",
          "Brimsdown",
          "Brixton",
          "Brockley",
          "Bromley",
          "Bromley (also Bromley-by-Bow)",
          "Bromley Common",
          "Brompton",
          "Brondesbury",
          "Brunswick Park",
          "Bulls Cross",
          "Burnt Oak",
          "Burroughs, The",
          "Camberwell",
          "Cambridge Heath",
          "Camden Town",
          "Canary Wharf",
          "Cann Hall",
          "Canning Town",
          "Canonbury",
          "Carshalton",
          "Castelnau",
          "Castle Green",
          "Catford",
          "Chadwell Heath",
          "Chalk Farm",
          "Charing Cross",
          "Charlton",
          "Chase Cross",
          "Cheam",
          "Chelsea",
          "Chelsfield",
          "Chessington",
          "Childs Hill",
          "Chinatown",
          "Chinbrook",
          "Chingford",
          "Chislehurst",
          "Chiswick",
          "Church End",
          "Church End",
          "Clapham",
          "Clerkenwell",
          "Cockfosters",
          "Colindale",
          "Collier Row",
          "Colliers Wood",
          "Colney Hatch",
          "Colyers",
          "Coney Hall",
          "Coombe",
          "Coombe",
          "Coulsdon",
          "Covent Garden",
          "Cowley",
          "Cranford",
          "Cranham",
          "Crayford",
          "Creekmouth",
          "Crews Hill",
          "Cricklewood",
          "Crofton Park",
          "Crook Log",
          "Crossness",
          "Crouch End",
          "Croydon",
          "Crystal Palace",
          "Cubitt Town",
          "Cudham",
          "Custom House",
          "Dagenham",
          "Dalston",
          "Dartford",
          "De Beauvoir Town",
          "Denmark Hill",
          "Deptford",
          "Derry Downs",
          "Dollis Hill",
          "Downe",
          "Downham",
          "Dulwich",
          "Ealing",
          "Earls Court",
          "Earlsfield",
          "East Barnet",
          "East Bedfont",
          "East Dulwich",
          "East Finchley",
          "East Ham",
          "East Sheen",
          "East Wickham",
          "Eastcote",
          "Eden Park",
          "Edgware",
          "Edmonton",
          "Eel Pie Island",
          "Elephant and Castle",
          "Elm Park",
          "Elmers End",
          "Elmstead",
          "Eltham",
          "Emerson Park",
          "Enfield Highway",
          "Enfield Lock",
          "Enfield Town",
          "Enfield Wash",
          "Erith",
          "Falconwood",
          "Farringdon",
          "Feltham",
          "Finchley",
          "Finsbury",
          "Finsbury Park",
          "Fitzrovia",
          "Foots Cray",
          "Forest Gate",
          "Forest Hill",
          "Forestdale",
          "Fortis Green",
          "Freezywater",
          "Friern Barnet",
          "Frognal",
          "Fulham",
          "Fulwell",
          "Gallows Corner",
          "Gants Hill",
          "Gidea Park",
          "Gipsy Hill",
          "Goddington",
          "Golders Green",
          "Goodmayes",
          "Gospel Oak",
          "Grahame Park",
          "Grange Park",
          "Greenford",
          "Greenwich",
          "Grove Park",
          "Grove Park",
          "Gunnersbury",
          "Hackney",
          "Hackney Central",
          "Hackney Marshes",
          "Hackney Wick",
          "Hadley Wood",
          "Haggerston",
          "Hainault",
          "The Hale",
          "Ham",
          "Hammersmith",
          "Hampstead",
          "Hampstead Garden Suburb",
          "Hampton",
          "Hampton Hill",
          "Hampton Wick",
          "Hanwell",
          "Hanworth",
          "Harefield",
          "Harlesden",
          "Harlington",
          "Harmondsworth",
          "Harold Hill",
          "Harold Park",
          "Harold Wood",
          "Harringay",
          "Harrow",
          "Harrow on the Hill",
          "Harrow Weald",
          "Hatch End",
          "Hatton",
          "Havering-atte-Bower",
          "Hayes",
          "Hayes",
          "Hazelwood",
          "Hendon",
          "Herne Hill",
          "Heston",
          "Highams Park",
          "Highbury",
          "Highgate",
          "Hillingdon",
          "Hither Green",
          "Holborn",
          "Holland Park",
          "Holloway",
          "Homerton",
          "Honor Oak",
          "Hook",
          "Hornchurch",
          "Horn Park",
          "Hornsey",
          "Hounslow",
          "Hoxton",
          "The Hyde",
          "Ickenham",
          "Ilford",
          "Isle of Dogs",
          "Isleworth",
          "Islington",
          "Kenley",
          "Kennington",
          "Kensal Green",
          "Kensington",
          "Kentish Town",
          "Kenton",
          "Keston",
          "Kew",
          "Kidbrooke",
          "Kilburn",
          "King's Cross",
          "Kingsbury",
          "Kingston Vale",
          "Kingston upon Thames",
          "Knightsbridge",
          "Ladywell",
          "Lambeth",
          "Lamorbey",
          "Lampton",
          "Lea Bridge",
          "Leamouth",
          "Leaves Green",
          "Lee",
          "Lessness Heath",
          "Lewisham",
          "Leyton",
          "Leytonstone",
          "Limehouse",
          "Lisson Grove",
          "Little Ilford",
          "Little Venice",
          "Locksbottom",
          "Longford",
          "Longlands",
          "Lower Clapton",
          "Lower Morden",
          "Loxford",
          "Maida Vale",
          "Malden Rushett",
          "Manor House",
          "Manor Park",
          "Marks Gate",
          "Maryland",
          "Marylebone (also St Marylebone)",
          "Mayfair",
          "Maze Hill",
          "Merton Park",
          "Middle Park",
          "Mile End",
          "Mill Hill",
          "Millbank",
          "Millwall",
          "Mitcham",
          "Monken Hadley",
          "Morden",
          "Morden Park",
          "Mortlake",
          "Motspur Park",
          "Mottingham",
          "Muswell Hill",
          "Nag's Head",
          "Neasden",
          "New Addington",
          "New Barnet",
          "New Cross",
          "New Eltham",
          "New Malden",
          "New Southgate",
          "Newbury Park",
          "Newington",
          "Nine Elms",
          "Noak Hill",
          "Norbiton",
          "Norbury",
          "North Cray",
          "North End",
          "North Finchley",
          "North Harrow",
          "North Kensington",
          "North Ockendon",
          "North Sheen",
          "North Woolwich",
          "Northolt",
          "Northumberland Heath",
          "Northwood",
          "Norwood Green",
          "Notting Hill",
          "Nunhead",
          "Oakleigh Park",
          "Old Coulsdon",
          "Old Ford",
          "Old Malden",
          "Old Oak Common",
          "Orpington",
          "Osidge",
          "Osterley",
          "Oval",
          "Paddington",
          "Palmers Green",
          "Park Royal",
          "Parsons Green",
          "Peckham",
          "Penge",
          "Pentonville",
          "Perivale",
          "Petersham",
          "Petts Wood",
          "Pimlico",
          "Pinner",
          "Plaistow",
          "Plaistow",
          "Plumstead",
          "Ponders End",
          "Poplar",
          "Pratt's Bottom",
          "Preston",
          "Primrose Hill",
          "Purley",
          "Putney",
          "Queen's Park",
          "Queensbury",
          "Rainham",
          "Ratcliff",
          "Rayners Lane",
          "Raynes Park",
          "Redbridge",
          "Richmond",
          "Riddlesdown",
          "Roehampton",
          "Romford",
          "Rotherhithe",
          "Ruislip",
          "Rush Green",
          "Ruxley",
          "Sanderstead",
          "Sands End",
          "Selhurst",
          "Selsdon",
          "Seven Kings",
          "Seven Sisters",
          "Shacklewell",
          "Shadwell",
          "Shepherd's Bush",
          "Shirley",
          "Shooter's Hill",
          "Shoreditch",
          "Sidcup",
          "Silvertown",
          "Sipson",
          "Slade Green",
          "Snaresbrook",
          "Soho",
          "Somerstown",
          "South Croydon",
          "South Hackney",
          "South Harrow",
          "South Hornchurch",
          "South Kensington",
          "South Norwood",
          "South Ruislip",
          "South Wimbledon",
          "South Woodford",
          "South Tottenham",
          "Southend",
          "Southall",
          "Southborough",
          "Southfields",
          "Southgate",
          "Spitalfields",
          "St Helier",
          "St James's",
          "St Margarets",
          "St Giles",
          "St Johns",
          "St John's Wood",
          "St Luke's",
          "St Mary Cray",
          "St Pancras",
          "St Paul's Cray",
          "Stamford Hill",
          "Stanmore",
          "Stepney",
          "Stockwell",
          "Stoke Newington",
          "Stonebridge",
          "Stratford",
          "Strawberry Hill",
          "Streatham",
          "Stroud Green",
          "Sudbury",
          "Sundridge",
          "Surbiton",
          "Surrey Quays",
          "Sutton",
          "Swiss Cottage",
          "Sydenham (also Lower Sydenham, Upper Sydenham)",
          "Sydenham Hill",
          "Teddington",
          "Temple",
          "Temple Fortune",
          "Thamesmead",
          "Thornton Heath",
          "Tokyngton",
          "Tolworth",
          "Tooting",
          "Tooting Bec",
          "Tottenham",
          "Tottenham Green",
          "Tottenham Hale",
          "Totteridge",
          "Tower Hill",
          "Tufnell Park",
          "Tulse Hill",
          "Turnpike Lane",
          "Twickenham",
          "Upminster",
          "Upminster Bridge",
          "Upper Clapton",
          "Upper Holloway",
          "Upper Norwood",
          "Upper Ruxley",
          "Upper Walthamstow",
          "Upton",
          "Upton Park",
          "Uxbridge",
          "Vauxhall",
          "Waddon",
          "Wallington",
          "Walthamstow",
          "Walthamstow Village",
          "Walworth",
          "Wandsworth",
          "Wanstead",
          "Wapping",
          "Wealdstone",
          "Well Hall",
          "Welling",
          "Wembley",
          "Wembley Park",
          "Wennington",
          "West Brompton",
          "West Drayton",
          "West Ealing",
          "West Green",
          "West Hackney",
          "West Ham",
          "West Hampstead",
          "West Harrow",
          "West Heath",
          "West Hendon",
          "West Kensington",
          "West Norwood",
          "West Wickham",
          "Westcombe Park",
          "Westminster",
          "Whetstone",
          "White City",
          "Whitechapel",
          "Widmore (also Widmore Green)",
          "Whitton",
          "Willesden",
          "Wimbledon",
          "Winchmore Hill",
          "Wood Green",
          "Woodford",
          "Woodford Green",
          "Woodlands",
          "Woodside",
          "Woodside Park",
          "Woolwich",
          "Worcester Park",
          "Wormwood Scrubs",
          "Yeading",
          "Yiewsley"
         ],
         "lat": [
          51.492450000000076,
          51.51806549999999,
          51.35879700000001,
          51.3735680787325,
          51.435700000000054,
          51.563048473923104,
          51.513308435920024,
          51.50008000000008,
          51.53417376058907,
          51.41598495190199,
          51.532020000000045,
          51.31015431804546,
          51.532790000000034,
          51.58067733666435,
          51.65193000000005,
          51.62243647082235,
          51.45682000000005,
          51.50816773788799,
          51.52005005107048,
          52.146954,
          51.58511000000004,
          51.46362000000005,
          51.48284539965428,
          51.454074460771906,
          51.48284539965428,
          51.65872000000007,
          51.536480534879935,
          51.459232500000006,
          51.50008000000008,
          51.40215000000006,
          51.53292000000005,
          51.555979984996426,
          51.560510628882625,
          51.35889578219062,
          51.51189181117945,
          51.494857585883956,
          51.459160000000054,
          51.5953443434362,
          51.34373000000005,
          51.546898398855184,
          51.488420000000076,
          51.505718012162625,
          51.39401656380702,
          51.504126600453446,
          51.45125000000007,
          51.46013000000005,
          51.38966000000005,
          51.31051000000008,
          51.4515480681824,
          51.51204000000007,
          51.47236330464883,
          51.48664000000008,
          51.52022000000005,
          51.44643657705689,
          51.520740000000046,
          51.676720000000046,
          51.608181731947376,
          51.52022000000005,
          51.61498899340776,
          51.48967846184999,
          51.46959501358032,
          51.57395193404126,
          51.66130836237792,
          51.45238000000006,
          51.462680000000034,
          51.41135250000001,
          51.52022000000005,
          51.388153466188,
          51.47772000000003,
          51.55356000000006,
          51.58360000000005,
          51.675643889651504,
          51.60542000000004,
          51.58791727600407,
          51.50541000000004,
          51.52203958714199,
          51.53761995614299,
          51.52022000000005,
          51.5554974797784,
          51.51333000000005,
          51.532790000000034,
          51.36284002943043,
          51.485597803398825,
          51.53433000000007,
          51.459160000000054,
          51.57337000000007,
          51.542821467115445,
          51.507212550837544,
          51.48454000000004,
          51.603036421910055,
          51.36132435148824,
          51.48198000000008,
          51.355710000000045,
          51.3620458230684,
          51.56225000000006,
          51.50008000000008,
          51.459160000000054,
          51.61712000000006,
          51.419710000000066,
          51.487373748466936,
          51.584253344799436,
          51.47504632750984,
          51.49084000000005,
          51.532790000000034,
          51.6657241514579,
          51.59405592537353,
          51.59797000000003,
          51.42069001110853,
          51.61071692932876,
          51.47122950000001,
          51.36980088011006,
          51.3671697217131,
          51.412031999999996,
          51.31886000000003,
          51.49319400000002,
          51.543040000000076,
          51.48434629702106,
          51.56416946321474,
          51.45235000000008,
          51.51579817952464,
          51.68350800000001,
          51.564910000000054,
          51.459160000000054,
          51.45911946453059,
          51.419551275985086,
          51.57635101698774,
          51.39155485224665,
          51.41990000000004,
          51.52022000000005,
          51.315900000000056,
          51.45427997002137,
          51.546700000000044,
          51.54834845382215,
          51.452067760578885,
          51.532790000000034,
          51.473736211092046,
          51.474270034018765,
          51.385558544117,
          51.56096000000008,
          51.336430000000064,
          51.426082302811906,
          51.50541000000004,
          51.51406000000003,
          51.49750000000006,
          51.44232001832193,
          51.64759748896925,
          51.45196556966224,
          51.45256000000006,
          51.589270000000056,
          51.53323000000006,
          51.462570756261904,
          51.47559313298599,
          51.58828515261902,
          51.38753560397911,
          51.61209000000008,
          51.62879000000004,
          51.46337441920929,
          51.49503000000004,
          51.54496000000006,
          51.40135645217966,
          51.42621189948179,
          51.48454000000004,
          51.568155,
          51.65431329841614,
          51.666458625736375,
          51.65226000000007,
          51.65431329841614,
          51.48036187996607,
          51.45880000000005,
          51.532790000000034,
          51.44708000000003,
          51.60104000000007,
          51.532790000000034,
          51.56878000000006,
          51.51873000000006,
          51.413399308737766,
          51.54986268354492,
          51.441220000000044,
          51.372340000000065,
          51.59095911304599,
          51.65337000000005,
          51.61388000000005,
          51.53236000000004,
          51.4826899378211,
          51.43237184463742,
          51.59245829434858,
          51.576354000000016,
          51.615347569853654,
          51.49084000000005,
          51.364792401161246,
          51.576730000000055,
          51.56571129035198,
          51.53236000000004,
          51.59801605283478,
          51.510295326548984,
          51.54926000000006,
          51.48454000000004,
          51.60396403260681,
          51.46698021778042,
          51.50086827183735,
          51.54505000000006,
          51.54713000000004,
          51.54505000000006,
          51.5456050878122,
          51.666396674465034,
          51.53849000000008,
          51.61540809249462,
          51.58775000000003,
          51.43145642883387,
          51.49617000000006,
          51.53405473364255,
          51.58736000000005,
          51.42888752100201,
          51.42888752100201,
          51.415950000000066,
          51.50878000000006,
          51.430540000000065,
          51.53257470359681,
          51.53597141442344,
          51.53444550000002,
          51.48258000000004,
          51.60490000000004,
          51.615347569853654,
          51.592070000000035,
          51.58478152594502,
          51.58263000000005,
          51.56704370987824,
          51.6144596404303,
          51.60644000000008,
          51.46766566192055,
          51.61660000000006,
          51.39815637597911,
          51.50276529123459,
          51.34749958280941,
          51.58912000000004,
          51.45529000000005,
          51.48515000000003,
          51.59859972200624,
          51.54624000000007,
          51.57145000000003,
          51.543040000000076,
          51.45083000000005,
          51.51651000000004,
          51.50163975059008,
          51.533630036643764,
          51.54690000000005,
          51.459160000000054,
          51.366838153866276,
          51.562290000000075,
          51.48941439337224,
          51.57428850000001,
          51.46228000000008,
          51.544887992859934,
          51.582886180401005,
          51.543040000000076,
          51.56338000000005,
          51.52022000000005,
          51.47417000000007,
          51.532790000000034,
          51.317981829257036,
          51.49805994134637,
          51.53054000000003,
          51.49906000000004,
          51.55078000000003,
          51.58370000000008,
          51.361044708395056,
          51.468628422834044,
          51.4706370451607,
          51.541870000000074,
          51.535737,
          51.58486000000005,
          51.43162741475799,
          51.40984000000003,
          51.50089180718563,
          51.45641000000006,
          51.49084000000005,
          51.43730849999999,
          51.470299039126076,
          51.551022353194455,
          51.52022000000005,
          51.336507845439314,
          51.46257959777167,
          51.48572538396719,
          51.459160000000054,
          51.547985135879436,
          51.55216105062294,
          51.52022000000005,
          51.52621993392596,
          51.55158705631924,
          51.50008000000008,
          51.366910000000075,
          51.478869798451356,
          51.471981000000014,
          51.550862117718694,
          51.39081941678327,
          51.547740766630135,
          51.50008000000008,
          51.338526568996016,
          51.556846431040384,
          51.454967756918094,
          51.54393218800004,
          51.54764158006811,
          51.523840000000064,
          51.50008000000008,
          51.481701000000015,
          51.41141840373778,
          51.44845808078221,
          51.52040369910079,
          51.46961870829243,
          51.49564036479073,
          51.52022000000005,
          51.40719000000007,
          51.655254332588534,
          51.401290000000074,
          51.39891985586477,
          51.46865993782111,
          51.39116912702434,
          51.43757000000005,
          51.59107000000006,
          51.53363000000007,
          51.56159800069314,
          51.35879700000001,
          51.64718469271825,
          51.47489000000007,
          51.433530000000076,
          51.40106670524288,
          51.63390000000004,
          51.574230130281876,
          51.50541000000004,
          51.45682000000005,
          51.6155625792314,
          51.41238000000004,
          51.41361382514268,
          51.42980370245267,
          51.47271450000001,
          51.615920000000074,
          51.585750000000075,
          51.49014000000005,
          51.541630000000055,
          51.46207310862528,
          51.50314636049505,
          51.544110000000046,
          51.47297000000003,
          51.60806439845446,
          51.4953632726068,
          51.510380000000055,
          51.50541000000004,
          51.63730000000004,
          51.31886000000003,
          51.51660764694028,
          51.376988320088074,
          51.47772000000003,
          51.378820000000076,
          51.47457000000003,
          51.48044099999999,
          51.49084000000005,
          51.50008000000008,
          51.62003000000004,
          51.52770000000004,
          51.474150000000066,
          51.50541000000004,
          51.40399686205487,
          51.53136428187524,
          51.53273005668594,
          51.44725767421175,
          51.386990000000026,
          51.49176994892964,
          51.591260000000034,
          51.52653000000004,
          51.40637595804564,
          51.48970278217071,
          51.645487499999994,
          51.52022000000005,
          51.34453345750154,
          51.56531043635615,
          51.54083905632829,
          51.35051219194073,
          51.45682000000005,
          51.53356000000008,
          51.58931000000007,
          51.53955456909107,
          51.510718561483586,
          51.569185546956156,
          51.41117000000003,
          50.91667000000007,
          51.45400915453738,
          51.33236622043336,
          51.45682000000005,
          51.6155625792314,
          51.49574000000007,
          51.587772590828706,
          51.5655,
          51.41641423342758,
          51.34829000000008,
          51.4826899378211,
          51.38957785396746,
          51.34355993060775,
          51.56191785081679,
          51.581314793709424,
          51.55416215382668,
          51.51111000000003,
          51.4960199766923,
          51.36983987399733,
          51.47443775691584,
          51.53942700000002,
          51.42593000000005,
          51.502680000000055,
          51.49001214513505,
          51.47168297669714,
          51.58332144210025,
          51.50008000000008,
          51.53588642797144,
          51.362310000000036,
          51.54505000000006,
          51.56860000000006,
          51.531709919499264,
          51.49807000000004,
          51.39925000000005,
          51.55761000000007,
          51.41534000000007,
          51.589770000000044,
          51.58196007446157,
          51.459160000000054,
          51.51139000000006,
          51.395991395556024,
          51.454321573173694,
          51.63390000000004,
          51.518380000000036,
          51.398484718524486,
          51.491190000000074,
          51.4587935746533,
          51.53236000000004,
          51.469897499999995,
          51.495715376511676,
          51.532790000000034,
          51.38884000000007,
          51.532350000000065,
          51.40360000000004,
          51.548184056155186,
          51.617560000000026,
          51.51670190834722,
          51.47001000000006,
          51.552283427674936,
          51.54455970906623,
          51.54220000000004,
          51.43567944883682,
          51.43023000000005,
          51.56547179987947,
          51.563607909162535,
          51.41052917094767,
          51.394616766077334,
          51.502415522976754,
          51.35967000000005,
          51.54367000000008,
          51.42674000000005,
          51.43920401273935,
          51.430312126852,
          51.51367880282308,
          51.638548500000006,
          51.50527000000005,
          51.39364601378024,
          51.54732612490108,
          51.379917504406436,
          51.45682000000005,
          51.45682000000005,
          51.586679745472225,
          51.586679745472225,
          51.586679745472225,
          51.63032000000004,
          51.50604755297273,
          51.532790000000034,
          51.44465000000008,
          51.58944024263658,
          51.455988000000005,
          51.55710000000005,
          51.55984286481587,
          51.55916318259063,
          51.53545425365254,
          51.41589000000005,
          51.40982751835143,
          51.57898000000006,
          51.445601576073464,
          51.539649022907504,
          51.5313261455904,
          51.48559000000006,
          51.367590000000064,
          51.36027000000007,
          51.57898000000006,
          51.57898000000006,
          51.50541000000004,
          51.45682000000005,
          51.57815716443278,
          51.50458000000003,
          51.59245000000004,
          51.46751000000006,
          51.46201000000008,
          51.55297000000007,
          51.561586980800406,
          51.50654000000003,
          51.49014000000005,
          51.50913000000003,
          51.513460000000066,
          51.608214000000004,
          51.54505000000006,
          51.53012100000001,
          51.53405473364255,
          51.564651862888816,
          51.479460520263444,
          51.584632383190815,
          51.47772000000003,
          51.43407000000008,
          51.37474000000003,
          51.48408000000006,
          51.50008000000008,
          51.63061000000005,
          51.4826899378211,
          51.51917000000003,
          51.4060704911339,
          51.452986010228564,
          51.54908000000006,
          51.41539000000006,
          51.63519000000008,
          51.608214000000004,
          51.58802095214995,
          51.58802095214995,
          51.47130951719695,
          51.38812438891392,
          51.60525000000007,
          51.48552002943043,
          51.37507000000005,
          51.47772000000003,
          51.52441287065046,
          51.51263000000006
         ],
         "legendgroup": "",
         "lon": [
          0.12127000000003818,
          -0.3019544999999981,
          -0.0329062499999913,
          -0.09033311937051809,
          0.12588000000005195,
          0.0917635234442441,
          -0.077762090020195,
          -0.1280199999999354,
          -0.3029839407012594,
          -0.06512439297397696,
          -0.10625999999996338,
          0.04272280842600311,
          -0.1061399999999253,
          0.22008114571229917,
          -0.22024999999996453,
          -0.1272340503978188,
          -0.1945199999999545,
          -0.09523001191694887,
          -0.09247002452461052,
          1.0530809999999915,
          0.07841000000001941,
          0.17396000000002232,
          -0.23987676413137018,
          0.18889922149637656,
          -0.23987676413137018,
          -0.2049499999999398,
          -0.1109095599068421,
          -0.1730789999999962,
          -0.1280199999999354,
          -0.03782999999992853,
          0.05461000000002514,
          0.11982002279395855,
          0.14756109494031153,
          -0.15253467081373884,
          -0.32077799999999,
          -0.12745119894784956,
          -0.012129999999956453,
          -0.3255905362673183,
          -0.19867999999996755,
          -0.17282773457354447,
          0.15256000000005088,
          -0.08923926542542779,
          -0.28813509152918465,
          -0.05922569467192267,
          0.12247000000002117,
          0.13808000000005904,
          0.049750000000074124,
          0.03603000000003931,
          0.09490451420039314,
          -0.10355999999995902,
          -0.01301957962362178,
          0.00407000000006974,
          -0.054309999999929914,
          0.1267730399837616,
          -0.12309999999996535,
          -0.1263399999999706,
          -0.1266473643199545,
          -0.054309999999929914,
          -0.12765302088347608,
          -0.2943075193363937,
          -0.2520516199589085,
          -0.2301453242060037,
          -0.030863947290489708,
          -0.1219499999999698,
          -0.035579999999924894,
          0.00943875000000998,
          -0.054309999999929914,
          0.036098206378367116,
          -0.2014499999999657,
          -0.2117299999999318,
          -0.07606999999995878,
          -0.05940721210840968,
          -0.2566299999999728,
          -0.22901037213082498,
          -0.08920999999998003,
          -0.05549610229373748,
          -0.1450899816781068,
          -0.054309999999929914,
          0.011584493267302235,
          0.03173000000003867,
          -0.1061399999999253,
          -0.1839700183218063,
          -0.23313753284896066,
          0.12332000000003518,
          -0.012129999999956453,
          0.14148000000005823,
          -0.148578235240569,
          -0.12752129664989184,
          0.002750000000048658,
          0.17518898877433137,
          -0.19358758665781206,
          -0.1854999999999336,
          0.10336000000006607,
          -0.2880083586229593,
          -0.20132999999992762,
          -0.1280199999999354,
          -0.012129999999956453,
          -0.0016899999999395732,
          0.06584000000003698,
          -0.247567752541106,
          -0.01246795045038361,
          -0.24045883734011164,
          -0.11107999999995855,
          -0.1061399999999253,
          -0.15629950602053197,
          -0.2523096199168072,
          0.15642000000002554,
          -0.17567000779025538,
          -0.15409365282703674,
          0.16834950000000504,
          0.0017673863431249784,
          -0.09600631040756821,
          -0.2898697500000028,
          -0.13914999999997235,
          -0.12893740282209368,
          -0.44997999999992544,
          -0.3934451285058116,
          0.2661046634847648,
          0.17765000000002829,
          0.10290171871264056,
          -0.10009799999998512,
          -0.21650999999997111,
          -0.012129999999956453,
          0.12798335869739821,
          -0.14079006714282885,
          -0.12596601963658563,
          -0.13641567847120736,
          -0.08807999999993399,
          -0.054309999999929914,
          0.07484000000005153,
          -0.2213725820013558,
          0.13968000000005532,
          -0.06484092455136468,
          0.1722299153689439,
          -0.1061399999999253,
          -0.09315897826992249,
          -0.02174931183870372,
          0.11656974193766004,
          -0.23436999999995578,
          0.05380000000002383,
          0.002729755227861833,
          -0.08920999999998003,
          -0.30072999999993044,
          -0.19760999999994056,
          -0.1882299705696056,
          -0.1678177407543117,
          -0.44054470252815475,
          -0.0707599999999502,
          -0.16394999999994297,
          0.055660000000045784,
          -0.2622814474521747,
          0.10862559554823663,
          -0.38376503137452794,
          -0.026790779422022574,
          -0.2775599999999372,
          -0.05619999999993297,
          -0.3093145707527385,
          -0.09890999999993255,
          0.19153000000005704,
          -0.052676300585627694,
          0.05301694974088331,
          0.002750000000048658,
          0.2193097500000133,
          -0.11035373180225709,
          -0.018543304211910427,
          -0.07971999999995205,
          -0.11035373180225709,
          0.1773254602713861,
          0.0796600000000467,
          -0.1061399999999253,
          -0.40918999999996686,
          -0.19400999999993473,
          -0.1061399999999253,
          -0.09846999999996342,
          -0.1373699999999758,
          0.11714056747332446,
          0.023895659082697054,
          -0.047639999999944393,
          -0.09944999999993342,
          -0.1508334651723848,
          -0.08805999999992764,
          -0.15185999999994237,
          -0.1279599999999732,
          -0.2129099233942567,
          -0.34862757199016803,
          0.21261632260565536,
          0.06632509230460792,
          0.181244095274236,
          -0.11107999999995855,
          0.1060224520321815,
          -0.19694999999995844,
          0.10856097152295957,
          -0.1279599999999732,
          -0.240785082940166,
          -0.2979067501672565,
          -0.3398499999999558,
          0.002750000000048658,
          -0.12672536735443427,
          -0.02043808618523037,
          -0.2847790349397601,
          -0.05531999999993786,
          -0.055099999999924876,
          -0.05531999999993786,
          -0.03378148280527209,
          -0.17203648655172193,
          -0.07554999999996426,
          0.11686770293689595,
          -0.22915999999997894,
          -0.30686740933725076,
          -0.22934999999995398,
          -0.1391765653310896,
          -0.16417999999993071,
          -0.35328701531411527,
          -0.35328701531411527,
          -0.31370999999995774,
          -0.3362999999999374,
          -0.3902299999999741,
          -0.44842468227557,
          -0.24471648076986288,
          -0.4567589999999939,
          -0.4764799999999241,
          0.2294700000000489,
          0.181244095274236,
          0.2327700000000732,
          -0.09814679145519253,
          -0.33202999999997473,
          -0.3407345629035206,
          -0.34110948365125593,
          -0.3772899999999595,
          -0.42289453371384106,
          0.19531000000006316,
          0.015123704723472547,
          -0.40732924449493807,
          0.04187418610417248,
          -0.2280999999999267,
          -0.09927999999996473,
          -0.37316999999995915,
          -0.004255377903301961,
          -0.10326999999995223,
          -0.14982999999995172,
          -0.44997999999992544,
          -0.0006299999999441752,
          -0.11967999999995982,
          -0.2055284999999931,
          -0.10726005107039317,
          -0.042339999999967404,
          -0.012129999999956453,
          -0.3017478461664261,
          0.22019000000005917,
          0.018357170363404084,
          -0.12737474999998466,
          -0.3621599999999603,
          -0.05954051061888684,
          -0.2462409040013885,
          -0.44997999999992544,
          0.0674900000000207,
          -0.054309999999929914,
          -0.3383999999999787,
          -0.1061399999999253,
          -0.09885016384101082,
          -0.11211230167805922,
          -0.22547999999994772,
          -0.19873999999992975,
          -0.14064999999993688,
          -0.3140899999999647,
          0.030545926035616504,
          -0.29469289595136133,
          0.019273414744883522,
          -0.1979499999999348,
          -0.10332000000000313,
          -0.24880999999993492,
          -0.2648187831607458,
          -0.3006099999999492,
          -0.12279855209604336,
          -0.01949999999993679,
          -0.11107999999995855,
          0.09361125000000484,
          -0.36690024622638734,
          -0.022264352476853103,
          -0.054309999999929914,
          0.029835001077949355,
          -0.009841944150654258,
          0.1451854543003011,
          -0.012129999999956453,
          -0.002230369576499119,
          0.00568404181966624,
          -0.054309999999929914,
          -0.17149005164730943,
          0.05885489885104141,
          -0.1280199999999354,
          0.05455000000006294,
          -0.4944891046459438,
          -0.19277549999998178,
          -0.051984239076214064,
          -0.22524898807288216,
          0.08409083473721865,
          -0.1280199999999354,
          -0.31112248802149234,
          -0.061591143632053036,
          -0.0005980530365479037,
          0.1331566440000529,
          0.004312571469792642,
          -0.15756999999996424,
          -0.1280199999999354,
          0.002405249999993659,
          -0.20830209626220073,
          0.03640796258515495,
          -0.053405490595804975,
          -0.24014127316659745,
          -0.12531052201516182,
          -0.054309999999929914,
          -0.164229999999975,
          -0.20364516249576772,
          -0.1897799999999279,
          -0.18649775778641173,
          -0.27123992339426894,
          -0.2467623606631054,
          0.04260000000004993,
          -0.14851999999996224,
          -0.10577999999992471,
          -0.2558001868923714,
          -0.0329062499999913,
          -0.18848567121815052,
          -0.04037999999997055,
          0.06378000000006523,
          -0.24536303339136425,
          -0.13288999999997486,
          0.09263024828095105,
          -0.08920999999998003,
          -0.1945199999999545,
          0.20308771521739907,
          -0.28369999999995343,
          -0.1094034292696942,
          0.13895310706216807,
          0.1876117500000135,
          -0.1767399999999384,
          -0.36118999999996504,
          -0.16247999999995955,
          0.295690000000036,
          -0.2857844920149502,
          0.022499665753018944,
          -0.3744599999999423,
          0.1624100000000226,
          -0.40983495115914564,
          -0.3658834685470777,
          -0.3314699999999675,
          -0.08920999999998003,
          -0.1663799999999469,
          -0.13914999999997235,
          -0.056547346008563246,
          -0.26180433995597113,
          -0.2014499999999657,
          0.10185000000006994,
          -0.24211999999994305,
          -0.3444322499999955,
          -0.11107999999995855,
          -0.1280199999999354,
          -0.10659999999995762,
          -0.26746999999994614,
          -0.20021999999994478,
          -0.08920999999998003,
          -0.06837335084269645,
          -0.11445304702839991,
          -0.32725128547995885,
          -0.2987704638012943,
          0.08494000000007418,
          -0.13979003332543358,
          -0.38075999999995247,
          0.02876000000003387,
          0.033962906638363495,
          0.0851599571057346,
          -0.04653449999998409,
          -0.054309999999929914,
          0.11112261751375442,
          -0.293519329605383,
          -0.15706646653347683,
          -0.11496547539541899,
          -0.1945199999999545,
          -0.21105999999997493,
          -0.2894299999999248,
          0.18659205668737022,
          -0.04333289336377088,
          -0.363732017409817,
          -0.22622999999993,
          -1.466669999999965,
          -0.29975626969156677,
          -0.10357809963229665,
          -0.1945199999999545,
          0.20308771521739907,
          -0.051569999999969696,
          -0.43669035255806227,
          0.17615700000000467,
          0.12719142859680604,
          -0.09385999999994965,
          -0.2129099233942567,
          -0.08879480684604696,
          -0.06248997056959811,
          0.0898311046160824,
          -0.07637978376532768,
          -0.06862033688411363,
          -0.05674999999996544,
          -0.2239514999999983,
          -0.11168976798994026,
          0.02279406175205574,
          -0.07100774999999408,
          0.10395000000005439,
          0.03623000000004595,
          -0.45719399380852227,
          0.194868199203376,
          0.013122416085204562,
          -0.1280199999999354,
          -0.1275258685428388,
          -0.09337999999996782,
          -0.05531999999993786,
          -0.36924999999996544,
          0.18573994113932604,
          -0.17403999999993403,
          -0.07413999999994303,
          -0.4078299999999331,
          -0.1925099999999702,
          0.030520000000024083,
          -0.08351833883076074,
          -0.012129999999956453,
          -0.37832999999994854,
          0.0457962348155273,
          -0.1998087256084327,
          -0.13288999999997486,
          -0.0746799999999439,
          -0.18701829175478082,
          -0.13481999999993377,
          -0.3226782338024124,
          -0.1279599999999732,
          -0.013578749999988253,
          -0.12736106476750578,
          -0.1061399999999253,
          0.1097100000000637,
          -0.12575999999995702,
          0.10350000000005366,
          -0.06545100623946794,
          -0.310359999999946,
          -0.04389372420888454,
          -0.11248999999997977,
          -0.07494975516607283,
          -0.2608199999999917,
          0.005330000000071777,
          -0.3389362583671815,
          -0.1299599999999259,
          -0.1060226998192129,
          -0.3334988901723898,
          0.03916334488470344,
          -0.3134852624904445,
          -0.102682358010783,
          -0.1913399999999683,
          -0.172649999999976,
          -0.05532999999996946,
          -0.06372680063696264,
          -0.33400097241770793,
          -0.11088490141152504,
          -0.1676474999999977,
          0.12013000000007423,
          -0.11462387237732108,
          -0.280548187351632,
          -0.2823338915436435,
          -0.1945199999999545,
          -0.1945199999999545,
          -0.07045849818887971,
          -0.07045849818887971,
          -0.07045849818887971,
          -0.19673999999997704,
          -0.07500042081554159,
          -0.1061399999999253,
          -0.11132999999995263,
          -0.10765449026122992,
          -0.33030899999999963,
          0.24960000000004356,
          0.2313362559772902,
          -0.056110273413864646,
          -0.10409409146715132,
          -0.09514999999993279,
          0.14509618576998018,
          -0.011219999999980246,
          0.1412639893995169,
          0.029277902104827294,
          -0.4498247043141586,
          -0.12332999999995309,
          -0.11606999999997925,
          -0.14992999999992662,
          -0.011219999999980246,
          -0.011219999999980246,
          -0.08920999999998003,
          -0.1945199999999545,
          0.02130430998687633,
          -0.05598999999995158,
          -0.3342899999999531,
          0.052950000000066666,
          0.11171000000007325,
          -0.29552999999992835,
          -0.2819689143230941,
          0.21904000000006363,
          -0.16247999999995955,
          -0.47395999999997684,
          -0.31970999999992955,
          -0.09229049999999575,
          -0.05531999999993786,
          0.020952000000000366,
          -0.1391765653310896,
          -0.3479242768767369,
          0.12481150588911631,
          -0.216208691793564,
          -0.2014499999999657,
          -0.10374999999993406,
          -0.009689999999977772,
          0.018630000000030122,
          -0.1280199999999354,
          -0.17501999999996087,
          -0.2129099233942567,
          -0.059659999999951197,
          0.016465591081097304,
          -0.3350880748761787,
          -0.22098999999997204,
          -0.19534999999996217,
          -0.09302999999994199,
          -0.09229049999999575,
          0.0216386678407816,
          0.0216386678407816,
          -0.3370787067499256,
          -0.061081966561545985,
          -0.10978999999997541,
          0.006269996104913933,
          -0.2348899999999503,
          -0.2014499999999657,
          -0.3993893585312604,
          -0.4725899999999683
         ],
         "marker": {
          "color": "fuchsia"
         },
         "mode": "markers",
         "name": "",
         "showlegend": false,
         "subplot": "mapbox",
         "type": "scattermapbox"
        }
       ],
       "layout": {
        "height": 600,
        "legend": {
         "tracegroupgap": 0
        },
        "mapbox": {
         "center": {
          "lat": 51.502885029637646,
          "lon": -0.1074171481994152
         },
         "domain": {
          "x": [
           0,
           1
          ],
          "y": [
           0,
           1
          ]
         },
         "style": "open-street-map",
         "zoom": 9
        },
        "margin": {
         "b": 0,
         "l": 0,
         "r": 0,
         "t": 0
        },
        "template": {
         "data": {
          "bar": [
           {
            "error_x": {
             "color": "#2a3f5f"
            },
            "error_y": {
             "color": "#2a3f5f"
            },
            "marker": {
             "line": {
              "color": "#E5ECF6",
              "width": 0.5
             }
            },
            "type": "bar"
           }
          ],
          "barpolar": [
           {
            "marker": {
             "line": {
              "color": "#E5ECF6",
              "width": 0.5
             }
            },
            "type": "barpolar"
           }
          ],
          "carpet": [
           {
            "aaxis": {
             "endlinecolor": "#2a3f5f",
             "gridcolor": "white",
             "linecolor": "white",
             "minorgridcolor": "white",
             "startlinecolor": "#2a3f5f"
            },
            "baxis": {
             "endlinecolor": "#2a3f5f",
             "gridcolor": "white",
             "linecolor": "white",
             "minorgridcolor": "white",
             "startlinecolor": "#2a3f5f"
            },
            "type": "carpet"
           }
          ],
          "choropleth": [
           {
            "colorbar": {
             "outlinewidth": 0,
             "ticks": ""
            },
            "type": "choropleth"
           }
          ],
          "contour": [
           {
            "colorbar": {
             "outlinewidth": 0,
             "ticks": ""
            },
            "colorscale": [
             [
              0,
              "#0d0887"
             ],
             [
              0.1111111111111111,
              "#46039f"
             ],
             [
              0.2222222222222222,
              "#7201a8"
             ],
             [
              0.3333333333333333,
              "#9c179e"
             ],
             [
              0.4444444444444444,
              "#bd3786"
             ],
             [
              0.5555555555555556,
              "#d8576b"
             ],
             [
              0.6666666666666666,
              "#ed7953"
             ],
             [
              0.7777777777777778,
              "#fb9f3a"
             ],
             [
              0.8888888888888888,
              "#fdca26"
             ],
             [
              1,
              "#f0f921"
             ]
            ],
            "type": "contour"
           }
          ],
          "contourcarpet": [
           {
            "colorbar": {
             "outlinewidth": 0,
             "ticks": ""
            },
            "type": "contourcarpet"
           }
          ],
          "heatmap": [
           {
            "colorbar": {
             "outlinewidth": 0,
             "ticks": ""
            },
            "colorscale": [
             [
              0,
              "#0d0887"
             ],
             [
              0.1111111111111111,
              "#46039f"
             ],
             [
              0.2222222222222222,
              "#7201a8"
             ],
             [
              0.3333333333333333,
              "#9c179e"
             ],
             [
              0.4444444444444444,
              "#bd3786"
             ],
             [
              0.5555555555555556,
              "#d8576b"
             ],
             [
              0.6666666666666666,
              "#ed7953"
             ],
             [
              0.7777777777777778,
              "#fb9f3a"
             ],
             [
              0.8888888888888888,
              "#fdca26"
             ],
             [
              1,
              "#f0f921"
             ]
            ],
            "type": "heatmap"
           }
          ],
          "heatmapgl": [
           {
            "colorbar": {
             "outlinewidth": 0,
             "ticks": ""
            },
            "colorscale": [
             [
              0,
              "#0d0887"
             ],
             [
              0.1111111111111111,
              "#46039f"
             ],
             [
              0.2222222222222222,
              "#7201a8"
             ],
             [
              0.3333333333333333,
              "#9c179e"
             ],
             [
              0.4444444444444444,
              "#bd3786"
             ],
             [
              0.5555555555555556,
              "#d8576b"
             ],
             [
              0.6666666666666666,
              "#ed7953"
             ],
             [
              0.7777777777777778,
              "#fb9f3a"
             ],
             [
              0.8888888888888888,
              "#fdca26"
             ],
             [
              1,
              "#f0f921"
             ]
            ],
            "type": "heatmapgl"
           }
          ],
          "histogram": [
           {
            "marker": {
             "colorbar": {
              "outlinewidth": 0,
              "ticks": ""
             }
            },
            "type": "histogram"
           }
          ],
          "histogram2d": [
           {
            "colorbar": {
             "outlinewidth": 0,
             "ticks": ""
            },
            "colorscale": [
             [
              0,
              "#0d0887"
             ],
             [
              0.1111111111111111,
              "#46039f"
             ],
             [
              0.2222222222222222,
              "#7201a8"
             ],
             [
              0.3333333333333333,
              "#9c179e"
             ],
             [
              0.4444444444444444,
              "#bd3786"
             ],
             [
              0.5555555555555556,
              "#d8576b"
             ],
             [
              0.6666666666666666,
              "#ed7953"
             ],
             [
              0.7777777777777778,
              "#fb9f3a"
             ],
             [
              0.8888888888888888,
              "#fdca26"
             ],
             [
              1,
              "#f0f921"
             ]
            ],
            "type": "histogram2d"
           }
          ],
          "histogram2dcontour": [
           {
            "colorbar": {
             "outlinewidth": 0,
             "ticks": ""
            },
            "colorscale": [
             [
              0,
              "#0d0887"
             ],
             [
              0.1111111111111111,
              "#46039f"
             ],
             [
              0.2222222222222222,
              "#7201a8"
             ],
             [
              0.3333333333333333,
              "#9c179e"
             ],
             [
              0.4444444444444444,
              "#bd3786"
             ],
             [
              0.5555555555555556,
              "#d8576b"
             ],
             [
              0.6666666666666666,
              "#ed7953"
             ],
             [
              0.7777777777777778,
              "#fb9f3a"
             ],
             [
              0.8888888888888888,
              "#fdca26"
             ],
             [
              1,
              "#f0f921"
             ]
            ],
            "type": "histogram2dcontour"
           }
          ],
          "mesh3d": [
           {
            "colorbar": {
             "outlinewidth": 0,
             "ticks": ""
            },
            "type": "mesh3d"
           }
          ],
          "parcoords": [
           {
            "line": {
             "colorbar": {
              "outlinewidth": 0,
              "ticks": ""
             }
            },
            "type": "parcoords"
           }
          ],
          "pie": [
           {
            "automargin": true,
            "type": "pie"
           }
          ],
          "scatter": [
           {
            "marker": {
             "colorbar": {
              "outlinewidth": 0,
              "ticks": ""
             }
            },
            "type": "scatter"
           }
          ],
          "scatter3d": [
           {
            "line": {
             "colorbar": {
              "outlinewidth": 0,
              "ticks": ""
             }
            },
            "marker": {
             "colorbar": {
              "outlinewidth": 0,
              "ticks": ""
             }
            },
            "type": "scatter3d"
           }
          ],
          "scattercarpet": [
           {
            "marker": {
             "colorbar": {
              "outlinewidth": 0,
              "ticks": ""
             }
            },
            "type": "scattercarpet"
           }
          ],
          "scattergeo": [
           {
            "marker": {
             "colorbar": {
              "outlinewidth": 0,
              "ticks": ""
             }
            },
            "type": "scattergeo"
           }
          ],
          "scattergl": [
           {
            "marker": {
             "colorbar": {
              "outlinewidth": 0,
              "ticks": ""
             }
            },
            "type": "scattergl"
           }
          ],
          "scattermapbox": [
           {
            "marker": {
             "colorbar": {
              "outlinewidth": 0,
              "ticks": ""
             }
            },
            "type": "scattermapbox"
           }
          ],
          "scatterpolar": [
           {
            "marker": {
             "colorbar": {
              "outlinewidth": 0,
              "ticks": ""
             }
            },
            "type": "scatterpolar"
           }
          ],
          "scatterpolargl": [
           {
            "marker": {
             "colorbar": {
              "outlinewidth": 0,
              "ticks": ""
             }
            },
            "type": "scatterpolargl"
           }
          ],
          "scatterternary": [
           {
            "marker": {
             "colorbar": {
              "outlinewidth": 0,
              "ticks": ""
             }
            },
            "type": "scatterternary"
           }
          ],
          "surface": [
           {
            "colorbar": {
             "outlinewidth": 0,
             "ticks": ""
            },
            "colorscale": [
             [
              0,
              "#0d0887"
             ],
             [
              0.1111111111111111,
              "#46039f"
             ],
             [
              0.2222222222222222,
              "#7201a8"
             ],
             [
              0.3333333333333333,
              "#9c179e"
             ],
             [
              0.4444444444444444,
              "#bd3786"
             ],
             [
              0.5555555555555556,
              "#d8576b"
             ],
             [
              0.6666666666666666,
              "#ed7953"
             ],
             [
              0.7777777777777778,
              "#fb9f3a"
             ],
             [
              0.8888888888888888,
              "#fdca26"
             ],
             [
              1,
              "#f0f921"
             ]
            ],
            "type": "surface"
           }
          ],
          "table": [
           {
            "cells": {
             "fill": {
              "color": "#EBF0F8"
             },
             "line": {
              "color": "white"
             }
            },
            "header": {
             "fill": {
              "color": "#C8D4E3"
             },
             "line": {
              "color": "white"
             }
            },
            "type": "table"
           }
          ]
         },
         "layout": {
          "annotationdefaults": {
           "arrowcolor": "#2a3f5f",
           "arrowhead": 0,
           "arrowwidth": 1
          },
          "coloraxis": {
           "colorbar": {
            "outlinewidth": 0,
            "ticks": ""
           }
          },
          "colorscale": {
           "diverging": [
            [
             0,
             "#8e0152"
            ],
            [
             0.1,
             "#c51b7d"
            ],
            [
             0.2,
             "#de77ae"
            ],
            [
             0.3,
             "#f1b6da"
            ],
            [
             0.4,
             "#fde0ef"
            ],
            [
             0.5,
             "#f7f7f7"
            ],
            [
             0.6,
             "#e6f5d0"
            ],
            [
             0.7,
             "#b8e186"
            ],
            [
             0.8,
             "#7fbc41"
            ],
            [
             0.9,
             "#4d9221"
            ],
            [
             1,
             "#276419"
            ]
           ],
           "sequential": [
            [
             0,
             "#0d0887"
            ],
            [
             0.1111111111111111,
             "#46039f"
            ],
            [
             0.2222222222222222,
             "#7201a8"
            ],
            [
             0.3333333333333333,
             "#9c179e"
            ],
            [
             0.4444444444444444,
             "#bd3786"
            ],
            [
             0.5555555555555556,
             "#d8576b"
            ],
            [
             0.6666666666666666,
             "#ed7953"
            ],
            [
             0.7777777777777778,
             "#fb9f3a"
            ],
            [
             0.8888888888888888,
             "#fdca26"
            ],
            [
             1,
             "#f0f921"
            ]
           ],
           "sequentialminus": [
            [
             0,
             "#0d0887"
            ],
            [
             0.1111111111111111,
             "#46039f"
            ],
            [
             0.2222222222222222,
             "#7201a8"
            ],
            [
             0.3333333333333333,
             "#9c179e"
            ],
            [
             0.4444444444444444,
             "#bd3786"
            ],
            [
             0.5555555555555556,
             "#d8576b"
            ],
            [
             0.6666666666666666,
             "#ed7953"
            ],
            [
             0.7777777777777778,
             "#fb9f3a"
            ],
            [
             0.8888888888888888,
             "#fdca26"
            ],
            [
             1,
             "#f0f921"
            ]
           ]
          },
          "colorway": [
           "#636efa",
           "#EF553B",
           "#00cc96",
           "#ab63fa",
           "#FFA15A",
           "#19d3f3",
           "#FF6692",
           "#B6E880",
           "#FF97FF",
           "#FECB52"
          ],
          "font": {
           "color": "#2a3f5f"
          },
          "geo": {
           "bgcolor": "white",
           "lakecolor": "white",
           "landcolor": "#E5ECF6",
           "showlakes": true,
           "showland": true,
           "subunitcolor": "white"
          },
          "hoverlabel": {
           "align": "left"
          },
          "hovermode": "closest",
          "mapbox": {
           "style": "light"
          },
          "paper_bgcolor": "white",
          "plot_bgcolor": "#E5ECF6",
          "polar": {
           "angularaxis": {
            "gridcolor": "white",
            "linecolor": "white",
            "ticks": ""
           },
           "bgcolor": "#E5ECF6",
           "radialaxis": {
            "gridcolor": "white",
            "linecolor": "white",
            "ticks": ""
           }
          },
          "scene": {
           "xaxis": {
            "backgroundcolor": "#E5ECF6",
            "gridcolor": "white",
            "gridwidth": 2,
            "linecolor": "white",
            "showbackground": true,
            "ticks": "",
            "zerolinecolor": "white"
           },
           "yaxis": {
            "backgroundcolor": "#E5ECF6",
            "gridcolor": "white",
            "gridwidth": 2,
            "linecolor": "white",
            "showbackground": true,
            "ticks": "",
            "zerolinecolor": "white"
           },
           "zaxis": {
            "backgroundcolor": "#E5ECF6",
            "gridcolor": "white",
            "gridwidth": 2,
            "linecolor": "white",
            "showbackground": true,
            "ticks": "",
            "zerolinecolor": "white"
           }
          },
          "shapedefaults": {
           "line": {
            "color": "#2a3f5f"
           }
          },
          "ternary": {
           "aaxis": {
            "gridcolor": "white",
            "linecolor": "white",
            "ticks": ""
           },
           "baxis": {
            "gridcolor": "white",
            "linecolor": "white",
            "ticks": ""
           },
           "bgcolor": "#E5ECF6",
           "caxis": {
            "gridcolor": "white",
            "linecolor": "white",
            "ticks": ""
           }
          },
          "title": {
           "x": 0.05
          },
          "xaxis": {
           "automargin": true,
           "gridcolor": "white",
           "linecolor": "white",
           "ticks": "",
           "title": {
            "standoff": 15
           },
           "zerolinecolor": "white",
           "zerolinewidth": 2
          },
          "yaxis": {
           "automargin": true,
           "gridcolor": "white",
           "linecolor": "white",
           "ticks": "",
           "title": {
            "standoff": 15
           },
           "zerolinecolor": "white",
           "zerolinewidth": 2
          }
         }
        }
       }
      },
      "text/html": [
       "<div>\n",
       "        \n",
       "        \n",
       "            <div id=\"8826daf9-7600-478a-ab55-e8ece7d1c653\" class=\"plotly-graph-div\" style=\"height:600px; width:100%;\"></div>\n",
       "            <script type=\"text/javascript\">\n",
       "                require([\"plotly\"], function(Plotly) {\n",
       "                    window.PLOTLYENV=window.PLOTLYENV || {};\n",
       "                    \n",
       "                if (document.getElementById(\"8826daf9-7600-478a-ab55-e8ece7d1c653\")) {\n",
       "                    Plotly.newPlot(\n",
       "                        '8826daf9-7600-478a-ab55-e8ece7d1c653',\n",
       "                        [{\"customdata\": [[\"Bexley\", \"LONDON\"], [\"Ealing\", \"LONDON\"], [\"Croydon\", \"CROYDON\"], [\"Croydon\", \"CROYDON\"], [\"Bexley\", \"BEXLEY\"], [\"Redbridge\", \"ILFORD\"], [\"City\", \"LONDON\"], [\"Westminster\", \"LONDON\"], [\"Brent\", \"WEMBLEY\"], [\"Bromley\", \"LONDON\"], [\"Islington\", \"LONDON\"], [\"Bromley\", \"WESTERHAM\"], [\"Islington\", \"LONDON\"], [\"Havering\", \"HORNCHURCH\"], [\"Barnet\", \"BARNET\"], [\"Enfield\", \"LONDON\"], [\"Wandsworth\", \"LONDON\"], [\"Southwark\", \"LONDON\"], [\"City\", \"LONDON\"], [\"Barking and Dagenham\", \"BARKING\"], [\"Redbridge\", \"ILFORD\"], [\"Bexley\", \"BEXLEYHEATH\"], [\"Richmond upon Thames\", \"LONDON\"], [\"Bexley\", \"DARTFORD\"], [\"Barnet\", \"LONDON\"], [\"Barnet\", \"BARNET\"], [\"Islington\", \"LONDON\"], [\"Wandsworth\", \"LONDON\"], [\"Westminster\", \"LONDON\"], [\"Bromley\", \"BECKENHAM\"], [\"Newham\", \"LONDON\"], [\"Barking and Dagenham\", \"DAGENHAM\"], [\"Barking and Dagenham\", \"DAGENHAM\"], [\"Sutton\", \"WALLINGTON\"], [\"Ealing\", \"LONDON\"], [\"Westminster\", \"LONDON\"], [\"Lewisham\", \"LONDON\"], [\"Harrow\", \"HARROW\"], [\"Sutton\", \"SUTTON\"], [\"Camden\", \"LONDON\"], [\"Bexley\", \"BELVEDERE\"], [\"Southwark\", \"LONDON\"], [\"Kingston upon Thames\", \"SURBITON\"], [\"Tower Hamlets\", \"LONDON\"], [\"Bexley\", \"BEXLEY\"], [\"Bexley\", \"BEXLEYHEATH\"], [\"Bromley\", \"BROMLEY\"], [\"Bromley\", \"WESTERHAM\"], [\"Bexley\", \"SIDCUP\"], [\"City\", \"LONDON\"], [\"Lewisham\", \"LONDON\"], [\"Greenwich\", \"LONDON\"], [\"Tower Hamlets\", \"LONDON\"], [\"Bexley\", \"BEXLEY\"], [\"Camden\", \"LONDON\"], [\"Enfield\", \"ENFIELD\"], [\"Haringey\", \"LONDON\"], [\"Tower Hamlets\", \"LONDON\"], [\"Haringey\", \"LONDON\"], [\"Hounslow\", \"BRENTFORD\"], [\"Barnet\", \"LONDON\"], [\"Brent\", \"LONDON\"], [\"Enfield\", \"ENFIELD\"], [\"Lambeth\", \"LONDON\"], [\"Lewisham\", \"LONDON\"], [\"Bromley\", \"BROMLEY\"], [\"Tower Hamlets\", \"LONDON\"], [\"Bromley\", \"BROMLEY\"], [\"Kensington and ChelseaHammersmith and Fulham\", \"LONDON\"], [\"Brent\", \"LONDON\"], [\"Barnet\", \"LONDON\"], [\"Enfield\", \"ENFIELD\"], [\"Barnet\", \"EDGWARE\"], [\"Barnet\", \"LONDON\"], [\"Southwark\", \"LONDON\"], [\"Tower Hamlets\", \"LONDON\"], [\"Camden\", \"LONDON\"], [\"Tower Hamlets\", \"LONDON\"], [\"Waltham Forest\", \"LONDON\"], [\"Newham\", \"LONDON\"], [\"Islington\", \"LONDON\"], [\"Sutton\", \"CARSHALTON\"], [\"Richmond upon Thames\", \"LONDON\"], [\"Barking and Dagenham\", \"DAGENHAM\"], [\"Lewisham\", \"LONDON\"], [\"Redbridge\", \"ROMFORD\"], [\"Camden\", \"LONDON\"], [\"Westminster\", \"LONDON\"], [\"Greenwich\", \"LONDON\"], [\"Havering\", \"ROMFORD\"], [\"Sutton\", \"SUTTON/MERTON\"], [\"Kensington and Chelsea\", \"LONDON\"], [\"Bromley\", \"ORPINGTON\"], [\"Kingston upon Thames\", \"CHESSINGTON\"], [\"Barnet\", \"LONDON\"], [\"Westminster\", \"LONDON\"], [\"Lewisham\", \"LONDON\"], [\"Waltham Forest\", \"LONDON\"], [\"Bromley\", \"CHISLEHURST\"], [\"Hounslow\", \"LONDON\"], [\"Brent\", \"LONDON\"], [\"Barnet\", \"LONDON\"], [\"Lambeth\", \"LONDON\"], [\"Islington\", \"LONDON\"], [\"Barnet\", \"BARNET\"], [\"Barnet\", \"LONDON\"], [\"Havering\", \"ROMFORD\"], [\"Merton\", \"LONDON\"], [\"Barnet\", \"LONDON\"], [\"Bexley\", \"ERITH\"], [\"Bromley\", \"WEST WICKHAM\"], [\"Croydon\", \"CROYDON\"], [\"Kingston upon Thames\", \"KINGSTON UPON THAMES\"], [\"Croydon\", \"COULSDON\"], [\"Westminster\", \"LONDON\"], [\"Hillingdon\", \"UXBRIDGE\"], [\"Hounslow\", \"HOUNSLOW\"], [\"Havering\", \"UPMINSTER\"], [\"Bexley\", \"DARTFORD\"], [\"Barking and Dagenham\", \"BARKING\"], [\"Enfield\", \"ENFIELD\"], [\"Barnet\", \"LONDON\"], [\"Lewisham\", \"LONDON\"], [\"Bexley\", \"BEXLEYHEATH\"], [\"Bexley\", \"LONDON\"], [\"Haringey\", \"LONDON\"], [\"Croydon\", \"CROYDON\"], [\"Bromley\", \"LONDON\"], [\"Tower Hamlets\", \"LONDON\"], [\"Bromley\", \"SEVENOAKS\"], [\"Newham\", \"LONDON\"], [\"Barking and Dagenham\", \"DAGENHAM\"], [\"Hackney\", \"LONDON\"], [\"Dartford\", \"LONDON\"], [\"Islington\", \"LONDON\"], [\"Southwark\", \"LONDON\"], [\"Lewisham\", \"LONDON\"], [\"Bromley\", \"ORPINGTON\"], [\"Brent\", \"LONDON\"], [\"Bromley\", \"ORPINGTON\"], [\"Lewisham\", \"BROMLEY\"], [\"Southwark\", \"LONDON\"], [\"Ealing\", \"LONDON\"], [\"Kensington and Chelsea\", \"LONDON\"], [\"Wandsworth\", \"LONDON\"], [\"Barnet\", \"BARNET\"], [\"Hounslow\", \"FELTHAM\"], [\"Southwark\", \"LONDON\"], [\"Barnet\", \"LONDON\"], [\"Newham\", \"LONDON\"], [\"Richmond upon Thames\", \"LONDON\"], [\"Bexley\", \"WELLING\"], [\"Hillingdon\", \"PINNER\"], [\"Bromley\", \"BECKENHAM\"], [\"Barnet\", \"EDGWARE\"], [\"Enfield\", \"LONDON\"], [\"Richmond upon Thames\", \"TWICKENHAM\"], [\"Southwark\", \"LONDON\"], [\"Havering\", \"HORNCHURCH\"], [\"Bromley\", \"BECKENHAM\"], [\"Bromley\", \"CHISLEHURST\"], [\"Greenwich\", \"LONDON\"], [\"Havering\", \"HORNCHURCH\"], [\"Enfield\", \"ENFIELD\"], [\"Enfield\", \"ENFIELD\"], [\"Enfield\", \"ENFIELD\"], [\"Enfield\", \"ENFIELD\"], [\"Bexley\", \"ERITH\"], [\"Bexley\", \"LONDON\"], [\"Islington \", \"LONDON\"], [\"Hounslow\", \"FELTHAM\"], [\"Barnet\", \"LONDON\"], [\"Islington\", \"LONDON\"], [\"Haringey\", \"LONDON\"], [\"Camden\", \"LONDON\"], [\"Bexley\", \"SIDCUP\"], [\"Newham\", \"LONDON\"], [\"Lewisham\", \"LONDON\"], [\"Croydon\", \"CROYDON\"], [\"Haringey\", \"LONDON\"], [\"Enfield\", \"ENFIELD\"], [\"Barnet\", \"LONDON\"], [\"Camden\", \"LONDON\"], [\"Hammersmith and Fulham\", \"LONDON\"], [\"Richmond upon Thames\", \"TEDDINGTON\"], [\"Havering\", \"ROMFORD\"], [\"Redbridge\", \"ILFORD\"], [\"Havering\", \"ROMFORD\"], [\"Lambeth\", \"LONDON\"], [\"Bromley\", \"ORPINGTON\"], [\"Barnet\", \"LONDON\"], [\"Redbridge\", \"ILFORD\"], [\"Camden\", \"LONDON\"], [\"Barnet\", \"LONDON\"], [\"Enfield\", \"LONDON\"], [\"Ealing\", \"GREENFORD\"], [\"Greenwich\", \"LONDON\"], [\"Hounslow\", \"LONDON\"], [\"Lewisham\", \"LONDON\"], [\"Hounslow\", \"LONDON\"], [\"Hackney\", \"LONDON\"], [\"Hackney\", \"LONDON\"], [\"Hackney\", \"LONDON\"], [\"Hackney\", \"LONDON\"], [\"Enfield\", \"BARNET\"], [\"Hackney\", \"LONDON\"], [\"Redbridge\", \"CHIGWELL\"], [\"Barnet\", \"LONDON\"], [\"Richmond upon Thames\", \"RICHMOND\"], [\"Hammersmith and Fulham\", \"LONDON\"], [\"Camden\", \"LONDON\"], [\"Barnet\", \"LONDON\"], [\"Richmond upon Thames\", \"HAMPTON\"], [\"Richmond upon Thames\", \"HAMPTON\"], [\"Richmond upon Thames\", \"KINGSTON UPON THAMES\"], [\"Ealing\", \"LONDON\"], [\"Hounslow\", \"FELTHAM\"], [\"Hillingdon\", \"UXBRIDGE\"], [\"Brent\", \"LONDON\"], [\"Hillingdon\", \"HAYES\"], [\"Hillingdon\", \"WEST DRAYTON\"], [\"Havering\", \"ROMFORD\"], [\"Havering\", \"ROMFORD\"], [\"Havering\", \"ROMFORD\"], [\"Haringey\", \"LONDON\"], [\"Harrow\", \"HARROW\"], [\"Harrow\", \"HARROW\"], [\"Harrow\", \"HARROW\"], [\"Harrow\", \"PINNER\"], [\"Hounslow\", \"FELTHAM\"], [\"Havering\", \"ROMFORD\"], [\"Bromley\", \"BROMLEY\"], [\"Hillingdon\", \"HAYES\"], [\"Bromley\", \"ORPINGTON\"], [\"Barnet\", \"LONDON\"], [\"Lambeth\", \"LONDON\"], [\"Hounslow\", \"HOUNSLOW\"], [\"Waltham Forest\", \"LONDON\"], [\"Islington\", \"LONDON\"], [\"Camden\", \"LONDON\"], [\"Hillingdon\", \"UXBRIDGE\"], [\"Lewisham\", \"LONDON\"], [\"Camden\", \"LONDON\"], [\"Kensington and Chelsea\", \"LONDON\"], [\"Islington\", \"LONDON\"], [\"Hackney\", \"LONDON\"], [\"Lewisham\", \"LONDON\"], [\"Kingston upon Thames\", \"CHESSINGTON\"], [\"Havering\", \"HORNCHURCH\"], [\"Greenwich\", \"LONDON\"], [\"Haringey\", \"LONDON\"], [\"Hounslow\", \"HOUNSLOW\"], [\"Hackney\", \"LONDON\"], [\"Barnet\", \"LONDON\"], [\"Hillingdon\", \"UXBRIDGE\"], [\"Redbridge\", \"ILFORD\"], [\"Tower Hamlets\", \"LONDON\"], [\"Hounslow\", \"ISLEWORTH\"], [\"Islington\", \"LONDON\"], [\"Croydon\", \"KENLEY\"], [\"Lambeth\", \"LONDON\"], [\"Brent\", \"LONDON\"], [\"Kensington and Chelsea\", \"LONDON\"], [\"Camden\", \"LONDON\"], [\"Brent\", \"HARROW\"], [\"Bromley\", \"KESTON\"], [\"Richmond upon Thames\", \"RICHMOND\"], [\"Greenwich\", \"LONDON\"], [\"Brent\", \"LONDON\"], [\"Camden and Islington\", \"LONDON\"], [\"Brent\", \"LONDON\"], [\"Kingston upon Thames\", \"LONDON\"], [\"Kingston upon Thames\", \"KINGSTON UPON THAMES\"], [\"Westminster\", \"LONDON\"], [\"Lewisham\", \"LONDON\"], [\"Lambeth\", \"LONDON\"], [\"Bexley\", \"SIDCUP\"], [\"Hounslow\", \"HOUNSLOW\"], [\"Hackney\", \"LONDON\"], [\"Tower Hamlets\", \"LONDON\"], [\"Bromley\", \"KESTON\"], [\"Lewisham\", \"LONDON\"], [\"Bexley\", \"BELVEDERE\"], [\"Lewisham\", \"LONDON\"], [\"Waltham Forest\", \"LONDON\"], [\"Waltham Forest\", \"LONDON\"], [\"Tower Hamlets\", \"LONDON\"], [\"Westminster\", \"LONDON\"], [\"Newham\", \"LONDON\"], [\"Westminster\", \"LONDON\"], [\"Bromley\", \"ORPINGTON\"], [\"Hillingdon\", \"WEST DRAYTON\"], [\"Bexley\", \"LONDON\"], [\"Hackney\", \"LONDON\"], [\"Merton\", \"MORDEN\"], [\"Redbridge\", \"ILFORD\"], [\"Westminster\", \"LONDON\"], [\"Kingston upon Thames\", \"CHESSINGTON\"], [\"Hackney\", \"LONDON\"], [\"Newham\", \"LONDON\"], [\"Barking and Dagenham\", \"ROMFORD\"], [\"Newham\", \"LONDON\"], [\"Westminster\", \"LONDON\"], [\"Westminster\", \"LONDON\"], [\"Greenwich\", \"LONDON\"], [\"Merton\", \"LONDON\"], [\"Greenwich\", \"LONDON\"], [\"Tower Hamlets\", \"LONDON\"], [\"Barnet\", \"LONDON\"], [\"Westminster\", \"LONDON\"], [\"Tower Hamlets\", \"LONDON\"], [\"Merton\", \"MITCHAM\"], [\"Barnet\", \"BARNET\"], [\"Merton\", \"MORDEN\"], [\"Merton\", \"MORDEN\"], [\"Richmond upon Thames\", \"LONDON\"], [\"Kingston upon Thames\", \"NEW MALDEN\"], [\"Bromley\", \"LONDON\"], [\"Haringey and Barnet\", \"LONDON\"], [\"Islington\", \"LONDON\"], [\"Brent\", \"LONDON\"], [\"Croydon\", \"CROYDON\"], [\"Barnet\", \"BARNET\"], [\"Lewisham\", \"LONDON\"], [\"Greenwich\", \"LONDON\"], [\"Kingston upon Thames\", \"NEW MALDEN\"], [\"Barnet\", \"LONDON\"], [\"Redbridge\", \"ILFORD\"], [\"Southwark\", \"LONDON\"], [\"Wandsworth\", \"LONDON\"], [\"Havering\", \"ROMFORD\"], [\"Kingston upon Thames\", \"KINGSTON UPON THAMES\"], [\"Croydon\", \"LONDON\"], [\"Bexley\", \"SIDCUP\"], [\"Bexley\", \"ERITH\"], [\"Barnet\", \"LONDON\"], [\"Harrow\", \"HARROW\"], [\"Kensington and Chelsea\", \"LONDON\"], [\"Havering\", \"UPMINSTER\"], [\"Richmond upon Thames\", \"RICHMOND\"], [\"Newham\", \"LONDON\"], [\"Ealing\", \"NORTHOLT\"], [\"Bexley\", \"ERITH\"], [\"Hillingdon\", \"NORTHWOOD\"], [\"Ealing\", \"SOUTHALL\"], [\"Kensington and Chelsea\", \"LONDON\"], [\"Southwark\", \"LONDON\"], [\"Barnet\", \"LONDON\"], [\"Croydon\", \"COULSDON\"], [\"Tower Hamlets\", \"LONDON\"], [\"Kingston upon Thames\", \"WORCESTER PARK\"], [\"Hammersmith and Fulham\", \"LONDON\"], [\"Bromley\", \"ORPINGTON\"], [\"Barnet\", \"LONDON\"], [\"Hounslow\", \"ISLEWORTH\"], [\"Lambeth\", \"LONDON\"], [\"Westminster\", \"LONDON\"], [\"Enfield\", \"LONDON\"], [\"Brent\", \"LONDON\"], [\"Hammersmith and Fulham\", \"LONDON\"], [\"Southwark\", \"LONDON\"], [\"Bromley\", \"LONDON\"], [\"Islington\", \"LONDON\"], [\"Ealing\", \"GREENFORD\"], [\"Richmond upon Thames\", \"RICHMOND\"], [\"Bromley\", \"ORPINGTON\"], [\"Westminster\", \"LONDON\"], [\"Harrow\", \"PINNER\"], [\"Newham\", \"LONDON\"], [\"Bromley\", \"BROMLEY\"], [\"Greenwich\", \"LONDON\"], [\"Enfield\", \"ENFIELD\"], [\"Tower Hamlets\", \"LONDON\"], [\"Bromley\", \"ORPINGTON\"], [\"Brent\", \"WEMBLEY\"], [\"Camden\", \"LONDON\"], [\"Croydon\", \"PURLEY\"], [\"Wandsworth\", \"LONDON\"], [\"Brent\", \"LONDON\"], [\"Harrow\", \"HARROW\"], [\"Havering\", \"RAINHAM\"], [\"Tower Hamlets\", \"LONDON\"], [\"Harrow\", \"PINNER\"], [\"Merton\", \"LONDON\"], [\"Redbridge\", \"ILFORD\"], [\"Richmond upon Thames\", \"RICHMOND\"], [\"Croydon\", \"PURLEY\"], [\"Wandsworth\", \"LONDON\"], [\"Havering\", \"ROMFORD\"], [\"Southwark\", \"LONDON\"], [\"Hillingdon\", \"RUISLIP\"], [\"Barking and Dagenham\", \"ROMFORD\"], [\"Bexley\", \"SIDCUP\"], [\"Croydon\", \"SOUTH CROYDON\"], [\"Hammersmith and Fulham\", \"LONDON\"], [\"Croydon\", \"LONDON\"], [\"Croydon\", \"SOUTH CROYDON\"], [\"Redbridge\", \"ILFORD\"], [\"Haringey\", \"LONDON\"], [\"Hackney\", \"LONDON\"], [\"Tower Hamlets\", \"LONDON\"], [\"Hammersmith and Fulham\", \"LONDON\"], [\"Croydon\", \"CROYDON\"], [\"Greenwich\", \"LONDON\"], [\"Hackney\", \"LONDON\"], [\"Bexley\", \"SIDCUP\"], [\"Newham\", \"LONDON\"], [\"Hillingdon\", \"WEST DRAYTON\"], [\"Bexley\", \"ERITH\"], [\"Redbridge\", \"LONDON\"], [\"Westminster\", \"LONDON\"], [\"Camden\", \"LONDON\"], [\"Croydon\", \"SOUTH CROYDON\"], [\"Hackney\", \"LONDON\"], [\"Harrow\", \"HARROW\"], [\"Havering\", \"RAINHAM\"], [\"Kensington and Chelsea\", \"LONDON\"], [\"Croydon\", \"LONDON\"], [\"Hillingdon\", \"RUISLIP\"], [\"Merton\", \"LONDON\"], [\"Redbridge\", \"LONDON\"], [\"Haringey\", \"LONDON\"], [\"Lewisham\", \"LONDON\"], [\"Ealing\", \"SOUTHALL\"], [\"Bromley\", \"BROMLEY\"], [\"Wandsworth\", \"LONDON\"], [\"Enfield\", \"LONDON\"], [\"Tower Hamlets\", \"LONDON\"], [\"Merton\", \"MORDEN\"], [\"Westminster\", \"LONDON\"], [\"Richmond upon Thames\", \"TWICKENHAM\"], [\"Camden\", \"LONDON\"], [\"Lewisham\", \"LONDON\"], [\"Westminster\", \"LONDON\"], [\"Islington\", \"LONDON\"], [\"Bromley\", \"ORPINGTON\"], [\"Camden\", \"LONDON\"], [\"Bromley\", \"ORPINGTON\"], [\"Hackney\", \"LONDON\"], [\"Harrow\", \"STANMORE\"], [\"Tower Hamlets\", \"LONDON\"], [\"Lambeth\", \"LONDON\"], [\"Hackney\", \"LONDON\"], [\"Brent\", \"LONDON\"], [\"Newham\", \"LONDON\"], [\"Richmond upon Thames\", \"TWICKENHAM\"], [\"Lambeth\", \"LONDON\"], [\"Haringey\", \"LONDON\"], [\"Brent\", \"HARROW\"], [\"Bromley\", \"BROMLEY\"], [\"Kingston upon Thames\", \"SURBITON\"], [\"Southwark\", \"LONDON\"], [\"Sutton\", \"SUTTON\"], [\"Camden\", \"LONDON\"], [\"Lewisham\", \"LONDON\"], [\"Lewisham\", \"LONDON\"], [\"Richmond upon Thames\", \"TEDDINGTON\"], [\"City\", \"LONDON\"], [\"Barnet\", \"BARNET\"], [\"Bexley\", \"LONDON\"], [\"Croydon\", \"THORNTON HEATH\"], [\"Brent\", \"WEMBLEY\"], [\"Kingston upon Thames\", \"SURBITON\"], [\"Wandsworth\", \"LONDON\"], [\"Wandsworth\", \"LONDON\"], [\"Haringey\", \"LONDON\"], [\"Haringey\", \"LONDON\"], [\"Haringey\", \"LONDON\"], [\"Barnet\", \"LONDON\"], [\"Tower Hamlets\", \"LONDON\"], [\"Islington\", \"LONDON\"], [\"Lambeth\", \"LONDON\"], [\"Haringey\", \"LONDON\"], [\"Richmond upon Thames\", \"TWICKENHAM\"], [\"Havering\", \"UPMINSTER\"], [\"Havering\", \"HORNCHURCH\"], [\"Hackney\", \"LONDON\"], [\"Islington\", \"LONDON\"], [\"Croydon\", \"LONDON\"], [\"Bexley\", \"SIDCUP\"], [\"Waltham Forest\", \"LONDON\"], [\"Bexley\", \"BEXLEYHEATH\"], [\"Newham\", \"LONDON\"], [\"Hillingdon\", \"UXBRIDGE\"], [\"Lambeth\", \"LONDON\"], [\"Croydon\", \"CROYDON\"], [\"Sutton\", \"WALLINGTON\"], [\"Waltham Forest\", \"LONDON\"], [\"Waltham Forest\", \"LONDON\"], [\"Southwark\", \"LONDON\"], [\"Wandsworth\", \"LONDON\"], [\"Redbridge\", \"LONDON\"], [\"Tower Hamlets\", \"LONDON\"], [\"Harrow\", \"HARROW\"], [\"Greenwich\", \"LONDON\"], [\"Bexley\", \"WELLING\"], [\"Brent\", \"WEMBLEY\"], [\"Brent\", \"WEMBLEY\"], [\"Havering\", \"RAINHAM\"], [\"Kensington and Chelsea\", \"LONDON\"], [\"Hillingdon\", \"WEST DRAYTON\"], [\"Ealing\", \"LONDON\"], [\"Haringey\", \"LONDON\"], [\"Hackney\", \"LONDON\"], [\"Newham\", \"LONDON\"], [\"Camden\", \"LONDON\"], [\"Harrow\", \"HARROW\"], [\"Bexley\", \"LONDON\"], [\"Barnet\", \"LONDON\"], [\"Hammersmith and Fulham\", \"LONDON\"], [\"Lambeth\", \"LONDON\"], [\"Bromley\", \"WEST WICKHAM\"], [\"Greenwich\", \"LONDON\"], [\"Westminster\", \"LONDON\"], [\"Barnet\", \"LONDON\"], [\"Hammersmith and Fulham\", \"LONDON\"], [\"Tower Hamlets\", \"LONDON\"], [\"Bromley\", \"BROMLEY\"], [\"Richmond upon Thames\", \"TWICKENHAM\"], [\"Brent\", \"LONDON\"], [\"Merton\", \"LONDON\"], [\"Enfield\", \"LONDON\"], [\"Haringey\", \"LONDON\"], [\"Redbridge\", \"LONDON\"], [\"Redbridge\", \"LONDON\"], [\"Hounslow\", \"ISLEWORTH\"], [\"Croydon\", \"CROYDON\"], [\"Barnet\", \"LONDON\"], [\"Greenwich\", \"LONDON\"], [\"Sutton\", \"WORCESTER PARK\"], [\"Hammersmith and Fulham\", \"LONDON\"], [\"Hillingdon\", \"HAYES\"], [\"Hillingdon\", \"WEST DRAYTON\"]], \"hovertemplate\": \"<b>%{hovertext}</b><br><br>Lat=%{lat}<br>Lng=%{lon}<br>Borough=%{customdata[0]}<br>Town=%{customdata[1]}<extra></extra>\", \"hovertext\": [\"Abbey Wood\", \"Acton\", \"Addington\", \"Addiscombe\", \"Albany Park\", \"Aldborough Hatch\", \"Aldgate\", \"Aldwych\", \"Alperton\", \"Anerley\", \"Angel\", \"Aperfield\", \"Archway\", \"Ardleigh Green\", \"Arkley\", \"Arnos Grove\", \"Balham\", \"Bankside\", \"Barbican\", \"Barking\", \"Barkingside\", \"Barnehurst\", \"Barnes\", \"Barnes Cray\", \"Barnet Gate\", \"Barnet (also Chipping Barnet, High Barnet)\", \"Barnsbury\", \"Battersea\", \"Bayswater\", \"Beckenham\", \"Beckton\", \"Becontree\", \"Becontree Heath\", \"Beddington\", \"Bedford Park\", \"Belgravia\", \"Bellingham\", \"Belmont\", \"Belmont\", \"Belsize Park\", \"Belvedere\", \"Bermondsey\", \"Berrylands\", \"Bethnal Green\", \"Bexley (also Old Bexley, Bexley Village)\", \"Bexleyheath (also Bexley New Town)\", \"Bickley\", \"Biggin Hill\", \"Blackfen\", \"Blackfriars\", \"Blackheath\", \"Blackheath Royal Standard\", \"Blackwall\", \"Blendon\", \"Bloomsbury\", \"Botany Bay\", \"Bounds Green\", \"Bow\", \"Bowes Park\", \"Brentford\", \"Brent Cross\", \"Brent Park\", \"Brimsdown\", \"Brixton\", \"Brockley\", \"Bromley\", \"Bromley (also Bromley-by-Bow)\", \"Bromley Common\", \"Brompton\", \"Brondesbury\", \"Brunswick Park\", \"Bulls Cross\", \"Burnt Oak\", \"Burroughs, The\", \"Camberwell\", \"Cambridge Heath\", \"Camden Town\", \"Canary Wharf\", \"Cann Hall\", \"Canning Town\", \"Canonbury\", \"Carshalton\", \"Castelnau\", \"Castle Green\", \"Catford\", \"Chadwell Heath\", \"Chalk Farm\", \"Charing Cross\", \"Charlton\", \"Chase Cross\", \"Cheam\", \"Chelsea\", \"Chelsfield\", \"Chessington\", \"Childs Hill\", \"Chinatown\", \"Chinbrook\", \"Chingford\", \"Chislehurst\", \"Chiswick\", \"Church End\", \"Church End\", \"Clapham\", \"Clerkenwell\", \"Cockfosters\", \"Colindale\", \"Collier Row\", \"Colliers Wood\", \"Colney Hatch\", \"Colyers\", \"Coney Hall\", \"Coombe\", \"Coombe\", \"Coulsdon\", \"Covent Garden\", \"Cowley\", \"Cranford\", \"Cranham\", \"Crayford\", \"Creekmouth\", \"Crews Hill\", \"Cricklewood\", \"Crofton Park\", \"Crook Log\", \"Crossness\", \"Crouch End\", \"Croydon\", \"Crystal Palace\", \"Cubitt Town\", \"Cudham\", \"Custom House\", \"Dagenham\", \"Dalston\", \"Dartford\", \"De Beauvoir Town\", \"Denmark Hill\", \"Deptford\", \"Derry Downs\", \"Dollis Hill\", \"Downe\", \"Downham\", \"Dulwich\", \"Ealing\", \"Earls Court\", \"Earlsfield\", \"East Barnet\", \"East Bedfont\", \"East Dulwich\", \"East Finchley\", \"East Ham\", \"East Sheen\", \"East Wickham\", \"Eastcote\", \"Eden Park\", \"Edgware\", \"Edmonton\", \"Eel Pie Island\", \"Elephant and Castle\", \"Elm Park\", \"Elmers End\", \"Elmstead\", \"Eltham\", \"Emerson Park\", \"Enfield Highway\", \"Enfield Lock\", \"Enfield Town\", \"Enfield Wash\", \"Erith\", \"Falconwood\", \"Farringdon\", \"Feltham\", \"Finchley\", \"Finsbury\", \"Finsbury Park\", \"Fitzrovia\", \"Foots Cray\", \"Forest Gate\", \"Forest Hill\", \"Forestdale\", \"Fortis Green\", \"Freezywater\", \"Friern Barnet\", \"Frognal\", \"Fulham\", \"Fulwell\", \"Gallows Corner\", \"Gants Hill\", \"Gidea Park\", \"Gipsy Hill\", \"Goddington\", \"Golders Green\", \"Goodmayes\", \"Gospel Oak\", \"Grahame Park\", \"Grange Park\", \"Greenford\", \"Greenwich\", \"Grove Park\", \"Grove Park\", \"Gunnersbury\", \"Hackney\", \"Hackney Central\", \"Hackney Marshes\", \"Hackney Wick\", \"Hadley Wood\", \"Haggerston\", \"Hainault\", \"The Hale\", \"Ham\", \"Hammersmith\", \"Hampstead\", \"Hampstead Garden Suburb\", \"Hampton\", \"Hampton Hill\", \"Hampton Wick\", \"Hanwell\", \"Hanworth\", \"Harefield\", \"Harlesden\", \"Harlington\", \"Harmondsworth\", \"Harold Hill\", \"Harold Park\", \"Harold Wood\", \"Harringay\", \"Harrow\", \"Harrow on the Hill\", \"Harrow Weald\", \"Hatch End\", \"Hatton\", \"Havering-atte-Bower\", \"Hayes\", \"Hayes\", \"Hazelwood\", \"Hendon\", \"Herne Hill\", \"Heston\", \"Highams Park\", \"Highbury\", \"Highgate\", \"Hillingdon\", \"Hither Green\", \"Holborn\", \"Holland Park\", \"Holloway\", \"Homerton\", \"Honor Oak\", \"Hook\", \"Hornchurch\", \"Horn Park\", \"Hornsey\", \"Hounslow\", \"Hoxton\", \"The Hyde\", \"Ickenham\", \"Ilford\", \"Isle of Dogs\", \"Isleworth\", \"Islington\", \"Kenley\", \"Kennington\", \"Kensal Green\", \"Kensington\", \"Kentish Town\", \"Kenton\", \"Keston\", \"Kew\", \"Kidbrooke\", \"Kilburn\", \"King's Cross\", \"Kingsbury\", \"Kingston Vale\", \"Kingston upon Thames\", \"Knightsbridge\", \"Ladywell\", \"Lambeth\", \"Lamorbey\", \"Lampton\", \"Lea Bridge\", \"Leamouth\", \"Leaves Green\", \"Lee\", \"Lessness Heath\", \"Lewisham\", \"Leyton\", \"Leytonstone\", \"Limehouse\", \"Lisson Grove\", \"Little Ilford\", \"Little Venice\", \"Locksbottom\", \"Longford\", \"Longlands\", \"Lower Clapton\", \"Lower Morden\", \"Loxford\", \"Maida Vale\", \"Malden Rushett\", \"Manor House\", \"Manor Park\", \"Marks Gate\", \"Maryland\", \"Marylebone (also St Marylebone)\", \"Mayfair\", \"Maze Hill\", \"Merton Park\", \"Middle Park\", \"Mile End\", \"Mill Hill\", \"Millbank\", \"Millwall\", \"Mitcham\", \"Monken Hadley\", \"Morden\", \"Morden Park\", \"Mortlake\", \"Motspur Park\", \"Mottingham\", \"Muswell Hill\", \"Nag's Head\", \"Neasden\", \"New Addington\", \"New Barnet\", \"New Cross\", \"New Eltham\", \"New Malden\", \"New Southgate\", \"Newbury Park\", \"Newington\", \"Nine Elms\", \"Noak Hill\", \"Norbiton\", \"Norbury\", \"North Cray\", \"North End\", \"North Finchley\", \"North Harrow\", \"North Kensington\", \"North Ockendon\", \"North Sheen\", \"North Woolwich\", \"Northolt\", \"Northumberland Heath\", \"Northwood\", \"Norwood Green\", \"Notting Hill\", \"Nunhead\", \"Oakleigh Park\", \"Old Coulsdon\", \"Old Ford\", \"Old Malden\", \"Old Oak Common\", \"Orpington\", \"Osidge\", \"Osterley\", \"Oval\", \"Paddington\", \"Palmers Green\", \"Park Royal\", \"Parsons Green\", \"Peckham\", \"Penge\", \"Pentonville\", \"Perivale\", \"Petersham\", \"Petts Wood\", \"Pimlico\", \"Pinner\", \"Plaistow\", \"Plaistow\", \"Plumstead\", \"Ponders End\", \"Poplar\", \"Pratt's Bottom\", \"Preston\", \"Primrose Hill\", \"Purley\", \"Putney\", \"Queen's Park\", \"Queensbury\", \"Rainham\", \"Ratcliff\", \"Rayners Lane\", \"Raynes Park\", \"Redbridge\", \"Richmond\", \"Riddlesdown\", \"Roehampton\", \"Romford\", \"Rotherhithe\", \"Ruislip\", \"Rush Green\", \"Ruxley\", \"Sanderstead\", \"Sands End\", \"Selhurst\", \"Selsdon\", \"Seven Kings\", \"Seven Sisters\", \"Shacklewell\", \"Shadwell\", \"Shepherd's Bush\", \"Shirley\", \"Shooter's Hill\", \"Shoreditch\", \"Sidcup\", \"Silvertown\", \"Sipson\", \"Slade Green\", \"Snaresbrook\", \"Soho\", \"Somerstown\", \"South Croydon\", \"South Hackney\", \"South Harrow\", \"South Hornchurch\", \"South Kensington\", \"South Norwood\", \"South Ruislip\", \"South Wimbledon\", \"South Woodford\", \"South Tottenham\", \"Southend\", \"Southall\", \"Southborough\", \"Southfields\", \"Southgate\", \"Spitalfields\", \"St Helier\", \"St James's\", \"St Margarets\", \"St Giles\", \"St Johns\", \"St John's Wood\", \"St Luke's\", \"St Mary Cray\", \"St Pancras\", \"St Paul's Cray\", \"Stamford Hill\", \"Stanmore\", \"Stepney\", \"Stockwell\", \"Stoke Newington\", \"Stonebridge\", \"Stratford\", \"Strawberry Hill\", \"Streatham\", \"Stroud Green\", \"Sudbury\", \"Sundridge\", \"Surbiton\", \"Surrey Quays\", \"Sutton\", \"Swiss Cottage\", \"Sydenham (also Lower Sydenham, Upper Sydenham)\", \"Sydenham Hill\", \"Teddington\", \"Temple\", \"Temple Fortune\", \"Thamesmead\", \"Thornton Heath\", \"Tokyngton\", \"Tolworth\", \"Tooting\", \"Tooting Bec\", \"Tottenham\", \"Tottenham Green\", \"Tottenham Hale\", \"Totteridge\", \"Tower Hill\", \"Tufnell Park\", \"Tulse Hill\", \"Turnpike Lane\", \"Twickenham\", \"Upminster\", \"Upminster Bridge\", \"Upper Clapton\", \"Upper Holloway\", \"Upper Norwood\", \"Upper Ruxley\", \"Upper Walthamstow\", \"Upton\", \"Upton Park\", \"Uxbridge\", \"Vauxhall\", \"Waddon\", \"Wallington\", \"Walthamstow\", \"Walthamstow Village\", \"Walworth\", \"Wandsworth\", \"Wanstead\", \"Wapping\", \"Wealdstone\", \"Well Hall\", \"Welling\", \"Wembley\", \"Wembley Park\", \"Wennington\", \"West Brompton\", \"West Drayton\", \"West Ealing\", \"West Green\", \"West Hackney\", \"West Ham\", \"West Hampstead\", \"West Harrow\", \"West Heath\", \"West Hendon\", \"West Kensington\", \"West Norwood\", \"West Wickham\", \"Westcombe Park\", \"Westminster\", \"Whetstone\", \"White City\", \"Whitechapel\", \"Widmore (also Widmore Green)\", \"Whitton\", \"Willesden\", \"Wimbledon\", \"Winchmore Hill\", \"Wood Green\", \"Woodford\", \"Woodford Green\", \"Woodlands\", \"Woodside\", \"Woodside Park\", \"Woolwich\", \"Worcester Park\", \"Wormwood Scrubs\", \"Yeading\", \"Yiewsley\"], \"lat\": [51.492450000000076, 51.51806549999999, 51.35879700000001, 51.3735680787325, 51.435700000000054, 51.563048473923104, 51.513308435920024, 51.50008000000008, 51.53417376058907, 51.41598495190199, 51.532020000000045, 51.31015431804546, 51.532790000000034, 51.58067733666435, 51.65193000000005, 51.62243647082235, 51.45682000000005, 51.50816773788799, 51.52005005107048, 52.146954, 51.58511000000004, 51.46362000000005, 51.48284539965428, 51.454074460771906, 51.48284539965428, 51.65872000000007, 51.536480534879935, 51.459232500000006, 51.50008000000008, 51.40215000000006, 51.53292000000005, 51.555979984996426, 51.560510628882625, 51.35889578219062, 51.51189181117945, 51.494857585883956, 51.459160000000054, 51.5953443434362, 51.34373000000005, 51.546898398855184, 51.488420000000076, 51.505718012162625, 51.39401656380702, 51.504126600453446, 51.45125000000007, 51.46013000000005, 51.38966000000005, 51.31051000000008, 51.4515480681824, 51.51204000000007, 51.47236330464883, 51.48664000000008, 51.52022000000005, 51.44643657705689, 51.520740000000046, 51.676720000000046, 51.608181731947376, 51.52022000000005, 51.61498899340776, 51.48967846184999, 51.46959501358032, 51.57395193404126, 51.66130836237792, 51.45238000000006, 51.462680000000034, 51.41135250000001, 51.52022000000005, 51.388153466188, 51.47772000000003, 51.55356000000006, 51.58360000000005, 51.675643889651504, 51.60542000000004, 51.58791727600407, 51.50541000000004, 51.52203958714199, 51.53761995614299, 51.52022000000005, 51.5554974797784, 51.51333000000005, 51.532790000000034, 51.36284002943043, 51.485597803398825, 51.53433000000007, 51.459160000000054, 51.57337000000007, 51.542821467115445, 51.507212550837544, 51.48454000000004, 51.603036421910055, 51.36132435148824, 51.48198000000008, 51.355710000000045, 51.3620458230684, 51.56225000000006, 51.50008000000008, 51.459160000000054, 51.61712000000006, 51.419710000000066, 51.487373748466936, 51.584253344799436, 51.47504632750984, 51.49084000000005, 51.532790000000034, 51.6657241514579, 51.59405592537353, 51.59797000000003, 51.42069001110853, 51.61071692932876, 51.47122950000001, 51.36980088011006, 51.3671697217131, 51.412031999999996, 51.31886000000003, 51.49319400000002, 51.543040000000076, 51.48434629702106, 51.56416946321474, 51.45235000000008, 51.51579817952464, 51.68350800000001, 51.564910000000054, 51.459160000000054, 51.45911946453059, 51.419551275985086, 51.57635101698774, 51.39155485224665, 51.41990000000004, 51.52022000000005, 51.315900000000056, 51.45427997002137, 51.546700000000044, 51.54834845382215, 51.452067760578885, 51.532790000000034, 51.473736211092046, 51.474270034018765, 51.385558544117, 51.56096000000008, 51.336430000000064, 51.426082302811906, 51.50541000000004, 51.51406000000003, 51.49750000000006, 51.44232001832193, 51.64759748896925, 51.45196556966224, 51.45256000000006, 51.589270000000056, 51.53323000000006, 51.462570756261904, 51.47559313298599, 51.58828515261902, 51.38753560397911, 51.61209000000008, 51.62879000000004, 51.46337441920929, 51.49503000000004, 51.54496000000006, 51.40135645217966, 51.42621189948179, 51.48454000000004, 51.568155, 51.65431329841614, 51.666458625736375, 51.65226000000007, 51.65431329841614, 51.48036187996607, 51.45880000000005, 51.532790000000034, 51.44708000000003, 51.60104000000007, 51.532790000000034, 51.56878000000006, 51.51873000000006, 51.413399308737766, 51.54986268354492, 51.441220000000044, 51.372340000000065, 51.59095911304599, 51.65337000000005, 51.61388000000005, 51.53236000000004, 51.4826899378211, 51.43237184463742, 51.59245829434858, 51.576354000000016, 51.615347569853654, 51.49084000000005, 51.364792401161246, 51.576730000000055, 51.56571129035198, 51.53236000000004, 51.59801605283478, 51.510295326548984, 51.54926000000006, 51.48454000000004, 51.60396403260681, 51.46698021778042, 51.50086827183735, 51.54505000000006, 51.54713000000004, 51.54505000000006, 51.5456050878122, 51.666396674465034, 51.53849000000008, 51.61540809249462, 51.58775000000003, 51.43145642883387, 51.49617000000006, 51.53405473364255, 51.58736000000005, 51.42888752100201, 51.42888752100201, 51.415950000000066, 51.50878000000006, 51.430540000000065, 51.53257470359681, 51.53597141442344, 51.53444550000002, 51.48258000000004, 51.60490000000004, 51.615347569853654, 51.592070000000035, 51.58478152594502, 51.58263000000005, 51.56704370987824, 51.6144596404303, 51.60644000000008, 51.46766566192055, 51.61660000000006, 51.39815637597911, 51.50276529123459, 51.34749958280941, 51.58912000000004, 51.45529000000005, 51.48515000000003, 51.59859972200624, 51.54624000000007, 51.57145000000003, 51.543040000000076, 51.45083000000005, 51.51651000000004, 51.50163975059008, 51.533630036643764, 51.54690000000005, 51.459160000000054, 51.366838153866276, 51.562290000000075, 51.48941439337224, 51.57428850000001, 51.46228000000008, 51.544887992859934, 51.582886180401005, 51.543040000000076, 51.56338000000005, 51.52022000000005, 51.47417000000007, 51.532790000000034, 51.317981829257036, 51.49805994134637, 51.53054000000003, 51.49906000000004, 51.55078000000003, 51.58370000000008, 51.361044708395056, 51.468628422834044, 51.4706370451607, 51.541870000000074, 51.535737, 51.58486000000005, 51.43162741475799, 51.40984000000003, 51.50089180718563, 51.45641000000006, 51.49084000000005, 51.43730849999999, 51.470299039126076, 51.551022353194455, 51.52022000000005, 51.336507845439314, 51.46257959777167, 51.48572538396719, 51.459160000000054, 51.547985135879436, 51.55216105062294, 51.52022000000005, 51.52621993392596, 51.55158705631924, 51.50008000000008, 51.366910000000075, 51.478869798451356, 51.471981000000014, 51.550862117718694, 51.39081941678327, 51.547740766630135, 51.50008000000008, 51.338526568996016, 51.556846431040384, 51.454967756918094, 51.54393218800004, 51.54764158006811, 51.523840000000064, 51.50008000000008, 51.481701000000015, 51.41141840373778, 51.44845808078221, 51.52040369910079, 51.46961870829243, 51.49564036479073, 51.52022000000005, 51.40719000000007, 51.655254332588534, 51.401290000000074, 51.39891985586477, 51.46865993782111, 51.39116912702434, 51.43757000000005, 51.59107000000006, 51.53363000000007, 51.56159800069314, 51.35879700000001, 51.64718469271825, 51.47489000000007, 51.433530000000076, 51.40106670524288, 51.63390000000004, 51.574230130281876, 51.50541000000004, 51.45682000000005, 51.6155625792314, 51.41238000000004, 51.41361382514268, 51.42980370245267, 51.47271450000001, 51.615920000000074, 51.585750000000075, 51.49014000000005, 51.541630000000055, 51.46207310862528, 51.50314636049505, 51.544110000000046, 51.47297000000003, 51.60806439845446, 51.4953632726068, 51.510380000000055, 51.50541000000004, 51.63730000000004, 51.31886000000003, 51.51660764694028, 51.376988320088074, 51.47772000000003, 51.378820000000076, 51.47457000000003, 51.48044099999999, 51.49084000000005, 51.50008000000008, 51.62003000000004, 51.52770000000004, 51.474150000000066, 51.50541000000004, 51.40399686205487, 51.53136428187524, 51.53273005668594, 51.44725767421175, 51.386990000000026, 51.49176994892964, 51.591260000000034, 51.52653000000004, 51.40637595804564, 51.48970278217071, 51.645487499999994, 51.52022000000005, 51.34453345750154, 51.56531043635615, 51.54083905632829, 51.35051219194073, 51.45682000000005, 51.53356000000008, 51.58931000000007, 51.53955456909107, 51.510718561483586, 51.569185546956156, 51.41117000000003, 50.91667000000007, 51.45400915453738, 51.33236622043336, 51.45682000000005, 51.6155625792314, 51.49574000000007, 51.587772590828706, 51.5655, 51.41641423342758, 51.34829000000008, 51.4826899378211, 51.38957785396746, 51.34355993060775, 51.56191785081679, 51.581314793709424, 51.55416215382668, 51.51111000000003, 51.4960199766923, 51.36983987399733, 51.47443775691584, 51.53942700000002, 51.42593000000005, 51.502680000000055, 51.49001214513505, 51.47168297669714, 51.58332144210025, 51.50008000000008, 51.53588642797144, 51.362310000000036, 51.54505000000006, 51.56860000000006, 51.531709919499264, 51.49807000000004, 51.39925000000005, 51.55761000000007, 51.41534000000007, 51.589770000000044, 51.58196007446157, 51.459160000000054, 51.51139000000006, 51.395991395556024, 51.454321573173694, 51.63390000000004, 51.518380000000036, 51.398484718524486, 51.491190000000074, 51.4587935746533, 51.53236000000004, 51.469897499999995, 51.495715376511676, 51.532790000000034, 51.38884000000007, 51.532350000000065, 51.40360000000004, 51.548184056155186, 51.617560000000026, 51.51670190834722, 51.47001000000006, 51.552283427674936, 51.54455970906623, 51.54220000000004, 51.43567944883682, 51.43023000000005, 51.56547179987947, 51.563607909162535, 51.41052917094767, 51.394616766077334, 51.502415522976754, 51.35967000000005, 51.54367000000008, 51.42674000000005, 51.43920401273935, 51.430312126852, 51.51367880282308, 51.638548500000006, 51.50527000000005, 51.39364601378024, 51.54732612490108, 51.379917504406436, 51.45682000000005, 51.45682000000005, 51.586679745472225, 51.586679745472225, 51.586679745472225, 51.63032000000004, 51.50604755297273, 51.532790000000034, 51.44465000000008, 51.58944024263658, 51.455988000000005, 51.55710000000005, 51.55984286481587, 51.55916318259063, 51.53545425365254, 51.41589000000005, 51.40982751835143, 51.57898000000006, 51.445601576073464, 51.539649022907504, 51.5313261455904, 51.48559000000006, 51.367590000000064, 51.36027000000007, 51.57898000000006, 51.57898000000006, 51.50541000000004, 51.45682000000005, 51.57815716443278, 51.50458000000003, 51.59245000000004, 51.46751000000006, 51.46201000000008, 51.55297000000007, 51.561586980800406, 51.50654000000003, 51.49014000000005, 51.50913000000003, 51.513460000000066, 51.608214000000004, 51.54505000000006, 51.53012100000001, 51.53405473364255, 51.564651862888816, 51.479460520263444, 51.584632383190815, 51.47772000000003, 51.43407000000008, 51.37474000000003, 51.48408000000006, 51.50008000000008, 51.63061000000005, 51.4826899378211, 51.51917000000003, 51.4060704911339, 51.452986010228564, 51.54908000000006, 51.41539000000006, 51.63519000000008, 51.608214000000004, 51.58802095214995, 51.58802095214995, 51.47130951719695, 51.38812438891392, 51.60525000000007, 51.48552002943043, 51.37507000000005, 51.47772000000003, 51.52441287065046, 51.51263000000006], \"legendgroup\": \"\", \"lon\": [0.12127000000003818, -0.3019544999999981, -0.0329062499999913, -0.09033311937051809, 0.12588000000005195, 0.0917635234442441, -0.077762090020195, -0.1280199999999354, -0.3029839407012594, -0.06512439297397696, -0.10625999999996338, 0.04272280842600311, -0.1061399999999253, 0.22008114571229917, -0.22024999999996453, -0.1272340503978188, -0.1945199999999545, -0.09523001191694887, -0.09247002452461052, 1.0530809999999915, 0.07841000000001941, 0.17396000000002232, -0.23987676413137018, 0.18889922149637656, -0.23987676413137018, -0.2049499999999398, -0.1109095599068421, -0.1730789999999962, -0.1280199999999354, -0.03782999999992853, 0.05461000000002514, 0.11982002279395855, 0.14756109494031153, -0.15253467081373884, -0.32077799999999, -0.12745119894784956, -0.012129999999956453, -0.3255905362673183, -0.19867999999996755, -0.17282773457354447, 0.15256000000005088, -0.08923926542542779, -0.28813509152918465, -0.05922569467192267, 0.12247000000002117, 0.13808000000005904, 0.049750000000074124, 0.03603000000003931, 0.09490451420039314, -0.10355999999995902, -0.01301957962362178, 0.00407000000006974, -0.054309999999929914, 0.1267730399837616, -0.12309999999996535, -0.1263399999999706, -0.1266473643199545, -0.054309999999929914, -0.12765302088347608, -0.2943075193363937, -0.2520516199589085, -0.2301453242060037, -0.030863947290489708, -0.1219499999999698, -0.035579999999924894, 0.00943875000000998, -0.054309999999929914, 0.036098206378367116, -0.2014499999999657, -0.2117299999999318, -0.07606999999995878, -0.05940721210840968, -0.2566299999999728, -0.22901037213082498, -0.08920999999998003, -0.05549610229373748, -0.1450899816781068, -0.054309999999929914, 0.011584493267302235, 0.03173000000003867, -0.1061399999999253, -0.1839700183218063, -0.23313753284896066, 0.12332000000003518, -0.012129999999956453, 0.14148000000005823, -0.148578235240569, -0.12752129664989184, 0.002750000000048658, 0.17518898877433137, -0.19358758665781206, -0.1854999999999336, 0.10336000000006607, -0.2880083586229593, -0.20132999999992762, -0.1280199999999354, -0.012129999999956453, -0.0016899999999395732, 0.06584000000003698, -0.247567752541106, -0.01246795045038361, -0.24045883734011164, -0.11107999999995855, -0.1061399999999253, -0.15629950602053197, -0.2523096199168072, 0.15642000000002554, -0.17567000779025538, -0.15409365282703674, 0.16834950000000504, 0.0017673863431249784, -0.09600631040756821, -0.2898697500000028, -0.13914999999997235, -0.12893740282209368, -0.44997999999992544, -0.3934451285058116, 0.2661046634847648, 0.17765000000002829, 0.10290171871264056, -0.10009799999998512, -0.21650999999997111, -0.012129999999956453, 0.12798335869739821, -0.14079006714282885, -0.12596601963658563, -0.13641567847120736, -0.08807999999993399, -0.054309999999929914, 0.07484000000005153, -0.2213725820013558, 0.13968000000005532, -0.06484092455136468, 0.1722299153689439, -0.1061399999999253, -0.09315897826992249, -0.02174931183870372, 0.11656974193766004, -0.23436999999995578, 0.05380000000002383, 0.002729755227861833, -0.08920999999998003, -0.30072999999993044, -0.19760999999994056, -0.1882299705696056, -0.1678177407543117, -0.44054470252815475, -0.0707599999999502, -0.16394999999994297, 0.055660000000045784, -0.2622814474521747, 0.10862559554823663, -0.38376503137452794, -0.026790779422022574, -0.2775599999999372, -0.05619999999993297, -0.3093145707527385, -0.09890999999993255, 0.19153000000005704, -0.052676300585627694, 0.05301694974088331, 0.002750000000048658, 0.2193097500000133, -0.11035373180225709, -0.018543304211910427, -0.07971999999995205, -0.11035373180225709, 0.1773254602713861, 0.0796600000000467, -0.1061399999999253, -0.40918999999996686, -0.19400999999993473, -0.1061399999999253, -0.09846999999996342, -0.1373699999999758, 0.11714056747332446, 0.023895659082697054, -0.047639999999944393, -0.09944999999993342, -0.1508334651723848, -0.08805999999992764, -0.15185999999994237, -0.1279599999999732, -0.2129099233942567, -0.34862757199016803, 0.21261632260565536, 0.06632509230460792, 0.181244095274236, -0.11107999999995855, 0.1060224520321815, -0.19694999999995844, 0.10856097152295957, -0.1279599999999732, -0.240785082940166, -0.2979067501672565, -0.3398499999999558, 0.002750000000048658, -0.12672536735443427, -0.02043808618523037, -0.2847790349397601, -0.05531999999993786, -0.055099999999924876, -0.05531999999993786, -0.03378148280527209, -0.17203648655172193, -0.07554999999996426, 0.11686770293689595, -0.22915999999997894, -0.30686740933725076, -0.22934999999995398, -0.1391765653310896, -0.16417999999993071, -0.35328701531411527, -0.35328701531411527, -0.31370999999995774, -0.3362999999999374, -0.3902299999999741, -0.44842468227557, -0.24471648076986288, -0.4567589999999939, -0.4764799999999241, 0.2294700000000489, 0.181244095274236, 0.2327700000000732, -0.09814679145519253, -0.33202999999997473, -0.3407345629035206, -0.34110948365125593, -0.3772899999999595, -0.42289453371384106, 0.19531000000006316, 0.015123704723472547, -0.40732924449493807, 0.04187418610417248, -0.2280999999999267, -0.09927999999996473, -0.37316999999995915, -0.004255377903301961, -0.10326999999995223, -0.14982999999995172, -0.44997999999992544, -0.0006299999999441752, -0.11967999999995982, -0.2055284999999931, -0.10726005107039317, -0.042339999999967404, -0.012129999999956453, -0.3017478461664261, 0.22019000000005917, 0.018357170363404084, -0.12737474999998466, -0.3621599999999603, -0.05954051061888684, -0.2462409040013885, -0.44997999999992544, 0.0674900000000207, -0.054309999999929914, -0.3383999999999787, -0.1061399999999253, -0.09885016384101082, -0.11211230167805922, -0.22547999999994772, -0.19873999999992975, -0.14064999999993688, -0.3140899999999647, 0.030545926035616504, -0.29469289595136133, 0.019273414744883522, -0.1979499999999348, -0.10332000000000313, -0.24880999999993492, -0.2648187831607458, -0.3006099999999492, -0.12279855209604336, -0.01949999999993679, -0.11107999999995855, 0.09361125000000484, -0.36690024622638734, -0.022264352476853103, -0.054309999999929914, 0.029835001077949355, -0.009841944150654258, 0.1451854543003011, -0.012129999999956453, -0.002230369576499119, 0.00568404181966624, -0.054309999999929914, -0.17149005164730943, 0.05885489885104141, -0.1280199999999354, 0.05455000000006294, -0.4944891046459438, -0.19277549999998178, -0.051984239076214064, -0.22524898807288216, 0.08409083473721865, -0.1280199999999354, -0.31112248802149234, -0.061591143632053036, -0.0005980530365479037, 0.1331566440000529, 0.004312571469792642, -0.15756999999996424, -0.1280199999999354, 0.002405249999993659, -0.20830209626220073, 0.03640796258515495, -0.053405490595804975, -0.24014127316659745, -0.12531052201516182, -0.054309999999929914, -0.164229999999975, -0.20364516249576772, -0.1897799999999279, -0.18649775778641173, -0.27123992339426894, -0.2467623606631054, 0.04260000000004993, -0.14851999999996224, -0.10577999999992471, -0.2558001868923714, -0.0329062499999913, -0.18848567121815052, -0.04037999999997055, 0.06378000000006523, -0.24536303339136425, -0.13288999999997486, 0.09263024828095105, -0.08920999999998003, -0.1945199999999545, 0.20308771521739907, -0.28369999999995343, -0.1094034292696942, 0.13895310706216807, 0.1876117500000135, -0.1767399999999384, -0.36118999999996504, -0.16247999999995955, 0.295690000000036, -0.2857844920149502, 0.022499665753018944, -0.3744599999999423, 0.1624100000000226, -0.40983495115914564, -0.3658834685470777, -0.3314699999999675, -0.08920999999998003, -0.1663799999999469, -0.13914999999997235, -0.056547346008563246, -0.26180433995597113, -0.2014499999999657, 0.10185000000006994, -0.24211999999994305, -0.3444322499999955, -0.11107999999995855, -0.1280199999999354, -0.10659999999995762, -0.26746999999994614, -0.20021999999994478, -0.08920999999998003, -0.06837335084269645, -0.11445304702839991, -0.32725128547995885, -0.2987704638012943, 0.08494000000007418, -0.13979003332543358, -0.38075999999995247, 0.02876000000003387, 0.033962906638363495, 0.0851599571057346, -0.04653449999998409, -0.054309999999929914, 0.11112261751375442, -0.293519329605383, -0.15706646653347683, -0.11496547539541899, -0.1945199999999545, -0.21105999999997493, -0.2894299999999248, 0.18659205668737022, -0.04333289336377088, -0.363732017409817, -0.22622999999993, -1.466669999999965, -0.29975626969156677, -0.10357809963229665, -0.1945199999999545, 0.20308771521739907, -0.051569999999969696, -0.43669035255806227, 0.17615700000000467, 0.12719142859680604, -0.09385999999994965, -0.2129099233942567, -0.08879480684604696, -0.06248997056959811, 0.0898311046160824, -0.07637978376532768, -0.06862033688411363, -0.05674999999996544, -0.2239514999999983, -0.11168976798994026, 0.02279406175205574, -0.07100774999999408, 0.10395000000005439, 0.03623000000004595, -0.45719399380852227, 0.194868199203376, 0.013122416085204562, -0.1280199999999354, -0.1275258685428388, -0.09337999999996782, -0.05531999999993786, -0.36924999999996544, 0.18573994113932604, -0.17403999999993403, -0.07413999999994303, -0.4078299999999331, -0.1925099999999702, 0.030520000000024083, -0.08351833883076074, -0.012129999999956453, -0.37832999999994854, 0.0457962348155273, -0.1998087256084327, -0.13288999999997486, -0.0746799999999439, -0.18701829175478082, -0.13481999999993377, -0.3226782338024124, -0.1279599999999732, -0.013578749999988253, -0.12736106476750578, -0.1061399999999253, 0.1097100000000637, -0.12575999999995702, 0.10350000000005366, -0.06545100623946794, -0.310359999999946, -0.04389372420888454, -0.11248999999997977, -0.07494975516607283, -0.2608199999999917, 0.005330000000071777, -0.3389362583671815, -0.1299599999999259, -0.1060226998192129, -0.3334988901723898, 0.03916334488470344, -0.3134852624904445, -0.102682358010783, -0.1913399999999683, -0.172649999999976, -0.05532999999996946, -0.06372680063696264, -0.33400097241770793, -0.11088490141152504, -0.1676474999999977, 0.12013000000007423, -0.11462387237732108, -0.280548187351632, -0.2823338915436435, -0.1945199999999545, -0.1945199999999545, -0.07045849818887971, -0.07045849818887971, -0.07045849818887971, -0.19673999999997704, -0.07500042081554159, -0.1061399999999253, -0.11132999999995263, -0.10765449026122992, -0.33030899999999963, 0.24960000000004356, 0.2313362559772902, -0.056110273413864646, -0.10409409146715132, -0.09514999999993279, 0.14509618576998018, -0.011219999999980246, 0.1412639893995169, 0.029277902104827294, -0.4498247043141586, -0.12332999999995309, -0.11606999999997925, -0.14992999999992662, -0.011219999999980246, -0.011219999999980246, -0.08920999999998003, -0.1945199999999545, 0.02130430998687633, -0.05598999999995158, -0.3342899999999531, 0.052950000000066666, 0.11171000000007325, -0.29552999999992835, -0.2819689143230941, 0.21904000000006363, -0.16247999999995955, -0.47395999999997684, -0.31970999999992955, -0.09229049999999575, -0.05531999999993786, 0.020952000000000366, -0.1391765653310896, -0.3479242768767369, 0.12481150588911631, -0.216208691793564, -0.2014499999999657, -0.10374999999993406, -0.009689999999977772, 0.018630000000030122, -0.1280199999999354, -0.17501999999996087, -0.2129099233942567, -0.059659999999951197, 0.016465591081097304, -0.3350880748761787, -0.22098999999997204, -0.19534999999996217, -0.09302999999994199, -0.09229049999999575, 0.0216386678407816, 0.0216386678407816, -0.3370787067499256, -0.061081966561545985, -0.10978999999997541, 0.006269996104913933, -0.2348899999999503, -0.2014499999999657, -0.3993893585312604, -0.4725899999999683], \"marker\": {\"color\": \"fuchsia\"}, \"mode\": \"markers\", \"name\": \"\", \"showlegend\": false, \"subplot\": \"mapbox\", \"type\": \"scattermapbox\"}],\n",
       "                        {\"height\": 600, \"legend\": {\"tracegroupgap\": 0}, \"mapbox\": {\"center\": {\"lat\": 51.502885029637646, \"lon\": -0.1074171481994152}, \"domain\": {\"x\": [0.0, 1.0], \"y\": [0.0, 1.0]}, \"style\": \"open-street-map\", \"zoom\": 9}, \"margin\": {\"b\": 0, \"l\": 0, \"r\": 0, \"t\": 0}, \"template\": {\"data\": {\"bar\": [{\"error_x\": {\"color\": \"#2a3f5f\"}, \"error_y\": {\"color\": \"#2a3f5f\"}, \"marker\": {\"line\": {\"color\": \"#E5ECF6\", \"width\": 0.5}}, \"type\": \"bar\"}], \"barpolar\": [{\"marker\": {\"line\": {\"color\": \"#E5ECF6\", \"width\": 0.5}}, \"type\": \"barpolar\"}], \"carpet\": [{\"aaxis\": {\"endlinecolor\": \"#2a3f5f\", \"gridcolor\": \"white\", \"linecolor\": \"white\", \"minorgridcolor\": \"white\", \"startlinecolor\": \"#2a3f5f\"}, \"baxis\": {\"endlinecolor\": \"#2a3f5f\", \"gridcolor\": \"white\", \"linecolor\": \"white\", \"minorgridcolor\": \"white\", \"startlinecolor\": \"#2a3f5f\"}, \"type\": \"carpet\"}], \"choropleth\": [{\"colorbar\": {\"outlinewidth\": 0, \"ticks\": \"\"}, \"type\": \"choropleth\"}], \"contour\": [{\"colorbar\": {\"outlinewidth\": 0, \"ticks\": \"\"}, \"colorscale\": [[0.0, \"#0d0887\"], [0.1111111111111111, \"#46039f\"], [0.2222222222222222, \"#7201a8\"], [0.3333333333333333, \"#9c179e\"], [0.4444444444444444, \"#bd3786\"], [0.5555555555555556, \"#d8576b\"], [0.6666666666666666, \"#ed7953\"], [0.7777777777777778, \"#fb9f3a\"], [0.8888888888888888, \"#fdca26\"], [1.0, \"#f0f921\"]], \"type\": \"contour\"}], \"contourcarpet\": [{\"colorbar\": {\"outlinewidth\": 0, \"ticks\": \"\"}, \"type\": \"contourcarpet\"}], \"heatmap\": [{\"colorbar\": {\"outlinewidth\": 0, \"ticks\": \"\"}, \"colorscale\": [[0.0, \"#0d0887\"], [0.1111111111111111, \"#46039f\"], [0.2222222222222222, \"#7201a8\"], [0.3333333333333333, \"#9c179e\"], [0.4444444444444444, \"#bd3786\"], [0.5555555555555556, \"#d8576b\"], [0.6666666666666666, \"#ed7953\"], [0.7777777777777778, \"#fb9f3a\"], [0.8888888888888888, \"#fdca26\"], [1.0, \"#f0f921\"]], \"type\": \"heatmap\"}], \"heatmapgl\": [{\"colorbar\": {\"outlinewidth\": 0, \"ticks\": \"\"}, \"colorscale\": [[0.0, \"#0d0887\"], [0.1111111111111111, \"#46039f\"], [0.2222222222222222, \"#7201a8\"], [0.3333333333333333, \"#9c179e\"], [0.4444444444444444, \"#bd3786\"], [0.5555555555555556, \"#d8576b\"], [0.6666666666666666, \"#ed7953\"], [0.7777777777777778, \"#fb9f3a\"], [0.8888888888888888, \"#fdca26\"], [1.0, \"#f0f921\"]], \"type\": \"heatmapgl\"}], \"histogram\": [{\"marker\": {\"colorbar\": {\"outlinewidth\": 0, \"ticks\": \"\"}}, \"type\": \"histogram\"}], \"histogram2d\": [{\"colorbar\": {\"outlinewidth\": 0, \"ticks\": \"\"}, \"colorscale\": [[0.0, \"#0d0887\"], [0.1111111111111111, \"#46039f\"], [0.2222222222222222, \"#7201a8\"], [0.3333333333333333, \"#9c179e\"], [0.4444444444444444, \"#bd3786\"], [0.5555555555555556, \"#d8576b\"], [0.6666666666666666, \"#ed7953\"], [0.7777777777777778, \"#fb9f3a\"], [0.8888888888888888, \"#fdca26\"], [1.0, \"#f0f921\"]], \"type\": \"histogram2d\"}], \"histogram2dcontour\": [{\"colorbar\": {\"outlinewidth\": 0, \"ticks\": \"\"}, \"colorscale\": [[0.0, \"#0d0887\"], [0.1111111111111111, \"#46039f\"], [0.2222222222222222, \"#7201a8\"], [0.3333333333333333, \"#9c179e\"], [0.4444444444444444, \"#bd3786\"], [0.5555555555555556, \"#d8576b\"], [0.6666666666666666, \"#ed7953\"], [0.7777777777777778, \"#fb9f3a\"], [0.8888888888888888, \"#fdca26\"], [1.0, \"#f0f921\"]], \"type\": \"histogram2dcontour\"}], \"mesh3d\": [{\"colorbar\": {\"outlinewidth\": 0, \"ticks\": \"\"}, \"type\": \"mesh3d\"}], \"parcoords\": [{\"line\": {\"colorbar\": {\"outlinewidth\": 0, \"ticks\": \"\"}}, \"type\": \"parcoords\"}], \"pie\": [{\"automargin\": true, \"type\": \"pie\"}], \"scatter\": [{\"marker\": {\"colorbar\": {\"outlinewidth\": 0, \"ticks\": \"\"}}, \"type\": \"scatter\"}], \"scatter3d\": [{\"line\": {\"colorbar\": {\"outlinewidth\": 0, \"ticks\": \"\"}}, \"marker\": {\"colorbar\": {\"outlinewidth\": 0, \"ticks\": \"\"}}, \"type\": \"scatter3d\"}], \"scattercarpet\": [{\"marker\": {\"colorbar\": {\"outlinewidth\": 0, \"ticks\": \"\"}}, \"type\": \"scattercarpet\"}], \"scattergeo\": [{\"marker\": {\"colorbar\": {\"outlinewidth\": 0, \"ticks\": \"\"}}, \"type\": \"scattergeo\"}], \"scattergl\": [{\"marker\": {\"colorbar\": {\"outlinewidth\": 0, \"ticks\": \"\"}}, \"type\": \"scattergl\"}], \"scattermapbox\": [{\"marker\": {\"colorbar\": {\"outlinewidth\": 0, \"ticks\": \"\"}}, \"type\": \"scattermapbox\"}], \"scatterpolar\": [{\"marker\": {\"colorbar\": {\"outlinewidth\": 0, \"ticks\": \"\"}}, \"type\": \"scatterpolar\"}], \"scatterpolargl\": [{\"marker\": {\"colorbar\": {\"outlinewidth\": 0, \"ticks\": \"\"}}, \"type\": \"scatterpolargl\"}], \"scatterternary\": [{\"marker\": {\"colorbar\": {\"outlinewidth\": 0, \"ticks\": \"\"}}, \"type\": \"scatterternary\"}], \"surface\": [{\"colorbar\": {\"outlinewidth\": 0, \"ticks\": \"\"}, \"colorscale\": [[0.0, \"#0d0887\"], [0.1111111111111111, \"#46039f\"], [0.2222222222222222, \"#7201a8\"], [0.3333333333333333, \"#9c179e\"], [0.4444444444444444, \"#bd3786\"], [0.5555555555555556, \"#d8576b\"], [0.6666666666666666, \"#ed7953\"], [0.7777777777777778, \"#fb9f3a\"], [0.8888888888888888, \"#fdca26\"], [1.0, \"#f0f921\"]], \"type\": \"surface\"}], \"table\": [{\"cells\": {\"fill\": {\"color\": \"#EBF0F8\"}, \"line\": {\"color\": \"white\"}}, \"header\": {\"fill\": {\"color\": \"#C8D4E3\"}, \"line\": {\"color\": \"white\"}}, \"type\": \"table\"}]}, \"layout\": {\"annotationdefaults\": {\"arrowcolor\": \"#2a3f5f\", \"arrowhead\": 0, \"arrowwidth\": 1}, \"coloraxis\": {\"colorbar\": {\"outlinewidth\": 0, \"ticks\": \"\"}}, \"colorscale\": {\"diverging\": [[0, \"#8e0152\"], [0.1, \"#c51b7d\"], [0.2, \"#de77ae\"], [0.3, \"#f1b6da\"], [0.4, \"#fde0ef\"], [0.5, \"#f7f7f7\"], [0.6, \"#e6f5d0\"], [0.7, \"#b8e186\"], [0.8, \"#7fbc41\"], [0.9, \"#4d9221\"], [1, \"#276419\"]], \"sequential\": [[0.0, \"#0d0887\"], [0.1111111111111111, \"#46039f\"], [0.2222222222222222, \"#7201a8\"], [0.3333333333333333, \"#9c179e\"], [0.4444444444444444, \"#bd3786\"], [0.5555555555555556, \"#d8576b\"], [0.6666666666666666, \"#ed7953\"], [0.7777777777777778, \"#fb9f3a\"], [0.8888888888888888, \"#fdca26\"], [1.0, \"#f0f921\"]], \"sequentialminus\": [[0.0, \"#0d0887\"], [0.1111111111111111, \"#46039f\"], [0.2222222222222222, \"#7201a8\"], [0.3333333333333333, \"#9c179e\"], [0.4444444444444444, \"#bd3786\"], [0.5555555555555556, \"#d8576b\"], [0.6666666666666666, \"#ed7953\"], [0.7777777777777778, \"#fb9f3a\"], [0.8888888888888888, \"#fdca26\"], [1.0, \"#f0f921\"]]}, \"colorway\": [\"#636efa\", \"#EF553B\", \"#00cc96\", \"#ab63fa\", \"#FFA15A\", \"#19d3f3\", \"#FF6692\", \"#B6E880\", \"#FF97FF\", \"#FECB52\"], \"font\": {\"color\": \"#2a3f5f\"}, \"geo\": {\"bgcolor\": \"white\", \"lakecolor\": \"white\", \"landcolor\": \"#E5ECF6\", \"showlakes\": true, \"showland\": true, \"subunitcolor\": \"white\"}, \"hoverlabel\": {\"align\": \"left\"}, \"hovermode\": \"closest\", \"mapbox\": {\"style\": \"light\"}, \"paper_bgcolor\": \"white\", \"plot_bgcolor\": \"#E5ECF6\", \"polar\": {\"angularaxis\": {\"gridcolor\": \"white\", \"linecolor\": \"white\", \"ticks\": \"\"}, \"bgcolor\": \"#E5ECF6\", \"radialaxis\": {\"gridcolor\": \"white\", \"linecolor\": \"white\", \"ticks\": \"\"}}, \"scene\": {\"xaxis\": {\"backgroundcolor\": \"#E5ECF6\", \"gridcolor\": \"white\", \"gridwidth\": 2, \"linecolor\": \"white\", \"showbackground\": true, \"ticks\": \"\", \"zerolinecolor\": \"white\"}, \"yaxis\": {\"backgroundcolor\": \"#E5ECF6\", \"gridcolor\": \"white\", \"gridwidth\": 2, \"linecolor\": \"white\", \"showbackground\": true, \"ticks\": \"\", \"zerolinecolor\": \"white\"}, \"zaxis\": {\"backgroundcolor\": \"#E5ECF6\", \"gridcolor\": \"white\", \"gridwidth\": 2, \"linecolor\": \"white\", \"showbackground\": true, \"ticks\": \"\", \"zerolinecolor\": \"white\"}}, \"shapedefaults\": {\"line\": {\"color\": \"#2a3f5f\"}}, \"ternary\": {\"aaxis\": {\"gridcolor\": \"white\", \"linecolor\": \"white\", \"ticks\": \"\"}, \"baxis\": {\"gridcolor\": \"white\", \"linecolor\": \"white\", \"ticks\": \"\"}, \"bgcolor\": \"#E5ECF6\", \"caxis\": {\"gridcolor\": \"white\", \"linecolor\": \"white\", \"ticks\": \"\"}}, \"title\": {\"x\": 0.05}, \"xaxis\": {\"automargin\": true, \"gridcolor\": \"white\", \"linecolor\": \"white\", \"ticks\": \"\", \"title\": {\"standoff\": 15}, \"zerolinecolor\": \"white\", \"zerolinewidth\": 2}, \"yaxis\": {\"automargin\": true, \"gridcolor\": \"white\", \"linecolor\": \"white\", \"ticks\": \"\", \"title\": {\"standoff\": 15}, \"zerolinecolor\": \"white\", \"zerolinewidth\": 2}}}},\n",
       "                        {\"responsive\": true}\n",
       "                    ).then(function(){\n",
       "                            \n",
       "var gd = document.getElementById('8826daf9-7600-478a-ab55-e8ece7d1c653');\n",
       "var x = new MutationObserver(function (mutations, observer) {{\n",
       "        var display = window.getComputedStyle(gd).display;\n",
       "        if (!display || display === 'none') {{\n",
       "            console.log([gd, 'removed!']);\n",
       "            Plotly.purge(gd);\n",
       "            observer.disconnect();\n",
       "        }}\n",
       "}});\n",
       "\n",
       "// Listen for the removal of the full notebook cells\n",
       "var notebookContainer = gd.closest('#notebook-container');\n",
       "if (notebookContainer) {{\n",
       "    x.observe(notebookContainer, {childList: true});\n",
       "}}\n",
       "\n",
       "// Listen for the clearing of the current output cell\n",
       "var outputEl = gd.closest('.output');\n",
       "if (outputEl) {{\n",
       "    x.observe(outputEl, {childList: true});\n",
       "}}\n",
       "\n",
       "                        })\n",
       "                };\n",
       "                });\n",
       "            </script>\n",
       "        </div>"
      ]
     },
     "metadata": {},
     "output_type": "display_data"
    }
   ],
   "source": [
    "fig = px.scatter_mapbox(df_locations, lat=\"Lat\", lon=\"Lng\", hover_name=\"Location\", hover_data=[\"Borough\", \"Town\"],\n",
    "                        color_discrete_sequence=[\"fuchsia\"], zoom=9, height=600)\n",
    "fig.update_layout(mapbox_style=\"open-street-map\")\n",
    "fig.update_layout(margin={\"r\":0,\"t\":0,\"l\":0,\"b\":0})\n",
    "fig.show()"
   ]
  },
  {
   "cell_type": "markdown",
   "metadata": {},
   "source": [
    "### Foursquare data\n",
    "We will use Foursquare data to get different venues around these locations.\n",
    "\n",
    "Foursquare has venues organized into lots of hierarchical categories.\n",
    "For our purposes we want to query top-level, most generic categories, like 'Food', 'Shops', etc.\n",
    "So let's get that list first."
   ]
  },
  {
   "cell_type": "code",
   "execution_count": 130,
   "metadata": {},
   "outputs": [
    {
     "data": {
      "text/plain": [
       "[{'id': '4d4b7104d754a06370d81259', 'name': 'Arts & Entertainment'},\n",
       " {'id': '4d4b7105d754a06372d81259', 'name': 'College & University'},\n",
       " {'id': '4d4b7105d754a06373d81259', 'name': 'Event'},\n",
       " {'id': '4d4b7105d754a06374d81259', 'name': 'Food'},\n",
       " {'id': '4d4b7105d754a06376d81259', 'name': 'Nightlife Spot'},\n",
       " {'id': '4d4b7105d754a06377d81259', 'name': 'Outdoors & Recreation'},\n",
       " {'id': '4d4b7105d754a06375d81259', 'name': 'Professional & Other Places'},\n",
       " {'id': '4e67e38e036454776db1fb3a', 'name': 'Residence'},\n",
       " {'id': '4d4b7105d754a06378d81259', 'name': 'Shop & Service'},\n",
       " {'id': '4d4b7105d754a06379d81259', 'name': 'Travel & Transport'}]"
      ]
     },
     "execution_count": 130,
     "metadata": {},
     "output_type": "execute_result"
    }
   ],
   "source": [
    "FOURSQUARE_CLIENT_ID = 'YQVQAU5W1H13Y1MDLCLZWOCR0TLTP3VC2MJR4RDYSVXAOFD1'\n",
    "FOURSQUARE_CLIENT_SECRET = 'DB3XN2GZ55M2CKNMKHXCKAU3GZZI3SMGP1FA21CA3MCL1YEU'\n",
    "FOURSQUARE_VERSION = '20200601'\n",
    "\n",
    "def query_categories():\n",
    "    url = 'https://api.foursquare.com/v2/venues/categories'\n",
    "    params = {\n",
    "        'client_id': FOURSQUARE_CLIENT_ID, \n",
    "        'client_secret': FOURSQUARE_CLIENT_SECRET, \n",
    "        'v': FOURSQUARE_VERSION\n",
    "    }\n",
    "    results = requests.get(url, params = params).json()\n",
    "    return results['response']['categories']\n",
    "\n",
    "top_level_categories = [{\n",
    "    'id': c['id'],\n",
    "    'name': c['name'],\n",
    "} for c in query_categories()]\n",
    "top_level_categories"
   ]
  },
  {
   "cell_type": "markdown",
   "metadata": {},
   "source": [
    "Now that we have a list of categories let's explore venues around all locations.\n",
    "We want to have a dataset with a count of venues of every category for each location."
   ]
  },
  {
   "cell_type": "code",
   "execution_count": 123,
   "metadata": {},
   "outputs": [
    {
     "name": "stdout",
     "output_type": "stream",
     "text": [
      "Loading\n",
      "Loaded places_london_all4.pickle\n"
     ]
    },
    {
     "data": {
      "text/html": [
       "<div>\n",
       "<style scoped>\n",
       "    .dataframe tbody tr th:only-of-type {\n",
       "        vertical-align: middle;\n",
       "    }\n",
       "\n",
       "    .dataframe tbody tr th {\n",
       "        vertical-align: top;\n",
       "    }\n",
       "\n",
       "    .dataframe thead th {\n",
       "        text-align: right;\n",
       "    }\n",
       "</style>\n",
       "<table border=\"1\" class=\"dataframe\">\n",
       "  <thead>\n",
       "    <tr style=\"text-align: right;\">\n",
       "      <th></th>\n",
       "      <th>Location</th>\n",
       "      <th>Arts &amp; Entertainment</th>\n",
       "      <th>College &amp; University</th>\n",
       "      <th>Event</th>\n",
       "      <th>Food</th>\n",
       "      <th>Nightlife Spot</th>\n",
       "      <th>Outdoors &amp; Recreation</th>\n",
       "      <th>Professional &amp; Other Places</th>\n",
       "      <th>Residence</th>\n",
       "      <th>Shop &amp; Service</th>\n",
       "      <th>Travel &amp; Transport</th>\n",
       "    </tr>\n",
       "  </thead>\n",
       "  <tbody>\n",
       "    <tr>\n",
       "      <th>0</th>\n",
       "      <td>Abbey Wood</td>\n",
       "      <td>1</td>\n",
       "      <td>0</td>\n",
       "      <td>0</td>\n",
       "      <td>6</td>\n",
       "      <td>6</td>\n",
       "      <td>5</td>\n",
       "      <td>3</td>\n",
       "      <td>2</td>\n",
       "      <td>7</td>\n",
       "      <td>4</td>\n",
       "    </tr>\n",
       "    <tr>\n",
       "      <th>1</th>\n",
       "      <td>Acton</td>\n",
       "      <td>4</td>\n",
       "      <td>5</td>\n",
       "      <td>0</td>\n",
       "      <td>61</td>\n",
       "      <td>14</td>\n",
       "      <td>12</td>\n",
       "      <td>38</td>\n",
       "      <td>6</td>\n",
       "      <td>66</td>\n",
       "      <td>30</td>\n",
       "    </tr>\n",
       "    <tr>\n",
       "      <th>2</th>\n",
       "      <td>Addington</td>\n",
       "      <td>0</td>\n",
       "      <td>0</td>\n",
       "      <td>0</td>\n",
       "      <td>6</td>\n",
       "      <td>1</td>\n",
       "      <td>5</td>\n",
       "      <td>4</td>\n",
       "      <td>0</td>\n",
       "      <td>3</td>\n",
       "      <td>3</td>\n",
       "    </tr>\n",
       "    <tr>\n",
       "      <th>3</th>\n",
       "      <td>Addiscombe</td>\n",
       "      <td>5</td>\n",
       "      <td>7</td>\n",
       "      <td>0</td>\n",
       "      <td>53</td>\n",
       "      <td>25</td>\n",
       "      <td>8</td>\n",
       "      <td>36</td>\n",
       "      <td>6</td>\n",
       "      <td>82</td>\n",
       "      <td>32</td>\n",
       "    </tr>\n",
       "    <tr>\n",
       "      <th>4</th>\n",
       "      <td>Albany Park</td>\n",
       "      <td>1</td>\n",
       "      <td>2</td>\n",
       "      <td>0</td>\n",
       "      <td>5</td>\n",
       "      <td>5</td>\n",
       "      <td>2</td>\n",
       "      <td>6</td>\n",
       "      <td>0</td>\n",
       "      <td>17</td>\n",
       "      <td>2</td>\n",
       "    </tr>\n",
       "    <tr>\n",
       "      <th>...</th>\n",
       "      <td>...</td>\n",
       "      <td>...</td>\n",
       "      <td>...</td>\n",
       "      <td>...</td>\n",
       "      <td>...</td>\n",
       "      <td>...</td>\n",
       "      <td>...</td>\n",
       "      <td>...</td>\n",
       "      <td>...</td>\n",
       "      <td>...</td>\n",
       "      <td>...</td>\n",
       "    </tr>\n",
       "    <tr>\n",
       "      <th>528</th>\n",
       "      <td>Woolwich</td>\n",
       "      <td>6</td>\n",
       "      <td>11</td>\n",
       "      <td>0</td>\n",
       "      <td>31</td>\n",
       "      <td>11</td>\n",
       "      <td>13</td>\n",
       "      <td>23</td>\n",
       "      <td>8</td>\n",
       "      <td>16</td>\n",
       "      <td>14</td>\n",
       "    </tr>\n",
       "    <tr>\n",
       "      <th>529</th>\n",
       "      <td>Worcester Park</td>\n",
       "      <td>2</td>\n",
       "      <td>0</td>\n",
       "      <td>0</td>\n",
       "      <td>12</td>\n",
       "      <td>4</td>\n",
       "      <td>2</td>\n",
       "      <td>7</td>\n",
       "      <td>1</td>\n",
       "      <td>19</td>\n",
       "      <td>4</td>\n",
       "    </tr>\n",
       "    <tr>\n",
       "      <th>530</th>\n",
       "      <td>Wormwood Scrubs</td>\n",
       "      <td>9</td>\n",
       "      <td>4</td>\n",
       "      <td>0</td>\n",
       "      <td>113</td>\n",
       "      <td>40</td>\n",
       "      <td>33</td>\n",
       "      <td>40</td>\n",
       "      <td>10</td>\n",
       "      <td>60</td>\n",
       "      <td>19</td>\n",
       "    </tr>\n",
       "    <tr>\n",
       "      <th>531</th>\n",
       "      <td>Yeading</td>\n",
       "      <td>0</td>\n",
       "      <td>2</td>\n",
       "      <td>0</td>\n",
       "      <td>5</td>\n",
       "      <td>3</td>\n",
       "      <td>2</td>\n",
       "      <td>5</td>\n",
       "      <td>0</td>\n",
       "      <td>16</td>\n",
       "      <td>3</td>\n",
       "    </tr>\n",
       "    <tr>\n",
       "      <th>532</th>\n",
       "      <td>Yiewsley</td>\n",
       "      <td>1</td>\n",
       "      <td>1</td>\n",
       "      <td>0</td>\n",
       "      <td>5</td>\n",
       "      <td>5</td>\n",
       "      <td>4</td>\n",
       "      <td>7</td>\n",
       "      <td>1</td>\n",
       "      <td>12</td>\n",
       "      <td>11</td>\n",
       "    </tr>\n",
       "  </tbody>\n",
       "</table>\n",
       "<p>533 rows × 11 columns</p>\n",
       "</div>"
      ],
      "text/plain": [
       "            Location  Arts & Entertainment  College & University  Event  Food  \\\n",
       "0         Abbey Wood                     1                     0      0     6   \n",
       "1              Acton                     4                     5      0    61   \n",
       "2          Addington                     0                     0      0     6   \n",
       "3         Addiscombe                     5                     7      0    53   \n",
       "4        Albany Park                     1                     2      0     5   \n",
       "..               ...                   ...                   ...    ...   ...   \n",
       "528         Woolwich                     6                    11      0    31   \n",
       "529   Worcester Park                     2                     0      0    12   \n",
       "530  Wormwood Scrubs                     9                     4      0   113   \n",
       "531          Yeading                     0                     2      0     5   \n",
       "532         Yiewsley                     1                     1      0     5   \n",
       "\n",
       "     Nightlife Spot  Outdoors & Recreation  Professional & Other Places  \\\n",
       "0                 6                      5                            3   \n",
       "1                14                     12                           38   \n",
       "2                 1                      5                            4   \n",
       "3                25                      8                           36   \n",
       "4                 5                      2                            6   \n",
       "..              ...                    ...                          ...   \n",
       "528              11                     13                           23   \n",
       "529               4                      2                            7   \n",
       "530              40                     33                           40   \n",
       "531               3                      2                            5   \n",
       "532               5                      4                            7   \n",
       "\n",
       "     Residence  Shop & Service  Travel & Transport  \n",
       "0            2               7                   4  \n",
       "1            6              66                  30  \n",
       "2            0               3                   3  \n",
       "3            6              82                  32  \n",
       "4            0              17                   2  \n",
       "..         ...             ...                 ...  \n",
       "528          8              16                  14  \n",
       "529          1              19                   4  \n",
       "530         10              60                  19  \n",
       "531          0              16                   3  \n",
       "532          1              12                  11  \n",
       "\n",
       "[533 rows x 11 columns]"
      ]
     },
     "execution_count": 123,
     "metadata": {},
     "output_type": "execute_result"
    }
   ],
   "source": [
    "# Queries Foursquare for places of specified categories at the coordinates\n",
    "# in 1km radius\n",
    "def explore(lat, lng, categories=None):\n",
    "    url = 'https://api.foursquare.com/v2/venues/explore'\n",
    "    params = {\n",
    "        'client_id': FOURSQUARE_CLIENT_ID, \n",
    "        'client_secret': FOURSQUARE_CLIENT_SECRET, \n",
    "        'v': FOURSQUARE_VERSION,\n",
    "        'll': f'{lat},{lng}', \n",
    "        'radius': 1000, \n",
    "        'categoryId': categories\n",
    "    }\n",
    "    return requests.get(url, params = params).json()\n",
    "    \n",
    "    \n",
    "# Queries Foursquare for all locations in a dataframe\n",
    "def explore_all(df):\n",
    "    places = []\n",
    "    \n",
    "    for index, row in df.iterrows():\n",
    "        print(f\"({index}){row.Location}\")\n",
    "        place = [row['Location']]\n",
    "        for category in top_level_categories:\n",
    "            result = explore(row.Lat, row.Lng, [category['id']])\n",
    "        \n",
    "            # read until code is 200 (success)\n",
    "            while True:\n",
    "                code = result['meta']['code']\n",
    "                if code == 200:\n",
    "                    break\n",
    "                else:\n",
    "                    print(result);\n",
    "                    result = explore(row.Lat, row.Lng, [category['id']])\n",
    "\n",
    "            num = result['response']['totalResults']\n",
    "            place.append(num)\n",
    "        places.append(place)\n",
    "    \n",
    "    df1 = pd.DataFrame(places)\n",
    "    columns = ['Location']\n",
    "    columns.extend([c['name'] for c in top_level_categories])\n",
    "    df1.columns = columns\n",
    "    return df1\n",
    "\n",
    "try:\n",
    "    print(\"Loading\")\n",
    "    places = pd.read_pickle(\"places_london_all4.pickle\")\n",
    "    print(\"Loaded places_london_all4.pickle\")\n",
    "except:\n",
    "    print(\"Exploring..\")\n",
    "    places = explore_all(df_locations)\n",
    "    places.to_pickle(\"places_london_all4.pickle\")\n",
    "\n",
    "places"
   ]
  },
  {
   "cell_type": "markdown",
   "metadata": {},
   "source": [
    "## 4. Analysis & Machine Learning"
   ]
  },
  {
   "cell_type": "markdown",
   "metadata": {},
   "source": [
    "### Analyse venues"
   ]
  },
  {
   "cell_type": "markdown",
   "metadata": {},
   "source": [
    "Let's take a look at most popular venues in London, by their max presence in any location:"
   ]
  },
  {
   "cell_type": "code",
   "execution_count": 124,
   "metadata": {},
   "outputs": [
    {
     "data": {
      "text/html": [
       "<div>\n",
       "<style scoped>\n",
       "    .dataframe tbody tr th:only-of-type {\n",
       "        vertical-align: middle;\n",
       "    }\n",
       "\n",
       "    .dataframe tbody tr th {\n",
       "        vertical-align: top;\n",
       "    }\n",
       "\n",
       "    .dataframe thead th {\n",
       "        text-align: right;\n",
       "    }\n",
       "</style>\n",
       "<table border=\"1\" class=\"dataframe\">\n",
       "  <thead>\n",
       "    <tr style=\"text-align: right;\">\n",
       "      <th></th>\n",
       "      <th>ategory</th>\n",
       "      <th>count</th>\n",
       "      <th>mean</th>\n",
       "      <th>std</th>\n",
       "      <th>min</th>\n",
       "      <th>25%</th>\n",
       "      <th>50%</th>\n",
       "      <th>75%</th>\n",
       "      <th>max</th>\n",
       "    </tr>\n",
       "  </thead>\n",
       "  <tbody>\n",
       "    <tr>\n",
       "      <th>0</th>\n",
       "      <td>Food</td>\n",
       "      <td>533.0</td>\n",
       "      <td>44.917448</td>\n",
       "      <td>55.979829</td>\n",
       "      <td>0.0</td>\n",
       "      <td>7.0</td>\n",
       "      <td>22.0</td>\n",
       "      <td>57.0</td>\n",
       "      <td>247.0</td>\n",
       "    </tr>\n",
       "    <tr>\n",
       "      <th>1</th>\n",
       "      <td>Nightlife Spot</td>\n",
       "      <td>533.0</td>\n",
       "      <td>23.046904</td>\n",
       "      <td>36.504450</td>\n",
       "      <td>0.0</td>\n",
       "      <td>4.0</td>\n",
       "      <td>7.0</td>\n",
       "      <td>22.0</td>\n",
       "      <td>240.0</td>\n",
       "    </tr>\n",
       "    <tr>\n",
       "      <th>2</th>\n",
       "      <td>Shop &amp; Service</td>\n",
       "      <td>533.0</td>\n",
       "      <td>32.204503</td>\n",
       "      <td>26.846427</td>\n",
       "      <td>0.0</td>\n",
       "      <td>10.0</td>\n",
       "      <td>21.0</td>\n",
       "      <td>53.0</td>\n",
       "      <td>137.0</td>\n",
       "    </tr>\n",
       "    <tr>\n",
       "      <th>3</th>\n",
       "      <td>Travel &amp; Transport</td>\n",
       "      <td>533.0</td>\n",
       "      <td>21.090056</td>\n",
       "      <td>28.533573</td>\n",
       "      <td>0.0</td>\n",
       "      <td>4.0</td>\n",
       "      <td>8.0</td>\n",
       "      <td>23.0</td>\n",
       "      <td>129.0</td>\n",
       "    </tr>\n",
       "    <tr>\n",
       "      <th>4</th>\n",
       "      <td>Arts &amp; Entertainment</td>\n",
       "      <td>533.0</td>\n",
       "      <td>9.410882</td>\n",
       "      <td>16.950448</td>\n",
       "      <td>0.0</td>\n",
       "      <td>1.0</td>\n",
       "      <td>3.0</td>\n",
       "      <td>8.0</td>\n",
       "      <td>125.0</td>\n",
       "    </tr>\n",
       "    <tr>\n",
       "      <th>5</th>\n",
       "      <td>Outdoors &amp; Recreation</td>\n",
       "      <td>533.0</td>\n",
       "      <td>18.131332</td>\n",
       "      <td>23.700465</td>\n",
       "      <td>0.0</td>\n",
       "      <td>4.0</td>\n",
       "      <td>7.0</td>\n",
       "      <td>21.0</td>\n",
       "      <td>123.0</td>\n",
       "    </tr>\n",
       "    <tr>\n",
       "      <th>6</th>\n",
       "      <td>Professional &amp; Other Places</td>\n",
       "      <td>533.0</td>\n",
       "      <td>23.945591</td>\n",
       "      <td>22.452767</td>\n",
       "      <td>0.0</td>\n",
       "      <td>7.0</td>\n",
       "      <td>16.0</td>\n",
       "      <td>35.0</td>\n",
       "      <td>116.0</td>\n",
       "    </tr>\n",
       "    <tr>\n",
       "      <th>7</th>\n",
       "      <td>College &amp; University</td>\n",
       "      <td>533.0</td>\n",
       "      <td>10.170732</td>\n",
       "      <td>17.141136</td>\n",
       "      <td>0.0</td>\n",
       "      <td>2.0</td>\n",
       "      <td>4.0</td>\n",
       "      <td>7.0</td>\n",
       "      <td>107.0</td>\n",
       "    </tr>\n",
       "    <tr>\n",
       "      <th>8</th>\n",
       "      <td>Residence</td>\n",
       "      <td>533.0</td>\n",
       "      <td>4.170732</td>\n",
       "      <td>4.162007</td>\n",
       "      <td>0.0</td>\n",
       "      <td>1.0</td>\n",
       "      <td>3.0</td>\n",
       "      <td>6.0</td>\n",
       "      <td>32.0</td>\n",
       "    </tr>\n",
       "    <tr>\n",
       "      <th>9</th>\n",
       "      <td>Event</td>\n",
       "      <td>533.0</td>\n",
       "      <td>0.106942</td>\n",
       "      <td>0.431173</td>\n",
       "      <td>0.0</td>\n",
       "      <td>0.0</td>\n",
       "      <td>0.0</td>\n",
       "      <td>0.0</td>\n",
       "      <td>4.0</td>\n",
       "    </tr>\n",
       "  </tbody>\n",
       "</table>\n",
       "</div>"
      ],
      "text/plain": [
       "                       ategory  count       mean        std  min   25%   50%  \\\n",
       "0                         Food  533.0  44.917448  55.979829  0.0   7.0  22.0   \n",
       "1               Nightlife Spot  533.0  23.046904  36.504450  0.0   4.0   7.0   \n",
       "2               Shop & Service  533.0  32.204503  26.846427  0.0  10.0  21.0   \n",
       "3           Travel & Transport  533.0  21.090056  28.533573  0.0   4.0   8.0   \n",
       "4         Arts & Entertainment  533.0   9.410882  16.950448  0.0   1.0   3.0   \n",
       "5        Outdoors & Recreation  533.0  18.131332  23.700465  0.0   4.0   7.0   \n",
       "6  Professional & Other Places  533.0  23.945591  22.452767  0.0   7.0  16.0   \n",
       "7         College & University  533.0  10.170732  17.141136  0.0   2.0   4.0   \n",
       "8                    Residence  533.0   4.170732   4.162007  0.0   1.0   3.0   \n",
       "9                        Event  533.0   0.106942   0.431173  0.0   0.0   0.0   \n",
       "\n",
       "    75%    max  \n",
       "0  57.0  247.0  \n",
       "1  22.0  240.0  \n",
       "2  53.0  137.0  \n",
       "3  23.0  129.0  \n",
       "4   8.0  125.0  \n",
       "5  21.0  123.0  \n",
       "6  35.0  116.0  \n",
       "7   7.0  107.0  \n",
       "8   6.0   32.0  \n",
       "9   0.0    4.0  "
      ]
     },
     "execution_count": 124,
     "metadata": {},
     "output_type": "execute_result"
    }
   ],
   "source": [
    "venue_counts = places.set_index('Location')\n",
    "venue_counts_described = venue_counts.describe().transpose().sort_values('max', ascending=False)\n",
    "venue_counts_described = venue_counts_described.reset_index().rename(columns={'index': 'ategory'})\n",
    "venue_counts_described"
   ]
  },
  {
   "cell_type": "code",
   "execution_count": 125,
   "metadata": {},
   "outputs": [
    {
     "data": {
      "image/png": "[encoded data removed]",
      "text/plain": [
       "<Figure size 720x360 with 1 Axes>"
      ]
     },
     "metadata": {
      "needs_background": "light"
     },
     "output_type": "display_data"
    }
   ],
   "source": [
    "places_stacked = places.set_index('Location').stack().reset_index()\n",
    "places_stacked.columns = ['Location', 'Category', 'Count']\n",
    "sns.catplot(x=\"Count\", y=\"Category\", orient=\"h\", aspect=2, data=places_stacked);"
   ]
  },
  {
   "cell_type": "markdown",
   "metadata": {},
   "source": [
    "#### Let's normalize data to 0 - 1 scale"
   ]
  },
  {
   "cell_type": "code",
   "execution_count": 126,
   "metadata": {
    "scrolled": true
   },
   "outputs": [
    {
     "data": {
      "text/html": [
       "<div>\n",
       "<style scoped>\n",
       "    .dataframe tbody tr th:only-of-type {\n",
       "        vertical-align: middle;\n",
       "    }\n",
       "\n",
       "    .dataframe tbody tr th {\n",
       "        vertical-align: top;\n",
       "    }\n",
       "\n",
       "    .dataframe thead th {\n",
       "        text-align: right;\n",
       "    }\n",
       "</style>\n",
       "<table border=\"1\" class=\"dataframe\">\n",
       "  <thead>\n",
       "    <tr style=\"text-align: right;\">\n",
       "      <th></th>\n",
       "      <th>Location</th>\n",
       "      <th>Arts &amp; Entertainment</th>\n",
       "      <th>College &amp; University</th>\n",
       "      <th>Event</th>\n",
       "      <th>Food</th>\n",
       "      <th>Nightlife Spot</th>\n",
       "      <th>Outdoors &amp; Recreation</th>\n",
       "      <th>Professional &amp; Other Places</th>\n",
       "      <th>Residence</th>\n",
       "      <th>Shop &amp; Service</th>\n",
       "      <th>Travel &amp; Transport</th>\n",
       "    </tr>\n",
       "  </thead>\n",
       "  <tbody>\n",
       "    <tr>\n",
       "      <th>0</th>\n",
       "      <td>Abbey Wood</td>\n",
       "      <td>0.008</td>\n",
       "      <td>0.000000</td>\n",
       "      <td>0.0</td>\n",
       "      <td>0.024291</td>\n",
       "      <td>0.025000</td>\n",
       "      <td>0.040650</td>\n",
       "      <td>0.025862</td>\n",
       "      <td>0.06250</td>\n",
       "      <td>0.051095</td>\n",
       "      <td>0.031008</td>\n",
       "    </tr>\n",
       "    <tr>\n",
       "      <th>1</th>\n",
       "      <td>Acton</td>\n",
       "      <td>0.032</td>\n",
       "      <td>0.046729</td>\n",
       "      <td>0.0</td>\n",
       "      <td>0.246964</td>\n",
       "      <td>0.058333</td>\n",
       "      <td>0.097561</td>\n",
       "      <td>0.327586</td>\n",
       "      <td>0.18750</td>\n",
       "      <td>0.481752</td>\n",
       "      <td>0.232558</td>\n",
       "    </tr>\n",
       "    <tr>\n",
       "      <th>2</th>\n",
       "      <td>Addington</td>\n",
       "      <td>0.000</td>\n",
       "      <td>0.000000</td>\n",
       "      <td>0.0</td>\n",
       "      <td>0.024291</td>\n",
       "      <td>0.004167</td>\n",
       "      <td>0.040650</td>\n",
       "      <td>0.034483</td>\n",
       "      <td>0.00000</td>\n",
       "      <td>0.021898</td>\n",
       "      <td>0.023256</td>\n",
       "    </tr>\n",
       "    <tr>\n",
       "      <th>3</th>\n",
       "      <td>Addiscombe</td>\n",
       "      <td>0.040</td>\n",
       "      <td>0.065421</td>\n",
       "      <td>0.0</td>\n",
       "      <td>0.214575</td>\n",
       "      <td>0.104167</td>\n",
       "      <td>0.065041</td>\n",
       "      <td>0.310345</td>\n",
       "      <td>0.18750</td>\n",
       "      <td>0.598540</td>\n",
       "      <td>0.248062</td>\n",
       "    </tr>\n",
       "    <tr>\n",
       "      <th>4</th>\n",
       "      <td>Albany Park</td>\n",
       "      <td>0.008</td>\n",
       "      <td>0.018692</td>\n",
       "      <td>0.0</td>\n",
       "      <td>0.020243</td>\n",
       "      <td>0.020833</td>\n",
       "      <td>0.016260</td>\n",
       "      <td>0.051724</td>\n",
       "      <td>0.00000</td>\n",
       "      <td>0.124088</td>\n",
       "      <td>0.015504</td>\n",
       "    </tr>\n",
       "    <tr>\n",
       "      <th>...</th>\n",
       "      <td>...</td>\n",
       "      <td>...</td>\n",
       "      <td>...</td>\n",
       "      <td>...</td>\n",
       "      <td>...</td>\n",
       "      <td>...</td>\n",
       "      <td>...</td>\n",
       "      <td>...</td>\n",
       "      <td>...</td>\n",
       "      <td>...</td>\n",
       "      <td>...</td>\n",
       "    </tr>\n",
       "    <tr>\n",
       "      <th>528</th>\n",
       "      <td>Woolwich</td>\n",
       "      <td>0.048</td>\n",
       "      <td>0.102804</td>\n",
       "      <td>0.0</td>\n",
       "      <td>0.125506</td>\n",
       "      <td>0.045833</td>\n",
       "      <td>0.105691</td>\n",
       "      <td>0.198276</td>\n",
       "      <td>0.25000</td>\n",
       "      <td>0.116788</td>\n",
       "      <td>0.108527</td>\n",
       "    </tr>\n",
       "    <tr>\n",
       "      <th>529</th>\n",
       "      <td>Worcester Park</td>\n",
       "      <td>0.016</td>\n",
       "      <td>0.000000</td>\n",
       "      <td>0.0</td>\n",
       "      <td>0.048583</td>\n",
       "      <td>0.016667</td>\n",
       "      <td>0.016260</td>\n",
       "      <td>0.060345</td>\n",
       "      <td>0.03125</td>\n",
       "      <td>0.138686</td>\n",
       "      <td>0.031008</td>\n",
       "    </tr>\n",
       "    <tr>\n",
       "      <th>530</th>\n",
       "      <td>Wormwood Scrubs</td>\n",
       "      <td>0.072</td>\n",
       "      <td>0.037383</td>\n",
       "      <td>0.0</td>\n",
       "      <td>0.457490</td>\n",
       "      <td>0.166667</td>\n",
       "      <td>0.268293</td>\n",
       "      <td>0.344828</td>\n",
       "      <td>0.31250</td>\n",
       "      <td>0.437956</td>\n",
       "      <td>0.147287</td>\n",
       "    </tr>\n",
       "    <tr>\n",
       "      <th>531</th>\n",
       "      <td>Yeading</td>\n",
       "      <td>0.000</td>\n",
       "      <td>0.018692</td>\n",
       "      <td>0.0</td>\n",
       "      <td>0.020243</td>\n",
       "      <td>0.012500</td>\n",
       "      <td>0.016260</td>\n",
       "      <td>0.043103</td>\n",
       "      <td>0.00000</td>\n",
       "      <td>0.116788</td>\n",
       "      <td>0.023256</td>\n",
       "    </tr>\n",
       "    <tr>\n",
       "      <th>532</th>\n",
       "      <td>Yiewsley</td>\n",
       "      <td>0.008</td>\n",
       "      <td>0.009346</td>\n",
       "      <td>0.0</td>\n",
       "      <td>0.020243</td>\n",
       "      <td>0.020833</td>\n",
       "      <td>0.032520</td>\n",
       "      <td>0.060345</td>\n",
       "      <td>0.03125</td>\n",
       "      <td>0.087591</td>\n",
       "      <td>0.085271</td>\n",
       "    </tr>\n",
       "  </tbody>\n",
       "</table>\n",
       "<p>533 rows × 11 columns</p>\n",
       "</div>"
      ],
      "text/plain": [
       "            Location  Arts & Entertainment  College & University  Event  \\\n",
       "0         Abbey Wood                 0.008              0.000000    0.0   \n",
       "1              Acton                 0.032              0.046729    0.0   \n",
       "2          Addington                 0.000              0.000000    0.0   \n",
       "3         Addiscombe                 0.040              0.065421    0.0   \n",
       "4        Albany Park                 0.008              0.018692    0.0   \n",
       "..               ...                   ...                   ...    ...   \n",
       "528         Woolwich                 0.048              0.102804    0.0   \n",
       "529   Worcester Park                 0.016              0.000000    0.0   \n",
       "530  Wormwood Scrubs                 0.072              0.037383    0.0   \n",
       "531          Yeading                 0.000              0.018692    0.0   \n",
       "532         Yiewsley                 0.008              0.009346    0.0   \n",
       "\n",
       "         Food  Nightlife Spot  Outdoors & Recreation  \\\n",
       "0    0.024291        0.025000               0.040650   \n",
       "1    0.246964        0.058333               0.097561   \n",
       "2    0.024291        0.004167               0.040650   \n",
       "3    0.214575        0.104167               0.065041   \n",
       "4    0.020243        0.020833               0.016260   \n",
       "..        ...             ...                    ...   \n",
       "528  0.125506        0.045833               0.105691   \n",
       "529  0.048583        0.016667               0.016260   \n",
       "530  0.457490        0.166667               0.268293   \n",
       "531  0.020243        0.012500               0.016260   \n",
       "532  0.020243        0.020833               0.032520   \n",
       "\n",
       "     Professional & Other Places  Residence  Shop & Service  \\\n",
       "0                       0.025862    0.06250        0.051095   \n",
       "1                       0.327586    0.18750        0.481752   \n",
       "2                       0.034483    0.00000        0.021898   \n",
       "3                       0.310345    0.18750        0.598540   \n",
       "4                       0.051724    0.00000        0.124088   \n",
       "..                           ...        ...             ...   \n",
       "528                     0.198276    0.25000        0.116788   \n",
       "529                     0.060345    0.03125        0.138686   \n",
       "530                     0.344828    0.31250        0.437956   \n",
       "531                     0.043103    0.00000        0.116788   \n",
       "532                     0.060345    0.03125        0.087591   \n",
       "\n",
       "     Travel & Transport  \n",
       "0              0.031008  \n",
       "1              0.232558  \n",
       "2              0.023256  \n",
       "3              0.248062  \n",
       "4              0.015504  \n",
       "..                  ...  \n",
       "528            0.108527  \n",
       "529            0.031008  \n",
       "530            0.147287  \n",
       "531            0.023256  \n",
       "532            0.085271  \n",
       "\n",
       "[533 rows x 11 columns]"
      ]
     },
     "execution_count": 126,
     "metadata": {},
     "output_type": "execute_result"
    }
   ],
   "source": [
    "places_normalized = places.set_index('Location')\n",
    "places_normalized = places_normalized.div(places_normalized.max())\n",
    "places_normalized = places_normalized.reset_index()\n",
    "places_normalized"
   ]
  },
  {
   "cell_type": "code",
   "execution_count": 127,
   "metadata": {},
   "outputs": [
    {
     "data": {
      "image/png": "[encoded data removed]",
      "text/plain": [
       "<Figure size 720x360 with 1 Axes>"
      ]
     },
     "metadata": {
      "needs_background": "light"
     },
     "output_type": "display_data"
    }
   ],
   "source": [
    "places_stacked = places_normalized.set_index('Location').stack().reset_index()\n",
    "places_stacked.columns = ['Location', 'Category', 'Count']\n",
    "sns.catplot(x=\"Count\", y=\"Category\", orient=\"h\", aspect=2, data=places_stacked);"
   ]
  },
  {
   "cell_type": "markdown",
   "metadata": {},
   "source": [
    "#### Now we will explore N most common values at every location"
   ]
  },
  {
   "cell_type": "code",
   "execution_count": 128,
   "metadata": {},
   "outputs": [],
   "source": [
    "def return_most_common_venues(row, num_top_venues):\n",
    "    row_categories = row.iloc[1:]\n",
    "    row_categories_sorted = row_categories.sort_values(ascending=False)\n",
    "    \n",
    "    return row_categories_sorted.index.values[0:num_top_venues]"
   ]
  },
  {
   "cell_type": "code",
   "execution_count": 15,
   "metadata": {},
   "outputs": [],
   "source": [
    "num_top_venues = 5\n",
    "\n",
    "indicators = ['st', 'nd', 'rd']\n",
    "\n",
    "# create columns according to number of top venues\n",
    "columns = ['Location']\n",
    "for ind in np.arange(num_top_venues):\n",
    "    try:\n",
    "        columns.append('{}{} Most Common Venue'.format(ind+1, indicators[ind]))\n",
    "    except:\n",
    "        columns.append('{}th Most Common Venue'.format(ind+1))    "
   ]
  },
  {
   "cell_type": "code",
   "execution_count": 16,
   "metadata": {},
   "outputs": [],
   "source": [
    "location_venues_sorted = pd.DataFrame(columns=columns)\n",
    "location_venues_sorted['Location'] = places_normalized['Location']"
   ]
  },
  {
   "cell_type": "code",
   "execution_count": 17,
   "metadata": {},
   "outputs": [
    {
     "data": {
      "text/html": [
       "<div>\n",
       "<style scoped>\n",
       "    .dataframe tbody tr th:only-of-type {\n",
       "        vertical-align: middle;\n",
       "    }\n",
       "\n",
       "    .dataframe tbody tr th {\n",
       "        vertical-align: top;\n",
       "    }\n",
       "\n",
       "    .dataframe thead th {\n",
       "        text-align: right;\n",
       "    }\n",
       "</style>\n",
       "<table border=\"1\" class=\"dataframe\">\n",
       "  <thead>\n",
       "    <tr style=\"text-align: right;\">\n",
       "      <th></th>\n",
       "      <th>Location</th>\n",
       "      <th>1st Most Common Venue</th>\n",
       "      <th>2nd Most Common Venue</th>\n",
       "      <th>3rd Most Common Venue</th>\n",
       "      <th>4th Most Common Venue</th>\n",
       "      <th>5th Most Common Venue</th>\n",
       "    </tr>\n",
       "  </thead>\n",
       "  <tbody>\n",
       "    <tr>\n",
       "      <th>0</th>\n",
       "      <td>Abbey Wood</td>\n",
       "      <td>Residence</td>\n",
       "      <td>Shop &amp; Service</td>\n",
       "      <td>Outdoors &amp; Recreation</td>\n",
       "      <td>Travel &amp; Transport</td>\n",
       "      <td>Professional &amp; Other Places</td>\n",
       "    </tr>\n",
       "    <tr>\n",
       "      <th>1</th>\n",
       "      <td>Acton</td>\n",
       "      <td>Shop &amp; Service</td>\n",
       "      <td>Professional &amp; Other Places</td>\n",
       "      <td>Food</td>\n",
       "      <td>Travel &amp; Transport</td>\n",
       "      <td>Residence</td>\n",
       "    </tr>\n",
       "    <tr>\n",
       "      <th>2</th>\n",
       "      <td>Addington</td>\n",
       "      <td>Outdoors &amp; Recreation</td>\n",
       "      <td>Professional &amp; Other Places</td>\n",
       "      <td>Food</td>\n",
       "      <td>Travel &amp; Transport</td>\n",
       "      <td>Shop &amp; Service</td>\n",
       "    </tr>\n",
       "    <tr>\n",
       "      <th>3</th>\n",
       "      <td>Addiscombe</td>\n",
       "      <td>Shop &amp; Service</td>\n",
       "      <td>Professional &amp; Other Places</td>\n",
       "      <td>Travel &amp; Transport</td>\n",
       "      <td>Food</td>\n",
       "      <td>Residence</td>\n",
       "    </tr>\n",
       "    <tr>\n",
       "      <th>4</th>\n",
       "      <td>Albany Park</td>\n",
       "      <td>Shop &amp; Service</td>\n",
       "      <td>Professional &amp; Other Places</td>\n",
       "      <td>Nightlife Spot</td>\n",
       "      <td>Food</td>\n",
       "      <td>College &amp; University</td>\n",
       "    </tr>\n",
       "  </tbody>\n",
       "</table>\n",
       "</div>"
      ],
      "text/plain": [
       "      Location  1st Most Common Venue        2nd Most Common Venue  \\\n",
       "0   Abbey Wood              Residence               Shop & Service   \n",
       "1        Acton         Shop & Service  Professional & Other Places   \n",
       "2    Addington  Outdoors & Recreation  Professional & Other Places   \n",
       "3   Addiscombe         Shop & Service  Professional & Other Places   \n",
       "4  Albany Park         Shop & Service  Professional & Other Places   \n",
       "\n",
       "   3rd Most Common Venue 4th Most Common Venue        5th Most Common Venue  \n",
       "0  Outdoors & Recreation    Travel & Transport  Professional & Other Places  \n",
       "1                   Food    Travel & Transport                    Residence  \n",
       "2                   Food    Travel & Transport               Shop & Service  \n",
       "3     Travel & Transport                  Food                    Residence  \n",
       "4         Nightlife Spot                  Food         College & University  "
      ]
     },
     "execution_count": 17,
     "metadata": {},
     "output_type": "execute_result"
    }
   ],
   "source": [
    "for ind in np.arange(places_normalized.shape[0]):\n",
    "    location_venues_sorted.iloc[ind, 1:] = return_most_common_venues(places_normalized.iloc[ind, :], num_top_venues)\n",
    "\n",
    "location_venues_sorted.head()"
   ]
  },
  {
   "cell_type": "markdown",
   "metadata": {},
   "source": [
    "### Clustering Locations\n",
    "We will use K-Means algorithm to cluster locations."
   ]
  },
  {
   "cell_type": "code",
   "execution_count": 18,
   "metadata": {},
   "outputs": [],
   "source": [
    "places_clustering = places_normalized.drop('Location', 1)"
   ]
  },
  {
   "cell_type": "markdown",
   "metadata": {},
   "source": [
    "#### First we need to find an optimal k\n",
    "There are two methods we can try: Elbow and Silhouette\n",
    "\n",
    "**The Elbow Method**- calculate the sum of squared distances of samples to their closest cluster center for different values of k. The value of k after which there is no siginificant decrease in sum of squared distances is choosen."
   ]
  },
  {
   "cell_type": "code",
   "execution_count": 19,
   "metadata": {},
   "outputs": [
    {
     "name": "stdout",
     "output_type": "stream",
     "text": [
      "1 2 3 4 5 6 7 8 9 10 11 12 13 14 15 16 17 18 19 "
     ]
    }
   ],
   "source": [
    "sum_of_squared_distances = []\n",
    "K = range(1,20)\n",
    "for k in K:\n",
    "    print(k, end=' ')\n",
    "    kmeans = KMeans(n_clusters=k).fit(places_clustering)\n",
    "    sum_of_squared_distances.append(kmeans.inertia_)"
   ]
  },
  {
   "cell_type": "code",
   "execution_count": 20,
   "metadata": {},
   "outputs": [
    {
     "data": {
      "image/png": "[encoded data removed]",
      "text/plain": [
       "<Figure size 432x288 with 1 Axes>"
      ]
     },
     "metadata": {
      "needs_background": "light"
     },
     "output_type": "display_data"
    }
   ],
   "source": [
    "plt.plot(K, sum_of_squared_distances, 'bx-')\n",
    "plt.xlabel('k')\n",
    "plt.ylabel('sum_of_squared_distances')\n",
    "plt.title('Elbow Method For Optimal k');"
   ]
  },
  {
   "cell_type": "markdown",
   "metadata": {},
   "source": [
    "It looks like we have an elbow point at k = 4 or k = 5. But let's see if another method gives a better result.\n",
    "\n",
    "**The Silhouette Method** - The silhouette value measures how similar a point is to its own cluster (cohesion) compared to other clusters (separation)."
   ]
  },
  {
   "cell_type": "code",
   "execution_count": 21,
   "metadata": {},
   "outputs": [
    {
     "name": "stdout",
     "output_type": "stream",
     "text": [
      "2 3 4 5 6 7 8 9 10 11 12 13 14 15 16 17 18 19 "
     ]
    }
   ],
   "source": [
    "sil = []\n",
    "K_sil = range(2,20)\n",
    "# minimum 2 clusters required, to define dissimilarity\n",
    "for k in K_sil:\n",
    "    print(k, end=' ')\n",
    "    kmeans = KMeans(n_clusters = k).fit(places_clustering)\n",
    "    labels = kmeans.labels_\n",
    "    sil.append(silhouette_score(places_clustering, labels, metric = 'euclidean'))"
   ]
  },
  {
   "cell_type": "code",
   "execution_count": 24,
   "metadata": {},
   "outputs": [
    {
     "data": {
      "image/png": "[encoded data removed]",
      "text/plain": [
       "<Figure size 432x288 with 1 Axes>"
      ]
     },
     "metadata": {
      "needs_background": "light"
     },
     "output_type": "display_data"
    }
   ],
   "source": [
    "plt.plot(K_sil, sil, 'bx-')\n",
    "plt.xlabel('k')\n",
    "plt.ylabel('silhouette_score')\n",
    "plt.title('Silhouette Method For Optimal k')\n",
    "plt.show()"
   ]
  },
  {
   "cell_type": "markdown",
   "metadata": {},
   "source": [
    "We local maximums at: 4,7, 10.\n",
    "So let's try 4."
   ]
  },
  {
   "cell_type": "code",
   "execution_count": 25,
   "metadata": {},
   "outputs": [
    {
     "name": "stdout",
     "output_type": "stream",
     "text": [
      "Counter({0: 330, 3: 134, 2: 51, 1: 18})\n"
     ]
    }
   ],
   "source": [
    "# set number of clusters\n",
    "kclusters = 4\n",
    "\n",
    "# run k-means clustering\n",
    "kmeans = KMeans(init=\"k-means++\", n_clusters=kclusters, n_init=50).fit(places_clustering)\n",
    "\n",
    "print(Counter(kmeans.labels_))"
   ]
  },
  {
   "cell_type": "code",
   "execution_count": 26,
   "metadata": {},
   "outputs": [],
   "source": [
    "# add clustering labels\n",
    "try:\n",
    "    location_venues_sorted.drop('Cluster Labels', axis=1)\n",
    "except:\n",
    "    location_venues_sorted.insert(0, 'Cluster Labels', kmeans.labels_)"
   ]
  },
  {
   "cell_type": "code",
   "execution_count": 27,
   "metadata": {},
   "outputs": [
    {
     "data": {
      "text/html": [
       "<div>\n",
       "<style scoped>\n",
       "    .dataframe tbody tr th:only-of-type {\n",
       "        vertical-align: middle;\n",
       "    }\n",
       "\n",
       "    .dataframe tbody tr th {\n",
       "        vertical-align: top;\n",
       "    }\n",
       "\n",
       "    .dataframe thead th {\n",
       "        text-align: right;\n",
       "    }\n",
       "</style>\n",
       "<table border=\"1\" class=\"dataframe\">\n",
       "  <thead>\n",
       "    <tr style=\"text-align: right;\">\n",
       "      <th></th>\n",
       "      <th>Cluster Labels</th>\n",
       "      <th>Location</th>\n",
       "      <th>1st Most Common Venue</th>\n",
       "      <th>2nd Most Common Venue</th>\n",
       "      <th>3rd Most Common Venue</th>\n",
       "      <th>4th Most Common Venue</th>\n",
       "      <th>5th Most Common Venue</th>\n",
       "      <th>Borough</th>\n",
       "      <th>Town</th>\n",
       "      <th>Postcode</th>\n",
       "      <th>Lat</th>\n",
       "      <th>Lng</th>\n",
       "    </tr>\n",
       "  </thead>\n",
       "  <tbody>\n",
       "    <tr>\n",
       "      <th>0</th>\n",
       "      <td>0</td>\n",
       "      <td>Abbey Wood</td>\n",
       "      <td>Residence</td>\n",
       "      <td>Shop &amp; Service</td>\n",
       "      <td>Outdoors &amp; Recreation</td>\n",
       "      <td>Travel &amp; Transport</td>\n",
       "      <td>Professional &amp; Other Places</td>\n",
       "      <td>Bexley</td>\n",
       "      <td>LONDON</td>\n",
       "      <td>SE2</td>\n",
       "      <td>51.4925</td>\n",
       "      <td>0.12127</td>\n",
       "    </tr>\n",
       "    <tr>\n",
       "      <th>1</th>\n",
       "      <td>3</td>\n",
       "      <td>Acton</td>\n",
       "      <td>Shop &amp; Service</td>\n",
       "      <td>Professional &amp; Other Places</td>\n",
       "      <td>Food</td>\n",
       "      <td>Travel &amp; Transport</td>\n",
       "      <td>Residence</td>\n",
       "      <td>Ealing</td>\n",
       "      <td>LONDON</td>\n",
       "      <td>W3</td>\n",
       "      <td>51.5181</td>\n",
       "      <td>-0.301954</td>\n",
       "    </tr>\n",
       "    <tr>\n",
       "      <th>2</th>\n",
       "      <td>0</td>\n",
       "      <td>Addington</td>\n",
       "      <td>Outdoors &amp; Recreation</td>\n",
       "      <td>Professional &amp; Other Places</td>\n",
       "      <td>Food</td>\n",
       "      <td>Travel &amp; Transport</td>\n",
       "      <td>Shop &amp; Service</td>\n",
       "      <td>Croydon</td>\n",
       "      <td>CROYDON</td>\n",
       "      <td>CR0</td>\n",
       "      <td>51.3588</td>\n",
       "      <td>-0.0329062</td>\n",
       "    </tr>\n",
       "    <tr>\n",
       "      <th>3</th>\n",
       "      <td>3</td>\n",
       "      <td>Addiscombe</td>\n",
       "      <td>Shop &amp; Service</td>\n",
       "      <td>Professional &amp; Other Places</td>\n",
       "      <td>Travel &amp; Transport</td>\n",
       "      <td>Food</td>\n",
       "      <td>Residence</td>\n",
       "      <td>Croydon</td>\n",
       "      <td>CROYDON</td>\n",
       "      <td>CR0</td>\n",
       "      <td>51.3736</td>\n",
       "      <td>-0.0903331</td>\n",
       "    </tr>\n",
       "    <tr>\n",
       "      <th>4</th>\n",
       "      <td>0</td>\n",
       "      <td>Albany Park</td>\n",
       "      <td>Shop &amp; Service</td>\n",
       "      <td>Professional &amp; Other Places</td>\n",
       "      <td>Nightlife Spot</td>\n",
       "      <td>Food</td>\n",
       "      <td>College &amp; University</td>\n",
       "      <td>Bexley</td>\n",
       "      <td>BEXLEY</td>\n",
       "      <td>DA5</td>\n",
       "      <td>51.4357</td>\n",
       "      <td>0.12588</td>\n",
       "    </tr>\n",
       "  </tbody>\n",
       "</table>\n",
       "</div>"
      ],
      "text/plain": [
       "   Cluster Labels     Location  1st Most Common Venue  \\\n",
       "0               0   Abbey Wood              Residence   \n",
       "1               3        Acton         Shop & Service   \n",
       "2               0    Addington  Outdoors & Recreation   \n",
       "3               3   Addiscombe         Shop & Service   \n",
       "4               0  Albany Park         Shop & Service   \n",
       "\n",
       "         2nd Most Common Venue  3rd Most Common Venue 4th Most Common Venue  \\\n",
       "0               Shop & Service  Outdoors & Recreation    Travel & Transport   \n",
       "1  Professional & Other Places                   Food    Travel & Transport   \n",
       "2  Professional & Other Places                   Food    Travel & Transport   \n",
       "3  Professional & Other Places     Travel & Transport                  Food   \n",
       "4  Professional & Other Places         Nightlife Spot                  Food   \n",
       "\n",
       "         5th Most Common Venue  Borough     Town Postcode      Lat        Lng  \n",
       "0  Professional & Other Places   Bexley   LONDON      SE2  51.4925    0.12127  \n",
       "1                    Residence   Ealing   LONDON       W3  51.5181  -0.301954  \n",
       "2               Shop & Service  Croydon  CROYDON      CR0  51.3588 -0.0329062  \n",
       "3                    Residence  Croydon  CROYDON      CR0  51.3736 -0.0903331  \n",
       "4         College & University   Bexley   BEXLEY      DA5  51.4357    0.12588  "
      ]
     },
     "execution_count": 27,
     "metadata": {},
     "output_type": "execute_result"
    }
   ],
   "source": [
    "# merge venues with location data to add latitude/longitude\n",
    "places_merged = location_venues_sorted.join(df_locations.set_index('Location'), on='Location')\n",
    "places_merged.head(5)"
   ]
  },
  {
   "cell_type": "markdown",
   "metadata": {},
   "source": [
    "#### And here are out clusters on the map:"
   ]
  },
  {
   "cell_type": "code",
   "execution_count": 28,
   "metadata": {
    "scrolled": false
   },
   "outputs": [
    {
     "data": {
      "application/vnd.plotly.v1+json": {
       "config": {
        "plotlyServerURL": "https://plot.ly"
       },
       "data": [
        {
         "customdata": [
          [
           "Bexley",
           "LONDON",
           "0",
           "Residence",
           "Shop & Service"
          ],
          [
           "Croydon",
           "CROYDON",
           "0",
           "Outdoors & Recreation",
           "Professional & Other Places"
          ],
          [
           "Bexley",
           "BEXLEY",
           "0",
           "Shop & Service",
           "Professional & Other Places"
          ],
          [
           "Redbridge",
           "ILFORD",
           "0",
           "Shop & Service",
           "Professional & Other Places"
          ],
          [
           "Brent",
           "WEMBLEY",
           "0",
           "Professional & Other Places",
           "Residence"
          ],
          [
           "Bromley",
           "LONDON",
           "0",
           "Shop & Service",
           "Outdoors & Recreation"
          ],
          [
           "Bromley",
           "WESTERHAM",
           "0",
           "Professional & Other Places",
           "Shop & Service"
          ],
          [
           "Havering",
           "HORNCHURCH",
           "0",
           "Shop & Service",
           "College & University"
          ],
          [
           "Barnet",
           "BARNET",
           "0",
           "Shop & Service",
           "Professional & Other Places"
          ],
          [
           "Enfield",
           "LONDON",
           "0",
           "Professional & Other Places",
           "Shop & Service"
          ],
          [
           "Barking and Dagenham",
           "BARKING",
           "0",
           "Shop & Service",
           "Professional & Other Places"
          ],
          [
           "Redbridge",
           "ILFORD",
           "0",
           "Residence",
           "Shop & Service"
          ],
          [
           "Bexley",
           "BEXLEYHEATH",
           "0",
           "Professional & Other Places",
           "Outdoors & Recreation"
          ],
          [
           "Richmond upon Thames",
           "LONDON",
           "0",
           "Professional & Other Places",
           "Outdoors & Recreation"
          ],
          [
           "Bexley",
           "DARTFORD",
           "0",
           "Shop & Service",
           "Residence"
          ],
          [
           "Barnet",
           "LONDON",
           "0",
           "Professional & Other Places",
           "Outdoors & Recreation"
          ],
          [
           "Barnet",
           "BARNET",
           "0",
           "Shop & Service",
           "Professional & Other Places"
          ],
          [
           "Bromley",
           "BECKENHAM",
           "0",
           "Shop & Service",
           "Food"
          ],
          [
           "Newham",
           "LONDON",
           "0",
           "Shop & Service",
           "Professional & Other Places"
          ],
          [
           "Barking and Dagenham",
           "DAGENHAM",
           "0",
           "Shop & Service",
           "Professional & Other Places"
          ],
          [
           "Barking and Dagenham",
           "DAGENHAM",
           "0",
           "Shop & Service",
           "Professional & Other Places"
          ],
          [
           "Sutton",
           "WALLINGTON",
           "0",
           "Residence",
           "Shop & Service"
          ],
          [
           "Ealing",
           "LONDON",
           "0",
           "Professional & Other Places",
           "Shop & Service"
          ],
          [
           "Harrow",
           "HARROW",
           "0",
           "Professional & Other Places",
           "Shop & Service"
          ],
          [
           "Sutton",
           "SUTTON",
           "0",
           "Professional & Other Places",
           "Shop & Service"
          ],
          [
           "Harrow",
           "HARROW",
           "0",
           "Residence",
           "Shop & Service"
          ],
          [
           "Sutton",
           "SUTTON",
           "0",
           "Residence",
           "Shop & Service"
          ],
          [
           "Bexley",
           "BELVEDERE",
           "0",
           "Shop & Service",
           "Professional & Other Places"
          ],
          [
           "Kingston upon Thames",
           "SURBITON",
           "0",
           "Residence",
           "Professional & Other Places"
          ],
          [
           "Bexley",
           "BEXLEY",
           "0",
           "Professional & Other Places",
           "Outdoors & Recreation"
          ],
          [
           "Bexley",
           "BEXLEYHEATH",
           "0",
           "Shop & Service",
           "Professional & Other Places"
          ],
          [
           "Bromley",
           "BROMLEY",
           "0",
           "Residence",
           "Professional & Other Places"
          ],
          [
           "Bromley",
           "WESTERHAM",
           "0",
           "Professional & Other Places",
           "Shop & Service"
          ],
          [
           "Bexley",
           "SIDCUP",
           "0",
           "Shop & Service",
           "Residence"
          ],
          [
           "Greenwich",
           "LONDON",
           "0",
           "Residence",
           "Professional & Other Places"
          ],
          [
           "Bexley",
           "BEXLEY",
           "0",
           "Shop & Service",
           "Professional & Other Places"
          ],
          [
           "Enfield",
           "ENFIELD",
           "0",
           "Professional & Other Places",
           "Outdoors & Recreation"
          ],
          [
           "Haringey",
           "LONDON",
           "0",
           "Professional & Other Places",
           "Shop & Service"
          ],
          [
           "Haringey",
           "LONDON",
           "0",
           "Professional & Other Places",
           "Residence"
          ],
          [
           "Hounslow",
           "BRENTFORD",
           "0",
           "Residence",
           "Outdoors & Recreation"
          ],
          [
           "Barnet",
           "LONDON",
           "0",
           "Outdoors & Recreation",
           "Professional & Other Places"
          ],
          [
           "Enfield",
           "ENFIELD",
           "0",
           "Shop & Service",
           "Professional & Other Places"
          ],
          [
           "Lambeth",
           "LONDON",
           "0",
           "Residence",
           "Shop & Service"
          ],
          [
           "Lewisham",
           "LONDON",
           "0",
           "Shop & Service",
           "Professional & Other Places"
          ],
          [
           "Bromley",
           "BROMLEY",
           "0",
           "Shop & Service",
           "Event"
          ],
          [
           "Bromley",
           "BROMLEY",
           "0",
           "Residence",
           "Professional & Other Places"
          ],
          [
           "Brent",
           "LONDON",
           "0",
           "Residence",
           "Professional & Other Places"
          ],
          [
           "Barnet",
           "LONDON",
           "0",
           "Professional & Other Places",
           "Residence"
          ],
          [
           "Enfield",
           "ENFIELD",
           "0",
           "Professional & Other Places",
           "College & University"
          ],
          [
           "Barnet",
           "EDGWARE",
           "0",
           "Residence",
           "Shop & Service"
          ],
          [
           "Barnet",
           "LONDON",
           "0",
           "Residence",
           "College & University"
          ],
          [
           "Waltham Forest",
           "LONDON",
           "0",
           "Residence",
           "Shop & Service"
          ],
          [
           "Newham",
           "LONDON",
           "0",
           "Travel & Transport",
           "Food"
          ],
          [
           "Barking and Dagenham",
           "DAGENHAM",
           "0",
           "Shop & Service",
           "Residence"
          ],
          [
           "Redbridge",
           "ROMFORD",
           "0",
           "Shop & Service",
           "Outdoors & Recreation"
          ],
          [
           "Havering",
           "ROMFORD",
           "0",
           "Outdoors & Recreation",
           "Travel & Transport"
          ],
          [
           "Bromley",
           "ORPINGTON",
           "0",
           "Residence",
           "Outdoors & Recreation"
          ],
          [
           "Kingston upon Thames",
           "CHESSINGTON",
           "0",
           "Shop & Service",
           "Professional & Other Places"
          ],
          [
           "Barnet",
           "LONDON",
           "0",
           "Residence",
           "Outdoors & Recreation"
          ],
          [
           "Waltham Forest",
           "LONDON",
           "0",
           "Residence",
           "Professional & Other Places"
          ],
          [
           "Bromley",
           "CHISLEHURST",
           "0",
           "Professional & Other Places",
           "Outdoors & Recreation"
          ],
          [
           "Brent",
           "LONDON",
           "0",
           "Outdoors & Recreation",
           "Professional & Other Places"
          ],
          [
           "Barnet",
           "LONDON",
           "0",
           "Outdoors & Recreation",
           "Professional & Other Places"
          ],
          [
           "Barnet",
           "BARNET",
           "0",
           "Outdoors & Recreation",
           "Professional & Other Places"
          ],
          [
           "Barnet",
           "LONDON",
           "0",
           "Residence",
           "Shop & Service"
          ],
          [
           "Havering",
           "ROMFORD",
           "0",
           "Residence",
           "Shop & Service"
          ],
          [
           "Barnet",
           "LONDON",
           "0",
           "Shop & Service",
           "Travel & Transport"
          ],
          [
           "Bexley",
           "ERITH",
           "0",
           "Shop & Service",
           "Professional & Other Places"
          ],
          [
           "Bromley",
           "WEST WICKHAM",
           "0",
           "Professional & Other Places",
           "College & University"
          ],
          [
           "Croydon",
           "COULSDON",
           "0",
           "Shop & Service",
           "Food"
          ],
          [
           "Hillingdon",
           "UXBRIDGE",
           "0",
           "Professional & Other Places",
           "Residence"
          ],
          [
           "Hounslow",
           "HOUNSLOW",
           "0",
           "Travel & Transport",
           "Shop & Service"
          ],
          [
           "Havering",
           "UPMINSTER",
           "0",
           "Shop & Service",
           "College & University"
          ],
          [
           "Bexley",
           "DARTFORD",
           "0",
           "Shop & Service",
           "Residence"
          ],
          [
           "Barking and Dagenham",
           "BARKING",
           "0",
           "Shop & Service",
           "Travel & Transport"
          ],
          [
           "Enfield",
           "ENFIELD",
           "0",
           "Shop & Service",
           "Food"
          ],
          [
           "Barnet",
           "LONDON",
           "0",
           "Shop & Service",
           "Travel & Transport"
          ],
          [
           "Bexley",
           "BEXLEYHEATH",
           "0",
           "Professional & Other Places",
           "Shop & Service"
          ],
          [
           "Bexley",
           "LONDON",
           "0",
           "Shop & Service",
           "Residence"
          ],
          [
           "Croydon",
           "CROYDON",
           "0",
           "Shop & Service",
           "Residence"
          ],
          [
           "Bromley",
           "LONDON",
           "0",
           "Shop & Service",
           "Food"
          ],
          [
           "Bromley",
           "SEVENOAKS",
           "0",
           "Residence",
           "Shop & Service"
          ],
          [
           "Newham",
           "LONDON",
           "0",
           "Residence",
           "Event"
          ],
          [
           "Barking and Dagenham",
           "DAGENHAM",
           "0",
           "Professional & Other Places",
           "Shop & Service"
          ],
          [
           "Dartford",
           "LONDON",
           "0",
           "Shop & Service",
           "Residence"
          ],
          [
           "Bromley",
           "ORPINGTON",
           "0",
           "Shop & Service",
           "Travel & Transport"
          ],
          [
           "Brent",
           "LONDON",
           "0",
           "Shop & Service",
           "Professional & Other Places"
          ],
          [
           "Bromley",
           "ORPINGTON",
           "0",
           "Professional & Other Places",
           "Outdoors & Recreation"
          ],
          [
           "Lewisham",
           "BROMLEY",
           "0",
           "Shop & Service",
           "Outdoors & Recreation"
          ],
          [
           "Wandsworth",
           "LONDON",
           "0",
           "Professional & Other Places",
           "Shop & Service"
          ],
          [
           "Barnet",
           "BARNET",
           "0",
           "Professional & Other Places",
           "Residence"
          ],
          [
           "Hounslow",
           "FELTHAM",
           "0",
           "Travel & Transport",
           "Professional & Other Places"
          ],
          [
           "Southwark",
           "LONDON",
           "0",
           "Shop & Service",
           "Professional & Other Places"
          ],
          [
           "Barnet",
           "LONDON",
           "0",
           "Professional & Other Places",
           "Shop & Service"
          ],
          [
           "Newham",
           "LONDON",
           "0",
           "Shop & Service",
           "Residence"
          ],
          [
           "Richmond upon Thames",
           "LONDON",
           "0",
           "Professional & Other Places",
           "Shop & Service"
          ],
          [
           "Bexley",
           "WELLING",
           "0",
           "Outdoors & Recreation",
           "Professional & Other Places"
          ],
          [
           "Hillingdon",
           "PINNER",
           "0",
           "Shop & Service",
           "Professional & Other Places"
          ],
          [
           "Bromley",
           "BECKENHAM",
           "0",
           "Shop & Service",
           "College & University"
          ],
          [
           "Barnet",
           "EDGWARE",
           "0",
           "Shop & Service",
           "Professional & Other Places"
          ],
          [
           "Enfield",
           "LONDON",
           "0",
           "Shop & Service",
           "Professional & Other Places"
          ],
          [
           "Havering",
           "HORNCHURCH",
           "0",
           "Shop & Service",
           "Professional & Other Places"
          ],
          [
           "Bromley",
           "BECKENHAM",
           "0",
           "Shop & Service",
           "Residence"
          ],
          [
           "Bromley",
           "CHISLEHURST",
           "0",
           "Travel & Transport",
           "Shop & Service"
          ],
          [
           "Havering",
           "HORNCHURCH",
           "0",
           "Shop & Service",
           "Food"
          ],
          [
           "Enfield",
           "ENFIELD",
           "0",
           "Residence",
           "Professional & Other Places"
          ],
          [
           "Enfield",
           "ENFIELD",
           "0",
           "Residence",
           "Professional & Other Places"
          ],
          [
           "Enfield",
           "ENFIELD",
           "0",
           "Shop & Service",
           "Professional & Other Places"
          ],
          [
           "Enfield",
           "ENFIELD",
           "0",
           "Residence",
           "Professional & Other Places"
          ],
          [
           "Bexley",
           "ERITH",
           "0",
           "Shop & Service",
           "Professional & Other Places"
          ],
          [
           "Bexley",
           "LONDON",
           "0",
           "College & University",
           "Professional & Other Places"
          ],
          [
           "Hounslow",
           "FELTHAM",
           "0",
           "Shop & Service",
           "Professional & Other Places"
          ],
          [
           "Barnet",
           "LONDON",
           "0",
           "Professional & Other Places",
           "Residence"
          ],
          [
           "Bexley",
           "SIDCUP",
           "0",
           "Professional & Other Places",
           "Shop & Service"
          ],
          [
           "Newham",
           "LONDON",
           "0",
           "Shop & Service",
           "Residence"
          ],
          [
           "Lewisham",
           "LONDON",
           "0",
           "Shop & Service",
           "Residence"
          ],
          [
           "Enfield",
           "ENFIELD",
           "0",
           "Shop & Service",
           "Professional & Other Places"
          ],
          [
           "Barnet",
           "LONDON",
           "0",
           "Shop & Service",
           "Travel & Transport"
          ],
          [
           "Richmond upon Thames",
           "TEDDINGTON",
           "0",
           "Shop & Service",
           "Professional & Other Places"
          ],
          [
           "Havering",
           "ROMFORD",
           "0",
           "Shop & Service",
           "Professional & Other Places"
          ],
          [
           "Redbridge",
           "ILFORD",
           "0",
           "Residence",
           "Shop & Service"
          ],
          [
           "Havering",
           "ROMFORD",
           "0",
           "Outdoors & Recreation",
           "Residence"
          ],
          [
           "Bromley",
           "ORPINGTON",
           "0",
           "Professional & Other Places",
           "Residence"
          ],
          [
           "Barnet",
           "LONDON",
           "0",
           "Shop & Service",
           "Food"
          ],
          [
           "Redbridge",
           "ILFORD",
           "0",
           "Shop & Service",
           "Residence"
          ],
          [
           "Barnet",
           "LONDON",
           "0",
           "Residence",
           "Professional & Other Places"
          ],
          [
           "Ealing",
           "GREENFORD",
           "0",
           "Shop & Service",
           "Professional & Other Places"
          ],
          [
           "Hounslow",
           "LONDON",
           "0",
           "Professional & Other Places",
           "Outdoors & Recreation"
          ],
          [
           "Lewisham",
           "LONDON",
           "0",
           "Professional & Other Places",
           "Outdoors & Recreation"
          ],
          [
           "Hounslow",
           "LONDON",
           "0",
           "Professional & Other Places",
           "Shop & Service"
          ],
          [
           "Hackney",
           "LONDON",
           "0",
           "Professional & Other Places",
           "Residence"
          ],
          [
           "Enfield",
           "BARNET",
           "0",
           "Outdoors & Recreation",
           "Shop & Service"
          ],
          [
           "Redbridge",
           "CHIGWELL",
           "0",
           "Professional & Other Places",
           "Outdoors & Recreation"
          ],
          [
           "Barnet",
           "LONDON",
           "0",
           "Residence",
           "College & University"
          ],
          [
           "Richmond upon Thames",
           "RICHMOND",
           "0",
           "Outdoors & Recreation",
           "Professional & Other Places"
          ],
          [
           "Barnet",
           "LONDON",
           "0",
           "Professional & Other Places",
           "Shop & Service"
          ],
          [
           "Richmond upon Thames",
           "HAMPTON",
           "0",
           "Professional & Other Places",
           "Residence"
          ],
          [
           "Richmond upon Thames",
           "HAMPTON",
           "0",
           "Professional & Other Places",
           "Residence"
          ],
          [
           "Ealing",
           "LONDON",
           "0",
           "Professional & Other Places",
           "Shop & Service"
          ],
          [
           "Hounslow",
           "FELTHAM",
           "0",
           "Event",
           "Residence"
          ],
          [
           "Hillingdon",
           "UXBRIDGE",
           "0",
           "Shop & Service",
           "Professional & Other Places"
          ],
          [
           "Brent",
           "LONDON",
           "0",
           "Professional & Other Places",
           "Shop & Service"
          ],
          [
           "Hillingdon",
           "HAYES",
           "0",
           "Professional & Other Places",
           "College & University"
          ],
          [
           "Hillingdon",
           "WEST DRAYTON",
           "0",
           "Professional & Other Places",
           "Travel & Transport"
          ],
          [
           "Havering",
           "ROMFORD",
           "0",
           "Shop & Service",
           "Professional & Other Places"
          ],
          [
           "Havering",
           "ROMFORD",
           "0",
           "Outdoors & Recreation",
           "Residence"
          ],
          [
           "Havering",
           "ROMFORD",
           "0",
           "Shop & Service",
           "Residence"
          ],
          [
           "Harrow",
           "HARROW",
           "0",
           "Professional & Other Places",
           "Shop & Service"
          ],
          [
           "Harrow",
           "HARROW",
           "0",
           "College & University",
           "Professional & Other Places"
          ],
          [
           "Harrow",
           "PINNER",
           "0",
           "Professional & Other Places",
           "Food"
          ],
          [
           "Hounslow",
           "FELTHAM",
           "0",
           "Professional & Other Places",
           "Outdoors & Recreation"
          ],
          [
           "Havering",
           "ROMFORD",
           "0",
           "Outdoors & Recreation",
           "Professional & Other Places"
          ],
          [
           "Bromley",
           "BROMLEY",
           "0",
           "Shop & Service",
           "Residence"
          ],
          [
           "Hillingdon",
           "HAYES",
           "0",
           "Shop & Service",
           "Residence"
          ],
          [
           "Bromley",
           "ORPINGTON",
           "0",
           "Outdoors & Recreation",
           "Shop & Service"
          ],
          [
           "Barnet",
           "LONDON",
           "0",
           "College & University",
           "Professional & Other Places"
          ],
          [
           "Lambeth",
           "LONDON",
           "0",
           "Professional & Other Places",
           "Shop & Service"
          ],
          [
           "Hounslow",
           "HOUNSLOW",
           "0",
           "Residence",
           "Shop & Service"
          ],
          [
           "Waltham Forest",
           "LONDON",
           "0",
           "Residence",
           "Professional & Other Places"
          ],
          [
           "Camden",
           "LONDON",
           "0",
           "Professional & Other Places",
           "Residence"
          ],
          [
           "Hillingdon",
           "UXBRIDGE",
           "0",
           "Professional & Other Places",
           "Residence"
          ],
          [
           "Lewisham",
           "LONDON",
           "0",
           "Professional & Other Places",
           "Residence"
          ],
          [
           "Kingston upon Thames",
           "CHESSINGTON",
           "0",
           "Shop & Service",
           "Professional & Other Places"
          ],
          [
           "Havering",
           "HORNCHURCH",
           "0",
           "Shop & Service",
           "Food"
          ],
          [
           "Greenwich",
           "LONDON",
           "0",
           "Shop & Service",
           "Residence"
          ],
          [
           "Barnet",
           "LONDON",
           "0",
           "Residence",
           "Shop & Service"
          ],
          [
           "Hillingdon",
           "UXBRIDGE",
           "0",
           "Professional & Other Places",
           "Residence"
          ],
          [
           "Redbridge",
           "ILFORD",
           "0",
           "Shop & Service",
           "Professional & Other Places"
          ],
          [
           "Hounslow",
           "ISLEWORTH",
           "0",
           "Professional & Other Places",
           "Residence"
          ],
          [
           "Croydon",
           "KENLEY",
           "0",
           "Professional & Other Places",
           "Outdoors & Recreation"
          ],
          [
           "Brent",
           "LONDON",
           "0",
           "Residence",
           "Professional & Other Places"
          ],
          [
           "Brent",
           "HARROW",
           "0",
           "Professional & Other Places",
           "Residence"
          ],
          [
           "Bromley",
           "KESTON",
           "0",
           "Professional & Other Places",
           "Shop & Service"
          ],
          [
           "Greenwich",
           "LONDON",
           "0",
           "Shop & Service",
           "Residence"
          ],
          [
           "Brent",
           "LONDON",
           "0",
           "Residence",
           "Shop & Service"
          ],
          [
           "Kingston upon Thames",
           "LONDON",
           "0",
           "College & University",
           "Professional & Other Places"
          ],
          [
           "Bexley",
           "SIDCUP",
           "0",
           "Residence",
           "Shop & Service"
          ],
          [
           "Hackney",
           "LONDON",
           "0",
           "Event",
           "Professional & Other Places"
          ],
          [
           "Bromley",
           "KESTON",
           "0",
           "Shop & Service",
           "Travel & Transport"
          ],
          [
           "Bexley",
           "BELVEDERE",
           "0",
           "Shop & Service",
           "Professional & Other Places"
          ],
          [
           "Waltham Forest",
           "LONDON",
           "0",
           "Residence",
           "Professional & Other Places"
          ],
          [
           "Newham",
           "LONDON",
           "0",
           "Residence",
           "Shop & Service"
          ],
          [
           "Bromley",
           "ORPINGTON",
           "0",
           "Event",
           "Professional & Other Places"
          ],
          [
           "Hillingdon",
           "WEST DRAYTON",
           "0",
           "Travel & Transport",
           "Shop & Service"
          ],
          [
           "Merton",
           "MORDEN",
           "0",
           "Shop & Service",
           "Professional & Other Places"
          ],
          [
           "Redbridge",
           "ILFORD",
           "0",
           "Shop & Service",
           "Travel & Transport"
          ],
          [
           "Kingston upon Thames",
           "CHESSINGTON",
           "0",
           "Professional & Other Places",
           "Shop & Service"
          ],
          [
           "Newham",
           "LONDON",
           "0",
           "Professional & Other Places",
           "Shop & Service"
          ],
          [
           "Barking and Dagenham",
           "ROMFORD",
           "0",
           "Residence",
           "College & University"
          ],
          [
           "Merton",
           "LONDON",
           "0",
           "Professional & Other Places",
           "Shop & Service"
          ],
          [
           "Greenwich",
           "LONDON",
           "0",
           "Residence",
           "Outdoors & Recreation"
          ],
          [
           "Barnet",
           "LONDON",
           "0",
           "Shop & Service",
           "Outdoors & Recreation"
          ],
          [
           "Merton",
           "MITCHAM",
           "0",
           "Shop & Service",
           "Residence"
          ],
          [
           "Barnet",
           "BARNET",
           "0",
           "Shop & Service",
           "Professional & Other Places"
          ],
          [
           "Merton",
           "MORDEN",
           "0",
           "Professional & Other Places",
           "Shop & Service"
          ],
          [
           "Merton",
           "MORDEN",
           "0",
           "Shop & Service",
           "Professional & Other Places"
          ],
          [
           "Richmond upon Thames",
           "LONDON",
           "0",
           "Professional & Other Places",
           "Residence"
          ],
          [
           "Kingston upon Thames",
           "NEW MALDEN",
           "0",
           "Shop & Service",
           "Outdoors & Recreation"
          ],
          [
           "Bromley",
           "LONDON",
           "0",
           "Shop & Service",
           "Outdoors & Recreation"
          ],
          [
           "Haringey and Barnet",
           "LONDON",
           "0",
           "Shop & Service",
           "Residence"
          ],
          [
           "Brent",
           "LONDON",
           "0",
           "Shop & Service",
           "Professional & Other Places"
          ],
          [
           "Croydon",
           "CROYDON",
           "0",
           "Outdoors & Recreation",
           "Professional & Other Places"
          ],
          [
           "Barnet",
           "BARNET",
           "0",
           "Residence",
           "Professional & Other Places"
          ],
          [
           "Lewisham",
           "LONDON",
           "0",
           "Travel & Transport",
           "College & University"
          ],
          [
           "Greenwich",
           "LONDON",
           "0",
           "Professional & Other Places",
           "Shop & Service"
          ],
          [
           "Kingston upon Thames",
           "NEW MALDEN",
           "0",
           "Shop & Service",
           "Residence"
          ],
          [
           "Barnet",
           "LONDON",
           "0",
           "Shop & Service",
           "Professional & Other Places"
          ],
          [
           "Redbridge",
           "ILFORD",
           "0",
           "Professional & Other Places",
           "Shop & Service"
          ],
          [
           "Havering",
           "ROMFORD",
           "0",
           "Outdoors & Recreation",
           "Shop & Service"
          ],
          [
           "Kingston upon Thames",
           "KINGSTON UPON THAMES",
           "0",
           "Residence",
           "Professional & Other Places"
          ],
          [
           "Croydon",
           "LONDON",
           "0",
           "Shop & Service",
           "Travel & Transport"
          ],
          [
           "Bexley",
           "SIDCUP",
           "0",
           "Outdoors & Recreation",
           "Shop & Service"
          ],
          [
           "Bexley",
           "ERITH",
           "0",
           "Shop & Service",
           "Professional & Other Places"
          ],
          [
           "Barnet",
           "LONDON",
           "0",
           "Shop & Service",
           "Residence"
          ],
          [
           "Harrow",
           "HARROW",
           "0",
           "Professional & Other Places",
           "Residence"
          ],
          [
           "Havering",
           "UPMINSTER",
           "0",
           "Residence",
           "College & University"
          ],
          [
           "Richmond upon Thames",
           "RICHMOND",
           "0",
           "Professional & Other Places",
           "Residence"
          ],
          [
           "Newham",
           "LONDON",
           "0",
           "Residence",
           "Travel & Transport"
          ],
          [
           "Ealing",
           "NORTHOLT",
           "0",
           "Professional & Other Places",
           "College & University"
          ],
          [
           "Bexley",
           "ERITH",
           "0",
           "Shop & Service",
           "Professional & Other Places"
          ],
          [
           "Hillingdon",
           "NORTHWOOD",
           "0",
           "Shop & Service",
           "Professional & Other Places"
          ],
          [
           "Ealing",
           "SOUTHALL",
           "0",
           "Residence",
           "Outdoors & Recreation"
          ],
          [
           "Kensington and Chelsea",
           "LONDON",
           "0",
           "Shop & Service",
           "Professional & Other Places"
          ],
          [
           "Barnet",
           "LONDON",
           "0",
           "Shop & Service",
           "Food"
          ],
          [
           "Croydon",
           "COULSDON",
           "0",
           "Shop & Service",
           "Food"
          ],
          [
           "Kingston upon Thames",
           "WORCESTER PARK",
           "0",
           "Professional & Other Places",
           "Food"
          ],
          [
           "Bromley",
           "ORPINGTON",
           "0",
           "Shop & Service",
           "Professional & Other Places"
          ],
          [
           "Barnet",
           "LONDON",
           "0",
           "Outdoors & Recreation",
           "Professional & Other Places"
          ],
          [
           "Hounslow",
           "ISLEWORTH",
           "0",
           "Residence",
           "Professional & Other Places"
          ],
          [
           "Enfield",
           "LONDON",
           "0",
           "Shop & Service",
           "Professional & Other Places"
          ],
          [
           "Brent",
           "LONDON",
           "0",
           "Professional & Other Places",
           "Shop & Service"
          ],
          [
           "Bromley",
           "LONDON",
           "0",
           "Residence",
           "Professional & Other Places"
          ],
          [
           "Ealing",
           "GREENFORD",
           "0",
           "Event",
           "Outdoors & Recreation"
          ],
          [
           "Richmond upon Thames",
           "RICHMOND",
           "0",
           "Residence",
           "Outdoors & Recreation"
          ],
          [
           "Bromley",
           "ORPINGTON",
           "0",
           "Professional & Other Places",
           "Travel & Transport"
          ],
          [
           "Harrow",
           "PINNER",
           "0",
           "Shop & Service",
           "Professional & Other Places"
          ],
          [
           "Newham",
           "LONDON",
           "0",
           "Shop & Service",
           "Residence"
          ],
          [
           "Bromley",
           "BROMLEY",
           "0",
           "Shop & Service",
           "Residence"
          ],
          [
           "Newham",
           "LONDON",
           "0",
           "Professional & Other Places",
           "Residence"
          ],
          [
           "Bromley",
           "BROMLEY",
           "0",
           "Professional & Other Places",
           "Residence"
          ],
          [
           "Greenwich",
           "LONDON",
           "0",
           "Residence",
           "Professional & Other Places"
          ],
          [
           "Enfield",
           "ENFIELD",
           "0",
           "Shop & Service",
           "Professional & Other Places"
          ],
          [
           "Bromley",
           "ORPINGTON",
           "0",
           "Shop & Service",
           "Outdoors & Recreation"
          ],
          [
           "Brent",
           "WEMBLEY",
           "0",
           "Travel & Transport",
           "Shop & Service"
          ],
          [
           "Croydon",
           "PURLEY",
           "0",
           "Event",
           "Outdoors & Recreation"
          ],
          [
           "Brent",
           "LONDON",
           "0",
           "Professional & Other Places",
           "Outdoors & Recreation"
          ],
          [
           "Harrow",
           "HARROW",
           "0",
           "Shop & Service",
           "Residence"
          ],
          [
           "Havering",
           "RAINHAM",
           "0",
           "Shop & Service",
           "Travel & Transport"
          ],
          [
           "Harrow",
           "PINNER",
           "0",
           "Event",
           "Shop & Service"
          ],
          [
           "Merton",
           "LONDON",
           "0",
           "Professional & Other Places",
           "Residence"
          ],
          [
           "Redbridge",
           "ILFORD",
           "0",
           "Professional & Other Places",
           "Travel & Transport"
          ],
          [
           "Croydon",
           "PURLEY",
           "0",
           "Travel & Transport",
           "Arts & Entertainment"
          ],
          [
           "Havering",
           "ROMFORD",
           "0",
           "Outdoors & Recreation",
           "Shop & Service"
          ],
          [
           "Hillingdon",
           "RUISLIP",
           "0",
           "College & University",
           "Shop & Service"
          ],
          [
           "Barking and Dagenham",
           "ROMFORD",
           "0",
           "Event",
           "Shop & Service"
          ],
          [
           "Bexley",
           "SIDCUP",
           "0",
           "Professional & Other Places",
           "Shop & Service"
          ],
          [
           "Croydon",
           "SOUTH CROYDON",
           "0",
           "Professional & Other Places",
           "Outdoors & Recreation"
          ],
          [
           "Croydon",
           "LONDON",
           "0",
           "Shop & Service",
           "Residence"
          ],
          [
           "Croydon",
           "SOUTH CROYDON",
           "0",
           "Professional & Other Places",
           "Shop & Service"
          ],
          [
           "Redbridge",
           "ILFORD",
           "0",
           "Shop & Service",
           "Professional & Other Places"
          ],
          [
           "Haringey",
           "LONDON",
           "0",
           "Professional & Other Places",
           "Residence"
          ],
          [
           "Greenwich",
           "LONDON",
           "0",
           "Residence",
           "Professional & Other Places"
          ],
          [
           "Bexley",
           "SIDCUP",
           "0",
           "Residence",
           "Shop & Service"
          ],
          [
           "Newham",
           "LONDON",
           "0",
           "Travel & Transport",
           "Residence"
          ],
          [
           "Hillingdon",
           "WEST DRAYTON",
           "0",
           "Travel & Transport",
           "Professional & Other Places"
          ],
          [
           "Bexley",
           "ERITH",
           "0",
           "Shop & Service",
           "Professional & Other Places"
          ],
          [
           "Redbridge",
           "LONDON",
           "0",
           "Professional & Other Places",
           "Residence"
          ],
          [
           "Croydon",
           "SOUTH CROYDON",
           "0",
           "Residence",
           "Professional & Other Places"
          ],
          [
           "Harrow",
           "HARROW",
           "0",
           "Event",
           "Shop & Service"
          ],
          [
           "Havering",
           "RAINHAM",
           "0",
           "Outdoors & Recreation",
           "Professional & Other Places"
          ],
          [
           "Croydon",
           "LONDON",
           "0",
           "Residence",
           "Professional & Other Places"
          ],
          [
           "Hillingdon",
           "RUISLIP",
           "0",
           "Shop & Service",
           "Residence"
          ],
          [
           "Redbridge",
           "LONDON",
           "0",
           "Residence",
           "Professional & Other Places"
          ],
          [
           "Haringey",
           "LONDON",
           "0",
           "Professional & Other Places",
           "Residence"
          ],
          [
           "Ealing",
           "SOUTHALL",
           "0",
           "Food",
           "Shop & Service"
          ],
          [
           "Bromley",
           "BROMLEY",
           "0",
           "Residence",
           "Shop & Service"
          ],
          [
           "Enfield",
           "LONDON",
           "0",
           "Shop & Service",
           "Professional & Other Places"
          ],
          [
           "Merton",
           "MORDEN",
           "0",
           "Shop & Service",
           "Professional & Other Places"
          ],
          [
           "Richmond upon Thames",
           "TWICKENHAM",
           "0",
           "Shop & Service",
           "Residence"
          ],
          [
           "Bromley",
           "ORPINGTON",
           "0",
           "Shop & Service",
           "Travel & Transport"
          ],
          [
           "Bromley",
           "ORPINGTON",
           "0",
           "Shop & Service",
           "Professional & Other Places"
          ],
          [
           "Harrow",
           "STANMORE",
           "0",
           "Shop & Service",
           "Residence"
          ],
          [
           "Brent",
           "LONDON",
           "0",
           "Professional & Other Places",
           "Residence"
          ],
          [
           "Richmond upon Thames",
           "TWICKENHAM",
           "0",
           "Professional & Other Places",
           "Shop & Service"
          ],
          [
           "Lambeth",
           "LONDON",
           "0",
           "Shop & Service",
           "Professional & Other Places"
          ],
          [
           "Brent",
           "HARROW",
           "0",
           "Professional & Other Places",
           "Residence"
          ],
          [
           "Bromley",
           "BROMLEY",
           "0",
           "Shop & Service",
           "Residence"
          ],
          [
           "Kingston upon Thames",
           "SURBITON",
           "0",
           "Shop & Service",
           "Professional & Other Places"
          ],
          [
           "Sutton",
           "SUTTON",
           "0",
           "Shop & Service",
           "Professional & Other Places"
          ],
          [
           "Lewisham",
           "LONDON",
           "0",
           "Residence",
           "Shop & Service"
          ],
          [
           "Lewisham",
           "LONDON",
           "0",
           "Shop & Service",
           "Residence"
          ],
          [
           "Richmond upon Thames",
           "TEDDINGTON",
           "0",
           "Shop & Service",
           "Professional & Other Places"
          ],
          [
           "Barnet",
           "BARNET",
           "0",
           "Shop & Service",
           "Food"
          ],
          [
           "Bexley",
           "LONDON",
           "0",
           "Residence",
           "Professional & Other Places"
          ],
          [
           "Croydon",
           "THORNTON HEATH",
           "0",
           "Shop & Service",
           "Professional & Other Places"
          ],
          [
           "Brent",
           "WEMBLEY",
           "0",
           "Professional & Other Places",
           "Residence"
          ],
          [
           "Kingston upon Thames",
           "SURBITON",
           "0",
           "Shop & Service",
           "Professional & Other Places"
          ],
          [
           "Barnet",
           "LONDON",
           "0",
           "Professional & Other Places",
           "Travel & Transport"
          ],
          [
           "Lambeth",
           "LONDON",
           "0",
           "Residence",
           "Shop & Service"
          ],
          [
           "Havering",
           "UPMINSTER",
           "0",
           "College & University",
           "Shop & Service"
          ],
          [
           "Havering",
           "HORNCHURCH",
           "0",
           "Food",
           "Shop & Service"
          ],
          [
           "Hackney",
           "LONDON",
           "0",
           "Shop & Service",
           "Outdoors & Recreation"
          ],
          [
           "Croydon",
           "LONDON",
           "0",
           "Shop & Service",
           "Food"
          ],
          [
           "Bexley",
           "SIDCUP",
           "0",
           "Professional & Other Places",
           "Food"
          ],
          [
           "Bexley",
           "BEXLEYHEATH",
           "0",
           "Professional & Other Places",
           "Shop & Service"
          ],
          [
           "Newham",
           "LONDON",
           "0",
           "Shop & Service",
           "Professional & Other Places"
          ],
          [
           "Hillingdon",
           "UXBRIDGE",
           "0",
           "Shop & Service",
           "Professional & Other Places"
          ],
          [
           "Croydon",
           "CROYDON",
           "0",
           "Event",
           "Shop & Service"
          ],
          [
           "Sutton",
           "WALLINGTON",
           "0",
           "Shop & Service",
           "Residence"
          ],
          [
           "Redbridge",
           "LONDON",
           "0",
           "Shop & Service",
           "Professional & Other Places"
          ],
          [
           "Harrow",
           "HARROW",
           "0",
           "Professional & Other Places",
           "Shop & Service"
          ],
          [
           "Greenwich",
           "LONDON",
           "0",
           "Residence",
           "Shop & Service"
          ],
          [
           "Bexley",
           "WELLING",
           "0",
           "Shop & Service",
           "Professional & Other Places"
          ],
          [
           "Havering",
           "RAINHAM",
           "0",
           "Professional & Other Places",
           "Outdoors & Recreation"
          ],
          [
           "Hillingdon",
           "WEST DRAYTON",
           "0",
           "Shop & Service",
           "Residence"
          ],
          [
           "Ealing",
           "LONDON",
           "0",
           "Professional & Other Places",
           "Shop & Service"
          ],
          [
           "Haringey",
           "LONDON",
           "0",
           "Residence",
           "Shop & Service"
          ],
          [
           "Newham",
           "LONDON",
           "0",
           "Residence",
           "Shop & Service"
          ],
          [
           "Harrow",
           "HARROW",
           "0",
           "Shop & Service",
           "Professional & Other Places"
          ],
          [
           "Bexley",
           "LONDON",
           "0",
           "Shop & Service",
           "Professional & Other Places"
          ],
          [
           "Barnet",
           "LONDON",
           "0",
           "Shop & Service",
           "Residence"
          ],
          [
           "Lambeth",
           "LONDON",
           "0",
           "Shop & Service",
           "Professional & Other Places"
          ],
          [
           "Bromley",
           "WEST WICKHAM",
           "0",
           "Shop & Service",
           "Professional & Other Places"
          ],
          [
           "Greenwich",
           "LONDON",
           "0",
           "Shop & Service",
           "Professional & Other Places"
          ],
          [
           "Barnet",
           "LONDON",
           "0",
           "Shop & Service",
           "Food"
          ],
          [
           "Brent",
           "LONDON",
           "0",
           "Residence",
           "Professional & Other Places"
          ],
          [
           "Enfield",
           "LONDON",
           "0",
           "Shop & Service",
           "College & University"
          ],
          [
           "Haringey",
           "LONDON",
           "0",
           "Residence",
           "Shop & Service"
          ],
          [
           "Redbridge",
           "LONDON",
           "0",
           "Residence",
           "Professional & Other Places"
          ],
          [
           "Redbridge",
           "LONDON",
           "0",
           "Residence",
           "Professional & Other Places"
          ],
          [
           "Hounslow",
           "ISLEWORTH",
           "0",
           "Professional & Other Places",
           "Residence"
          ],
          [
           "Croydon",
           "CROYDON",
           "0",
           "Shop & Service",
           "Professional & Other Places"
          ],
          [
           "Barnet",
           "LONDON",
           "0",
           "Residence",
           "Shop & Service"
          ],
          [
           "Greenwich",
           "LONDON",
           "0",
           "Residence",
           "Professional & Other Places"
          ],
          [
           "Sutton",
           "WORCESTER PARK",
           "0",
           "Shop & Service",
           "Professional & Other Places"
          ],
          [
           "Hillingdon",
           "HAYES",
           "0",
           "Shop & Service",
           "Professional & Other Places"
          ],
          [
           "Hillingdon",
           "WEST DRAYTON",
           "0",
           "Shop & Service",
           "Travel & Transport"
          ]
         ],
         "hovertemplate": "<b>%{hovertext}</b><br><br>Cluster=%{customdata[2]}<br>Lat=%{lat}<br>Lng=%{lon}<br>Borough=%{customdata[0]}<br>Town=%{customdata[1]}<br>1st Most Common Venue=%{customdata[3]}<br>2nd Most Common Venue=%{customdata[4]}<extra></extra>",
         "hovertext": [
          "Abbey Wood",
          "Addington",
          "Albany Park",
          "Aldborough Hatch",
          "Alperton",
          "Anerley",
          "Aperfield",
          "Ardleigh Green",
          "Arkley",
          "Arnos Grove",
          "Barking",
          "Barkingside",
          "Barnehurst",
          "Barnes",
          "Barnes Cray",
          "Barnet Gate",
          "Barnet (also Chipping Barnet, High Barnet)",
          "Beckenham",
          "Beckton",
          "Becontree",
          "Becontree Heath",
          "Beddington",
          "Bedford Park",
          "Belmont",
          "Belmont",
          "Belmont",
          "Belmont",
          "Belvedere",
          "Berrylands",
          "Bexley (also Old Bexley, Bexley Village)",
          "Bexleyheath (also Bexley New Town)",
          "Bickley",
          "Biggin Hill",
          "Blackfen",
          "Blackheath Royal Standard",
          "Blendon",
          "Botany Bay",
          "Bounds Green",
          "Bowes Park",
          "Brentford",
          "Brent Cross",
          "Brimsdown",
          "Brixton",
          "Brockley",
          "Bromley",
          "Bromley Common",
          "Brondesbury",
          "Brunswick Park",
          "Bulls Cross",
          "Burnt Oak",
          "Burroughs, The",
          "Cann Hall",
          "Canning Town",
          "Castle Green",
          "Chadwell Heath",
          "Chase Cross",
          "Chelsfield",
          "Chessington",
          "Childs Hill",
          "Chingford",
          "Chislehurst",
          "Church End",
          "Church End",
          "Cockfosters",
          "Colindale",
          "Collier Row",
          "Colney Hatch",
          "Colyers",
          "Coney Hall",
          "Coulsdon",
          "Cowley",
          "Cranford",
          "Cranham",
          "Crayford",
          "Creekmouth",
          "Crews Hill",
          "Cricklewood",
          "Crook Log",
          "Crossness",
          "Croydon",
          "Crystal Palace",
          "Cudham",
          "Custom House",
          "Dagenham",
          "Dartford",
          "Derry Downs",
          "Dollis Hill",
          "Downe",
          "Downham",
          "Earlsfield",
          "East Barnet",
          "East Bedfont",
          "East Dulwich",
          "East Finchley",
          "East Ham",
          "East Sheen",
          "East Wickham",
          "Eastcote",
          "Eden Park",
          "Edgware",
          "Edmonton",
          "Elm Park",
          "Elmers End",
          "Elmstead",
          "Emerson Park",
          "Enfield Highway",
          "Enfield Lock",
          "Enfield Town",
          "Enfield Wash",
          "Erith",
          "Falconwood",
          "Feltham",
          "Finchley",
          "Foots Cray",
          "Forest Gate",
          "Forest Hill",
          "Freezywater",
          "Friern Barnet",
          "Fulwell",
          "Gallows Corner",
          "Gants Hill",
          "Gidea Park",
          "Goddington",
          "Golders Green",
          "Goodmayes",
          "Grahame Park",
          "Greenford",
          "Grove Park",
          "Grove Park",
          "Gunnersbury",
          "Hackney Wick",
          "Hadley Wood",
          "Hainault",
          "The Hale",
          "Ham",
          "Hampstead Garden Suburb",
          "Hampton",
          "Hampton Hill",
          "Hanwell",
          "Hanworth",
          "Harefield",
          "Harlesden",
          "Harlington",
          "Harmondsworth",
          "Harold Hill",
          "Harold Park",
          "Harold Wood",
          "Harrow on the Hill",
          "Harrow Weald",
          "Hatch End",
          "Hatton",
          "Havering-atte-Bower",
          "Hayes",
          "Hayes",
          "Hazelwood",
          "Hendon",
          "Herne Hill",
          "Heston",
          "Highams Park",
          "Highgate",
          "Hillingdon",
          "Hither Green",
          "Hook",
          "Hornchurch",
          "Horn Park",
          "The Hyde",
          "Ickenham",
          "Ilford",
          "Isleworth",
          "Kenley",
          "Kensal Green",
          "Kenton",
          "Keston",
          "Kidbrooke",
          "Kingsbury",
          "Kingston Vale",
          "Lamorbey",
          "Lea Bridge",
          "Leaves Green",
          "Lessness Heath",
          "Leytonstone",
          "Little Ilford",
          "Locksbottom",
          "Longford",
          "Lower Morden",
          "Loxford",
          "Malden Rushett",
          "Manor Park",
          "Marks Gate",
          "Merton Park",
          "Middle Park",
          "Mill Hill",
          "Mitcham",
          "Monken Hadley",
          "Morden",
          "Morden Park",
          "Mortlake",
          "Motspur Park",
          "Mottingham",
          "Muswell Hill",
          "Neasden",
          "New Addington",
          "New Barnet",
          "New Cross",
          "New Eltham",
          "New Malden",
          "New Southgate",
          "Newbury Park",
          "Noak Hill",
          "Norbiton",
          "Norbury",
          "North Cray",
          "North End",
          "North Finchley",
          "North Harrow",
          "North Ockendon",
          "North Sheen",
          "North Woolwich",
          "Northolt",
          "Northumberland Heath",
          "Northwood",
          "Norwood Green",
          "Notting Hill",
          "Oakleigh Park",
          "Old Coulsdon",
          "Old Malden",
          "Orpington",
          "Osidge",
          "Osterley",
          "Palmers Green",
          "Park Royal",
          "Penge",
          "Perivale",
          "Petersham",
          "Petts Wood",
          "Pinner",
          "Plaistow",
          "Plaistow",
          "Plaistow",
          "Plaistow",
          "Plumstead",
          "Ponders End",
          "Pratt's Bottom",
          "Preston",
          "Purley",
          "Queen's Park",
          "Queensbury",
          "Rainham",
          "Rayners Lane",
          "Raynes Park",
          "Redbridge",
          "Riddlesdown",
          "Romford",
          "Ruislip",
          "Rush Green",
          "Ruxley",
          "Sanderstead",
          "Selhurst",
          "Selsdon",
          "Seven Kings",
          "Seven Sisters",
          "Shooter's Hill",
          "Sidcup",
          "Silvertown",
          "Sipson",
          "Slade Green",
          "Snaresbrook",
          "South Croydon",
          "South Harrow",
          "South Hornchurch",
          "South Norwood",
          "South Ruislip",
          "South Woodford",
          "South Tottenham",
          "Southall",
          "Southborough",
          "Southgate",
          "St Helier",
          "St Margarets",
          "St Mary Cray",
          "St Paul's Cray",
          "Stanmore",
          "Stonebridge",
          "Strawberry Hill",
          "Streatham",
          "Sudbury",
          "Sundridge",
          "Surbiton",
          "Sutton",
          "Sydenham (also Lower Sydenham, Upper Sydenham)",
          "Sydenham Hill",
          "Teddington",
          "Temple Fortune",
          "Thamesmead",
          "Thornton Heath",
          "Tokyngton",
          "Tolworth",
          "Totteridge",
          "Tulse Hill",
          "Upminster",
          "Upminster Bridge",
          "Upper Clapton",
          "Upper Norwood",
          "Upper Ruxley",
          "Upton",
          "Upton Park",
          "Uxbridge",
          "Waddon",
          "Wallington",
          "Wanstead",
          "Wealdstone",
          "Well Hall",
          "Welling",
          "Wennington",
          "West Drayton",
          "West Ealing",
          "West Green",
          "West Ham",
          "West Harrow",
          "West Heath",
          "West Hendon",
          "West Norwood",
          "West Wickham",
          "Westcombe Park",
          "Whetstone",
          "Willesden",
          "Winchmore Hill",
          "Wood Green",
          "Woodford",
          "Woodford Green",
          "Woodlands",
          "Woodside",
          "Woodside Park",
          "Woolwich",
          "Worcester Park",
          "Yeading",
          "Yiewsley"
         ],
         "lat": [
          51.492450000000076,
          51.35879700000001,
          51.435700000000054,
          51.563048473923104,
          51.53417376058907,
          51.41598495190199,
          51.31015431804546,
          51.58067733666435,
          51.65193000000005,
          51.62243647082235,
          52.146954,
          51.58511000000004,
          51.46362000000005,
          51.48284539965428,
          51.454074460771906,
          51.48284539965428,
          51.65872000000007,
          51.40215000000006,
          51.53292000000005,
          51.555979984996426,
          51.560510628882625,
          51.35889578219062,
          51.51189181117945,
          51.5953443434362,
          51.34373000000005,
          51.5953443434362,
          51.34373000000005,
          51.488420000000076,
          51.39401656380702,
          51.45125000000007,
          51.46013000000005,
          51.38966000000005,
          51.31051000000008,
          51.4515480681824,
          51.48664000000008,
          51.44643657705689,
          51.676720000000046,
          51.608181731947376,
          51.61498899340776,
          51.48967846184999,
          51.46959501358032,
          51.66130836237792,
          51.45238000000006,
          51.462680000000034,
          51.41135250000001,
          51.388153466188,
          51.55356000000006,
          51.58360000000005,
          51.675643889651504,
          51.60542000000004,
          51.58791727600407,
          51.5554974797784,
          51.51333000000005,
          51.53433000000007,
          51.57337000000007,
          51.603036421910055,
          51.355710000000045,
          51.3620458230684,
          51.56225000000006,
          51.61712000000006,
          51.419710000000066,
          51.584253344799436,
          51.47504632750984,
          51.6657241514579,
          51.59405592537353,
          51.59797000000003,
          51.61071692932876,
          51.47122950000001,
          51.36980088011006,
          51.31886000000003,
          51.543040000000076,
          51.48434629702106,
          51.56416946321474,
          51.45235000000008,
          51.51579817952464,
          51.68350800000001,
          51.564910000000054,
          51.45911946453059,
          51.419551275985086,
          51.39155485224665,
          51.41990000000004,
          51.315900000000056,
          51.45427997002137,
          51.546700000000044,
          51.452067760578885,
          51.385558544117,
          51.56096000000008,
          51.336430000000064,
          51.426082302811906,
          51.44232001832193,
          51.64759748896925,
          51.45196556966224,
          51.45256000000006,
          51.589270000000056,
          51.53323000000006,
          51.462570756261904,
          51.47559313298599,
          51.58828515261902,
          51.38753560397911,
          51.61209000000008,
          51.62879000000004,
          51.54496000000006,
          51.40135645217966,
          51.42621189948179,
          51.568155,
          51.65431329841614,
          51.666458625736375,
          51.65226000000007,
          51.65431329841614,
          51.48036187996607,
          51.45880000000005,
          51.44708000000003,
          51.60104000000007,
          51.413399308737766,
          51.54986268354492,
          51.441220000000044,
          51.65337000000005,
          51.61388000000005,
          51.43237184463742,
          51.59245829434858,
          51.576354000000016,
          51.615347569853654,
          51.364792401161246,
          51.576730000000055,
          51.56571129035198,
          51.59801605283478,
          51.54926000000006,
          51.60396403260681,
          51.46698021778042,
          51.50086827183735,
          51.5456050878122,
          51.666396674465034,
          51.61540809249462,
          51.58775000000003,
          51.43145642883387,
          51.58736000000005,
          51.42888752100201,
          51.42888752100201,
          51.50878000000006,
          51.430540000000065,
          51.53257470359681,
          51.53597141442344,
          51.53444550000002,
          51.48258000000004,
          51.60490000000004,
          51.615347569853654,
          51.592070000000035,
          51.56704370987824,
          51.6144596404303,
          51.60644000000008,
          51.46766566192055,
          51.61660000000006,
          51.39815637597911,
          51.50276529123459,
          51.34749958280941,
          51.58912000000004,
          51.45529000000005,
          51.48515000000003,
          51.59859972200624,
          51.57145000000003,
          51.543040000000076,
          51.45083000000005,
          51.366838153866276,
          51.562290000000075,
          51.48941439337224,
          51.582886180401005,
          51.543040000000076,
          51.56338000000005,
          51.47417000000007,
          51.317981829257036,
          51.53054000000003,
          51.58370000000008,
          51.361044708395056,
          51.4706370451607,
          51.58486000000005,
          51.43162741475799,
          51.43730849999999,
          51.551022353194455,
          51.336507845439314,
          51.48572538396719,
          51.55216105062294,
          51.55158705631924,
          51.366910000000075,
          51.478869798451356,
          51.39081941678327,
          51.547740766630135,
          51.338526568996016,
          51.454967756918094,
          51.54393218800004,
          51.41141840373778,
          51.44845808078221,
          51.46961870829243,
          51.40719000000007,
          51.655254332588534,
          51.401290000000074,
          51.39891985586477,
          51.46865993782111,
          51.39116912702434,
          51.43757000000005,
          51.59107000000006,
          51.56159800069314,
          51.35879700000001,
          51.64718469271825,
          51.47489000000007,
          51.433530000000076,
          51.40106670524288,
          51.63390000000004,
          51.574230130281876,
          51.6155625792314,
          51.41238000000004,
          51.41361382514268,
          51.42980370245267,
          51.47271450000001,
          51.615920000000074,
          51.585750000000075,
          51.541630000000055,
          51.46207310862528,
          51.50314636049505,
          51.544110000000046,
          51.47297000000003,
          51.60806439845446,
          51.4953632726068,
          51.510380000000055,
          51.63730000000004,
          51.31886000000003,
          51.376988320088074,
          51.378820000000076,
          51.47457000000003,
          51.48044099999999,
          51.62003000000004,
          51.52770000000004,
          51.40399686205487,
          51.53273005668594,
          51.44725767421175,
          51.386990000000026,
          51.591260000000034,
          51.52653000000004,
          51.40637595804564,
          51.52653000000004,
          51.40637595804564,
          51.48970278217071,
          51.645487499999994,
          51.34453345750154,
          51.56531043635615,
          51.35051219194073,
          51.53356000000008,
          51.58931000000007,
          51.53955456909107,
          51.569185546956156,
          51.41117000000003,
          50.91667000000007,
          51.33236622043336,
          51.6155625792314,
          51.587772590828706,
          51.5655,
          51.41641423342758,
          51.34829000000008,
          51.38957785396746,
          51.34355993060775,
          51.56191785081679,
          51.581314793709424,
          51.47443775691584,
          51.42593000000005,
          51.502680000000055,
          51.49001214513505,
          51.47168297669714,
          51.58332144210025,
          51.362310000000036,
          51.56860000000006,
          51.531709919499264,
          51.39925000000005,
          51.55761000000007,
          51.589770000000044,
          51.58196007446157,
          51.51139000000006,
          51.395991395556024,
          51.63390000000004,
          51.398484718524486,
          51.4587935746533,
          51.38884000000007,
          51.40360000000004,
          51.617560000000026,
          51.54455970906623,
          51.43567944883682,
          51.43023000000005,
          51.563607909162535,
          51.41052917094767,
          51.394616766077334,
          51.35967000000005,
          51.42674000000005,
          51.43920401273935,
          51.430312126852,
          51.638548500000006,
          51.50527000000005,
          51.39364601378024,
          51.54732612490108,
          51.379917504406436,
          51.63032000000004,
          51.44465000000008,
          51.55710000000005,
          51.55984286481587,
          51.55916318259063,
          51.41589000000005,
          51.40982751835143,
          51.445601576073464,
          51.539649022907504,
          51.5313261455904,
          51.367590000000064,
          51.36027000000007,
          51.57815716443278,
          51.59245000000004,
          51.46751000000006,
          51.46201000000008,
          51.50654000000003,
          51.50913000000003,
          51.513460000000066,
          51.608214000000004,
          51.53012100000001,
          51.564651862888816,
          51.479460520263444,
          51.584632383190815,
          51.43407000000008,
          51.37474000000003,
          51.48408000000006,
          51.63061000000005,
          51.54908000000006,
          51.63519000000008,
          51.608214000000004,
          51.58802095214995,
          51.58802095214995,
          51.47130951719695,
          51.38812438891392,
          51.60525000000007,
          51.48552002943043,
          51.37507000000005,
          51.52441287065046,
          51.51263000000006
         ],
         "legendgroup": "0",
         "lon": [
          0.12127000000003818,
          -0.0329062499999913,
          0.12588000000005195,
          0.0917635234442441,
          -0.3029839407012594,
          -0.06512439297397696,
          0.04272280842600311,
          0.22008114571229917,
          -0.22024999999996453,
          -0.1272340503978188,
          1.0530809999999915,
          0.07841000000001941,
          0.17396000000002232,
          -0.23987676413137018,
          0.18889922149637656,
          -0.23987676413137018,
          -0.2049499999999398,
          -0.03782999999992853,
          0.05461000000002514,
          0.11982002279395855,
          0.14756109494031153,
          -0.15253467081373884,
          -0.32077799999999,
          -0.3255905362673183,
          -0.19867999999996755,
          -0.3255905362673183,
          -0.19867999999996755,
          0.15256000000005088,
          -0.28813509152918465,
          0.12247000000002117,
          0.13808000000005904,
          0.049750000000074124,
          0.03603000000003931,
          0.09490451420039314,
          0.00407000000006974,
          0.1267730399837616,
          -0.1263399999999706,
          -0.1266473643199545,
          -0.12765302088347608,
          -0.2943075193363937,
          -0.2520516199589085,
          -0.030863947290489708,
          -0.1219499999999698,
          -0.035579999999924894,
          0.00943875000000998,
          0.036098206378367116,
          -0.2117299999999318,
          -0.07606999999995878,
          -0.05940721210840968,
          -0.2566299999999728,
          -0.22901037213082498,
          0.011584493267302235,
          0.03173000000003867,
          0.12332000000003518,
          0.14148000000005823,
          0.17518898877433137,
          0.10336000000006607,
          -0.2880083586229593,
          -0.20132999999992762,
          -0.0016899999999395732,
          0.06584000000003698,
          -0.01246795045038361,
          -0.24045883734011164,
          -0.15629950602053197,
          -0.2523096199168072,
          0.15642000000002554,
          -0.15409365282703674,
          0.16834950000000504,
          0.0017673863431249784,
          -0.13914999999997235,
          -0.44997999999992544,
          -0.3934451285058116,
          0.2661046634847648,
          0.17765000000002829,
          0.10290171871264056,
          -0.10009799999998512,
          -0.21650999999997111,
          0.12798335869739821,
          -0.14079006714282885,
          -0.13641567847120736,
          -0.08807999999993399,
          0.07484000000005153,
          -0.2213725820013558,
          0.13968000000005532,
          0.1722299153689439,
          0.11656974193766004,
          -0.23436999999995578,
          0.05380000000002383,
          0.002729755227861833,
          -0.1882299705696056,
          -0.1678177407543117,
          -0.44054470252815475,
          -0.0707599999999502,
          -0.16394999999994297,
          0.055660000000045784,
          -0.2622814474521747,
          0.10862559554823663,
          -0.38376503137452794,
          -0.026790779422022574,
          -0.2775599999999372,
          -0.05619999999993297,
          0.19153000000005704,
          -0.052676300585627694,
          0.05301694974088331,
          0.2193097500000133,
          -0.11035373180225709,
          -0.018543304211910427,
          -0.07971999999995205,
          -0.11035373180225709,
          0.1773254602713861,
          0.0796600000000467,
          -0.40918999999996686,
          -0.19400999999993473,
          0.11714056747332446,
          0.023895659082697054,
          -0.047639999999944393,
          -0.08805999999992764,
          -0.15185999999994237,
          -0.34862757199016803,
          0.21261632260565536,
          0.06632509230460792,
          0.181244095274236,
          0.1060224520321815,
          -0.19694999999995844,
          0.10856097152295957,
          -0.240785082940166,
          -0.3398499999999558,
          -0.12672536735443427,
          -0.02043808618523037,
          -0.2847790349397601,
          -0.03378148280527209,
          -0.17203648655172193,
          0.11686770293689595,
          -0.22915999999997894,
          -0.30686740933725076,
          -0.16417999999993071,
          -0.35328701531411527,
          -0.35328701531411527,
          -0.3362999999999374,
          -0.3902299999999741,
          -0.44842468227557,
          -0.24471648076986288,
          -0.4567589999999939,
          -0.4764799999999241,
          0.2294700000000489,
          0.181244095274236,
          0.2327700000000732,
          -0.3407345629035206,
          -0.34110948365125593,
          -0.3772899999999595,
          -0.42289453371384106,
          0.19531000000006316,
          0.015123704723472547,
          -0.40732924449493807,
          0.04187418610417248,
          -0.2280999999999267,
          -0.09927999999996473,
          -0.37316999999995915,
          -0.004255377903301961,
          -0.14982999999995172,
          -0.44997999999992544,
          -0.0006299999999441752,
          -0.3017478461664261,
          0.22019000000005917,
          0.018357170363404084,
          -0.2462409040013885,
          -0.44997999999992544,
          0.0674900000000207,
          -0.3383999999999787,
          -0.09885016384101082,
          -0.22547999999994772,
          -0.3140899999999647,
          0.030545926035616504,
          0.019273414744883522,
          -0.24880999999993492,
          -0.2648187831607458,
          0.09361125000000484,
          -0.022264352476853103,
          0.029835001077949355,
          0.1451854543003011,
          0.00568404181966624,
          0.05885489885104141,
          0.05455000000006294,
          -0.4944891046459438,
          -0.22524898807288216,
          0.08409083473721865,
          -0.31112248802149234,
          -0.0005980530365479037,
          0.1331566440000529,
          -0.20830209626220073,
          0.03640796258515495,
          -0.24014127316659745,
          -0.164229999999975,
          -0.20364516249576772,
          -0.1897799999999279,
          -0.18649775778641173,
          -0.27123992339426894,
          -0.2467623606631054,
          0.04260000000004993,
          -0.14851999999996224,
          -0.2558001868923714,
          -0.0329062499999913,
          -0.18848567121815052,
          -0.04037999999997055,
          0.06378000000006523,
          -0.24536303339136425,
          -0.13288999999997486,
          0.09263024828095105,
          0.20308771521739907,
          -0.28369999999995343,
          -0.1094034292696942,
          0.13895310706216807,
          0.1876117500000135,
          -0.1767399999999384,
          -0.36118999999996504,
          0.295690000000036,
          -0.2857844920149502,
          0.022499665753018944,
          -0.3744599999999423,
          0.1624100000000226,
          -0.40983495115914564,
          -0.3658834685470777,
          -0.3314699999999675,
          -0.1663799999999469,
          -0.13914999999997235,
          -0.26180433995597113,
          0.10185000000006994,
          -0.24211999999994305,
          -0.3444322499999955,
          -0.10659999999995762,
          -0.26746999999994614,
          -0.06837335084269645,
          -0.32725128547995885,
          -0.2987704638012943,
          0.08494000000007418,
          -0.38075999999995247,
          0.02876000000003387,
          0.033962906638363495,
          0.02876000000003387,
          0.033962906638363495,
          0.0851599571057346,
          -0.04653449999998409,
          0.11112261751375442,
          -0.293519329605383,
          -0.11496547539541899,
          -0.21105999999997493,
          -0.2894299999999248,
          0.18659205668737022,
          -0.363732017409817,
          -0.22622999999993,
          -1.466669999999965,
          -0.10357809963229665,
          0.20308771521739907,
          -0.43669035255806227,
          0.17615700000000467,
          0.12719142859680604,
          -0.09385999999994965,
          -0.08879480684604696,
          -0.06248997056959811,
          0.0898311046160824,
          -0.07637978376532768,
          0.02279406175205574,
          0.10395000000005439,
          0.03623000000004595,
          -0.45719399380852227,
          0.194868199203376,
          0.013122416085204562,
          -0.09337999999996782,
          -0.36924999999996544,
          0.18573994113932604,
          -0.07413999999994303,
          -0.4078299999999331,
          0.030520000000024083,
          -0.08351833883076074,
          -0.37832999999994854,
          0.0457962348155273,
          -0.13288999999997486,
          -0.18701829175478082,
          -0.3226782338024124,
          0.1097100000000637,
          0.10350000000005366,
          -0.310359999999946,
          -0.2608199999999917,
          -0.3389362583671815,
          -0.1299599999999259,
          -0.3334988901723898,
          0.03916334488470344,
          -0.3134852624904445,
          -0.1913399999999683,
          -0.05532999999996946,
          -0.06372680063696264,
          -0.33400097241770793,
          -0.1676474999999977,
          0.12013000000007423,
          -0.11462387237732108,
          -0.280548187351632,
          -0.2823338915436435,
          -0.19673999999997704,
          -0.11132999999995263,
          0.24960000000004356,
          0.2313362559772902,
          -0.056110273413864646,
          -0.09514999999993279,
          0.14509618576998018,
          0.1412639893995169,
          0.029277902104827294,
          -0.4498247043141586,
          -0.11606999999997925,
          -0.14992999999992662,
          0.02130430998687633,
          -0.3342899999999531,
          0.052950000000066666,
          0.11171000000007325,
          0.21904000000006363,
          -0.47395999999997684,
          -0.31970999999992955,
          -0.09229049999999575,
          0.020952000000000366,
          -0.3479242768767369,
          0.12481150588911631,
          -0.216208691793564,
          -0.10374999999993406,
          -0.009689999999977772,
          0.018630000000030122,
          -0.17501999999996087,
          -0.22098999999997204,
          -0.09302999999994199,
          -0.09229049999999575,
          0.0216386678407816,
          0.0216386678407816,
          -0.3370787067499256,
          -0.061081966561545985,
          -0.10978999999997541,
          0.006269996104913933,
          -0.2348899999999503,
          -0.3993893585312604,
          -0.4725899999999683
         ],
         "marker": {
          "color": "#636efa",
          "size": 12
         },
         "mode": "markers",
         "name": "0",
         "showlegend": true,
         "subplot": "mapbox",
         "type": "scattermapbox"
        },
        {
         "customdata": [
          [
           "Ealing",
           "LONDON",
           "3",
           "Shop & Service",
           "Professional & Other Places"
          ],
          [
           "Croydon",
           "CROYDON",
           "3",
           "Shop & Service",
           "Professional & Other Places"
          ],
          [
           "Wandsworth",
           "LONDON",
           "3",
           "Shop & Service",
           "Professional & Other Places"
          ],
          [
           "Wandsworth",
           "LONDON",
           "3",
           "Shop & Service",
           "Professional & Other Places"
          ],
          [
           "Lewisham",
           "LONDON",
           "3",
           "Shop & Service",
           "Residence"
          ],
          [
           "Camden",
           "LONDON",
           "3",
           "Shop & Service",
           "Professional & Other Places"
          ],
          [
           "Tower Hamlets",
           "LONDON",
           "3",
           "Professional & Other Places",
           "Outdoors & Recreation"
          ],
          [
           "Lewisham",
           "LONDON",
           "3",
           "Travel & Transport",
           "Professional & Other Places"
          ],
          [
           "Tower Hamlets",
           "LONDON",
           "3",
           "Professional & Other Places",
           "Food"
          ],
          [
           "Tower Hamlets",
           "LONDON",
           "3",
           "Professional & Other Places",
           "Food"
          ],
          [
           "Brent",
           "LONDON",
           "3",
           "Shop & Service",
           "Residence"
          ],
          [
           "Tower Hamlets",
           "LONDON",
           "3",
           "Professional & Other Places",
           "Food"
          ],
          [
           "Kensington and ChelseaHammersmith and Fulham",
           "LONDON",
           "3",
           "Food",
           "Shop & Service"
          ],
          [
           "Tower Hamlets",
           "LONDON",
           "3",
           "Shop & Service",
           "Food"
          ],
          [
           "Camden",
           "LONDON",
           "3",
           "Shop & Service",
           "Food"
          ],
          [
           "Tower Hamlets",
           "LONDON",
           "3",
           "Professional & Other Places",
           "Food"
          ],
          [
           "Sutton",
           "CARSHALTON",
           "3",
           "Shop & Service",
           "Residence"
          ],
          [
           "Richmond upon Thames",
           "LONDON",
           "3",
           "Shop & Service",
           "Residence"
          ],
          [
           "Lewisham",
           "LONDON",
           "3",
           "Shop & Service",
           "Residence"
          ],
          [
           "Camden",
           "LONDON",
           "3",
           "Shop & Service",
           "Professional & Other Places"
          ],
          [
           "Greenwich",
           "LONDON",
           "3",
           "Shop & Service",
           "Food"
          ],
          [
           "Sutton",
           "SUTTON/MERTON",
           "3",
           "Shop & Service",
           "Professional & Other Places"
          ],
          [
           "Kensington and Chelsea",
           "LONDON",
           "3",
           "Shop & Service",
           "Food"
          ],
          [
           "Lewisham",
           "LONDON",
           "3",
           "Shop & Service",
           "Residence"
          ],
          [
           "Hounslow",
           "LONDON",
           "3",
           "Shop & Service",
           "Professional & Other Places"
          ],
          [
           "Brent",
           "LONDON",
           "3",
           "Shop & Service",
           "Professional & Other Places"
          ],
          [
           "Barnet",
           "LONDON",
           "3",
           "Shop & Service",
           "Professional & Other Places"
          ],
          [
           "Lambeth",
           "LONDON",
           "3",
           "Travel & Transport",
           "Outdoors & Recreation"
          ],
          [
           "Merton",
           "LONDON",
           "3",
           "Shop & Service",
           "Professional & Other Places"
          ],
          [
           "Croydon",
           "CROYDON",
           "3",
           "Shop & Service",
           "Event"
          ],
          [
           "Kingston upon Thames",
           "KINGSTON UPON THAMES",
           "3",
           "Shop & Service",
           "Event"
          ],
          [
           "Croydon",
           "CROYDON",
           "3",
           "Shop & Service",
           "Professional & Other Places"
          ],
          [
           "Kingston upon Thames",
           "KINGSTON UPON THAMES",
           "3",
           "Shop & Service",
           "Professional & Other Places"
          ],
          [
           "Lewisham",
           "LONDON",
           "3",
           "Shop & Service",
           "Residence"
          ],
          [
           "Haringey",
           "LONDON",
           "3",
           "Shop & Service",
           "Professional & Other Places"
          ],
          [
           "Tower Hamlets",
           "LONDON",
           "3",
           "Professional & Other Places",
           "Food"
          ],
          [
           "Hackney",
           "LONDON",
           "3",
           "Shop & Service",
           "Food"
          ],
          [
           "Southwark",
           "LONDON",
           "3",
           "Professional & Other Places",
           "Shop & Service"
          ],
          [
           "Lewisham",
           "LONDON",
           "3",
           "Shop & Service",
           "Professional & Other Places"
          ],
          [
           "Ealing",
           "LONDON",
           "3",
           "Shop & Service",
           "Professional & Other Places"
          ],
          [
           "Richmond upon Thames",
           "TWICKENHAM",
           "3",
           "Shop & Service",
           "Food"
          ],
          [
           "Greenwich",
           "LONDON",
           "3",
           "Shop & Service",
           "Food"
          ],
          [
           "Haringey",
           "LONDON",
           "3",
           "Shop & Service",
           "Food"
          ],
          [
           "Croydon",
           "CROYDON",
           "3",
           "Shop & Service",
           "Professional & Other Places"
          ],
          [
           "Haringey",
           "LONDON",
           "3",
           "Shop & Service",
           "Food"
          ],
          [
           "Hammersmith and Fulham",
           "LONDON",
           "3",
           "Shop & Service",
           "Food"
          ],
          [
           "Lambeth",
           "LONDON",
           "3",
           "Travel & Transport",
           "Outdoors & Recreation"
          ],
          [
           "Enfield",
           "LONDON",
           "3",
           "Shop & Service",
           "Professional & Other Places"
          ],
          [
           "Greenwich",
           "LONDON",
           "3",
           "Shop & Service",
           "Food"
          ],
          [
           "Hounslow",
           "LONDON",
           "3",
           "Residence",
           "Shop & Service"
          ],
          [
           "Lewisham",
           "LONDON",
           "3",
           "Residence",
           "Shop & Service"
          ],
          [
           "Hackney",
           "LONDON",
           "3",
           "Shop & Service",
           "Professional & Other Places"
          ],
          [
           "Hackney",
           "LONDON",
           "3",
           "Shop & Service",
           "Professional & Other Places"
          ],
          [
           "Hackney",
           "LONDON",
           "3",
           "Shop & Service",
           "Professional & Other Places"
          ],
          [
           "Hackney",
           "LONDON",
           "3",
           "Food",
           "Shop & Service"
          ],
          [
           "Hammersmith and Fulham",
           "LONDON",
           "3",
           "Food",
           "Shop & Service"
          ],
          [
           "Richmond upon Thames",
           "KINGSTON UPON THAMES",
           "3",
           "Shop & Service",
           "Food"
          ],
          [
           "Haringey",
           "LONDON",
           "3",
           "Shop & Service",
           "Food"
          ],
          [
           "Harrow",
           "HARROW",
           "3",
           "Shop & Service",
           "Professional & Other Places"
          ],
          [
           "Bromley",
           "BROMLEY",
           "3",
           "Shop & Service",
           "Professional & Other Places"
          ],
          [
           "Hillingdon",
           "HAYES",
           "3",
           "Shop & Service",
           "Professional & Other Places"
          ],
          [
           "Islington",
           "LONDON",
           "3",
           "Shop & Service",
           "Professional & Other Places"
          ],
          [
           "Kensington and Chelsea",
           "LONDON",
           "3",
           "Travel & Transport",
           "Shop & Service"
          ],
          [
           "Hackney",
           "LONDON",
           "3",
           "Shop & Service",
           "Residence"
          ],
          [
           "Lewisham",
           "LONDON",
           "3",
           "Shop & Service",
           "Residence"
          ],
          [
           "Haringey",
           "LONDON",
           "3",
           "Shop & Service",
           "Professional & Other Places"
          ],
          [
           "Hounslow",
           "HOUNSLOW",
           "3",
           "Shop & Service",
           "Professional & Other Places"
          ],
          [
           "Hackney",
           "LONDON",
           "3",
           "Shop & Service",
           "Professional & Other Places"
          ],
          [
           "Tower Hamlets",
           "LONDON",
           "3",
           "Professional & Other Places",
           "Food"
          ],
          [
           "Camden",
           "LONDON",
           "3",
           "Professional & Other Places",
           "Food"
          ],
          [
           "Richmond upon Thames",
           "RICHMOND",
           "3",
           "Professional & Other Places",
           "Shop & Service"
          ],
          [
           "Brent",
           "LONDON",
           "3",
           "Shop & Service",
           "Travel & Transport"
          ],
          [
           "Kingston upon Thames",
           "KINGSTON UPON THAMES",
           "3",
           "Shop & Service",
           "Professional & Other Places"
          ],
          [
           "Lewisham",
           "LONDON",
           "3",
           "Shop & Service",
           "Professional & Other Places"
          ],
          [
           "Lambeth",
           "LONDON",
           "3",
           "Travel & Transport",
           "Outdoors & Recreation"
          ],
          [
           "Hounslow",
           "HOUNSLOW",
           "3",
           "Shop & Service",
           "Professional & Other Places"
          ],
          [
           "Tower Hamlets",
           "LONDON",
           "3",
           "Professional & Other Places",
           "Food"
          ],
          [
           "Lewisham",
           "LONDON",
           "3",
           "Shop & Service",
           "Residence"
          ],
          [
           "Lewisham",
           "LONDON",
           "3",
           "Shop & Service",
           "Residence"
          ],
          [
           "Waltham Forest",
           "LONDON",
           "3",
           "Shop & Service",
           "Travel & Transport"
          ],
          [
           "Tower Hamlets",
           "LONDON",
           "3",
           "Professional & Other Places",
           "Food"
          ],
          [
           "Bexley",
           "LONDON",
           "3",
           "Professional & Other Places",
           "Shop & Service"
          ],
          [
           "Hackney",
           "LONDON",
           "3",
           "Shop & Service",
           "Food"
          ],
          [
           "Hackney",
           "LONDON",
           "3",
           "Shop & Service",
           "Professional & Other Places"
          ],
          [
           "Newham",
           "LONDON",
           "3",
           "Shop & Service",
           "Travel & Transport"
          ],
          [
           "Greenwich",
           "LONDON",
           "3",
           "Shop & Service",
           "Residence"
          ],
          [
           "Tower Hamlets",
           "LONDON",
           "3",
           "Professional & Other Places",
           "Food"
          ],
          [
           "Tower Hamlets",
           "LONDON",
           "3",
           "Professional & Other Places",
           "Food"
          ],
          [
           "Wandsworth",
           "LONDON",
           "3",
           "Shop & Service",
           "Professional & Other Places"
          ],
          [
           "Tower Hamlets",
           "LONDON",
           "3",
           "Professional & Other Places",
           "Shop & Service"
          ],
          [
           "Hammersmith and Fulham",
           "LONDON",
           "3",
           "Food",
           "Shop & Service"
          ],
          [
           "Lambeth",
           "LONDON",
           "3",
           "Travel & Transport",
           "Outdoors & Recreation"
          ],
          [
           "Hammersmith and Fulham",
           "LONDON",
           "3",
           "Shop & Service",
           "Food"
          ],
          [
           "Tower Hamlets",
           "LONDON",
           "3",
           "Professional & Other Places",
           "Food"
          ],
          [
           "Camden",
           "LONDON",
           "3",
           "Shop & Service",
           "Professional & Other Places"
          ],
          [
           "Wandsworth",
           "LONDON",
           "3",
           "Shop & Service",
           "Professional & Other Places"
          ],
          [
           "Tower Hamlets",
           "LONDON",
           "3",
           "Residence",
           "Outdoors & Recreation"
          ],
          [
           "Richmond upon Thames",
           "RICHMOND",
           "3",
           "Shop & Service",
           "Food"
          ],
          [
           "Wandsworth",
           "LONDON",
           "3",
           "Shop & Service",
           "Professional & Other Places"
          ],
          [
           "Southwark",
           "LONDON",
           "3",
           "Professional & Other Places",
           "Shop & Service"
          ],
          [
           "Hammersmith and Fulham",
           "LONDON",
           "3",
           "Shop & Service",
           "Food"
          ],
          [
           "Hackney",
           "LONDON",
           "3",
           "Shop & Service",
           "Food"
          ],
          [
           "Tower Hamlets",
           "LONDON",
           "3",
           "Professional & Other Places",
           "Shop & Service"
          ],
          [
           "Croydon",
           "CROYDON",
           "3",
           "Shop & Service",
           "Professional & Other Places"
          ],
          [
           "Hackney",
           "LONDON",
           "3",
           "Shop & Service",
           "Food"
          ],
          [
           "Hackney",
           "LONDON",
           "3",
           "Shop & Service",
           "Professional & Other Places"
          ],
          [
           "Merton",
           "LONDON",
           "3",
           "Shop & Service",
           "Professional & Other Places"
          ],
          [
           "Lewisham",
           "LONDON",
           "3",
           "Shop & Service",
           "Residence"
          ],
          [
           "Wandsworth",
           "LONDON",
           "3",
           "Shop & Service",
           "Professional & Other Places"
          ],
          [
           "Lewisham",
           "LONDON",
           "3",
           "Shop & Service",
           "Travel & Transport"
          ],
          [
           "Hackney",
           "LONDON",
           "3",
           "Shop & Service",
           "Food"
          ],
          [
           "Tower Hamlets",
           "LONDON",
           "3",
           "College & University",
           "Professional & Other Places"
          ],
          [
           "Lambeth",
           "LONDON",
           "3",
           "Shop & Service",
           "Food"
          ],
          [
           "Hackney",
           "LONDON",
           "3",
           "Shop & Service",
           "Food"
          ],
          [
           "Newham",
           "LONDON",
           "3",
           "Shop & Service",
           "Travel & Transport"
          ],
          [
           "Haringey",
           "LONDON",
           "3",
           "Shop & Service",
           "Travel & Transport"
          ],
          [
           "Camden",
           "LONDON",
           "3",
           "Food",
           "Shop & Service"
          ],
          [
           "Wandsworth",
           "LONDON",
           "3",
           "Shop & Service",
           "Professional & Other Places"
          ],
          [
           "Wandsworth",
           "LONDON",
           "3",
           "Shop & Service",
           "Professional & Other Places"
          ],
          [
           "Haringey",
           "LONDON",
           "3",
           "Shop & Service",
           "Professional & Other Places"
          ],
          [
           "Haringey",
           "LONDON",
           "3",
           "Shop & Service",
           "Professional & Other Places"
          ],
          [
           "Haringey",
           "LONDON",
           "3",
           "Shop & Service",
           "Professional & Other Places"
          ],
          [
           "Haringey",
           "LONDON",
           "3",
           "Shop & Service",
           "Professional & Other Places"
          ],
          [
           "Richmond upon Thames",
           "TWICKENHAM",
           "3",
           "Shop & Service",
           "Professional & Other Places"
          ],
          [
           "Waltham Forest",
           "LONDON",
           "3",
           "Shop & Service",
           "Professional & Other Places"
          ],
          [
           "Lambeth",
           "LONDON",
           "3",
           "Professional & Other Places",
           "Shop & Service"
          ],
          [
           "Waltham Forest",
           "LONDON",
           "3",
           "Shop & Service",
           "Professional & Other Places"
          ],
          [
           "Waltham Forest",
           "LONDON",
           "3",
           "Shop & Service",
           "Professional & Other Places"
          ],
          [
           "Wandsworth",
           "LONDON",
           "3",
           "Shop & Service",
           "Professional & Other Places"
          ],
          [
           "Tower Hamlets",
           "LONDON",
           "3",
           "Professional & Other Places",
           "Outdoors & Recreation"
          ],
          [
           "Brent",
           "WEMBLEY",
           "3",
           "Shop & Service",
           "Food"
          ],
          [
           "Brent",
           "WEMBLEY",
           "3",
           "Shop & Service",
           "Professional & Other Places"
          ],
          [
           "Hackney",
           "LONDON",
           "3",
           "Shop & Service",
           "Professional & Other Places"
          ],
          [
           "Hammersmith and Fulham",
           "LONDON",
           "3",
           "Food",
           "Shop & Service"
          ],
          [
           "Hammersmith and Fulham",
           "LONDON",
           "3",
           "Shop & Service",
           "Food"
          ],
          [
           "Bromley",
           "BROMLEY",
           "3",
           "Shop & Service",
           "Professional & Other Places"
          ],
          [
           "Richmond upon Thames",
           "TWICKENHAM",
           "3",
           "Shop & Service",
           "Professional & Other Places"
          ],
          [
           "Merton",
           "LONDON",
           "3",
           "Shop & Service",
           "Professional & Other Places"
          ],
          [
           "Hammersmith and Fulham",
           "LONDON",
           "3",
           "Food",
           "Shop & Service"
          ]
         ],
         "hovertemplate": "<b>%{hovertext}</b><br><br>Cluster=%{customdata[2]}<br>Lat=%{lat}<br>Lng=%{lon}<br>Borough=%{customdata[0]}<br>Town=%{customdata[1]}<br>1st Most Common Venue=%{customdata[3]}<br>2nd Most Common Venue=%{customdata[4]}<extra></extra>",
         "hovertext": [
          "Acton",
          "Addiscombe",
          "Balham",
          "Battersea",
          "Bellingham",
          "Belsize Park",
          "Bethnal Green",
          "Blackheath",
          "Blackwall",
          "Bow",
          "Brent Park",
          "Bromley (also Bromley-by-Bow)",
          "Brompton",
          "Cambridge Heath",
          "Camden Town",
          "Canary Wharf",
          "Carshalton",
          "Castelnau",
          "Catford",
          "Chalk Farm",
          "Charlton",
          "Cheam",
          "Chelsea",
          "Chinbrook",
          "Chiswick",
          "Church End",
          "Church End",
          "Clapham",
          "Colliers Wood",
          "Coombe",
          "Coombe",
          "Coombe",
          "Coombe",
          "Crofton Park",
          "Crouch End",
          "Cubitt Town",
          "Dalston",
          "Denmark Hill",
          "Deptford",
          "Ealing",
          "Eel Pie Island",
          "Eltham",
          "Finsbury Park",
          "Forestdale",
          "Fortis Green",
          "Fulham",
          "Gipsy Hill",
          "Grange Park",
          "Greenwich",
          "Grove Park",
          "Grove Park",
          "Hackney",
          "Hackney Central",
          "Hackney Marshes",
          "Haggerston",
          "Hammersmith",
          "Hampton Wick",
          "Harringay",
          "Harrow",
          "Hayes",
          "Hayes",
          "Highbury",
          "Holland Park",
          "Homerton",
          "Honor Oak",
          "Hornsey",
          "Hounslow",
          "Hoxton",
          "Isle of Dogs",
          "Kentish Town",
          "Kew",
          "Kilburn",
          "Kingston upon Thames",
          "Ladywell",
          "Lambeth",
          "Lampton",
          "Leamouth",
          "Lee",
          "Lewisham",
          "Leyton",
          "Limehouse",
          "Longlands",
          "Lower Clapton",
          "Manor House",
          "Maryland",
          "Maze Hill",
          "Mile End",
          "Millwall",
          "Nine Elms",
          "Old Ford",
          "Old Oak Common",
          "Oval",
          "Parsons Green",
          "Poplar",
          "Primrose Hill",
          "Putney",
          "Ratcliff",
          "Richmond",
          "Roehampton",
          "Rotherhithe",
          "Sands End",
          "Shacklewell",
          "Shadwell",
          "Shirley",
          "Shoreditch",
          "South Hackney",
          "South Wimbledon",
          "Southend",
          "Southfields",
          "St Johns",
          "Stamford Hill",
          "Stepney",
          "Stockwell",
          "Stoke Newington",
          "Stratford",
          "Stroud Green",
          "Swiss Cottage",
          "Tooting",
          "Tooting Bec",
          "Tottenham",
          "Tottenham Green",
          "Tottenham Hale",
          "Turnpike Lane",
          "Twickenham",
          "Upper Walthamstow",
          "Vauxhall",
          "Walthamstow",
          "Walthamstow Village",
          "Wandsworth",
          "Wapping",
          "Wembley",
          "Wembley Park",
          "West Hackney",
          "West Kensington",
          "White City",
          "Widmore (also Widmore Green)",
          "Whitton",
          "Wimbledon",
          "Wormwood Scrubs"
         ],
         "lat": [
          51.51806549999999,
          51.3735680787325,
          51.45682000000005,
          51.459232500000006,
          51.459160000000054,
          51.546898398855184,
          51.504126600453446,
          51.47236330464883,
          51.52022000000005,
          51.52022000000005,
          51.57395193404126,
          51.52022000000005,
          51.47772000000003,
          51.52203958714199,
          51.53761995614299,
          51.52022000000005,
          51.36284002943043,
          51.485597803398825,
          51.459160000000054,
          51.542821467115445,
          51.48454000000004,
          51.36132435148824,
          51.48198000000008,
          51.459160000000054,
          51.487373748466936,
          51.584253344799436,
          51.47504632750984,
          51.49084000000005,
          51.42069001110853,
          51.3671697217131,
          51.412031999999996,
          51.3671697217131,
          51.412031999999996,
          51.459160000000054,
          51.57635101698774,
          51.52022000000005,
          51.54834845382215,
          51.473736211092046,
          51.474270034018765,
          51.51406000000003,
          51.46337441920929,
          51.48454000000004,
          51.56878000000006,
          51.372340000000065,
          51.59095911304599,
          51.4826899378211,
          51.49084000000005,
          51.510295326548984,
          51.48454000000004,
          51.60396403260681,
          51.46698021778042,
          51.54505000000006,
          51.54713000000004,
          51.54505000000006,
          51.53849000000008,
          51.49617000000006,
          51.415950000000066,
          51.58478152594502,
          51.58263000000005,
          51.39815637597911,
          51.50276529123459,
          51.54624000000007,
          51.50163975059008,
          51.54690000000005,
          51.459160000000054,
          51.57428850000001,
          51.46228000000008,
          51.544887992859934,
          51.52022000000005,
          51.55078000000003,
          51.468628422834044,
          51.541870000000074,
          51.40984000000003,
          51.45641000000006,
          51.49084000000005,
          51.470299039126076,
          51.52022000000005,
          51.46257959777167,
          51.459160000000054,
          51.547985135879436,
          51.52022000000005,
          51.471981000000014,
          51.550862117718694,
          51.556846431040384,
          51.54764158006811,
          51.481701000000015,
          51.52040369910079,
          51.52022000000005,
          51.45682000000005,
          51.51660764694028,
          51.47772000000003,
          51.49084000000005,
          51.474150000000066,
          51.52022000000005,
          51.54083905632829,
          51.45682000000005,
          51.510718561483586,
          51.45400915453738,
          51.45682000000005,
          51.49574000000007,
          51.4826899378211,
          51.55416215382668,
          51.51111000000003,
          51.36983987399733,
          51.53942700000002,
          51.54505000000006,
          51.41534000000007,
          51.459160000000054,
          51.454321573173694,
          51.469897499999995,
          51.548184056155186,
          51.51670190834722,
          51.47001000000006,
          51.552283427674936,
          51.54220000000004,
          51.56547179987947,
          51.54367000000008,
          51.45682000000005,
          51.45682000000005,
          51.586679745472225,
          51.586679745472225,
          51.586679745472225,
          51.58944024263658,
          51.455988000000005,
          51.57898000000006,
          51.48559000000006,
          51.57898000000006,
          51.57898000000006,
          51.45682000000005,
          51.50458000000003,
          51.55297000000007,
          51.561586980800406,
          51.54505000000006,
          51.47772000000003,
          51.4826899378211,
          51.4060704911339,
          51.452986010228564,
          51.41539000000006,
          51.47772000000003
         ],
         "legendgroup": "3",
         "lon": [
          -0.3019544999999981,
          -0.09033311937051809,
          -0.1945199999999545,
          -0.1730789999999962,
          -0.012129999999956453,
          -0.17282773457354447,
          -0.05922569467192267,
          -0.01301957962362178,
          -0.054309999999929914,
          -0.054309999999929914,
          -0.2301453242060037,
          -0.054309999999929914,
          -0.2014499999999657,
          -0.05549610229373748,
          -0.1450899816781068,
          -0.054309999999929914,
          -0.1839700183218063,
          -0.23313753284896066,
          -0.012129999999956453,
          -0.148578235240569,
          0.002750000000048658,
          -0.19358758665781206,
          -0.1854999999999336,
          -0.012129999999956453,
          -0.247567752541106,
          -0.01246795045038361,
          -0.24045883734011164,
          -0.11107999999995855,
          -0.17567000779025538,
          -0.09600631040756821,
          -0.2898697500000028,
          -0.09600631040756821,
          -0.2898697500000028,
          -0.012129999999956453,
          -0.12596601963658563,
          -0.054309999999929914,
          -0.06484092455136468,
          -0.09315897826992249,
          -0.02174931183870372,
          -0.30072999999993044,
          -0.3093145707527385,
          0.002750000000048658,
          -0.09846999999996342,
          -0.09944999999993342,
          -0.1508334651723848,
          -0.2129099233942567,
          -0.11107999999995855,
          -0.2979067501672565,
          0.002750000000048658,
          -0.12672536735443427,
          -0.02043808618523037,
          -0.05531999999993786,
          -0.055099999999924876,
          -0.05531999999993786,
          -0.07554999999996426,
          -0.22934999999995398,
          -0.31370999999995774,
          -0.09814679145519253,
          -0.33202999999997473,
          0.015123704723472547,
          -0.40732924449493807,
          -0.10326999999995223,
          -0.2055284999999931,
          -0.042339999999967404,
          -0.012129999999956453,
          -0.12737474999998466,
          -0.3621599999999603,
          -0.05954051061888684,
          -0.054309999999929914,
          -0.14064999999993688,
          -0.29469289595136133,
          -0.1979499999999348,
          -0.3006099999999492,
          -0.01949999999993679,
          -0.11107999999995855,
          -0.36690024622638734,
          -0.054309999999929914,
          -0.009841944150654258,
          -0.012129999999956453,
          -0.002230369576499119,
          -0.054309999999929914,
          -0.19277549999998178,
          -0.051984239076214064,
          -0.061591143632053036,
          0.004312571469792642,
          0.002405249999993659,
          -0.053405490595804975,
          -0.054309999999929914,
          -0.1945199999999545,
          -0.056547346008563246,
          -0.2014499999999657,
          -0.11107999999995855,
          -0.20021999999994478,
          -0.054309999999929914,
          -0.15706646653347683,
          -0.1945199999999545,
          -0.04333289336377088,
          -0.29975626969156677,
          -0.1945199999999545,
          -0.051569999999969696,
          -0.2129099233942567,
          -0.06862033688411363,
          -0.05674999999996544,
          -0.11168976798994026,
          -0.07100774999999408,
          -0.05531999999993786,
          -0.1925099999999702,
          -0.012129999999956453,
          -0.1998087256084327,
          -0.013578749999988253,
          -0.06545100623946794,
          -0.04389372420888454,
          -0.11248999999997977,
          -0.07494975516607283,
          0.005330000000071777,
          -0.1060226998192129,
          -0.172649999999976,
          -0.1945199999999545,
          -0.1945199999999545,
          -0.07045849818887971,
          -0.07045849818887971,
          -0.07045849818887971,
          -0.10765449026122992,
          -0.33030899999999963,
          -0.011219999999980246,
          -0.12332999999995309,
          -0.011219999999980246,
          -0.011219999999980246,
          -0.1945199999999545,
          -0.05598999999995158,
          -0.29552999999992835,
          -0.2819689143230941,
          -0.05531999999993786,
          -0.2014499999999657,
          -0.2129099233942567,
          0.016465591081097304,
          -0.3350880748761787,
          -0.19534999999996217,
          -0.2014499999999657
         ],
         "marker": {
          "color": "#EF553B",
          "size": 12
         },
         "mode": "markers",
         "name": "3",
         "showlegend": true,
         "subplot": "mapbox",
         "type": "scattermapbox"
        },
        {
         "customdata": [
          [
           "City",
           "LONDON",
           "1",
           "Outdoors & Recreation",
           "Food"
          ],
          [
           "Southwark",
           "LONDON",
           "1",
           "Food",
           "Travel & Transport"
          ],
          [
           "City",
           "LONDON",
           "1",
           "Outdoors & Recreation",
           "Food"
          ],
          [
           "Southwark",
           "LONDON",
           "1",
           "Food",
           "Outdoors & Recreation"
          ],
          [
           "City",
           "LONDON",
           "1",
           "Food",
           "Nightlife Spot"
          ],
          [
           "Camden",
           "LONDON",
           "1",
           "College & University",
           "Food"
          ],
          [
           "Southwark",
           "LONDON",
           "1",
           "Food",
           "Outdoors & Recreation"
          ],
          [
           "Westminster",
           "LONDON",
           "1",
           "Arts & Entertainment",
           "Professional & Other Places"
          ],
          [
           "Southwark",
           "LONDON",
           "1",
           "Food",
           "Outdoors & Recreation"
          ],
          [
           "Camden",
           "LONDON",
           "1",
           "Shop & Service",
           "Professional & Other Places"
          ],
          [
           "Camden",
           "LONDON",
           "1",
           "Professional & Other Places",
           "Food"
          ],
          [
           "Southwark",
           "LONDON",
           "1",
           "Food",
           "Outdoors & Recreation"
          ],
          [
           "Southwark",
           "LONDON",
           "1",
           "Food",
           "Outdoors & Recreation"
          ],
          [
           "Southwark",
           "LONDON",
           "1",
           "Food",
           "Outdoors & Recreation"
          ],
          [
           "Tower Hamlets",
           "LONDON",
           "1",
           "Outdoors & Recreation",
           "Food"
          ],
          [
           "Southwark",
           "LONDON",
           "1",
           "Travel & Transport",
           "College & University"
          ],
          [
           "City",
           "LONDON",
           "1",
           "Food",
           "Professional & Other Places"
          ],
          [
           "Southwark",
           "LONDON",
           "1",
           "Food",
           "Outdoors & Recreation"
          ]
         ],
         "hovertemplate": "<b>%{hovertext}</b><br><br>Cluster=%{customdata[2]}<br>Lat=%{lat}<br>Lng=%{lon}<br>Borough=%{customdata[0]}<br>Town=%{customdata[1]}<br>1st Most Common Venue=%{customdata[3]}<br>2nd Most Common Venue=%{customdata[4]}<extra></extra>",
         "hovertext": [
          "Aldgate",
          "Bankside",
          "Barbican",
          "Bermondsey",
          "Blackfriars",
          "Bloomsbury",
          "Camberwell",
          "Charing Cross",
          "Dulwich",
          "Fitzrovia",
          "Holborn",
          "Newington",
          "Nunhead",
          "Peckham",
          "Spitalfields",
          "Surrey Quays",
          "Temple",
          "Walworth"
         ],
         "lat": [
          51.513308435920024,
          51.50816773788799,
          51.52005005107048,
          51.505718012162625,
          51.51204000000007,
          51.520740000000046,
          51.50541000000004,
          51.507212550837544,
          51.50541000000004,
          51.51873000000006,
          51.51651000000004,
          51.50541000000004,
          51.50541000000004,
          51.50541000000004,
          51.518380000000036,
          51.502415522976754,
          51.51367880282308,
          51.50541000000004
         ],
         "legendgroup": "1",
         "lon": [
          -0.077762090020195,
          -0.09523001191694887,
          -0.09247002452461052,
          -0.08923926542542779,
          -0.10355999999995902,
          -0.12309999999996535,
          -0.08920999999998003,
          -0.12752129664989184,
          -0.08920999999998003,
          -0.1373699999999758,
          -0.11967999999995982,
          -0.08920999999998003,
          -0.08920999999998003,
          -0.08920999999998003,
          -0.0746799999999439,
          -0.102682358010783,
          -0.11088490141152504,
          -0.08920999999998003
         ],
         "marker": {
          "color": "#00cc96",
          "size": 12
         },
         "mode": "markers",
         "name": "1",
         "showlegend": true,
         "subplot": "mapbox",
         "type": "scattermapbox"
        },
        {
         "customdata": [
          [
           "Westminster",
           "LONDON",
           "2",
           "Professional & Other Places",
           "Food"
          ],
          [
           "Islington",
           "LONDON",
           "2",
           "Food",
           "Shop & Service"
          ],
          [
           "Islington",
           "LONDON",
           "2",
           "Food",
           "Outdoors & Recreation"
          ],
          [
           "Islington",
           "LONDON",
           "2",
           "Food",
           "Shop & Service"
          ],
          [
           "Westminster",
           "LONDON",
           "2",
           "Professional & Other Places",
           "Food"
          ],
          [
           "Westminster",
           "LONDON",
           "2",
           "Professional & Other Places",
           "Travel & Transport"
          ],
          [
           "Islington",
           "LONDON",
           "2",
           "Food",
           "Outdoors & Recreation"
          ],
          [
           "Westminster",
           "LONDON",
           "2",
           "Professional & Other Places",
           "Food"
          ],
          [
           "Islington",
           "LONDON",
           "2",
           "Food",
           "Outdoors & Recreation"
          ],
          [
           "Westminster",
           "LONDON",
           "2",
           "Travel & Transport",
           "Professional & Other Places"
          ],
          [
           "Islington",
           "LONDON",
           "2",
           "Food",
           "Outdoors & Recreation"
          ],
          [
           "Kensington and Chelsea",
           "LONDON",
           "2",
           "Travel & Transport",
           "Professional & Other Places"
          ],
          [
           "Southwark",
           "LONDON",
           "2",
           "College & University",
           "Professional & Other Places"
          ],
          [
           "Islington ",
           "LONDON",
           "2",
           "Food",
           "Outdoors & Recreation"
          ],
          [
           "Islington",
           "LONDON",
           "2",
           "Food",
           "Outdoors & Recreation"
          ],
          [
           "Camden",
           "LONDON",
           "2",
           "Travel & Transport",
           "College & University"
          ],
          [
           "Camden",
           "LONDON",
           "2",
           "Travel & Transport",
           "College & University"
          ],
          [
           "Camden",
           "LONDON",
           "2",
           "Travel & Transport",
           "Food"
          ],
          [
           "Islington",
           "LONDON",
           "2",
           "Food",
           "Shop & Service"
          ],
          [
           "Islington",
           "LONDON",
           "2",
           "Food",
           "Outdoors & Recreation"
          ],
          [
           "Lambeth",
           "LONDON",
           "2",
           "Travel & Transport",
           "College & University"
          ],
          [
           "Kensington and Chelsea",
           "LONDON",
           "2",
           "Travel & Transport",
           "Professional & Other Places"
          ],
          [
           "Camden and Islington",
           "LONDON",
           "2",
           "Shop & Service",
           "Outdoors & Recreation"
          ],
          [
           "Westminster",
           "LONDON",
           "2",
           "Travel & Transport",
           "Professional & Other Places"
          ],
          [
           "Westminster",
           "LONDON",
           "2",
           "Residence",
           "Travel & Transport"
          ],
          [
           "Westminster",
           "LONDON",
           "2",
           "Professional & Other Places",
           "Food"
          ],
          [
           "Westminster",
           "LONDON",
           "2",
           "Professional & Other Places",
           "Food"
          ],
          [
           "Westminster",
           "LONDON",
           "2",
           "Residence",
           "Travel & Transport"
          ],
          [
           "Westminster",
           "LONDON",
           "2",
           "Professional & Other Places",
           "Food"
          ],
          [
           "Westminster",
           "LONDON",
           "2",
           "Professional & Other Places",
           "Outdoors & Recreation"
          ],
          [
           "Islington",
           "LONDON",
           "2",
           "Food",
           "Shop & Service"
          ],
          [
           "Kensington and Chelsea",
           "LONDON",
           "2",
           "Food",
           "Travel & Transport"
          ],
          [
           "Westminster",
           "LONDON",
           "2",
           "Professional & Other Places",
           "Food"
          ],
          [
           "Islington",
           "LONDON",
           "2",
           "Travel & Transport",
           "College & University"
          ],
          [
           "Westminster",
           "LONDON",
           "2",
           "Travel & Transport",
           "Food"
          ],
          [
           "Hammersmith and Fulham",
           "LONDON",
           "2",
           "Travel & Transport",
           "Food"
          ],
          [
           "Westminster",
           "LONDON",
           "2",
           "Professional & Other Places",
           "Food"
          ],
          [
           "Camden",
           "LONDON",
           "2",
           "Travel & Transport",
           "Shop & Service"
          ],
          [
           "Kensington and Chelsea",
           "LONDON",
           "2",
           "Residence",
           "Food"
          ],
          [
           "Westminster",
           "LONDON",
           "2",
           "Travel & Transport",
           "Food"
          ],
          [
           "Camden",
           "LONDON",
           "2",
           "Travel & Transport",
           "College & University"
          ],
          [
           "Westminster",
           "LONDON",
           "2",
           "Professional & Other Places",
           "Food"
          ],
          [
           "Islington",
           "LONDON",
           "2",
           "Food",
           "Outdoors & Recreation"
          ],
          [
           "Camden",
           "LONDON",
           "2",
           "Travel & Transport",
           "College & University"
          ],
          [
           "Tower Hamlets",
           "LONDON",
           "2",
           "Outdoors & Recreation",
           "Travel & Transport"
          ],
          [
           "Islington",
           "LONDON",
           "2",
           "Food",
           "Outdoors & Recreation"
          ],
          [
           "Islington",
           "LONDON",
           "2",
           "Shop & Service",
           "Outdoors & Recreation"
          ],
          [
           "Kensington and Chelsea",
           "LONDON",
           "2",
           "Food",
           "Travel & Transport"
          ],
          [
           "Camden",
           "LONDON",
           "2",
           "Travel & Transport",
           "Food"
          ],
          [
           "Westminster",
           "LONDON",
           "2",
           "Professional & Other Places",
           "Food"
          ],
          [
           "Tower Hamlets",
           "LONDON",
           "2",
           "Food",
           "Shop & Service"
          ]
         ],
         "hovertemplate": "<b>%{hovertext}</b><br><br>Cluster=%{customdata[2]}<br>Lat=%{lat}<br>Lng=%{lon}<br>Borough=%{customdata[0]}<br>Town=%{customdata[1]}<br>1st Most Common Venue=%{customdata[3]}<br>2nd Most Common Venue=%{customdata[4]}<extra></extra>",
         "hovertext": [
          "Aldwych",
          "Angel",
          "Archway",
          "Barnsbury",
          "Bayswater",
          "Belgravia",
          "Canonbury",
          "Chinatown",
          "Clerkenwell",
          "Covent Garden",
          "De Beauvoir Town",
          "Earls Court",
          "Elephant and Castle",
          "Farringdon",
          "Finsbury",
          "Frognal",
          "Gospel Oak",
          "Hampstead",
          "Holloway",
          "Islington",
          "Kennington",
          "Kensington",
          "King's Cross",
          "Knightsbridge",
          "Lisson Grove",
          "Little Venice",
          "Maida Vale",
          "Marylebone (also St Marylebone)",
          "Mayfair",
          "Millbank",
          "Nag's Head",
          "North Kensington",
          "Paddington",
          "Pentonville",
          "Pimlico",
          "Shepherd's Bush",
          "Soho",
          "Somerstown",
          "South Kensington",
          "St James's",
          "St Giles",
          "St John's Wood",
          "St Luke's",
          "St Pancras",
          "Tower Hill",
          "Tufnell Park",
          "Upper Holloway",
          "West Brompton",
          "West Hampstead",
          "Westminster",
          "Whitechapel"
         ],
         "lat": [
          51.50008000000008,
          51.532020000000045,
          51.532790000000034,
          51.536480534879935,
          51.50008000000008,
          51.494857585883956,
          51.532790000000034,
          51.50008000000008,
          51.532790000000034,
          51.49319400000002,
          51.532790000000034,
          51.49750000000006,
          51.49503000000004,
          51.532790000000034,
          51.532790000000034,
          51.53236000000004,
          51.53236000000004,
          51.53405473364255,
          51.533630036643764,
          51.532790000000034,
          51.49805994134637,
          51.49906000000004,
          51.535737,
          51.50089180718563,
          51.52621993392596,
          51.50008000000008,
          51.50008000000008,
          51.523840000000064,
          51.50008000000008,
          51.49564036479073,
          51.53363000000007,
          51.49014000000005,
          51.50008000000008,
          51.53136428187524,
          51.49176994892964,
          51.4960199766923,
          51.50008000000008,
          51.53588642797144,
          51.49807000000004,
          51.491190000000074,
          51.53236000000004,
          51.495715376511676,
          51.532790000000034,
          51.532350000000065,
          51.50604755297273,
          51.532790000000034,
          51.53545425365254,
          51.49014000000005,
          51.53405473364255,
          51.50008000000008,
          51.51917000000003
         ],
         "legendgroup": "2",
         "lon": [
          -0.1280199999999354,
          -0.10625999999996338,
          -0.1061399999999253,
          -0.1109095599068421,
          -0.1280199999999354,
          -0.12745119894784956,
          -0.1061399999999253,
          -0.1280199999999354,
          -0.1061399999999253,
          -0.12893740282209368,
          -0.1061399999999253,
          -0.19760999999994056,
          -0.09890999999993255,
          -0.1061399999999253,
          -0.1061399999999253,
          -0.1279599999999732,
          -0.1279599999999732,
          -0.1391765653310896,
          -0.10726005107039317,
          -0.1061399999999253,
          -0.11211230167805922,
          -0.19873999999992975,
          -0.10332000000000313,
          -0.12279855209604336,
          -0.17149005164730943,
          -0.1280199999999354,
          -0.1280199999999354,
          -0.15756999999996424,
          -0.1280199999999354,
          -0.12531052201516182,
          -0.10577999999992471,
          -0.16247999999995955,
          -0.1280199999999354,
          -0.11445304702839991,
          -0.13979003332543358,
          -0.2239514999999983,
          -0.1280199999999354,
          -0.1275258685428388,
          -0.17403999999993403,
          -0.13481999999993377,
          -0.1279599999999732,
          -0.12736106476750578,
          -0.1061399999999253,
          -0.12575999999995702,
          -0.07500042081554159,
          -0.1061399999999253,
          -0.10409409146715132,
          -0.16247999999995955,
          -0.1391765653310896,
          -0.1280199999999354,
          -0.059659999999951197
         ],
         "marker": {
          "color": "#ab63fa",
          "size": 12
         },
         "mode": "markers",
         "name": "2",
         "showlegend": true,
         "subplot": "mapbox",
         "type": "scattermapbox"
        }
       ],
       "layout": {
        "height": 600,
        "legend": {
         "title": {
          "text": "Cluster"
         },
         "tracegroupgap": 0
        },
        "mapbox": {
         "center": {
          "lat": 51.50223865763299,
          "lon": -0.10806065956225025
         },
         "domain": {
          "x": [
           0,
           1
          ],
          "y": [
           0,
           1
          ]
         },
         "style": "open-street-map",
         "zoom": 9
        },
        "margin": {
         "b": 0,
         "l": 0,
         "r": 0,
         "t": 0
        },
        "template": {
         "data": {
          "bar": [
           {
            "error_x": {
             "color": "#2a3f5f"
            },
            "error_y": {
             "color": "#2a3f5f"
            },
            "marker": {
             "line": {
              "color": "#E5ECF6",
              "width": 0.5
             }
            },
            "type": "bar"
           }
          ],
          "barpolar": [
           {
            "marker": {
             "line": {
              "color": "#E5ECF6",
              "width": 0.5
             }
            },
            "type": "barpolar"
           }
          ],
          "carpet": [
           {
            "aaxis": {
             "endlinecolor": "#2a3f5f",
             "gridcolor": "white",
             "linecolor": "white",
             "minorgridcolor": "white",
             "startlinecolor": "#2a3f5f"
            },
            "baxis": {
             "endlinecolor": "#2a3f5f",
             "gridcolor": "white",
             "linecolor": "white",
             "minorgridcolor": "white",
             "startlinecolor": "#2a3f5f"
            },
            "type": "carpet"
           }
          ],
          "choropleth": [
           {
            "colorbar": {
             "outlinewidth": 0,
             "ticks": ""
            },
            "type": "choropleth"
           }
          ],
          "contour": [
           {
            "colorbar": {
             "outlinewidth": 0,
             "ticks": ""
            },
            "colorscale": [
             [
              0,
              "#0d0887"
             ],
             [
              0.1111111111111111,
              "#46039f"
             ],
             [
              0.2222222222222222,
              "#7201a8"
             ],
             [
              0.3333333333333333,
              "#9c179e"
             ],
             [
              0.4444444444444444,
              "#bd3786"
             ],
             [
              0.5555555555555556,
              "#d8576b"
             ],
             [
              0.6666666666666666,
              "#ed7953"
             ],
             [
              0.7777777777777778,
              "#fb9f3a"
             ],
             [
              0.8888888888888888,
              "#fdca26"
             ],
             [
              1,
              "#f0f921"
             ]
            ],
            "type": "contour"
           }
          ],
          "contourcarpet": [
           {
            "colorbar": {
             "outlinewidth": 0,
             "ticks": ""
            },
            "type": "contourcarpet"
           }
          ],
          "heatmap": [
           {
            "colorbar": {
             "outlinewidth": 0,
             "ticks": ""
            },
            "colorscale": [
             [
              0,
              "#0d0887"
             ],
             [
              0.1111111111111111,
              "#46039f"
             ],
             [
              0.2222222222222222,
              "#7201a8"
             ],
             [
              0.3333333333333333,
              "#9c179e"
             ],
             [
              0.4444444444444444,
              "#bd3786"
             ],
             [
              0.5555555555555556,
              "#d8576b"
             ],
             [
              0.6666666666666666,
              "#ed7953"
             ],
             [
              0.7777777777777778,
              "#fb9f3a"
             ],
             [
              0.8888888888888888,
              "#fdca26"
             ],
             [
              1,
              "#f0f921"
             ]
            ],
            "type": "heatmap"
           }
          ],
          "heatmapgl": [
           {
            "colorbar": {
             "outlinewidth": 0,
             "ticks": ""
            },
            "colorscale": [
             [
              0,
              "#0d0887"
             ],
             [
              0.1111111111111111,
              "#46039f"
             ],
             [
              0.2222222222222222,
              "#7201a8"
             ],
             [
              0.3333333333333333,
              "#9c179e"
             ],
             [
              0.4444444444444444,
              "#bd3786"
             ],
             [
              0.5555555555555556,
              "#d8576b"
             ],
             [
              0.6666666666666666,
              "#ed7953"
             ],
             [
              0.7777777777777778,
              "#fb9f3a"
             ],
             [
              0.8888888888888888,
              "#fdca26"
             ],
             [
              1,
              "#f0f921"
             ]
            ],
            "type": "heatmapgl"
           }
          ],
          "histogram": [
           {
            "marker": {
             "colorbar": {
              "outlinewidth": 0,
              "ticks": ""
             }
            },
            "type": "histogram"
           }
          ],
          "histogram2d": [
           {
            "colorbar": {
             "outlinewidth": 0,
             "ticks": ""
            },
            "colorscale": [
             [
              0,
              "#0d0887"
             ],
             [
              0.1111111111111111,
              "#46039f"
             ],
             [
              0.2222222222222222,
              "#7201a8"
             ],
             [
              0.3333333333333333,
              "#9c179e"
             ],
             [
              0.4444444444444444,
              "#bd3786"
             ],
             [
              0.5555555555555556,
              "#d8576b"
             ],
             [
              0.6666666666666666,
              "#ed7953"
             ],
             [
              0.7777777777777778,
              "#fb9f3a"
             ],
             [
              0.8888888888888888,
              "#fdca26"
             ],
             [
              1,
              "#f0f921"
             ]
            ],
            "type": "histogram2d"
           }
          ],
          "histogram2dcontour": [
           {
            "colorbar": {
             "outlinewidth": 0,
             "ticks": ""
            },
            "colorscale": [
             [
              0,
              "#0d0887"
             ],
             [
              0.1111111111111111,
              "#46039f"
             ],
             [
              0.2222222222222222,
              "#7201a8"
             ],
             [
              0.3333333333333333,
              "#9c179e"
             ],
             [
              0.4444444444444444,
              "#bd3786"
             ],
             [
              0.5555555555555556,
              "#d8576b"
             ],
             [
              0.6666666666666666,
              "#ed7953"
             ],
             [
              0.7777777777777778,
              "#fb9f3a"
             ],
             [
              0.8888888888888888,
              "#fdca26"
             ],
             [
              1,
              "#f0f921"
             ]
            ],
            "type": "histogram2dcontour"
           }
          ],
          "mesh3d": [
           {
            "colorbar": {
             "outlinewidth": 0,
             "ticks": ""
            },
            "type": "mesh3d"
           }
          ],
          "parcoords": [
           {
            "line": {
             "colorbar": {
              "outlinewidth": 0,
              "ticks": ""
             }
            },
            "type": "parcoords"
           }
          ],
          "pie": [
           {
            "automargin": true,
            "type": "pie"
           }
          ],
          "scatter": [
           {
            "marker": {
             "colorbar": {
              "outlinewidth": 0,
              "ticks": ""
             }
            },
            "type": "scatter"
           }
          ],
          "scatter3d": [
           {
            "line": {
             "colorbar": {
              "outlinewidth": 0,
              "ticks": ""
             }
            },
            "marker": {
             "colorbar": {
              "outlinewidth": 0,
              "ticks": ""
             }
            },
            "type": "scatter3d"
           }
          ],
          "scattercarpet": [
           {
            "marker": {
             "colorbar": {
              "outlinewidth": 0,
              "ticks": ""
             }
            },
            "type": "scattercarpet"
           }
          ],
          "scattergeo": [
           {
            "marker": {
             "colorbar": {
              "outlinewidth": 0,
              "ticks": ""
             }
            },
            "type": "scattergeo"
           }
          ],
          "scattergl": [
           {
            "marker": {
             "colorbar": {
              "outlinewidth": 0,
              "ticks": ""
             }
            },
            "type": "scattergl"
           }
          ],
          "scattermapbox": [
           {
            "marker": {
             "colorbar": {
              "outlinewidth": 0,
              "ticks": ""
             }
            },
            "type": "scattermapbox"
           }
          ],
          "scatterpolar": [
           {
            "marker": {
             "colorbar": {
              "outlinewidth": 0,
              "ticks": ""
             }
            },
            "type": "scatterpolar"
           }
          ],
          "scatterpolargl": [
           {
            "marker": {
             "colorbar": {
              "outlinewidth": 0,
              "ticks": ""
             }
            },
            "type": "scatterpolargl"
           }
          ],
          "scatterternary": [
           {
            "marker": {
             "colorbar": {
              "outlinewidth": 0,
              "ticks": ""
             }
            },
            "type": "scatterternary"
           }
          ],
          "surface": [
           {
            "colorbar": {
             "outlinewidth": 0,
             "ticks": ""
            },
            "colorscale": [
             [
              0,
              "#0d0887"
             ],
             [
              0.1111111111111111,
              "#46039f"
             ],
             [
              0.2222222222222222,
              "#7201a8"
             ],
             [
              0.3333333333333333,
              "#9c179e"
             ],
             [
              0.4444444444444444,
              "#bd3786"
             ],
             [
              0.5555555555555556,
              "#d8576b"
             ],
             [
              0.6666666666666666,
              "#ed7953"
             ],
             [
              0.7777777777777778,
              "#fb9f3a"
             ],
             [
              0.8888888888888888,
              "#fdca26"
             ],
             [
              1,
              "#f0f921"
             ]
            ],
            "type": "surface"
           }
          ],
          "table": [
           {
            "cells": {
             "fill": {
              "color": "#EBF0F8"
             },
             "line": {
              "color": "white"
             }
            },
            "header": {
             "fill": {
              "color": "#C8D4E3"
             },
             "line": {
              "color": "white"
             }
            },
            "type": "table"
           }
          ]
         },
         "layout": {
          "annotationdefaults": {
           "arrowcolor": "#2a3f5f",
           "arrowhead": 0,
           "arrowwidth": 1
          },
          "coloraxis": {
           "colorbar": {
            "outlinewidth": 0,
            "ticks": ""
           }
          },
          "colorscale": {
           "diverging": [
            [
             0,
             "#8e0152"
            ],
            [
             0.1,
             "#c51b7d"
            ],
            [
             0.2,
             "#de77ae"
            ],
            [
             0.3,
             "#f1b6da"
            ],
            [
             0.4,
             "#fde0ef"
            ],
            [
             0.5,
             "#f7f7f7"
            ],
            [
             0.6,
             "#e6f5d0"
            ],
            [
             0.7,
             "#b8e186"
            ],
            [
             0.8,
             "#7fbc41"
            ],
            [
             0.9,
             "#4d9221"
            ],
            [
             1,
             "#276419"
            ]
           ],
           "sequential": [
            [
             0,
             "#0d0887"
            ],
            [
             0.1111111111111111,
             "#46039f"
            ],
            [
             0.2222222222222222,
             "#7201a8"
            ],
            [
             0.3333333333333333,
             "#9c179e"
            ],
            [
             0.4444444444444444,
             "#bd3786"
            ],
            [
             0.5555555555555556,
             "#d8576b"
            ],
            [
             0.6666666666666666,
             "#ed7953"
            ],
            [
             0.7777777777777778,
             "#fb9f3a"
            ],
            [
             0.8888888888888888,
             "#fdca26"
            ],
            [
             1,
             "#f0f921"
            ]
           ],
           "sequentialminus": [
            [
             0,
             "#0d0887"
            ],
            [
             0.1111111111111111,
             "#46039f"
            ],
            [
             0.2222222222222222,
             "#7201a8"
            ],
            [
             0.3333333333333333,
             "#9c179e"
            ],
            [
             0.4444444444444444,
             "#bd3786"
            ],
            [
             0.5555555555555556,
             "#d8576b"
            ],
            [
             0.6666666666666666,
             "#ed7953"
            ],
            [
             0.7777777777777778,
             "#fb9f3a"
            ],
            [
             0.8888888888888888,
             "#fdca26"
            ],
            [
             1,
             "#f0f921"
            ]
           ]
          },
          "colorway": [
           "#636efa",
           "#EF553B",
           "#00cc96",
           "#ab63fa",
           "#FFA15A",
           "#19d3f3",
           "#FF6692",
           "#B6E880",
           "#FF97FF",
           "#FECB52"
          ],
          "font": {
           "color": "#2a3f5f"
          },
          "geo": {
           "bgcolor": "white",
           "lakecolor": "white",
           "landcolor": "#E5ECF6",
           "showlakes": true,
           "showland": true,
           "subunitcolor": "white"
          },
          "hoverlabel": {
           "align": "left"
          },
          "hovermode": "closest",
          "mapbox": {
           "style": "light"
          },
          "paper_bgcolor": "white",
          "plot_bgcolor": "#E5ECF6",
          "polar": {
           "angularaxis": {
            "gridcolor": "white",
            "linecolor": "white",
            "ticks": ""
           },
           "bgcolor": "#E5ECF6",
           "radialaxis": {
            "gridcolor": "white",
            "linecolor": "white",
            "ticks": ""
           }
          },
          "scene": {
           "xaxis": {
            "backgroundcolor": "#E5ECF6",
            "gridcolor": "white",
            "gridwidth": 2,
            "linecolor": "white",
            "showbackground": true,
            "ticks": "",
            "zerolinecolor": "white"
           },
           "yaxis": {
            "backgroundcolor": "#E5ECF6",
            "gridcolor": "white",
            "gridwidth": 2,
            "linecolor": "white",
            "showbackground": true,
            "ticks": "",
            "zerolinecolor": "white"
           },
           "zaxis": {
            "backgroundcolor": "#E5ECF6",
            "gridcolor": "white",
            "gridwidth": 2,
            "linecolor": "white",
            "showbackground": true,
            "ticks": "",
            "zerolinecolor": "white"
           }
          },
          "shapedefaults": {
           "line": {
            "color": "#2a3f5f"
           }
          },
          "ternary": {
           "aaxis": {
            "gridcolor": "white",
            "linecolor": "white",
            "ticks": ""
           },
           "baxis": {
            "gridcolor": "white",
            "linecolor": "white",
            "ticks": ""
           },
           "bgcolor": "#E5ECF6",
           "caxis": {
            "gridcolor": "white",
            "linecolor": "white",
            "ticks": ""
           }
          },
          "title": {
           "x": 0.05
          },
          "xaxis": {
           "automargin": true,
           "gridcolor": "white",
           "linecolor": "white",
           "ticks": "",
           "title": {
            "standoff": 15
           },
           "zerolinecolor": "white",
           "zerolinewidth": 2
          },
          "yaxis": {
           "automargin": true,
           "gridcolor": "white",
           "linecolor": "white",
           "ticks": "",
           "title": {
            "standoff": 15
           },
           "zerolinecolor": "white",
           "zerolinewidth": 2
          }
         }
        }
       }
      },
      "text/html": [
       "<div>\n",
       "        \n",
       "        \n",
       "            <div id=\"bb6d0a1d-34ab-4673-a960-5bc2dd539432\" class=\"plotly-graph-div\" style=\"height:600px; width:100%;\"></div>\n",
       "            <script type=\"text/javascript\">\n",
       "                require([\"plotly\"], function(Plotly) {\n",
       "                    window.PLOTLYENV=window.PLOTLYENV || {};\n",
       "                    \n",
       "                if (document.getElementById(\"bb6d0a1d-34ab-4673-a960-5bc2dd539432\")) {\n",
       "                    Plotly.newPlot(\n",
       "                        'bb6d0a1d-34ab-4673-a960-5bc2dd539432',\n",
       "                        [{\"customdata\": [[\"Bexley\", \"LONDON\", \"0\", \"Residence\", \"Shop & Service\"], [\"Croydon\", \"CROYDON\", \"0\", \"Outdoors & Recreation\", \"Professional & Other Places\"], [\"Bexley\", \"BEXLEY\", \"0\", \"Shop & Service\", \"Professional & Other Places\"], [\"Redbridge\", \"ILFORD\", \"0\", \"Shop & Service\", \"Professional & Other Places\"], [\"Brent\", \"WEMBLEY\", \"0\", \"Professional & Other Places\", \"Residence\"], [\"Bromley\", \"LONDON\", \"0\", \"Shop & Service\", \"Outdoors & Recreation\"], [\"Bromley\", \"WESTERHAM\", \"0\", \"Professional & Other Places\", \"Shop & Service\"], [\"Havering\", \"HORNCHURCH\", \"0\", \"Shop & Service\", \"College & University\"], [\"Barnet\", \"BARNET\", \"0\", \"Shop & Service\", \"Professional & Other Places\"], [\"Enfield\", \"LONDON\", \"0\", \"Professional & Other Places\", \"Shop & Service\"], [\"Barking and Dagenham\", \"BARKING\", \"0\", \"Shop & Service\", \"Professional & Other Places\"], [\"Redbridge\", \"ILFORD\", \"0\", \"Residence\", \"Shop & Service\"], [\"Bexley\", \"BEXLEYHEATH\", \"0\", \"Professional & Other Places\", \"Outdoors & Recreation\"], [\"Richmond upon Thames\", \"LONDON\", \"0\", \"Professional & Other Places\", \"Outdoors & Recreation\"], [\"Bexley\", \"DARTFORD\", \"0\", \"Shop & Service\", \"Residence\"], [\"Barnet\", \"LONDON\", \"0\", \"Professional & Other Places\", \"Outdoors & Recreation\"], [\"Barnet\", \"BARNET\", \"0\", \"Shop & Service\", \"Professional & Other Places\"], [\"Bromley\", \"BECKENHAM\", \"0\", \"Shop & Service\", \"Food\"], [\"Newham\", \"LONDON\", \"0\", \"Shop & Service\", \"Professional & Other Places\"], [\"Barking and Dagenham\", \"DAGENHAM\", \"0\", \"Shop & Service\", \"Professional & Other Places\"], [\"Barking and Dagenham\", \"DAGENHAM\", \"0\", \"Shop & Service\", \"Professional & Other Places\"], [\"Sutton\", \"WALLINGTON\", \"0\", \"Residence\", \"Shop & Service\"], [\"Ealing\", \"LONDON\", \"0\", \"Professional & Other Places\", \"Shop & Service\"], [\"Harrow\", \"HARROW\", \"0\", \"Professional & Other Places\", \"Shop & Service\"], [\"Sutton\", \"SUTTON\", \"0\", \"Professional & Other Places\", \"Shop & Service\"], [\"Harrow\", \"HARROW\", \"0\", \"Residence\", \"Shop & Service\"], [\"Sutton\", \"SUTTON\", \"0\", \"Residence\", \"Shop & Service\"], [\"Bexley\", \"BELVEDERE\", \"0\", \"Shop & Service\", \"Professional & Other Places\"], [\"Kingston upon Thames\", \"SURBITON\", \"0\", \"Residence\", \"Professional & Other Places\"], [\"Bexley\", \"BEXLEY\", \"0\", \"Professional & Other Places\", \"Outdoors & Recreation\"], [\"Bexley\", \"BEXLEYHEATH\", \"0\", \"Shop & Service\", \"Professional & Other Places\"], [\"Bromley\", \"BROMLEY\", \"0\", \"Residence\", \"Professional & Other Places\"], [\"Bromley\", \"WESTERHAM\", \"0\", \"Professional & Other Places\", \"Shop & Service\"], [\"Bexley\", \"SIDCUP\", \"0\", \"Shop & Service\", \"Residence\"], [\"Greenwich\", \"LONDON\", \"0\", \"Residence\", \"Professional & Other Places\"], [\"Bexley\", \"BEXLEY\", \"0\", \"Shop & Service\", \"Professional & Other Places\"], [\"Enfield\", \"ENFIELD\", \"0\", \"Professional & Other Places\", \"Outdoors & Recreation\"], [\"Haringey\", \"LONDON\", \"0\", \"Professional & Other Places\", \"Shop & Service\"], [\"Haringey\", \"LONDON\", \"0\", \"Professional & Other Places\", \"Residence\"], [\"Hounslow\", \"BRENTFORD\", \"0\", \"Residence\", \"Outdoors & Recreation\"], [\"Barnet\", \"LONDON\", \"0\", \"Outdoors & Recreation\", \"Professional & Other Places\"], [\"Enfield\", \"ENFIELD\", \"0\", \"Shop & Service\", \"Professional & Other Places\"], [\"Lambeth\", \"LONDON\", \"0\", \"Residence\", \"Shop & Service\"], [\"Lewisham\", \"LONDON\", \"0\", \"Shop & Service\", \"Professional & Other Places\"], [\"Bromley\", \"BROMLEY\", \"0\", \"Shop & Service\", \"Event\"], [\"Bromley\", \"BROMLEY\", \"0\", \"Residence\", \"Professional & Other Places\"], [\"Brent\", \"LONDON\", \"0\", \"Residence\", \"Professional & Other Places\"], [\"Barnet\", \"LONDON\", \"0\", \"Professional & Other Places\", \"Residence\"], [\"Enfield\", \"ENFIELD\", \"0\", \"Professional & Other Places\", \"College & University\"], [\"Barnet\", \"EDGWARE\", \"0\", \"Residence\", \"Shop & Service\"], [\"Barnet\", \"LONDON\", \"0\", \"Residence\", \"College & University\"], [\"Waltham Forest\", \"LONDON\", \"0\", \"Residence\", \"Shop & Service\"], [\"Newham\", \"LONDON\", \"0\", \"Travel & Transport\", \"Food\"], [\"Barking and Dagenham\", \"DAGENHAM\", \"0\", \"Shop & Service\", \"Residence\"], [\"Redbridge\", \"ROMFORD\", \"0\", \"Shop & Service\", \"Outdoors & Recreation\"], [\"Havering\", \"ROMFORD\", \"0\", \"Outdoors & Recreation\", \"Travel & Transport\"], [\"Bromley\", \"ORPINGTON\", \"0\", \"Residence\", \"Outdoors & Recreation\"], [\"Kingston upon Thames\", \"CHESSINGTON\", \"0\", \"Shop & Service\", \"Professional & Other Places\"], [\"Barnet\", \"LONDON\", \"0\", \"Residence\", \"Outdoors & Recreation\"], [\"Waltham Forest\", \"LONDON\", \"0\", \"Residence\", \"Professional & Other Places\"], [\"Bromley\", \"CHISLEHURST\", \"0\", \"Professional & Other Places\", \"Outdoors & Recreation\"], [\"Brent\", \"LONDON\", \"0\", \"Outdoors & Recreation\", \"Professional & Other Places\"], [\"Barnet\", \"LONDON\", \"0\", \"Outdoors & Recreation\", \"Professional & Other Places\"], [\"Barnet\", \"BARNET\", \"0\", \"Outdoors & Recreation\", \"Professional & Other Places\"], [\"Barnet\", \"LONDON\", \"0\", \"Residence\", \"Shop & Service\"], [\"Havering\", \"ROMFORD\", \"0\", \"Residence\", \"Shop & Service\"], [\"Barnet\", \"LONDON\", \"0\", \"Shop & Service\", \"Travel & Transport\"], [\"Bexley\", \"ERITH\", \"0\", \"Shop & Service\", \"Professional & Other Places\"], [\"Bromley\", \"WEST WICKHAM\", \"0\", \"Professional & Other Places\", \"College & University\"], [\"Croydon\", \"COULSDON\", \"0\", \"Shop & Service\", \"Food\"], [\"Hillingdon\", \"UXBRIDGE\", \"0\", \"Professional & Other Places\", \"Residence\"], [\"Hounslow\", \"HOUNSLOW\", \"0\", \"Travel & Transport\", \"Shop & Service\"], [\"Havering\", \"UPMINSTER\", \"0\", \"Shop & Service\", \"College & University\"], [\"Bexley\", \"DARTFORD\", \"0\", \"Shop & Service\", \"Residence\"], [\"Barking and Dagenham\", \"BARKING\", \"0\", \"Shop & Service\", \"Travel & Transport\"], [\"Enfield\", \"ENFIELD\", \"0\", \"Shop & Service\", \"Food\"], [\"Barnet\", \"LONDON\", \"0\", \"Shop & Service\", \"Travel & Transport\"], [\"Bexley\", \"BEXLEYHEATH\", \"0\", \"Professional & Other Places\", \"Shop & Service\"], [\"Bexley\", \"LONDON\", \"0\", \"Shop & Service\", \"Residence\"], [\"Croydon\", \"CROYDON\", \"0\", \"Shop & Service\", \"Residence\"], [\"Bromley\", \"LONDON\", \"0\", \"Shop & Service\", \"Food\"], [\"Bromley\", \"SEVENOAKS\", \"0\", \"Residence\", \"Shop & Service\"], [\"Newham\", \"LONDON\", \"0\", \"Residence\", \"Event\"], [\"Barking and Dagenham\", \"DAGENHAM\", \"0\", \"Professional & Other Places\", \"Shop & Service\"], [\"Dartford\", \"LONDON\", \"0\", \"Shop & Service\", \"Residence\"], [\"Bromley\", \"ORPINGTON\", \"0\", \"Shop & Service\", \"Travel & Transport\"], [\"Brent\", \"LONDON\", \"0\", \"Shop & Service\", \"Professional & Other Places\"], [\"Bromley\", \"ORPINGTON\", \"0\", \"Professional & Other Places\", \"Outdoors & Recreation\"], [\"Lewisham\", \"BROMLEY\", \"0\", \"Shop & Service\", \"Outdoors & Recreation\"], [\"Wandsworth\", \"LONDON\", \"0\", \"Professional & Other Places\", \"Shop & Service\"], [\"Barnet\", \"BARNET\", \"0\", \"Professional & Other Places\", \"Residence\"], [\"Hounslow\", \"FELTHAM\", \"0\", \"Travel & Transport\", \"Professional & Other Places\"], [\"Southwark\", \"LONDON\", \"0\", \"Shop & Service\", \"Professional & Other Places\"], [\"Barnet\", \"LONDON\", \"0\", \"Professional & Other Places\", \"Shop & Service\"], [\"Newham\", \"LONDON\", \"0\", \"Shop & Service\", \"Residence\"], [\"Richmond upon Thames\", \"LONDON\", \"0\", \"Professional & Other Places\", \"Shop & Service\"], [\"Bexley\", \"WELLING\", \"0\", \"Outdoors & Recreation\", \"Professional & Other Places\"], [\"Hillingdon\", \"PINNER\", \"0\", \"Shop & Service\", \"Professional & Other Places\"], [\"Bromley\", \"BECKENHAM\", \"0\", \"Shop & Service\", \"College & University\"], [\"Barnet\", \"EDGWARE\", \"0\", \"Shop & Service\", \"Professional & Other Places\"], [\"Enfield\", \"LONDON\", \"0\", \"Shop & Service\", \"Professional & Other Places\"], [\"Havering\", \"HORNCHURCH\", \"0\", \"Shop & Service\", \"Professional & Other Places\"], [\"Bromley\", \"BECKENHAM\", \"0\", \"Shop & Service\", \"Residence\"], [\"Bromley\", \"CHISLEHURST\", \"0\", \"Travel & Transport\", \"Shop & Service\"], [\"Havering\", \"HORNCHURCH\", \"0\", \"Shop & Service\", \"Food\"], [\"Enfield\", \"ENFIELD\", \"0\", \"Residence\", \"Professional & Other Places\"], [\"Enfield\", \"ENFIELD\", \"0\", \"Residence\", \"Professional & Other Places\"], [\"Enfield\", \"ENFIELD\", \"0\", \"Shop & Service\", \"Professional & Other Places\"], [\"Enfield\", \"ENFIELD\", \"0\", \"Residence\", \"Professional & Other Places\"], [\"Bexley\", \"ERITH\", \"0\", \"Shop & Service\", \"Professional & Other Places\"], [\"Bexley\", \"LONDON\", \"0\", \"College & University\", \"Professional & Other Places\"], [\"Hounslow\", \"FELTHAM\", \"0\", \"Shop & Service\", \"Professional & Other Places\"], [\"Barnet\", \"LONDON\", \"0\", \"Professional & Other Places\", \"Residence\"], [\"Bexley\", \"SIDCUP\", \"0\", \"Professional & Other Places\", \"Shop & Service\"], [\"Newham\", \"LONDON\", \"0\", \"Shop & Service\", \"Residence\"], [\"Lewisham\", \"LONDON\", \"0\", \"Shop & Service\", \"Residence\"], [\"Enfield\", \"ENFIELD\", \"0\", \"Shop & Service\", \"Professional & Other Places\"], [\"Barnet\", \"LONDON\", \"0\", \"Shop & Service\", \"Travel & Transport\"], [\"Richmond upon Thames\", \"TEDDINGTON\", \"0\", \"Shop & Service\", \"Professional & Other Places\"], [\"Havering\", \"ROMFORD\", \"0\", \"Shop & Service\", \"Professional & Other Places\"], [\"Redbridge\", \"ILFORD\", \"0\", \"Residence\", \"Shop & Service\"], [\"Havering\", \"ROMFORD\", \"0\", \"Outdoors & Recreation\", \"Residence\"], [\"Bromley\", \"ORPINGTON\", \"0\", \"Professional & Other Places\", \"Residence\"], [\"Barnet\", \"LONDON\", \"0\", \"Shop & Service\", \"Food\"], [\"Redbridge\", \"ILFORD\", \"0\", \"Shop & Service\", \"Residence\"], [\"Barnet\", \"LONDON\", \"0\", \"Residence\", \"Professional & Other Places\"], [\"Ealing\", \"GREENFORD\", \"0\", \"Shop & Service\", \"Professional & Other Places\"], [\"Hounslow\", \"LONDON\", \"0\", \"Professional & Other Places\", \"Outdoors & Recreation\"], [\"Lewisham\", \"LONDON\", \"0\", \"Professional & Other Places\", \"Outdoors & Recreation\"], [\"Hounslow\", \"LONDON\", \"0\", \"Professional & Other Places\", \"Shop & Service\"], [\"Hackney\", \"LONDON\", \"0\", \"Professional & Other Places\", \"Residence\"], [\"Enfield\", \"BARNET\", \"0\", \"Outdoors & Recreation\", \"Shop & Service\"], [\"Redbridge\", \"CHIGWELL\", \"0\", \"Professional & Other Places\", \"Outdoors & Recreation\"], [\"Barnet\", \"LONDON\", \"0\", \"Residence\", \"College & University\"], [\"Richmond upon Thames\", \"RICHMOND\", \"0\", \"Outdoors & Recreation\", \"Professional & Other Places\"], [\"Barnet\", \"LONDON\", \"0\", \"Professional & Other Places\", \"Shop & Service\"], [\"Richmond upon Thames\", \"HAMPTON\", \"0\", \"Professional & Other Places\", \"Residence\"], [\"Richmond upon Thames\", \"HAMPTON\", \"0\", \"Professional & Other Places\", \"Residence\"], [\"Ealing\", \"LONDON\", \"0\", \"Professional & Other Places\", \"Shop & Service\"], [\"Hounslow\", \"FELTHAM\", \"0\", \"Event\", \"Residence\"], [\"Hillingdon\", \"UXBRIDGE\", \"0\", \"Shop & Service\", \"Professional & Other Places\"], [\"Brent\", \"LONDON\", \"0\", \"Professional & Other Places\", \"Shop & Service\"], [\"Hillingdon\", \"HAYES\", \"0\", \"Professional & Other Places\", \"College & University\"], [\"Hillingdon\", \"WEST DRAYTON\", \"0\", \"Professional & Other Places\", \"Travel & Transport\"], [\"Havering\", \"ROMFORD\", \"0\", \"Shop & Service\", \"Professional & Other Places\"], [\"Havering\", \"ROMFORD\", \"0\", \"Outdoors & Recreation\", \"Residence\"], [\"Havering\", \"ROMFORD\", \"0\", \"Shop & Service\", \"Residence\"], [\"Harrow\", \"HARROW\", \"0\", \"Professional & Other Places\", \"Shop & Service\"], [\"Harrow\", \"HARROW\", \"0\", \"College & University\", \"Professional & Other Places\"], [\"Harrow\", \"PINNER\", \"0\", \"Professional & Other Places\", \"Food\"], [\"Hounslow\", \"FELTHAM\", \"0\", \"Professional & Other Places\", \"Outdoors & Recreation\"], [\"Havering\", \"ROMFORD\", \"0\", \"Outdoors & Recreation\", \"Professional & Other Places\"], [\"Bromley\", \"BROMLEY\", \"0\", \"Shop & Service\", \"Residence\"], [\"Hillingdon\", \"HAYES\", \"0\", \"Shop & Service\", \"Residence\"], [\"Bromley\", \"ORPINGTON\", \"0\", \"Outdoors & Recreation\", \"Shop & Service\"], [\"Barnet\", \"LONDON\", \"0\", \"College & University\", \"Professional & Other Places\"], [\"Lambeth\", \"LONDON\", \"0\", \"Professional & Other Places\", \"Shop & Service\"], [\"Hounslow\", \"HOUNSLOW\", \"0\", \"Residence\", \"Shop & Service\"], [\"Waltham Forest\", \"LONDON\", \"0\", \"Residence\", \"Professional & Other Places\"], [\"Camden\", \"LONDON\", \"0\", \"Professional & Other Places\", \"Residence\"], [\"Hillingdon\", \"UXBRIDGE\", \"0\", \"Professional & Other Places\", \"Residence\"], [\"Lewisham\", \"LONDON\", \"0\", \"Professional & Other Places\", \"Residence\"], [\"Kingston upon Thames\", \"CHESSINGTON\", \"0\", \"Shop & Service\", \"Professional & Other Places\"], [\"Havering\", \"HORNCHURCH\", \"0\", \"Shop & Service\", \"Food\"], [\"Greenwich\", \"LONDON\", \"0\", \"Shop & Service\", \"Residence\"], [\"Barnet\", \"LONDON\", \"0\", \"Residence\", \"Shop & Service\"], [\"Hillingdon\", \"UXBRIDGE\", \"0\", \"Professional & Other Places\", \"Residence\"], [\"Redbridge\", \"ILFORD\", \"0\", \"Shop & Service\", \"Professional & Other Places\"], [\"Hounslow\", \"ISLEWORTH\", \"0\", \"Professional & Other Places\", \"Residence\"], [\"Croydon\", \"KENLEY\", \"0\", \"Professional & Other Places\", \"Outdoors & Recreation\"], [\"Brent\", \"LONDON\", \"0\", \"Residence\", \"Professional & Other Places\"], [\"Brent\", \"HARROW\", \"0\", \"Professional & Other Places\", \"Residence\"], [\"Bromley\", \"KESTON\", \"0\", \"Professional & Other Places\", \"Shop & Service\"], [\"Greenwich\", \"LONDON\", \"0\", \"Shop & Service\", \"Residence\"], [\"Brent\", \"LONDON\", \"0\", \"Residence\", \"Shop & Service\"], [\"Kingston upon Thames\", \"LONDON\", \"0\", \"College & University\", \"Professional & Other Places\"], [\"Bexley\", \"SIDCUP\", \"0\", \"Residence\", \"Shop & Service\"], [\"Hackney\", \"LONDON\", \"0\", \"Event\", \"Professional & Other Places\"], [\"Bromley\", \"KESTON\", \"0\", \"Shop & Service\", \"Travel & Transport\"], [\"Bexley\", \"BELVEDERE\", \"0\", \"Shop & Service\", \"Professional & Other Places\"], [\"Waltham Forest\", \"LONDON\", \"0\", \"Residence\", \"Professional & Other Places\"], [\"Newham\", \"LONDON\", \"0\", \"Residence\", \"Shop & Service\"], [\"Bromley\", \"ORPINGTON\", \"0\", \"Event\", \"Professional & Other Places\"], [\"Hillingdon\", \"WEST DRAYTON\", \"0\", \"Travel & Transport\", \"Shop & Service\"], [\"Merton\", \"MORDEN\", \"0\", \"Shop & Service\", \"Professional & Other Places\"], [\"Redbridge\", \"ILFORD\", \"0\", \"Shop & Service\", \"Travel & Transport\"], [\"Kingston upon Thames\", \"CHESSINGTON\", \"0\", \"Professional & Other Places\", \"Shop & Service\"], [\"Newham\", \"LONDON\", \"0\", \"Professional & Other Places\", \"Shop & Service\"], [\"Barking and Dagenham\", \"ROMFORD\", \"0\", \"Residence\", \"College & University\"], [\"Merton\", \"LONDON\", \"0\", \"Professional & Other Places\", \"Shop & Service\"], [\"Greenwich\", \"LONDON\", \"0\", \"Residence\", \"Outdoors & Recreation\"], [\"Barnet\", \"LONDON\", \"0\", \"Shop & Service\", \"Outdoors & Recreation\"], [\"Merton\", \"MITCHAM\", \"0\", \"Shop & Service\", \"Residence\"], [\"Barnet\", \"BARNET\", \"0\", \"Shop & Service\", \"Professional & Other Places\"], [\"Merton\", \"MORDEN\", \"0\", \"Professional & Other Places\", \"Shop & Service\"], [\"Merton\", \"MORDEN\", \"0\", \"Shop & Service\", \"Professional & Other Places\"], [\"Richmond upon Thames\", \"LONDON\", \"0\", \"Professional & Other Places\", \"Residence\"], [\"Kingston upon Thames\", \"NEW MALDEN\", \"0\", \"Shop & Service\", \"Outdoors & Recreation\"], [\"Bromley\", \"LONDON\", \"0\", \"Shop & Service\", \"Outdoors & Recreation\"], [\"Haringey and Barnet\", \"LONDON\", \"0\", \"Shop & Service\", \"Residence\"], [\"Brent\", \"LONDON\", \"0\", \"Shop & Service\", \"Professional & Other Places\"], [\"Croydon\", \"CROYDON\", \"0\", \"Outdoors & Recreation\", \"Professional & Other Places\"], [\"Barnet\", \"BARNET\", \"0\", \"Residence\", \"Professional & Other Places\"], [\"Lewisham\", \"LONDON\", \"0\", \"Travel & Transport\", \"College & University\"], [\"Greenwich\", \"LONDON\", \"0\", \"Professional & Other Places\", \"Shop & Service\"], [\"Kingston upon Thames\", \"NEW MALDEN\", \"0\", \"Shop & Service\", \"Residence\"], [\"Barnet\", \"LONDON\", \"0\", \"Shop & Service\", \"Professional & Other Places\"], [\"Redbridge\", \"ILFORD\", \"0\", \"Professional & Other Places\", \"Shop & Service\"], [\"Havering\", \"ROMFORD\", \"0\", \"Outdoors & Recreation\", \"Shop & Service\"], [\"Kingston upon Thames\", \"KINGSTON UPON THAMES\", \"0\", \"Residence\", \"Professional & Other Places\"], [\"Croydon\", \"LONDON\", \"0\", \"Shop & Service\", \"Travel & Transport\"], [\"Bexley\", \"SIDCUP\", \"0\", \"Outdoors & Recreation\", \"Shop & Service\"], [\"Bexley\", \"ERITH\", \"0\", \"Shop & Service\", \"Professional & Other Places\"], [\"Barnet\", \"LONDON\", \"0\", \"Shop & Service\", \"Residence\"], [\"Harrow\", \"HARROW\", \"0\", \"Professional & Other Places\", \"Residence\"], [\"Havering\", \"UPMINSTER\", \"0\", \"Residence\", \"College & University\"], [\"Richmond upon Thames\", \"RICHMOND\", \"0\", \"Professional & Other Places\", \"Residence\"], [\"Newham\", \"LONDON\", \"0\", \"Residence\", \"Travel & Transport\"], [\"Ealing\", \"NORTHOLT\", \"0\", \"Professional & Other Places\", \"College & University\"], [\"Bexley\", \"ERITH\", \"0\", \"Shop & Service\", \"Professional & Other Places\"], [\"Hillingdon\", \"NORTHWOOD\", \"0\", \"Shop & Service\", \"Professional & Other Places\"], [\"Ealing\", \"SOUTHALL\", \"0\", \"Residence\", \"Outdoors & Recreation\"], [\"Kensington and Chelsea\", \"LONDON\", \"0\", \"Shop & Service\", \"Professional & Other Places\"], [\"Barnet\", \"LONDON\", \"0\", \"Shop & Service\", \"Food\"], [\"Croydon\", \"COULSDON\", \"0\", \"Shop & Service\", \"Food\"], [\"Kingston upon Thames\", \"WORCESTER PARK\", \"0\", \"Professional & Other Places\", \"Food\"], [\"Bromley\", \"ORPINGTON\", \"0\", \"Shop & Service\", \"Professional & Other Places\"], [\"Barnet\", \"LONDON\", \"0\", \"Outdoors & Recreation\", \"Professional & Other Places\"], [\"Hounslow\", \"ISLEWORTH\", \"0\", \"Residence\", \"Professional & Other Places\"], [\"Enfield\", \"LONDON\", \"0\", \"Shop & Service\", \"Professional & Other Places\"], [\"Brent\", \"LONDON\", \"0\", \"Professional & Other Places\", \"Shop & Service\"], [\"Bromley\", \"LONDON\", \"0\", \"Residence\", \"Professional & Other Places\"], [\"Ealing\", \"GREENFORD\", \"0\", \"Event\", \"Outdoors & Recreation\"], [\"Richmond upon Thames\", \"RICHMOND\", \"0\", \"Residence\", \"Outdoors & Recreation\"], [\"Bromley\", \"ORPINGTON\", \"0\", \"Professional & Other Places\", \"Travel & Transport\"], [\"Harrow\", \"PINNER\", \"0\", \"Shop & Service\", \"Professional & Other Places\"], [\"Newham\", \"LONDON\", \"0\", \"Shop & Service\", \"Residence\"], [\"Bromley\", \"BROMLEY\", \"0\", \"Shop & Service\", \"Residence\"], [\"Newham\", \"LONDON\", \"0\", \"Professional & Other Places\", \"Residence\"], [\"Bromley\", \"BROMLEY\", \"0\", \"Professional & Other Places\", \"Residence\"], [\"Greenwich\", \"LONDON\", \"0\", \"Residence\", \"Professional & Other Places\"], [\"Enfield\", \"ENFIELD\", \"0\", \"Shop & Service\", \"Professional & Other Places\"], [\"Bromley\", \"ORPINGTON\", \"0\", \"Shop & Service\", \"Outdoors & Recreation\"], [\"Brent\", \"WEMBLEY\", \"0\", \"Travel & Transport\", \"Shop & Service\"], [\"Croydon\", \"PURLEY\", \"0\", \"Event\", \"Outdoors & Recreation\"], [\"Brent\", \"LONDON\", \"0\", \"Professional & Other Places\", \"Outdoors & Recreation\"], [\"Harrow\", \"HARROW\", \"0\", \"Shop & Service\", \"Residence\"], [\"Havering\", \"RAINHAM\", \"0\", \"Shop & Service\", \"Travel & Transport\"], [\"Harrow\", \"PINNER\", \"0\", \"Event\", \"Shop & Service\"], [\"Merton\", \"LONDON\", \"0\", \"Professional & Other Places\", \"Residence\"], [\"Redbridge\", \"ILFORD\", \"0\", \"Professional & Other Places\", \"Travel & Transport\"], [\"Croydon\", \"PURLEY\", \"0\", \"Travel & Transport\", \"Arts & Entertainment\"], [\"Havering\", \"ROMFORD\", \"0\", \"Outdoors & Recreation\", \"Shop & Service\"], [\"Hillingdon\", \"RUISLIP\", \"0\", \"College & University\", \"Shop & Service\"], [\"Barking and Dagenham\", \"ROMFORD\", \"0\", \"Event\", \"Shop & Service\"], [\"Bexley\", \"SIDCUP\", \"0\", \"Professional & Other Places\", \"Shop & Service\"], [\"Croydon\", \"SOUTH CROYDON\", \"0\", \"Professional & Other Places\", \"Outdoors & Recreation\"], [\"Croydon\", \"LONDON\", \"0\", \"Shop & Service\", \"Residence\"], [\"Croydon\", \"SOUTH CROYDON\", \"0\", \"Professional & Other Places\", \"Shop & Service\"], [\"Redbridge\", \"ILFORD\", \"0\", \"Shop & Service\", \"Professional & Other Places\"], [\"Haringey\", \"LONDON\", \"0\", \"Professional & Other Places\", \"Residence\"], [\"Greenwich\", \"LONDON\", \"0\", \"Residence\", \"Professional & Other Places\"], [\"Bexley\", \"SIDCUP\", \"0\", \"Residence\", \"Shop & Service\"], [\"Newham\", \"LONDON\", \"0\", \"Travel & Transport\", \"Residence\"], [\"Hillingdon\", \"WEST DRAYTON\", \"0\", \"Travel & Transport\", \"Professional & Other Places\"], [\"Bexley\", \"ERITH\", \"0\", \"Shop & Service\", \"Professional & Other Places\"], [\"Redbridge\", \"LONDON\", \"0\", \"Professional & Other Places\", \"Residence\"], [\"Croydon\", \"SOUTH CROYDON\", \"0\", \"Residence\", \"Professional & Other Places\"], [\"Harrow\", \"HARROW\", \"0\", \"Event\", \"Shop & Service\"], [\"Havering\", \"RAINHAM\", \"0\", \"Outdoors & Recreation\", \"Professional & Other Places\"], [\"Croydon\", \"LONDON\", \"0\", \"Residence\", \"Professional & Other Places\"], [\"Hillingdon\", \"RUISLIP\", \"0\", \"Shop & Service\", \"Residence\"], [\"Redbridge\", \"LONDON\", \"0\", \"Residence\", \"Professional & Other Places\"], [\"Haringey\", \"LONDON\", \"0\", \"Professional & Other Places\", \"Residence\"], [\"Ealing\", \"SOUTHALL\", \"0\", \"Food\", \"Shop & Service\"], [\"Bromley\", \"BROMLEY\", \"0\", \"Residence\", \"Shop & Service\"], [\"Enfield\", \"LONDON\", \"0\", \"Shop & Service\", \"Professional & Other Places\"], [\"Merton\", \"MORDEN\", \"0\", \"Shop & Service\", \"Professional & Other Places\"], [\"Richmond upon Thames\", \"TWICKENHAM\", \"0\", \"Shop & Service\", \"Residence\"], [\"Bromley\", \"ORPINGTON\", \"0\", \"Shop & Service\", \"Travel & Transport\"], [\"Bromley\", \"ORPINGTON\", \"0\", \"Shop & Service\", \"Professional & Other Places\"], [\"Harrow\", \"STANMORE\", \"0\", \"Shop & Service\", \"Residence\"], [\"Brent\", \"LONDON\", \"0\", \"Professional & Other Places\", \"Residence\"], [\"Richmond upon Thames\", \"TWICKENHAM\", \"0\", \"Professional & Other Places\", \"Shop & Service\"], [\"Lambeth\", \"LONDON\", \"0\", \"Shop & Service\", \"Professional & Other Places\"], [\"Brent\", \"HARROW\", \"0\", \"Professional & Other Places\", \"Residence\"], [\"Bromley\", \"BROMLEY\", \"0\", \"Shop & Service\", \"Residence\"], [\"Kingston upon Thames\", \"SURBITON\", \"0\", \"Shop & Service\", \"Professional & Other Places\"], [\"Sutton\", \"SUTTON\", \"0\", \"Shop & Service\", \"Professional & Other Places\"], [\"Lewisham\", \"LONDON\", \"0\", \"Residence\", \"Shop & Service\"], [\"Lewisham\", \"LONDON\", \"0\", \"Shop & Service\", \"Residence\"], [\"Richmond upon Thames\", \"TEDDINGTON\", \"0\", \"Shop & Service\", \"Professional & Other Places\"], [\"Barnet\", \"BARNET\", \"0\", \"Shop & Service\", \"Food\"], [\"Bexley\", \"LONDON\", \"0\", \"Residence\", \"Professional & Other Places\"], [\"Croydon\", \"THORNTON HEATH\", \"0\", \"Shop & Service\", \"Professional & Other Places\"], [\"Brent\", \"WEMBLEY\", \"0\", \"Professional & Other Places\", \"Residence\"], [\"Kingston upon Thames\", \"SURBITON\", \"0\", \"Shop & Service\", \"Professional & Other Places\"], [\"Barnet\", \"LONDON\", \"0\", \"Professional & Other Places\", \"Travel & Transport\"], [\"Lambeth\", \"LONDON\", \"0\", \"Residence\", \"Shop & Service\"], [\"Havering\", \"UPMINSTER\", \"0\", \"College & University\", \"Shop & Service\"], [\"Havering\", \"HORNCHURCH\", \"0\", \"Food\", \"Shop & Service\"], [\"Hackney\", \"LONDON\", \"0\", \"Shop & Service\", \"Outdoors & Recreation\"], [\"Croydon\", \"LONDON\", \"0\", \"Shop & Service\", \"Food\"], [\"Bexley\", \"SIDCUP\", \"0\", \"Professional & Other Places\", \"Food\"], [\"Bexley\", \"BEXLEYHEATH\", \"0\", \"Professional & Other Places\", \"Shop & Service\"], [\"Newham\", \"LONDON\", \"0\", \"Shop & Service\", \"Professional & Other Places\"], [\"Hillingdon\", \"UXBRIDGE\", \"0\", \"Shop & Service\", \"Professional & Other Places\"], [\"Croydon\", \"CROYDON\", \"0\", \"Event\", \"Shop & Service\"], [\"Sutton\", \"WALLINGTON\", \"0\", \"Shop & Service\", \"Residence\"], [\"Redbridge\", \"LONDON\", \"0\", \"Shop & Service\", \"Professional & Other Places\"], [\"Harrow\", \"HARROW\", \"0\", \"Professional & Other Places\", \"Shop & Service\"], [\"Greenwich\", \"LONDON\", \"0\", \"Residence\", \"Shop & Service\"], [\"Bexley\", \"WELLING\", \"0\", \"Shop & Service\", \"Professional & Other Places\"], [\"Havering\", \"RAINHAM\", \"0\", \"Professional & Other Places\", \"Outdoors & Recreation\"], [\"Hillingdon\", \"WEST DRAYTON\", \"0\", \"Shop & Service\", \"Residence\"], [\"Ealing\", \"LONDON\", \"0\", \"Professional & Other Places\", \"Shop & Service\"], [\"Haringey\", \"LONDON\", \"0\", \"Residence\", \"Shop & Service\"], [\"Newham\", \"LONDON\", \"0\", \"Residence\", \"Shop & Service\"], [\"Harrow\", \"HARROW\", \"0\", \"Shop & Service\", \"Professional & Other Places\"], [\"Bexley\", \"LONDON\", \"0\", \"Shop & Service\", \"Professional & Other Places\"], [\"Barnet\", \"LONDON\", \"0\", \"Shop & Service\", \"Residence\"], [\"Lambeth\", \"LONDON\", \"0\", \"Shop & Service\", \"Professional & Other Places\"], [\"Bromley\", \"WEST WICKHAM\", \"0\", \"Shop & Service\", \"Professional & Other Places\"], [\"Greenwich\", \"LONDON\", \"0\", \"Shop & Service\", \"Professional & Other Places\"], [\"Barnet\", \"LONDON\", \"0\", \"Shop & Service\", \"Food\"], [\"Brent\", \"LONDON\", \"0\", \"Residence\", \"Professional & Other Places\"], [\"Enfield\", \"LONDON\", \"0\", \"Shop & Service\", \"College & University\"], [\"Haringey\", \"LONDON\", \"0\", \"Residence\", \"Shop & Service\"], [\"Redbridge\", \"LONDON\", \"0\", \"Residence\", \"Professional & Other Places\"], [\"Redbridge\", \"LONDON\", \"0\", \"Residence\", \"Professional & Other Places\"], [\"Hounslow\", \"ISLEWORTH\", \"0\", \"Professional & Other Places\", \"Residence\"], [\"Croydon\", \"CROYDON\", \"0\", \"Shop & Service\", \"Professional & Other Places\"], [\"Barnet\", \"LONDON\", \"0\", \"Residence\", \"Shop & Service\"], [\"Greenwich\", \"LONDON\", \"0\", \"Residence\", \"Professional & Other Places\"], [\"Sutton\", \"WORCESTER PARK\", \"0\", \"Shop & Service\", \"Professional & Other Places\"], [\"Hillingdon\", \"HAYES\", \"0\", \"Shop & Service\", \"Professional & Other Places\"], [\"Hillingdon\", \"WEST DRAYTON\", \"0\", \"Shop & Service\", \"Travel & Transport\"]], \"hovertemplate\": \"<b>%{hovertext}</b><br><br>Cluster=%{customdata[2]}<br>Lat=%{lat}<br>Lng=%{lon}<br>Borough=%{customdata[0]}<br>Town=%{customdata[1]}<br>1st Most Common Venue=%{customdata[3]}<br>2nd Most Common Venue=%{customdata[4]}<extra></extra>\", \"hovertext\": [\"Abbey Wood\", \"Addington\", \"Albany Park\", \"Aldborough Hatch\", \"Alperton\", \"Anerley\", \"Aperfield\", \"Ardleigh Green\", \"Arkley\", \"Arnos Grove\", \"Barking\", \"Barkingside\", \"Barnehurst\", \"Barnes\", \"Barnes Cray\", \"Barnet Gate\", \"Barnet (also Chipping Barnet, High Barnet)\", \"Beckenham\", \"Beckton\", \"Becontree\", \"Becontree Heath\", \"Beddington\", \"Bedford Park\", \"Belmont\", \"Belmont\", \"Belmont\", \"Belmont\", \"Belvedere\", \"Berrylands\", \"Bexley (also Old Bexley, Bexley Village)\", \"Bexleyheath (also Bexley New Town)\", \"Bickley\", \"Biggin Hill\", \"Blackfen\", \"Blackheath Royal Standard\", \"Blendon\", \"Botany Bay\", \"Bounds Green\", \"Bowes Park\", \"Brentford\", \"Brent Cross\", \"Brimsdown\", \"Brixton\", \"Brockley\", \"Bromley\", \"Bromley Common\", \"Brondesbury\", \"Brunswick Park\", \"Bulls Cross\", \"Burnt Oak\", \"Burroughs, The\", \"Cann Hall\", \"Canning Town\", \"Castle Green\", \"Chadwell Heath\", \"Chase Cross\", \"Chelsfield\", \"Chessington\", \"Childs Hill\", \"Chingford\", \"Chislehurst\", \"Church End\", \"Church End\", \"Cockfosters\", \"Colindale\", \"Collier Row\", \"Colney Hatch\", \"Colyers\", \"Coney Hall\", \"Coulsdon\", \"Cowley\", \"Cranford\", \"Cranham\", \"Crayford\", \"Creekmouth\", \"Crews Hill\", \"Cricklewood\", \"Crook Log\", \"Crossness\", \"Croydon\", \"Crystal Palace\", \"Cudham\", \"Custom House\", \"Dagenham\", \"Dartford\", \"Derry Downs\", \"Dollis Hill\", \"Downe\", \"Downham\", \"Earlsfield\", \"East Barnet\", \"East Bedfont\", \"East Dulwich\", \"East Finchley\", \"East Ham\", \"East Sheen\", \"East Wickham\", \"Eastcote\", \"Eden Park\", \"Edgware\", \"Edmonton\", \"Elm Park\", \"Elmers End\", \"Elmstead\", \"Emerson Park\", \"Enfield Highway\", \"Enfield Lock\", \"Enfield Town\", \"Enfield Wash\", \"Erith\", \"Falconwood\", \"Feltham\", \"Finchley\", \"Foots Cray\", \"Forest Gate\", \"Forest Hill\", \"Freezywater\", \"Friern Barnet\", \"Fulwell\", \"Gallows Corner\", \"Gants Hill\", \"Gidea Park\", \"Goddington\", \"Golders Green\", \"Goodmayes\", \"Grahame Park\", \"Greenford\", \"Grove Park\", \"Grove Park\", \"Gunnersbury\", \"Hackney Wick\", \"Hadley Wood\", \"Hainault\", \"The Hale\", \"Ham\", \"Hampstead Garden Suburb\", \"Hampton\", \"Hampton Hill\", \"Hanwell\", \"Hanworth\", \"Harefield\", \"Harlesden\", \"Harlington\", \"Harmondsworth\", \"Harold Hill\", \"Harold Park\", \"Harold Wood\", \"Harrow on the Hill\", \"Harrow Weald\", \"Hatch End\", \"Hatton\", \"Havering-atte-Bower\", \"Hayes\", \"Hayes\", \"Hazelwood\", \"Hendon\", \"Herne Hill\", \"Heston\", \"Highams Park\", \"Highgate\", \"Hillingdon\", \"Hither Green\", \"Hook\", \"Hornchurch\", \"Horn Park\", \"The Hyde\", \"Ickenham\", \"Ilford\", \"Isleworth\", \"Kenley\", \"Kensal Green\", \"Kenton\", \"Keston\", \"Kidbrooke\", \"Kingsbury\", \"Kingston Vale\", \"Lamorbey\", \"Lea Bridge\", \"Leaves Green\", \"Lessness Heath\", \"Leytonstone\", \"Little Ilford\", \"Locksbottom\", \"Longford\", \"Lower Morden\", \"Loxford\", \"Malden Rushett\", \"Manor Park\", \"Marks Gate\", \"Merton Park\", \"Middle Park\", \"Mill Hill\", \"Mitcham\", \"Monken Hadley\", \"Morden\", \"Morden Park\", \"Mortlake\", \"Motspur Park\", \"Mottingham\", \"Muswell Hill\", \"Neasden\", \"New Addington\", \"New Barnet\", \"New Cross\", \"New Eltham\", \"New Malden\", \"New Southgate\", \"Newbury Park\", \"Noak Hill\", \"Norbiton\", \"Norbury\", \"North Cray\", \"North End\", \"North Finchley\", \"North Harrow\", \"North Ockendon\", \"North Sheen\", \"North Woolwich\", \"Northolt\", \"Northumberland Heath\", \"Northwood\", \"Norwood Green\", \"Notting Hill\", \"Oakleigh Park\", \"Old Coulsdon\", \"Old Malden\", \"Orpington\", \"Osidge\", \"Osterley\", \"Palmers Green\", \"Park Royal\", \"Penge\", \"Perivale\", \"Petersham\", \"Petts Wood\", \"Pinner\", \"Plaistow\", \"Plaistow\", \"Plaistow\", \"Plaistow\", \"Plumstead\", \"Ponders End\", \"Pratt's Bottom\", \"Preston\", \"Purley\", \"Queen's Park\", \"Queensbury\", \"Rainham\", \"Rayners Lane\", \"Raynes Park\", \"Redbridge\", \"Riddlesdown\", \"Romford\", \"Ruislip\", \"Rush Green\", \"Ruxley\", \"Sanderstead\", \"Selhurst\", \"Selsdon\", \"Seven Kings\", \"Seven Sisters\", \"Shooter's Hill\", \"Sidcup\", \"Silvertown\", \"Sipson\", \"Slade Green\", \"Snaresbrook\", \"South Croydon\", \"South Harrow\", \"South Hornchurch\", \"South Norwood\", \"South Ruislip\", \"South Woodford\", \"South Tottenham\", \"Southall\", \"Southborough\", \"Southgate\", \"St Helier\", \"St Margarets\", \"St Mary Cray\", \"St Paul's Cray\", \"Stanmore\", \"Stonebridge\", \"Strawberry Hill\", \"Streatham\", \"Sudbury\", \"Sundridge\", \"Surbiton\", \"Sutton\", \"Sydenham (also Lower Sydenham, Upper Sydenham)\", \"Sydenham Hill\", \"Teddington\", \"Temple Fortune\", \"Thamesmead\", \"Thornton Heath\", \"Tokyngton\", \"Tolworth\", \"Totteridge\", \"Tulse Hill\", \"Upminster\", \"Upminster Bridge\", \"Upper Clapton\", \"Upper Norwood\", \"Upper Ruxley\", \"Upton\", \"Upton Park\", \"Uxbridge\", \"Waddon\", \"Wallington\", \"Wanstead\", \"Wealdstone\", \"Well Hall\", \"Welling\", \"Wennington\", \"West Drayton\", \"West Ealing\", \"West Green\", \"West Ham\", \"West Harrow\", \"West Heath\", \"West Hendon\", \"West Norwood\", \"West Wickham\", \"Westcombe Park\", \"Whetstone\", \"Willesden\", \"Winchmore Hill\", \"Wood Green\", \"Woodford\", \"Woodford Green\", \"Woodlands\", \"Woodside\", \"Woodside Park\", \"Woolwich\", \"Worcester Park\", \"Yeading\", \"Yiewsley\"], \"lat\": [51.492450000000076, 51.35879700000001, 51.435700000000054, 51.563048473923104, 51.53417376058907, 51.41598495190199, 51.31015431804546, 51.58067733666435, 51.65193000000005, 51.62243647082235, 52.146954, 51.58511000000004, 51.46362000000005, 51.48284539965428, 51.454074460771906, 51.48284539965428, 51.65872000000007, 51.40215000000006, 51.53292000000005, 51.555979984996426, 51.560510628882625, 51.35889578219062, 51.51189181117945, 51.5953443434362, 51.34373000000005, 51.5953443434362, 51.34373000000005, 51.488420000000076, 51.39401656380702, 51.45125000000007, 51.46013000000005, 51.38966000000005, 51.31051000000008, 51.4515480681824, 51.48664000000008, 51.44643657705689, 51.676720000000046, 51.608181731947376, 51.61498899340776, 51.48967846184999, 51.46959501358032, 51.66130836237792, 51.45238000000006, 51.462680000000034, 51.41135250000001, 51.388153466188, 51.55356000000006, 51.58360000000005, 51.675643889651504, 51.60542000000004, 51.58791727600407, 51.5554974797784, 51.51333000000005, 51.53433000000007, 51.57337000000007, 51.603036421910055, 51.355710000000045, 51.3620458230684, 51.56225000000006, 51.61712000000006, 51.419710000000066, 51.584253344799436, 51.47504632750984, 51.6657241514579, 51.59405592537353, 51.59797000000003, 51.61071692932876, 51.47122950000001, 51.36980088011006, 51.31886000000003, 51.543040000000076, 51.48434629702106, 51.56416946321474, 51.45235000000008, 51.51579817952464, 51.68350800000001, 51.564910000000054, 51.45911946453059, 51.419551275985086, 51.39155485224665, 51.41990000000004, 51.315900000000056, 51.45427997002137, 51.546700000000044, 51.452067760578885, 51.385558544117, 51.56096000000008, 51.336430000000064, 51.426082302811906, 51.44232001832193, 51.64759748896925, 51.45196556966224, 51.45256000000006, 51.589270000000056, 51.53323000000006, 51.462570756261904, 51.47559313298599, 51.58828515261902, 51.38753560397911, 51.61209000000008, 51.62879000000004, 51.54496000000006, 51.40135645217966, 51.42621189948179, 51.568155, 51.65431329841614, 51.666458625736375, 51.65226000000007, 51.65431329841614, 51.48036187996607, 51.45880000000005, 51.44708000000003, 51.60104000000007, 51.413399308737766, 51.54986268354492, 51.441220000000044, 51.65337000000005, 51.61388000000005, 51.43237184463742, 51.59245829434858, 51.576354000000016, 51.615347569853654, 51.364792401161246, 51.576730000000055, 51.56571129035198, 51.59801605283478, 51.54926000000006, 51.60396403260681, 51.46698021778042, 51.50086827183735, 51.5456050878122, 51.666396674465034, 51.61540809249462, 51.58775000000003, 51.43145642883387, 51.58736000000005, 51.42888752100201, 51.42888752100201, 51.50878000000006, 51.430540000000065, 51.53257470359681, 51.53597141442344, 51.53444550000002, 51.48258000000004, 51.60490000000004, 51.615347569853654, 51.592070000000035, 51.56704370987824, 51.6144596404303, 51.60644000000008, 51.46766566192055, 51.61660000000006, 51.39815637597911, 51.50276529123459, 51.34749958280941, 51.58912000000004, 51.45529000000005, 51.48515000000003, 51.59859972200624, 51.57145000000003, 51.543040000000076, 51.45083000000005, 51.366838153866276, 51.562290000000075, 51.48941439337224, 51.582886180401005, 51.543040000000076, 51.56338000000005, 51.47417000000007, 51.317981829257036, 51.53054000000003, 51.58370000000008, 51.361044708395056, 51.4706370451607, 51.58486000000005, 51.43162741475799, 51.43730849999999, 51.551022353194455, 51.336507845439314, 51.48572538396719, 51.55216105062294, 51.55158705631924, 51.366910000000075, 51.478869798451356, 51.39081941678327, 51.547740766630135, 51.338526568996016, 51.454967756918094, 51.54393218800004, 51.41141840373778, 51.44845808078221, 51.46961870829243, 51.40719000000007, 51.655254332588534, 51.401290000000074, 51.39891985586477, 51.46865993782111, 51.39116912702434, 51.43757000000005, 51.59107000000006, 51.56159800069314, 51.35879700000001, 51.64718469271825, 51.47489000000007, 51.433530000000076, 51.40106670524288, 51.63390000000004, 51.574230130281876, 51.6155625792314, 51.41238000000004, 51.41361382514268, 51.42980370245267, 51.47271450000001, 51.615920000000074, 51.585750000000075, 51.541630000000055, 51.46207310862528, 51.50314636049505, 51.544110000000046, 51.47297000000003, 51.60806439845446, 51.4953632726068, 51.510380000000055, 51.63730000000004, 51.31886000000003, 51.376988320088074, 51.378820000000076, 51.47457000000003, 51.48044099999999, 51.62003000000004, 51.52770000000004, 51.40399686205487, 51.53273005668594, 51.44725767421175, 51.386990000000026, 51.591260000000034, 51.52653000000004, 51.40637595804564, 51.52653000000004, 51.40637595804564, 51.48970278217071, 51.645487499999994, 51.34453345750154, 51.56531043635615, 51.35051219194073, 51.53356000000008, 51.58931000000007, 51.53955456909107, 51.569185546956156, 51.41117000000003, 50.91667000000007, 51.33236622043336, 51.6155625792314, 51.587772590828706, 51.5655, 51.41641423342758, 51.34829000000008, 51.38957785396746, 51.34355993060775, 51.56191785081679, 51.581314793709424, 51.47443775691584, 51.42593000000005, 51.502680000000055, 51.49001214513505, 51.47168297669714, 51.58332144210025, 51.362310000000036, 51.56860000000006, 51.531709919499264, 51.39925000000005, 51.55761000000007, 51.589770000000044, 51.58196007446157, 51.51139000000006, 51.395991395556024, 51.63390000000004, 51.398484718524486, 51.4587935746533, 51.38884000000007, 51.40360000000004, 51.617560000000026, 51.54455970906623, 51.43567944883682, 51.43023000000005, 51.563607909162535, 51.41052917094767, 51.394616766077334, 51.35967000000005, 51.42674000000005, 51.43920401273935, 51.430312126852, 51.638548500000006, 51.50527000000005, 51.39364601378024, 51.54732612490108, 51.379917504406436, 51.63032000000004, 51.44465000000008, 51.55710000000005, 51.55984286481587, 51.55916318259063, 51.41589000000005, 51.40982751835143, 51.445601576073464, 51.539649022907504, 51.5313261455904, 51.367590000000064, 51.36027000000007, 51.57815716443278, 51.59245000000004, 51.46751000000006, 51.46201000000008, 51.50654000000003, 51.50913000000003, 51.513460000000066, 51.608214000000004, 51.53012100000001, 51.564651862888816, 51.479460520263444, 51.584632383190815, 51.43407000000008, 51.37474000000003, 51.48408000000006, 51.63061000000005, 51.54908000000006, 51.63519000000008, 51.608214000000004, 51.58802095214995, 51.58802095214995, 51.47130951719695, 51.38812438891392, 51.60525000000007, 51.48552002943043, 51.37507000000005, 51.52441287065046, 51.51263000000006], \"legendgroup\": \"0\", \"lon\": [0.12127000000003818, -0.0329062499999913, 0.12588000000005195, 0.0917635234442441, -0.3029839407012594, -0.06512439297397696, 0.04272280842600311, 0.22008114571229917, -0.22024999999996453, -0.1272340503978188, 1.0530809999999915, 0.07841000000001941, 0.17396000000002232, -0.23987676413137018, 0.18889922149637656, -0.23987676413137018, -0.2049499999999398, -0.03782999999992853, 0.05461000000002514, 0.11982002279395855, 0.14756109494031153, -0.15253467081373884, -0.32077799999999, -0.3255905362673183, -0.19867999999996755, -0.3255905362673183, -0.19867999999996755, 0.15256000000005088, -0.28813509152918465, 0.12247000000002117, 0.13808000000005904, 0.049750000000074124, 0.03603000000003931, 0.09490451420039314, 0.00407000000006974, 0.1267730399837616, -0.1263399999999706, -0.1266473643199545, -0.12765302088347608, -0.2943075193363937, -0.2520516199589085, -0.030863947290489708, -0.1219499999999698, -0.035579999999924894, 0.00943875000000998, 0.036098206378367116, -0.2117299999999318, -0.07606999999995878, -0.05940721210840968, -0.2566299999999728, -0.22901037213082498, 0.011584493267302235, 0.03173000000003867, 0.12332000000003518, 0.14148000000005823, 0.17518898877433137, 0.10336000000006607, -0.2880083586229593, -0.20132999999992762, -0.0016899999999395732, 0.06584000000003698, -0.01246795045038361, -0.24045883734011164, -0.15629950602053197, -0.2523096199168072, 0.15642000000002554, -0.15409365282703674, 0.16834950000000504, 0.0017673863431249784, -0.13914999999997235, -0.44997999999992544, -0.3934451285058116, 0.2661046634847648, 0.17765000000002829, 0.10290171871264056, -0.10009799999998512, -0.21650999999997111, 0.12798335869739821, -0.14079006714282885, -0.13641567847120736, -0.08807999999993399, 0.07484000000005153, -0.2213725820013558, 0.13968000000005532, 0.1722299153689439, 0.11656974193766004, -0.23436999999995578, 0.05380000000002383, 0.002729755227861833, -0.1882299705696056, -0.1678177407543117, -0.44054470252815475, -0.0707599999999502, -0.16394999999994297, 0.055660000000045784, -0.2622814474521747, 0.10862559554823663, -0.38376503137452794, -0.026790779422022574, -0.2775599999999372, -0.05619999999993297, 0.19153000000005704, -0.052676300585627694, 0.05301694974088331, 0.2193097500000133, -0.11035373180225709, -0.018543304211910427, -0.07971999999995205, -0.11035373180225709, 0.1773254602713861, 0.0796600000000467, -0.40918999999996686, -0.19400999999993473, 0.11714056747332446, 0.023895659082697054, -0.047639999999944393, -0.08805999999992764, -0.15185999999994237, -0.34862757199016803, 0.21261632260565536, 0.06632509230460792, 0.181244095274236, 0.1060224520321815, -0.19694999999995844, 0.10856097152295957, -0.240785082940166, -0.3398499999999558, -0.12672536735443427, -0.02043808618523037, -0.2847790349397601, -0.03378148280527209, -0.17203648655172193, 0.11686770293689595, -0.22915999999997894, -0.30686740933725076, -0.16417999999993071, -0.35328701531411527, -0.35328701531411527, -0.3362999999999374, -0.3902299999999741, -0.44842468227557, -0.24471648076986288, -0.4567589999999939, -0.4764799999999241, 0.2294700000000489, 0.181244095274236, 0.2327700000000732, -0.3407345629035206, -0.34110948365125593, -0.3772899999999595, -0.42289453371384106, 0.19531000000006316, 0.015123704723472547, -0.40732924449493807, 0.04187418610417248, -0.2280999999999267, -0.09927999999996473, -0.37316999999995915, -0.004255377903301961, -0.14982999999995172, -0.44997999999992544, -0.0006299999999441752, -0.3017478461664261, 0.22019000000005917, 0.018357170363404084, -0.2462409040013885, -0.44997999999992544, 0.0674900000000207, -0.3383999999999787, -0.09885016384101082, -0.22547999999994772, -0.3140899999999647, 0.030545926035616504, 0.019273414744883522, -0.24880999999993492, -0.2648187831607458, 0.09361125000000484, -0.022264352476853103, 0.029835001077949355, 0.1451854543003011, 0.00568404181966624, 0.05885489885104141, 0.05455000000006294, -0.4944891046459438, -0.22524898807288216, 0.08409083473721865, -0.31112248802149234, -0.0005980530365479037, 0.1331566440000529, -0.20830209626220073, 0.03640796258515495, -0.24014127316659745, -0.164229999999975, -0.20364516249576772, -0.1897799999999279, -0.18649775778641173, -0.27123992339426894, -0.2467623606631054, 0.04260000000004993, -0.14851999999996224, -0.2558001868923714, -0.0329062499999913, -0.18848567121815052, -0.04037999999997055, 0.06378000000006523, -0.24536303339136425, -0.13288999999997486, 0.09263024828095105, 0.20308771521739907, -0.28369999999995343, -0.1094034292696942, 0.13895310706216807, 0.1876117500000135, -0.1767399999999384, -0.36118999999996504, 0.295690000000036, -0.2857844920149502, 0.022499665753018944, -0.3744599999999423, 0.1624100000000226, -0.40983495115914564, -0.3658834685470777, -0.3314699999999675, -0.1663799999999469, -0.13914999999997235, -0.26180433995597113, 0.10185000000006994, -0.24211999999994305, -0.3444322499999955, -0.10659999999995762, -0.26746999999994614, -0.06837335084269645, -0.32725128547995885, -0.2987704638012943, 0.08494000000007418, -0.38075999999995247, 0.02876000000003387, 0.033962906638363495, 0.02876000000003387, 0.033962906638363495, 0.0851599571057346, -0.04653449999998409, 0.11112261751375442, -0.293519329605383, -0.11496547539541899, -0.21105999999997493, -0.2894299999999248, 0.18659205668737022, -0.363732017409817, -0.22622999999993, -1.466669999999965, -0.10357809963229665, 0.20308771521739907, -0.43669035255806227, 0.17615700000000467, 0.12719142859680604, -0.09385999999994965, -0.08879480684604696, -0.06248997056959811, 0.0898311046160824, -0.07637978376532768, 0.02279406175205574, 0.10395000000005439, 0.03623000000004595, -0.45719399380852227, 0.194868199203376, 0.013122416085204562, -0.09337999999996782, -0.36924999999996544, 0.18573994113932604, -0.07413999999994303, -0.4078299999999331, 0.030520000000024083, -0.08351833883076074, -0.37832999999994854, 0.0457962348155273, -0.13288999999997486, -0.18701829175478082, -0.3226782338024124, 0.1097100000000637, 0.10350000000005366, -0.310359999999946, -0.2608199999999917, -0.3389362583671815, -0.1299599999999259, -0.3334988901723898, 0.03916334488470344, -0.3134852624904445, -0.1913399999999683, -0.05532999999996946, -0.06372680063696264, -0.33400097241770793, -0.1676474999999977, 0.12013000000007423, -0.11462387237732108, -0.280548187351632, -0.2823338915436435, -0.19673999999997704, -0.11132999999995263, 0.24960000000004356, 0.2313362559772902, -0.056110273413864646, -0.09514999999993279, 0.14509618576998018, 0.1412639893995169, 0.029277902104827294, -0.4498247043141586, -0.11606999999997925, -0.14992999999992662, 0.02130430998687633, -0.3342899999999531, 0.052950000000066666, 0.11171000000007325, 0.21904000000006363, -0.47395999999997684, -0.31970999999992955, -0.09229049999999575, 0.020952000000000366, -0.3479242768767369, 0.12481150588911631, -0.216208691793564, -0.10374999999993406, -0.009689999999977772, 0.018630000000030122, -0.17501999999996087, -0.22098999999997204, -0.09302999999994199, -0.09229049999999575, 0.0216386678407816, 0.0216386678407816, -0.3370787067499256, -0.061081966561545985, -0.10978999999997541, 0.006269996104913933, -0.2348899999999503, -0.3993893585312604, -0.4725899999999683], \"marker\": {\"color\": \"#636efa\", \"size\": 12}, \"mode\": \"markers\", \"name\": \"0\", \"showlegend\": true, \"subplot\": \"mapbox\", \"type\": \"scattermapbox\"}, {\"customdata\": [[\"Ealing\", \"LONDON\", \"3\", \"Shop & Service\", \"Professional & Other Places\"], [\"Croydon\", \"CROYDON\", \"3\", \"Shop & Service\", \"Professional & Other Places\"], [\"Wandsworth\", \"LONDON\", \"3\", \"Shop & Service\", \"Professional & Other Places\"], [\"Wandsworth\", \"LONDON\", \"3\", \"Shop & Service\", \"Professional & Other Places\"], [\"Lewisham\", \"LONDON\", \"3\", \"Shop & Service\", \"Residence\"], [\"Camden\", \"LONDON\", \"3\", \"Shop & Service\", \"Professional & Other Places\"], [\"Tower Hamlets\", \"LONDON\", \"3\", \"Professional & Other Places\", \"Outdoors & Recreation\"], [\"Lewisham\", \"LONDON\", \"3\", \"Travel & Transport\", \"Professional & Other Places\"], [\"Tower Hamlets\", \"LONDON\", \"3\", \"Professional & Other Places\", \"Food\"], [\"Tower Hamlets\", \"LONDON\", \"3\", \"Professional & Other Places\", \"Food\"], [\"Brent\", \"LONDON\", \"3\", \"Shop & Service\", \"Residence\"], [\"Tower Hamlets\", \"LONDON\", \"3\", \"Professional & Other Places\", \"Food\"], [\"Kensington and ChelseaHammersmith and Fulham\", \"LONDON\", \"3\", \"Food\", \"Shop & Service\"], [\"Tower Hamlets\", \"LONDON\", \"3\", \"Shop & Service\", \"Food\"], [\"Camden\", \"LONDON\", \"3\", \"Shop & Service\", \"Food\"], [\"Tower Hamlets\", \"LONDON\", \"3\", \"Professional & Other Places\", \"Food\"], [\"Sutton\", \"CARSHALTON\", \"3\", \"Shop & Service\", \"Residence\"], [\"Richmond upon Thames\", \"LONDON\", \"3\", \"Shop & Service\", \"Residence\"], [\"Lewisham\", \"LONDON\", \"3\", \"Shop & Service\", \"Residence\"], [\"Camden\", \"LONDON\", \"3\", \"Shop & Service\", \"Professional & Other Places\"], [\"Greenwich\", \"LONDON\", \"3\", \"Shop & Service\", \"Food\"], [\"Sutton\", \"SUTTON/MERTON\", \"3\", \"Shop & Service\", \"Professional & Other Places\"], [\"Kensington and Chelsea\", \"LONDON\", \"3\", \"Shop & Service\", \"Food\"], [\"Lewisham\", \"LONDON\", \"3\", \"Shop & Service\", \"Residence\"], [\"Hounslow\", \"LONDON\", \"3\", \"Shop & Service\", \"Professional & Other Places\"], [\"Brent\", \"LONDON\", \"3\", \"Shop & Service\", \"Professional & Other Places\"], [\"Barnet\", \"LONDON\", \"3\", \"Shop & Service\", \"Professional & Other Places\"], [\"Lambeth\", \"LONDON\", \"3\", \"Travel & Transport\", \"Outdoors & Recreation\"], [\"Merton\", \"LONDON\", \"3\", \"Shop & Service\", \"Professional & Other Places\"], [\"Croydon\", \"CROYDON\", \"3\", \"Shop & Service\", \"Event\"], [\"Kingston upon Thames\", \"KINGSTON UPON THAMES\", \"3\", \"Shop & Service\", \"Event\"], [\"Croydon\", \"CROYDON\", \"3\", \"Shop & Service\", \"Professional & Other Places\"], [\"Kingston upon Thames\", \"KINGSTON UPON THAMES\", \"3\", \"Shop & Service\", \"Professional & Other Places\"], [\"Lewisham\", \"LONDON\", \"3\", \"Shop & Service\", \"Residence\"], [\"Haringey\", \"LONDON\", \"3\", \"Shop & Service\", \"Professional & Other Places\"], [\"Tower Hamlets\", \"LONDON\", \"3\", \"Professional & Other Places\", \"Food\"], [\"Hackney\", \"LONDON\", \"3\", \"Shop & Service\", \"Food\"], [\"Southwark\", \"LONDON\", \"3\", \"Professional & Other Places\", \"Shop & Service\"], [\"Lewisham\", \"LONDON\", \"3\", \"Shop & Service\", \"Professional & Other Places\"], [\"Ealing\", \"LONDON\", \"3\", \"Shop & Service\", \"Professional & Other Places\"], [\"Richmond upon Thames\", \"TWICKENHAM\", \"3\", \"Shop & Service\", \"Food\"], [\"Greenwich\", \"LONDON\", \"3\", \"Shop & Service\", \"Food\"], [\"Haringey\", \"LONDON\", \"3\", \"Shop & Service\", \"Food\"], [\"Croydon\", \"CROYDON\", \"3\", \"Shop & Service\", \"Professional & Other Places\"], [\"Haringey\", \"LONDON\", \"3\", \"Shop & Service\", \"Food\"], [\"Hammersmith and Fulham\", \"LONDON\", \"3\", \"Shop & Service\", \"Food\"], [\"Lambeth\", \"LONDON\", \"3\", \"Travel & Transport\", \"Outdoors & Recreation\"], [\"Enfield\", \"LONDON\", \"3\", \"Shop & Service\", \"Professional & Other Places\"], [\"Greenwich\", \"LONDON\", \"3\", \"Shop & Service\", \"Food\"], [\"Hounslow\", \"LONDON\", \"3\", \"Residence\", \"Shop & Service\"], [\"Lewisham\", \"LONDON\", \"3\", \"Residence\", \"Shop & Service\"], [\"Hackney\", \"LONDON\", \"3\", \"Shop & Service\", \"Professional & Other Places\"], [\"Hackney\", \"LONDON\", \"3\", \"Shop & Service\", \"Professional & Other Places\"], [\"Hackney\", \"LONDON\", \"3\", \"Shop & Service\", \"Professional & Other Places\"], [\"Hackney\", \"LONDON\", \"3\", \"Food\", \"Shop & Service\"], [\"Hammersmith and Fulham\", \"LONDON\", \"3\", \"Food\", \"Shop & Service\"], [\"Richmond upon Thames\", \"KINGSTON UPON THAMES\", \"3\", \"Shop & Service\", \"Food\"], [\"Haringey\", \"LONDON\", \"3\", \"Shop & Service\", \"Food\"], [\"Harrow\", \"HARROW\", \"3\", \"Shop & Service\", \"Professional & Other Places\"], [\"Bromley\", \"BROMLEY\", \"3\", \"Shop & Service\", \"Professional & Other Places\"], [\"Hillingdon\", \"HAYES\", \"3\", \"Shop & Service\", \"Professional & Other Places\"], [\"Islington\", \"LONDON\", \"3\", \"Shop & Service\", \"Professional & Other Places\"], [\"Kensington and Chelsea\", \"LONDON\", \"3\", \"Travel & Transport\", \"Shop & Service\"], [\"Hackney\", \"LONDON\", \"3\", \"Shop & Service\", \"Residence\"], [\"Lewisham\", \"LONDON\", \"3\", \"Shop & Service\", \"Residence\"], [\"Haringey\", \"LONDON\", \"3\", \"Shop & Service\", \"Professional & Other Places\"], [\"Hounslow\", \"HOUNSLOW\", \"3\", \"Shop & Service\", \"Professional & Other Places\"], [\"Hackney\", \"LONDON\", \"3\", \"Shop & Service\", \"Professional & Other Places\"], [\"Tower Hamlets\", \"LONDON\", \"3\", \"Professional & Other Places\", \"Food\"], [\"Camden\", \"LONDON\", \"3\", \"Professional & Other Places\", \"Food\"], [\"Richmond upon Thames\", \"RICHMOND\", \"3\", \"Professional & Other Places\", \"Shop & Service\"], [\"Brent\", \"LONDON\", \"3\", \"Shop & Service\", \"Travel & Transport\"], [\"Kingston upon Thames\", \"KINGSTON UPON THAMES\", \"3\", \"Shop & Service\", \"Professional & Other Places\"], [\"Lewisham\", \"LONDON\", \"3\", \"Shop & Service\", \"Professional & Other Places\"], [\"Lambeth\", \"LONDON\", \"3\", \"Travel & Transport\", \"Outdoors & Recreation\"], [\"Hounslow\", \"HOUNSLOW\", \"3\", \"Shop & Service\", \"Professional & Other Places\"], [\"Tower Hamlets\", \"LONDON\", \"3\", \"Professional & Other Places\", \"Food\"], [\"Lewisham\", \"LONDON\", \"3\", \"Shop & Service\", \"Residence\"], [\"Lewisham\", \"LONDON\", \"3\", \"Shop & Service\", \"Residence\"], [\"Waltham Forest\", \"LONDON\", \"3\", \"Shop & Service\", \"Travel & Transport\"], [\"Tower Hamlets\", \"LONDON\", \"3\", \"Professional & Other Places\", \"Food\"], [\"Bexley\", \"LONDON\", \"3\", \"Professional & Other Places\", \"Shop & Service\"], [\"Hackney\", \"LONDON\", \"3\", \"Shop & Service\", \"Food\"], [\"Hackney\", \"LONDON\", \"3\", \"Shop & Service\", \"Professional & Other Places\"], [\"Newham\", \"LONDON\", \"3\", \"Shop & Service\", \"Travel & Transport\"], [\"Greenwich\", \"LONDON\", \"3\", \"Shop & Service\", \"Residence\"], [\"Tower Hamlets\", \"LONDON\", \"3\", \"Professional & Other Places\", \"Food\"], [\"Tower Hamlets\", \"LONDON\", \"3\", \"Professional & Other Places\", \"Food\"], [\"Wandsworth\", \"LONDON\", \"3\", \"Shop & Service\", \"Professional & Other Places\"], [\"Tower Hamlets\", \"LONDON\", \"3\", \"Professional & Other Places\", \"Shop & Service\"], [\"Hammersmith and Fulham\", \"LONDON\", \"3\", \"Food\", \"Shop & Service\"], [\"Lambeth\", \"LONDON\", \"3\", \"Travel & Transport\", \"Outdoors & Recreation\"], [\"Hammersmith and Fulham\", \"LONDON\", \"3\", \"Shop & Service\", \"Food\"], [\"Tower Hamlets\", \"LONDON\", \"3\", \"Professional & Other Places\", \"Food\"], [\"Camden\", \"LONDON\", \"3\", \"Shop & Service\", \"Professional & Other Places\"], [\"Wandsworth\", \"LONDON\", \"3\", \"Shop & Service\", \"Professional & Other Places\"], [\"Tower Hamlets\", \"LONDON\", \"3\", \"Residence\", \"Outdoors & Recreation\"], [\"Richmond upon Thames\", \"RICHMOND\", \"3\", \"Shop & Service\", \"Food\"], [\"Wandsworth\", \"LONDON\", \"3\", \"Shop & Service\", \"Professional & Other Places\"], [\"Southwark\", \"LONDON\", \"3\", \"Professional & Other Places\", \"Shop & Service\"], [\"Hammersmith and Fulham\", \"LONDON\", \"3\", \"Shop & Service\", \"Food\"], [\"Hackney\", \"LONDON\", \"3\", \"Shop & Service\", \"Food\"], [\"Tower Hamlets\", \"LONDON\", \"3\", \"Professional & Other Places\", \"Shop & Service\"], [\"Croydon\", \"CROYDON\", \"3\", \"Shop & Service\", \"Professional & Other Places\"], [\"Hackney\", \"LONDON\", \"3\", \"Shop & Service\", \"Food\"], [\"Hackney\", \"LONDON\", \"3\", \"Shop & Service\", \"Professional & Other Places\"], [\"Merton\", \"LONDON\", \"3\", \"Shop & Service\", \"Professional & Other Places\"], [\"Lewisham\", \"LONDON\", \"3\", \"Shop & Service\", \"Residence\"], [\"Wandsworth\", \"LONDON\", \"3\", \"Shop & Service\", \"Professional & Other Places\"], [\"Lewisham\", \"LONDON\", \"3\", \"Shop & Service\", \"Travel & Transport\"], [\"Hackney\", \"LONDON\", \"3\", \"Shop & Service\", \"Food\"], [\"Tower Hamlets\", \"LONDON\", \"3\", \"College & University\", \"Professional & Other Places\"], [\"Lambeth\", \"LONDON\", \"3\", \"Shop & Service\", \"Food\"], [\"Hackney\", \"LONDON\", \"3\", \"Shop & Service\", \"Food\"], [\"Newham\", \"LONDON\", \"3\", \"Shop & Service\", \"Travel & Transport\"], [\"Haringey\", \"LONDON\", \"3\", \"Shop & Service\", \"Travel & Transport\"], [\"Camden\", \"LONDON\", \"3\", \"Food\", \"Shop & Service\"], [\"Wandsworth\", \"LONDON\", \"3\", \"Shop & Service\", \"Professional & Other Places\"], [\"Wandsworth\", \"LONDON\", \"3\", \"Shop & Service\", \"Professional & Other Places\"], [\"Haringey\", \"LONDON\", \"3\", \"Shop & Service\", \"Professional & Other Places\"], [\"Haringey\", \"LONDON\", \"3\", \"Shop & Service\", \"Professional & Other Places\"], [\"Haringey\", \"LONDON\", \"3\", \"Shop & Service\", \"Professional & Other Places\"], [\"Haringey\", \"LONDON\", \"3\", \"Shop & Service\", \"Professional & Other Places\"], [\"Richmond upon Thames\", \"TWICKENHAM\", \"3\", \"Shop & Service\", \"Professional & Other Places\"], [\"Waltham Forest\", \"LONDON\", \"3\", \"Shop & Service\", \"Professional & Other Places\"], [\"Lambeth\", \"LONDON\", \"3\", \"Professional & Other Places\", \"Shop & Service\"], [\"Waltham Forest\", \"LONDON\", \"3\", \"Shop & Service\", \"Professional & Other Places\"], [\"Waltham Forest\", \"LONDON\", \"3\", \"Shop & Service\", \"Professional & Other Places\"], [\"Wandsworth\", \"LONDON\", \"3\", \"Shop & Service\", \"Professional & Other Places\"], [\"Tower Hamlets\", \"LONDON\", \"3\", \"Professional & Other Places\", \"Outdoors & Recreation\"], [\"Brent\", \"WEMBLEY\", \"3\", \"Shop & Service\", \"Food\"], [\"Brent\", \"WEMBLEY\", \"3\", \"Shop & Service\", \"Professional & Other Places\"], [\"Hackney\", \"LONDON\", \"3\", \"Shop & Service\", \"Professional & Other Places\"], [\"Hammersmith and Fulham\", \"LONDON\", \"3\", \"Food\", \"Shop & Service\"], [\"Hammersmith and Fulham\", \"LONDON\", \"3\", \"Shop & Service\", \"Food\"], [\"Bromley\", \"BROMLEY\", \"3\", \"Shop & Service\", \"Professional & Other Places\"], [\"Richmond upon Thames\", \"TWICKENHAM\", \"3\", \"Shop & Service\", \"Professional & Other Places\"], [\"Merton\", \"LONDON\", \"3\", \"Shop & Service\", \"Professional & Other Places\"], [\"Hammersmith and Fulham\", \"LONDON\", \"3\", \"Food\", \"Shop & Service\"]], \"hovertemplate\": \"<b>%{hovertext}</b><br><br>Cluster=%{customdata[2]}<br>Lat=%{lat}<br>Lng=%{lon}<br>Borough=%{customdata[0]}<br>Town=%{customdata[1]}<br>1st Most Common Venue=%{customdata[3]}<br>2nd Most Common Venue=%{customdata[4]}<extra></extra>\", \"hovertext\": [\"Acton\", \"Addiscombe\", \"Balham\", \"Battersea\", \"Bellingham\", \"Belsize Park\", \"Bethnal Green\", \"Blackheath\", \"Blackwall\", \"Bow\", \"Brent Park\", \"Bromley (also Bromley-by-Bow)\", \"Brompton\", \"Cambridge Heath\", \"Camden Town\", \"Canary Wharf\", \"Carshalton\", \"Castelnau\", \"Catford\", \"Chalk Farm\", \"Charlton\", \"Cheam\", \"Chelsea\", \"Chinbrook\", \"Chiswick\", \"Church End\", \"Church End\", \"Clapham\", \"Colliers Wood\", \"Coombe\", \"Coombe\", \"Coombe\", \"Coombe\", \"Crofton Park\", \"Crouch End\", \"Cubitt Town\", \"Dalston\", \"Denmark Hill\", \"Deptford\", \"Ealing\", \"Eel Pie Island\", \"Eltham\", \"Finsbury Park\", \"Forestdale\", \"Fortis Green\", \"Fulham\", \"Gipsy Hill\", \"Grange Park\", \"Greenwich\", \"Grove Park\", \"Grove Park\", \"Hackney\", \"Hackney Central\", \"Hackney Marshes\", \"Haggerston\", \"Hammersmith\", \"Hampton Wick\", \"Harringay\", \"Harrow\", \"Hayes\", \"Hayes\", \"Highbury\", \"Holland Park\", \"Homerton\", \"Honor Oak\", \"Hornsey\", \"Hounslow\", \"Hoxton\", \"Isle of Dogs\", \"Kentish Town\", \"Kew\", \"Kilburn\", \"Kingston upon Thames\", \"Ladywell\", \"Lambeth\", \"Lampton\", \"Leamouth\", \"Lee\", \"Lewisham\", \"Leyton\", \"Limehouse\", \"Longlands\", \"Lower Clapton\", \"Manor House\", \"Maryland\", \"Maze Hill\", \"Mile End\", \"Millwall\", \"Nine Elms\", \"Old Ford\", \"Old Oak Common\", \"Oval\", \"Parsons Green\", \"Poplar\", \"Primrose Hill\", \"Putney\", \"Ratcliff\", \"Richmond\", \"Roehampton\", \"Rotherhithe\", \"Sands End\", \"Shacklewell\", \"Shadwell\", \"Shirley\", \"Shoreditch\", \"South Hackney\", \"South Wimbledon\", \"Southend\", \"Southfields\", \"St Johns\", \"Stamford Hill\", \"Stepney\", \"Stockwell\", \"Stoke Newington\", \"Stratford\", \"Stroud Green\", \"Swiss Cottage\", \"Tooting\", \"Tooting Bec\", \"Tottenham\", \"Tottenham Green\", \"Tottenham Hale\", \"Turnpike Lane\", \"Twickenham\", \"Upper Walthamstow\", \"Vauxhall\", \"Walthamstow\", \"Walthamstow Village\", \"Wandsworth\", \"Wapping\", \"Wembley\", \"Wembley Park\", \"West Hackney\", \"West Kensington\", \"White City\", \"Widmore (also Widmore Green)\", \"Whitton\", \"Wimbledon\", \"Wormwood Scrubs\"], \"lat\": [51.51806549999999, 51.3735680787325, 51.45682000000005, 51.459232500000006, 51.459160000000054, 51.546898398855184, 51.504126600453446, 51.47236330464883, 51.52022000000005, 51.52022000000005, 51.57395193404126, 51.52022000000005, 51.47772000000003, 51.52203958714199, 51.53761995614299, 51.52022000000005, 51.36284002943043, 51.485597803398825, 51.459160000000054, 51.542821467115445, 51.48454000000004, 51.36132435148824, 51.48198000000008, 51.459160000000054, 51.487373748466936, 51.584253344799436, 51.47504632750984, 51.49084000000005, 51.42069001110853, 51.3671697217131, 51.412031999999996, 51.3671697217131, 51.412031999999996, 51.459160000000054, 51.57635101698774, 51.52022000000005, 51.54834845382215, 51.473736211092046, 51.474270034018765, 51.51406000000003, 51.46337441920929, 51.48454000000004, 51.56878000000006, 51.372340000000065, 51.59095911304599, 51.4826899378211, 51.49084000000005, 51.510295326548984, 51.48454000000004, 51.60396403260681, 51.46698021778042, 51.54505000000006, 51.54713000000004, 51.54505000000006, 51.53849000000008, 51.49617000000006, 51.415950000000066, 51.58478152594502, 51.58263000000005, 51.39815637597911, 51.50276529123459, 51.54624000000007, 51.50163975059008, 51.54690000000005, 51.459160000000054, 51.57428850000001, 51.46228000000008, 51.544887992859934, 51.52022000000005, 51.55078000000003, 51.468628422834044, 51.541870000000074, 51.40984000000003, 51.45641000000006, 51.49084000000005, 51.470299039126076, 51.52022000000005, 51.46257959777167, 51.459160000000054, 51.547985135879436, 51.52022000000005, 51.471981000000014, 51.550862117718694, 51.556846431040384, 51.54764158006811, 51.481701000000015, 51.52040369910079, 51.52022000000005, 51.45682000000005, 51.51660764694028, 51.47772000000003, 51.49084000000005, 51.474150000000066, 51.52022000000005, 51.54083905632829, 51.45682000000005, 51.510718561483586, 51.45400915453738, 51.45682000000005, 51.49574000000007, 51.4826899378211, 51.55416215382668, 51.51111000000003, 51.36983987399733, 51.53942700000002, 51.54505000000006, 51.41534000000007, 51.459160000000054, 51.454321573173694, 51.469897499999995, 51.548184056155186, 51.51670190834722, 51.47001000000006, 51.552283427674936, 51.54220000000004, 51.56547179987947, 51.54367000000008, 51.45682000000005, 51.45682000000005, 51.586679745472225, 51.586679745472225, 51.586679745472225, 51.58944024263658, 51.455988000000005, 51.57898000000006, 51.48559000000006, 51.57898000000006, 51.57898000000006, 51.45682000000005, 51.50458000000003, 51.55297000000007, 51.561586980800406, 51.54505000000006, 51.47772000000003, 51.4826899378211, 51.4060704911339, 51.452986010228564, 51.41539000000006, 51.47772000000003], \"legendgroup\": \"3\", \"lon\": [-0.3019544999999981, -0.09033311937051809, -0.1945199999999545, -0.1730789999999962, -0.012129999999956453, -0.17282773457354447, -0.05922569467192267, -0.01301957962362178, -0.054309999999929914, -0.054309999999929914, -0.2301453242060037, -0.054309999999929914, -0.2014499999999657, -0.05549610229373748, -0.1450899816781068, -0.054309999999929914, -0.1839700183218063, -0.23313753284896066, -0.012129999999956453, -0.148578235240569, 0.002750000000048658, -0.19358758665781206, -0.1854999999999336, -0.012129999999956453, -0.247567752541106, -0.01246795045038361, -0.24045883734011164, -0.11107999999995855, -0.17567000779025538, -0.09600631040756821, -0.2898697500000028, -0.09600631040756821, -0.2898697500000028, -0.012129999999956453, -0.12596601963658563, -0.054309999999929914, -0.06484092455136468, -0.09315897826992249, -0.02174931183870372, -0.30072999999993044, -0.3093145707527385, 0.002750000000048658, -0.09846999999996342, -0.09944999999993342, -0.1508334651723848, -0.2129099233942567, -0.11107999999995855, -0.2979067501672565, 0.002750000000048658, -0.12672536735443427, -0.02043808618523037, -0.05531999999993786, -0.055099999999924876, -0.05531999999993786, -0.07554999999996426, -0.22934999999995398, -0.31370999999995774, -0.09814679145519253, -0.33202999999997473, 0.015123704723472547, -0.40732924449493807, -0.10326999999995223, -0.2055284999999931, -0.042339999999967404, -0.012129999999956453, -0.12737474999998466, -0.3621599999999603, -0.05954051061888684, -0.054309999999929914, -0.14064999999993688, -0.29469289595136133, -0.1979499999999348, -0.3006099999999492, -0.01949999999993679, -0.11107999999995855, -0.36690024622638734, -0.054309999999929914, -0.009841944150654258, -0.012129999999956453, -0.002230369576499119, -0.054309999999929914, -0.19277549999998178, -0.051984239076214064, -0.061591143632053036, 0.004312571469792642, 0.002405249999993659, -0.053405490595804975, -0.054309999999929914, -0.1945199999999545, -0.056547346008563246, -0.2014499999999657, -0.11107999999995855, -0.20021999999994478, -0.054309999999929914, -0.15706646653347683, -0.1945199999999545, -0.04333289336377088, -0.29975626969156677, -0.1945199999999545, -0.051569999999969696, -0.2129099233942567, -0.06862033688411363, -0.05674999999996544, -0.11168976798994026, -0.07100774999999408, -0.05531999999993786, -0.1925099999999702, -0.012129999999956453, -0.1998087256084327, -0.013578749999988253, -0.06545100623946794, -0.04389372420888454, -0.11248999999997977, -0.07494975516607283, 0.005330000000071777, -0.1060226998192129, -0.172649999999976, -0.1945199999999545, -0.1945199999999545, -0.07045849818887971, -0.07045849818887971, -0.07045849818887971, -0.10765449026122992, -0.33030899999999963, -0.011219999999980246, -0.12332999999995309, -0.011219999999980246, -0.011219999999980246, -0.1945199999999545, -0.05598999999995158, -0.29552999999992835, -0.2819689143230941, -0.05531999999993786, -0.2014499999999657, -0.2129099233942567, 0.016465591081097304, -0.3350880748761787, -0.19534999999996217, -0.2014499999999657], \"marker\": {\"color\": \"#EF553B\", \"size\": 12}, \"mode\": \"markers\", \"name\": \"3\", \"showlegend\": true, \"subplot\": \"mapbox\", \"type\": \"scattermapbox\"}, {\"customdata\": [[\"City\", \"LONDON\", \"1\", \"Outdoors & Recreation\", \"Food\"], [\"Southwark\", \"LONDON\", \"1\", \"Food\", \"Travel & Transport\"], [\"City\", \"LONDON\", \"1\", \"Outdoors & Recreation\", \"Food\"], [\"Southwark\", \"LONDON\", \"1\", \"Food\", \"Outdoors & Recreation\"], [\"City\", \"LONDON\", \"1\", \"Food\", \"Nightlife Spot\"], [\"Camden\", \"LONDON\", \"1\", \"College & University\", \"Food\"], [\"Southwark\", \"LONDON\", \"1\", \"Food\", \"Outdoors & Recreation\"], [\"Westminster\", \"LONDON\", \"1\", \"Arts & Entertainment\", \"Professional & Other Places\"], [\"Southwark\", \"LONDON\", \"1\", \"Food\", \"Outdoors & Recreation\"], [\"Camden\", \"LONDON\", \"1\", \"Shop & Service\", \"Professional & Other Places\"], [\"Camden\", \"LONDON\", \"1\", \"Professional & Other Places\", \"Food\"], [\"Southwark\", \"LONDON\", \"1\", \"Food\", \"Outdoors & Recreation\"], [\"Southwark\", \"LONDON\", \"1\", \"Food\", \"Outdoors & Recreation\"], [\"Southwark\", \"LONDON\", \"1\", \"Food\", \"Outdoors & Recreation\"], [\"Tower Hamlets\", \"LONDON\", \"1\", \"Outdoors & Recreation\", \"Food\"], [\"Southwark\", \"LONDON\", \"1\", \"Travel & Transport\", \"College & University\"], [\"City\", \"LONDON\", \"1\", \"Food\", \"Professional & Other Places\"], [\"Southwark\", \"LONDON\", \"1\", \"Food\", \"Outdoors & Recreation\"]], \"hovertemplate\": \"<b>%{hovertext}</b><br><br>Cluster=%{customdata[2]}<br>Lat=%{lat}<br>Lng=%{lon}<br>Borough=%{customdata[0]}<br>Town=%{customdata[1]}<br>1st Most Common Venue=%{customdata[3]}<br>2nd Most Common Venue=%{customdata[4]}<extra></extra>\", \"hovertext\": [\"Aldgate\", \"Bankside\", \"Barbican\", \"Bermondsey\", \"Blackfriars\", \"Bloomsbury\", \"Camberwell\", \"Charing Cross\", \"Dulwich\", \"Fitzrovia\", \"Holborn\", \"Newington\", \"Nunhead\", \"Peckham\", \"Spitalfields\", \"Surrey Quays\", \"Temple\", \"Walworth\"], \"lat\": [51.513308435920024, 51.50816773788799, 51.52005005107048, 51.505718012162625, 51.51204000000007, 51.520740000000046, 51.50541000000004, 51.507212550837544, 51.50541000000004, 51.51873000000006, 51.51651000000004, 51.50541000000004, 51.50541000000004, 51.50541000000004, 51.518380000000036, 51.502415522976754, 51.51367880282308, 51.50541000000004], \"legendgroup\": \"1\", \"lon\": [-0.077762090020195, -0.09523001191694887, -0.09247002452461052, -0.08923926542542779, -0.10355999999995902, -0.12309999999996535, -0.08920999999998003, -0.12752129664989184, -0.08920999999998003, -0.1373699999999758, -0.11967999999995982, -0.08920999999998003, -0.08920999999998003, -0.08920999999998003, -0.0746799999999439, -0.102682358010783, -0.11088490141152504, -0.08920999999998003], \"marker\": {\"color\": \"#00cc96\", \"size\": 12}, \"mode\": \"markers\", \"name\": \"1\", \"showlegend\": true, \"subplot\": \"mapbox\", \"type\": \"scattermapbox\"}, {\"customdata\": [[\"Westminster\", \"LONDON\", \"2\", \"Professional & Other Places\", \"Food\"], [\"Islington\", \"LONDON\", \"2\", \"Food\", \"Shop & Service\"], [\"Islington\", \"LONDON\", \"2\", \"Food\", \"Outdoors & Recreation\"], [\"Islington\", \"LONDON\", \"2\", \"Food\", \"Shop & Service\"], [\"Westminster\", \"LONDON\", \"2\", \"Professional & Other Places\", \"Food\"], [\"Westminster\", \"LONDON\", \"2\", \"Professional & Other Places\", \"Travel & Transport\"], [\"Islington\", \"LONDON\", \"2\", \"Food\", \"Outdoors & Recreation\"], [\"Westminster\", \"LONDON\", \"2\", \"Professional & Other Places\", \"Food\"], [\"Islington\", \"LONDON\", \"2\", \"Food\", \"Outdoors & Recreation\"], [\"Westminster\", \"LONDON\", \"2\", \"Travel & Transport\", \"Professional & Other Places\"], [\"Islington\", \"LONDON\", \"2\", \"Food\", \"Outdoors & Recreation\"], [\"Kensington and Chelsea\", \"LONDON\", \"2\", \"Travel & Transport\", \"Professional & Other Places\"], [\"Southwark\", \"LONDON\", \"2\", \"College & University\", \"Professional & Other Places\"], [\"Islington \", \"LONDON\", \"2\", \"Food\", \"Outdoors & Recreation\"], [\"Islington\", \"LONDON\", \"2\", \"Food\", \"Outdoors & Recreation\"], [\"Camden\", \"LONDON\", \"2\", \"Travel & Transport\", \"College & University\"], [\"Camden\", \"LONDON\", \"2\", \"Travel & Transport\", \"College & University\"], [\"Camden\", \"LONDON\", \"2\", \"Travel & Transport\", \"Food\"], [\"Islington\", \"LONDON\", \"2\", \"Food\", \"Shop & Service\"], [\"Islington\", \"LONDON\", \"2\", \"Food\", \"Outdoors & Recreation\"], [\"Lambeth\", \"LONDON\", \"2\", \"Travel & Transport\", \"College & University\"], [\"Kensington and Chelsea\", \"LONDON\", \"2\", \"Travel & Transport\", \"Professional & Other Places\"], [\"Camden and Islington\", \"LONDON\", \"2\", \"Shop & Service\", \"Outdoors & Recreation\"], [\"Westminster\", \"LONDON\", \"2\", \"Travel & Transport\", \"Professional & Other Places\"], [\"Westminster\", \"LONDON\", \"2\", \"Residence\", \"Travel & Transport\"], [\"Westminster\", \"LONDON\", \"2\", \"Professional & Other Places\", \"Food\"], [\"Westminster\", \"LONDON\", \"2\", \"Professional & Other Places\", \"Food\"], [\"Westminster\", \"LONDON\", \"2\", \"Residence\", \"Travel & Transport\"], [\"Westminster\", \"LONDON\", \"2\", \"Professional & Other Places\", \"Food\"], [\"Westminster\", \"LONDON\", \"2\", \"Professional & Other Places\", \"Outdoors & Recreation\"], [\"Islington\", \"LONDON\", \"2\", \"Food\", \"Shop & Service\"], [\"Kensington and Chelsea\", \"LONDON\", \"2\", \"Food\", \"Travel & Transport\"], [\"Westminster\", \"LONDON\", \"2\", \"Professional & Other Places\", \"Food\"], [\"Islington\", \"LONDON\", \"2\", \"Travel & Transport\", \"College & University\"], [\"Westminster\", \"LONDON\", \"2\", \"Travel & Transport\", \"Food\"], [\"Hammersmith and Fulham\", \"LONDON\", \"2\", \"Travel & Transport\", \"Food\"], [\"Westminster\", \"LONDON\", \"2\", \"Professional & Other Places\", \"Food\"], [\"Camden\", \"LONDON\", \"2\", \"Travel & Transport\", \"Shop & Service\"], [\"Kensington and Chelsea\", \"LONDON\", \"2\", \"Residence\", \"Food\"], [\"Westminster\", \"LONDON\", \"2\", \"Travel & Transport\", \"Food\"], [\"Camden\", \"LONDON\", \"2\", \"Travel & Transport\", \"College & University\"], [\"Westminster\", \"LONDON\", \"2\", \"Professional & Other Places\", \"Food\"], [\"Islington\", \"LONDON\", \"2\", \"Food\", \"Outdoors & Recreation\"], [\"Camden\", \"LONDON\", \"2\", \"Travel & Transport\", \"College & University\"], [\"Tower Hamlets\", \"LONDON\", \"2\", \"Outdoors & Recreation\", \"Travel & Transport\"], [\"Islington\", \"LONDON\", \"2\", \"Food\", \"Outdoors & Recreation\"], [\"Islington\", \"LONDON\", \"2\", \"Shop & Service\", \"Outdoors & Recreation\"], [\"Kensington and Chelsea\", \"LONDON\", \"2\", \"Food\", \"Travel & Transport\"], [\"Camden\", \"LONDON\", \"2\", \"Travel & Transport\", \"Food\"], [\"Westminster\", \"LONDON\", \"2\", \"Professional & Other Places\", \"Food\"], [\"Tower Hamlets\", \"LONDON\", \"2\", \"Food\", \"Shop & Service\"]], \"hovertemplate\": \"<b>%{hovertext}</b><br><br>Cluster=%{customdata[2]}<br>Lat=%{lat}<br>Lng=%{lon}<br>Borough=%{customdata[0]}<br>Town=%{customdata[1]}<br>1st Most Common Venue=%{customdata[3]}<br>2nd Most Common Venue=%{customdata[4]}<extra></extra>\", \"hovertext\": [\"Aldwych\", \"Angel\", \"Archway\", \"Barnsbury\", \"Bayswater\", \"Belgravia\", \"Canonbury\", \"Chinatown\", \"Clerkenwell\", \"Covent Garden\", \"De Beauvoir Town\", \"Earls Court\", \"Elephant and Castle\", \"Farringdon\", \"Finsbury\", \"Frognal\", \"Gospel Oak\", \"Hampstead\", \"Holloway\", \"Islington\", \"Kennington\", \"Kensington\", \"King's Cross\", \"Knightsbridge\", \"Lisson Grove\", \"Little Venice\", \"Maida Vale\", \"Marylebone (also St Marylebone)\", \"Mayfair\", \"Millbank\", \"Nag's Head\", \"North Kensington\", \"Paddington\", \"Pentonville\", \"Pimlico\", \"Shepherd's Bush\", \"Soho\", \"Somerstown\", \"South Kensington\", \"St James's\", \"St Giles\", \"St John's Wood\", \"St Luke's\", \"St Pancras\", \"Tower Hill\", \"Tufnell Park\", \"Upper Holloway\", \"West Brompton\", \"West Hampstead\", \"Westminster\", \"Whitechapel\"], \"lat\": [51.50008000000008, 51.532020000000045, 51.532790000000034, 51.536480534879935, 51.50008000000008, 51.494857585883956, 51.532790000000034, 51.50008000000008, 51.532790000000034, 51.49319400000002, 51.532790000000034, 51.49750000000006, 51.49503000000004, 51.532790000000034, 51.532790000000034, 51.53236000000004, 51.53236000000004, 51.53405473364255, 51.533630036643764, 51.532790000000034, 51.49805994134637, 51.49906000000004, 51.535737, 51.50089180718563, 51.52621993392596, 51.50008000000008, 51.50008000000008, 51.523840000000064, 51.50008000000008, 51.49564036479073, 51.53363000000007, 51.49014000000005, 51.50008000000008, 51.53136428187524, 51.49176994892964, 51.4960199766923, 51.50008000000008, 51.53588642797144, 51.49807000000004, 51.491190000000074, 51.53236000000004, 51.495715376511676, 51.532790000000034, 51.532350000000065, 51.50604755297273, 51.532790000000034, 51.53545425365254, 51.49014000000005, 51.53405473364255, 51.50008000000008, 51.51917000000003], \"legendgroup\": \"2\", \"lon\": [-0.1280199999999354, -0.10625999999996338, -0.1061399999999253, -0.1109095599068421, -0.1280199999999354, -0.12745119894784956, -0.1061399999999253, -0.1280199999999354, -0.1061399999999253, -0.12893740282209368, -0.1061399999999253, -0.19760999999994056, -0.09890999999993255, -0.1061399999999253, -0.1061399999999253, -0.1279599999999732, -0.1279599999999732, -0.1391765653310896, -0.10726005107039317, -0.1061399999999253, -0.11211230167805922, -0.19873999999992975, -0.10332000000000313, -0.12279855209604336, -0.17149005164730943, -0.1280199999999354, -0.1280199999999354, -0.15756999999996424, -0.1280199999999354, -0.12531052201516182, -0.10577999999992471, -0.16247999999995955, -0.1280199999999354, -0.11445304702839991, -0.13979003332543358, -0.2239514999999983, -0.1280199999999354, -0.1275258685428388, -0.17403999999993403, -0.13481999999993377, -0.1279599999999732, -0.12736106476750578, -0.1061399999999253, -0.12575999999995702, -0.07500042081554159, -0.1061399999999253, -0.10409409146715132, -0.16247999999995955, -0.1391765653310896, -0.1280199999999354, -0.059659999999951197], \"marker\": {\"color\": \"#ab63fa\", \"size\": 12}, \"mode\": \"markers\", \"name\": \"2\", \"showlegend\": true, \"subplot\": \"mapbox\", \"type\": \"scattermapbox\"}],\n",
       "                        {\"height\": 600, \"legend\": {\"title\": {\"text\": \"Cluster\"}, \"tracegroupgap\": 0}, \"mapbox\": {\"center\": {\"lat\": 51.50223865763299, \"lon\": -0.10806065956225025}, \"domain\": {\"x\": [0.0, 1.0], \"y\": [0.0, 1.0]}, \"style\": \"open-street-map\", \"zoom\": 9}, \"margin\": {\"b\": 0, \"l\": 0, \"r\": 0, \"t\": 0}, \"template\": {\"data\": {\"bar\": [{\"error_x\": {\"color\": \"#2a3f5f\"}, \"error_y\": {\"color\": \"#2a3f5f\"}, \"marker\": {\"line\": {\"color\": \"#E5ECF6\", \"width\": 0.5}}, \"type\": \"bar\"}], \"barpolar\": [{\"marker\": {\"line\": {\"color\": \"#E5ECF6\", \"width\": 0.5}}, \"type\": \"barpolar\"}], \"carpet\": [{\"aaxis\": {\"endlinecolor\": \"#2a3f5f\", \"gridcolor\": \"white\", \"linecolor\": \"white\", \"minorgridcolor\": \"white\", \"startlinecolor\": \"#2a3f5f\"}, \"baxis\": {\"endlinecolor\": \"#2a3f5f\", \"gridcolor\": \"white\", \"linecolor\": \"white\", \"minorgridcolor\": \"white\", \"startlinecolor\": \"#2a3f5f\"}, \"type\": \"carpet\"}], \"choropleth\": [{\"colorbar\": {\"outlinewidth\": 0, \"ticks\": \"\"}, \"type\": \"choropleth\"}], \"contour\": [{\"colorbar\": {\"outlinewidth\": 0, \"ticks\": \"\"}, \"colorscale\": [[0.0, \"#0d0887\"], [0.1111111111111111, \"#46039f\"], [0.2222222222222222, \"#7201a8\"], [0.3333333333333333, \"#9c179e\"], [0.4444444444444444, \"#bd3786\"], [0.5555555555555556, \"#d8576b\"], [0.6666666666666666, \"#ed7953\"], [0.7777777777777778, \"#fb9f3a\"], [0.8888888888888888, \"#fdca26\"], [1.0, \"#f0f921\"]], \"type\": \"contour\"}], \"contourcarpet\": [{\"colorbar\": {\"outlinewidth\": 0, \"ticks\": \"\"}, \"type\": \"contourcarpet\"}], \"heatmap\": [{\"colorbar\": {\"outlinewidth\": 0, \"ticks\": \"\"}, \"colorscale\": [[0.0, \"#0d0887\"], [0.1111111111111111, \"#46039f\"], [0.2222222222222222, \"#7201a8\"], [0.3333333333333333, \"#9c179e\"], [0.4444444444444444, \"#bd3786\"], [0.5555555555555556, \"#d8576b\"], [0.6666666666666666, \"#ed7953\"], [0.7777777777777778, \"#fb9f3a\"], [0.8888888888888888, \"#fdca26\"], [1.0, \"#f0f921\"]], \"type\": \"heatmap\"}], \"heatmapgl\": [{\"colorbar\": {\"outlinewidth\": 0, \"ticks\": \"\"}, \"colorscale\": [[0.0, \"#0d0887\"], [0.1111111111111111, \"#46039f\"], [0.2222222222222222, \"#7201a8\"], [0.3333333333333333, \"#9c179e\"], [0.4444444444444444, \"#bd3786\"], [0.5555555555555556, \"#d8576b\"], [0.6666666666666666, \"#ed7953\"], [0.7777777777777778, \"#fb9f3a\"], [0.8888888888888888, \"#fdca26\"], [1.0, \"#f0f921\"]], \"type\": \"heatmapgl\"}], \"histogram\": [{\"marker\": {\"colorbar\": {\"outlinewidth\": 0, \"ticks\": \"\"}}, \"type\": \"histogram\"}], \"histogram2d\": [{\"colorbar\": {\"outlinewidth\": 0, \"ticks\": \"\"}, \"colorscale\": [[0.0, \"#0d0887\"], [0.1111111111111111, \"#46039f\"], [0.2222222222222222, \"#7201a8\"], [0.3333333333333333, \"#9c179e\"], [0.4444444444444444, \"#bd3786\"], [0.5555555555555556, \"#d8576b\"], [0.6666666666666666, \"#ed7953\"], [0.7777777777777778, \"#fb9f3a\"], [0.8888888888888888, \"#fdca26\"], [1.0, \"#f0f921\"]], \"type\": \"histogram2d\"}], \"histogram2dcontour\": [{\"colorbar\": {\"outlinewidth\": 0, \"ticks\": \"\"}, \"colorscale\": [[0.0, \"#0d0887\"], [0.1111111111111111, \"#46039f\"], [0.2222222222222222, \"#7201a8\"], [0.3333333333333333, \"#9c179e\"], [0.4444444444444444, \"#bd3786\"], [0.5555555555555556, \"#d8576b\"], [0.6666666666666666, \"#ed7953\"], [0.7777777777777778, \"#fb9f3a\"], [0.8888888888888888, \"#fdca26\"], [1.0, \"#f0f921\"]], \"type\": \"histogram2dcontour\"}], \"mesh3d\": [{\"colorbar\": {\"outlinewidth\": 0, \"ticks\": \"\"}, \"type\": \"mesh3d\"}], \"parcoords\": [{\"line\": {\"colorbar\": {\"outlinewidth\": 0, \"ticks\": \"\"}}, \"type\": \"parcoords\"}], \"pie\": [{\"automargin\": true, \"type\": \"pie\"}], \"scatter\": [{\"marker\": {\"colorbar\": {\"outlinewidth\": 0, \"ticks\": \"\"}}, \"type\": \"scatter\"}], \"scatter3d\": [{\"line\": {\"colorbar\": {\"outlinewidth\": 0, \"ticks\": \"\"}}, \"marker\": {\"colorbar\": {\"outlinewidth\": 0, \"ticks\": \"\"}}, \"type\": \"scatter3d\"}], \"scattercarpet\": [{\"marker\": {\"colorbar\": {\"outlinewidth\": 0, \"ticks\": \"\"}}, \"type\": \"scattercarpet\"}], \"scattergeo\": [{\"marker\": {\"colorbar\": {\"outlinewidth\": 0, \"ticks\": \"\"}}, \"type\": \"scattergeo\"}], \"scattergl\": [{\"marker\": {\"colorbar\": {\"outlinewidth\": 0, \"ticks\": \"\"}}, \"type\": \"scattergl\"}], \"scattermapbox\": [{\"marker\": {\"colorbar\": {\"outlinewidth\": 0, \"ticks\": \"\"}}, \"type\": \"scattermapbox\"}], \"scatterpolar\": [{\"marker\": {\"colorbar\": {\"outlinewidth\": 0, \"ticks\": \"\"}}, \"type\": \"scatterpolar\"}], \"scatterpolargl\": [{\"marker\": {\"colorbar\": {\"outlinewidth\": 0, \"ticks\": \"\"}}, \"type\": \"scatterpolargl\"}], \"scatterternary\": [{\"marker\": {\"colorbar\": {\"outlinewidth\": 0, \"ticks\": \"\"}}, \"type\": \"scatterternary\"}], \"surface\": [{\"colorbar\": {\"outlinewidth\": 0, \"ticks\": \"\"}, \"colorscale\": [[0.0, \"#0d0887\"], [0.1111111111111111, \"#46039f\"], [0.2222222222222222, \"#7201a8\"], [0.3333333333333333, \"#9c179e\"], [0.4444444444444444, \"#bd3786\"], [0.5555555555555556, \"#d8576b\"], [0.6666666666666666, \"#ed7953\"], [0.7777777777777778, \"#fb9f3a\"], [0.8888888888888888, \"#fdca26\"], [1.0, \"#f0f921\"]], \"type\": \"surface\"}], \"table\": [{\"cells\": {\"fill\": {\"color\": \"#EBF0F8\"}, \"line\": {\"color\": \"white\"}}, \"header\": {\"fill\": {\"color\": \"#C8D4E3\"}, \"line\": {\"color\": \"white\"}}, \"type\": \"table\"}]}, \"layout\": {\"annotationdefaults\": {\"arrowcolor\": \"#2a3f5f\", \"arrowhead\": 0, \"arrowwidth\": 1}, \"coloraxis\": {\"colorbar\": {\"outlinewidth\": 0, \"ticks\": \"\"}}, \"colorscale\": {\"diverging\": [[0, \"#8e0152\"], [0.1, \"#c51b7d\"], [0.2, \"#de77ae\"], [0.3, \"#f1b6da\"], [0.4, \"#fde0ef\"], [0.5, \"#f7f7f7\"], [0.6, \"#e6f5d0\"], [0.7, \"#b8e186\"], [0.8, \"#7fbc41\"], [0.9, \"#4d9221\"], [1, \"#276419\"]], \"sequential\": [[0.0, \"#0d0887\"], [0.1111111111111111, \"#46039f\"], [0.2222222222222222, \"#7201a8\"], [0.3333333333333333, \"#9c179e\"], [0.4444444444444444, \"#bd3786\"], [0.5555555555555556, \"#d8576b\"], [0.6666666666666666, \"#ed7953\"], [0.7777777777777778, \"#fb9f3a\"], [0.8888888888888888, \"#fdca26\"], [1.0, \"#f0f921\"]], \"sequentialminus\": [[0.0, \"#0d0887\"], [0.1111111111111111, \"#46039f\"], [0.2222222222222222, \"#7201a8\"], [0.3333333333333333, \"#9c179e\"], [0.4444444444444444, \"#bd3786\"], [0.5555555555555556, \"#d8576b\"], [0.6666666666666666, \"#ed7953\"], [0.7777777777777778, \"#fb9f3a\"], [0.8888888888888888, \"#fdca26\"], [1.0, \"#f0f921\"]]}, \"colorway\": [\"#636efa\", \"#EF553B\", \"#00cc96\", \"#ab63fa\", \"#FFA15A\", \"#19d3f3\", \"#FF6692\", \"#B6E880\", \"#FF97FF\", \"#FECB52\"], \"font\": {\"color\": \"#2a3f5f\"}, \"geo\": {\"bgcolor\": \"white\", \"lakecolor\": \"white\", \"landcolor\": \"#E5ECF6\", \"showlakes\": true, \"showland\": true, \"subunitcolor\": \"white\"}, \"hoverlabel\": {\"align\": \"left\"}, \"hovermode\": \"closest\", \"mapbox\": {\"style\": \"light\"}, \"paper_bgcolor\": \"white\", \"plot_bgcolor\": \"#E5ECF6\", \"polar\": {\"angularaxis\": {\"gridcolor\": \"white\", \"linecolor\": \"white\", \"ticks\": \"\"}, \"bgcolor\": \"#E5ECF6\", \"radialaxis\": {\"gridcolor\": \"white\", \"linecolor\": \"white\", \"ticks\": \"\"}}, \"scene\": {\"xaxis\": {\"backgroundcolor\": \"#E5ECF6\", \"gridcolor\": \"white\", \"gridwidth\": 2, \"linecolor\": \"white\", \"showbackground\": true, \"ticks\": \"\", \"zerolinecolor\": \"white\"}, \"yaxis\": {\"backgroundcolor\": \"#E5ECF6\", \"gridcolor\": \"white\", \"gridwidth\": 2, \"linecolor\": \"white\", \"showbackground\": true, \"ticks\": \"\", \"zerolinecolor\": \"white\"}, \"zaxis\": {\"backgroundcolor\": \"#E5ECF6\", \"gridcolor\": \"white\", \"gridwidth\": 2, \"linecolor\": \"white\", \"showbackground\": true, \"ticks\": \"\", \"zerolinecolor\": \"white\"}}, \"shapedefaults\": {\"line\": {\"color\": \"#2a3f5f\"}}, \"ternary\": {\"aaxis\": {\"gridcolor\": \"white\", \"linecolor\": \"white\", \"ticks\": \"\"}, \"baxis\": {\"gridcolor\": \"white\", \"linecolor\": \"white\", \"ticks\": \"\"}, \"bgcolor\": \"#E5ECF6\", \"caxis\": {\"gridcolor\": \"white\", \"linecolor\": \"white\", \"ticks\": \"\"}}, \"title\": {\"x\": 0.05}, \"xaxis\": {\"automargin\": true, \"gridcolor\": \"white\", \"linecolor\": \"white\", \"ticks\": \"\", \"title\": {\"standoff\": 15}, \"zerolinecolor\": \"white\", \"zerolinewidth\": 2}, \"yaxis\": {\"automargin\": true, \"gridcolor\": \"white\", \"linecolor\": \"white\", \"ticks\": \"\", \"title\": {\"standoff\": 15}, \"zerolinecolor\": \"white\", \"zerolinewidth\": 2}}}},\n",
       "                        {\"responsive\": true}\n",
       "                    ).then(function(){\n",
       "                            \n",
       "var gd = document.getElementById('bb6d0a1d-34ab-4673-a960-5bc2dd539432');\n",
       "var x = new MutationObserver(function (mutations, observer) {{\n",
       "        var display = window.getComputedStyle(gd).display;\n",
       "        if (!display || display === 'none') {{\n",
       "            console.log([gd, 'removed!']);\n",
       "            Plotly.purge(gd);\n",
       "            observer.disconnect();\n",
       "        }}\n",
       "}});\n",
       "\n",
       "// Listen for the removal of the full notebook cells\n",
       "var notebookContainer = gd.closest('#notebook-container');\n",
       "if (notebookContainer) {{\n",
       "    x.observe(notebookContainer, {childList: true});\n",
       "}}\n",
       "\n",
       "// Listen for the clearing of the current output cell\n",
       "var outputEl = gd.closest('.output');\n",
       "if (outputEl) {{\n",
       "    x.observe(outputEl, {childList: true});\n",
       "}}\n",
       "\n",
       "                        })\n",
       "                };\n",
       "                });\n",
       "            </script>\n",
       "        </div>"
      ]
     },
     "metadata": {},
     "output_type": "display_data"
    }
   ],
   "source": [
    "places_merged['Cluster'] = places_merged[\"Cluster Labels\"].apply(lambda x: str(x))\n",
    "fig = px.scatter_mapbox(places_merged, lat=\"Lat\", lon=\"Lng\", hover_name=\"Location\", hover_data=[\"Borough\", \"Town\", \"Cluster\", \"1st Most Common Venue\", \"2nd Most Common Venue\"],\n",
    "                        color=\"Cluster\", zoom=9, height=600)\n",
    "fig.update_traces(marker=dict(size=12))\n",
    "fig.update_layout(mapbox_style=\"open-street-map\")\n",
    "fig.update_layout(margin={\"r\":0,\"t\":0,\"l\":0,\"b\":0})\n",
    "fig.show()"
   ]
  },
  {
   "cell_type": "markdown",
   "metadata": {},
   "source": [
    "# 5. Results\n",
    "Let's have a closer look at the clusters.\n",
    "\n",
    "We will define some columns to get statistics on:"
   ]
  },
  {
   "cell_type": "code",
   "execution_count": 56,
   "metadata": {},
   "outputs": [
    {
     "data": {
      "text/plain": [
       "['1st Most Common Venue', '2nd Most Common Venue', 'Borough']"
      ]
     },
     "execution_count": 56,
     "metadata": {},
     "output_type": "execute_result"
    }
   ],
   "source": [
    "required_column_indices = [2,3,7]\n",
    "required_column = [list(places_merged.columns.values)[i] for i in required_column_indices]\n",
    "required_column"
   ]
  },
  {
   "cell_type": "markdown",
   "metadata": {},
   "source": [
    "## Cluster 0"
   ]
  },
  {
   "cell_type": "code",
   "execution_count": 57,
   "metadata": {},
   "outputs": [
    {
     "data": {
      "text/html": [
       "<div>\n",
       "<style scoped>\n",
       "    .dataframe tbody tr th:only-of-type {\n",
       "        vertical-align: middle;\n",
       "    }\n",
       "\n",
       "    .dataframe tbody tr th {\n",
       "        vertical-align: top;\n",
       "    }\n",
       "\n",
       "    .dataframe thead th {\n",
       "        text-align: right;\n",
       "    }\n",
       "</style>\n",
       "<table border=\"1\" class=\"dataframe\">\n",
       "  <thead>\n",
       "    <tr style=\"text-align: right;\">\n",
       "      <th></th>\n",
       "      <th>Location</th>\n",
       "      <th>1st Most Common Venue</th>\n",
       "      <th>2nd Most Common Venue</th>\n",
       "      <th>3rd Most Common Venue</th>\n",
       "      <th>4th Most Common Venue</th>\n",
       "      <th>5th Most Common Venue</th>\n",
       "      <th>Borough</th>\n",
       "      <th>Town</th>\n",
       "      <th>Postcode</th>\n",
       "      <th>Lat</th>\n",
       "      <th>Lng</th>\n",
       "    </tr>\n",
       "  </thead>\n",
       "  <tbody>\n",
       "    <tr>\n",
       "      <th>0</th>\n",
       "      <td>Abbey Wood</td>\n",
       "      <td>Residence</td>\n",
       "      <td>Shop &amp; Service</td>\n",
       "      <td>Outdoors &amp; Recreation</td>\n",
       "      <td>Travel &amp; Transport</td>\n",
       "      <td>Professional &amp; Other Places</td>\n",
       "      <td>Bexley</td>\n",
       "      <td>LONDON</td>\n",
       "      <td>SE2</td>\n",
       "      <td>51.4925</td>\n",
       "      <td>0.12127</td>\n",
       "    </tr>\n",
       "    <tr>\n",
       "      <th>2</th>\n",
       "      <td>Addington</td>\n",
       "      <td>Outdoors &amp; Recreation</td>\n",
       "      <td>Professional &amp; Other Places</td>\n",
       "      <td>Food</td>\n",
       "      <td>Travel &amp; Transport</td>\n",
       "      <td>Shop &amp; Service</td>\n",
       "      <td>Croydon</td>\n",
       "      <td>CROYDON</td>\n",
       "      <td>CR0</td>\n",
       "      <td>51.3588</td>\n",
       "      <td>-0.0329062</td>\n",
       "    </tr>\n",
       "    <tr>\n",
       "      <th>4</th>\n",
       "      <td>Albany Park</td>\n",
       "      <td>Shop &amp; Service</td>\n",
       "      <td>Professional &amp; Other Places</td>\n",
       "      <td>Nightlife Spot</td>\n",
       "      <td>Food</td>\n",
       "      <td>College &amp; University</td>\n",
       "      <td>Bexley</td>\n",
       "      <td>BEXLEY</td>\n",
       "      <td>DA5</td>\n",
       "      <td>51.4357</td>\n",
       "      <td>0.12588</td>\n",
       "    </tr>\n",
       "    <tr>\n",
       "      <th>5</th>\n",
       "      <td>Aldborough Hatch</td>\n",
       "      <td>Shop &amp; Service</td>\n",
       "      <td>Professional &amp; Other Places</td>\n",
       "      <td>Outdoors &amp; Recreation</td>\n",
       "      <td>College &amp; University</td>\n",
       "      <td>Travel &amp; Transport</td>\n",
       "      <td>Redbridge</td>\n",
       "      <td>ILFORD</td>\n",
       "      <td>IG2</td>\n",
       "      <td>51.563</td>\n",
       "      <td>0.0917635</td>\n",
       "    </tr>\n",
       "    <tr>\n",
       "      <th>8</th>\n",
       "      <td>Alperton</td>\n",
       "      <td>Professional &amp; Other Places</td>\n",
       "      <td>Residence</td>\n",
       "      <td>Shop &amp; Service</td>\n",
       "      <td>Travel &amp; Transport</td>\n",
       "      <td>Food</td>\n",
       "      <td>Brent</td>\n",
       "      <td>WEMBLEY</td>\n",
       "      <td>HA0</td>\n",
       "      <td>51.5342</td>\n",
       "      <td>-0.302984</td>\n",
       "    </tr>\n",
       "  </tbody>\n",
       "</table>\n",
       "</div>"
      ],
      "text/plain": [
       "           Location        1st Most Common Venue        2nd Most Common Venue  \\\n",
       "0        Abbey Wood                    Residence               Shop & Service   \n",
       "2         Addington        Outdoors & Recreation  Professional & Other Places   \n",
       "4       Albany Park               Shop & Service  Professional & Other Places   \n",
       "5  Aldborough Hatch               Shop & Service  Professional & Other Places   \n",
       "8          Alperton  Professional & Other Places                    Residence   \n",
       "\n",
       "   3rd Most Common Venue 4th Most Common Venue        5th Most Common Venue  \\\n",
       "0  Outdoors & Recreation    Travel & Transport  Professional & Other Places   \n",
       "2                   Food    Travel & Transport               Shop & Service   \n",
       "4         Nightlife Spot                  Food         College & University   \n",
       "5  Outdoors & Recreation  College & University           Travel & Transport   \n",
       "8         Shop & Service    Travel & Transport                         Food   \n",
       "\n",
       "     Borough     Town Postcode      Lat        Lng  \n",
       "0     Bexley   LONDON      SE2  51.4925    0.12127  \n",
       "2    Croydon  CROYDON      CR0  51.3588 -0.0329062  \n",
       "4     Bexley   BEXLEY      DA5  51.4357    0.12588  \n",
       "5  Redbridge   ILFORD      IG2   51.563  0.0917635  \n",
       "8      Brent  WEMBLEY      HA0  51.5342  -0.302984  "
      ]
     },
     "execution_count": 57,
     "metadata": {},
     "output_type": "execute_result"
    }
   ],
   "source": [
    "cluster_0 = places_merged.loc[places_merged['Cluster Labels'] == 0, places_merged.columns[1:12]]\n",
    "cluster_0.head(5)"
   ]
  },
  {
   "cell_type": "code",
   "execution_count": 58,
   "metadata": {},
   "outputs": [
    {
     "name": "stdout",
     "output_type": "stream",
     "text": [
      "Shop & Service                 138\n",
      "Professional & Other Places     88\n",
      "Residence                       65\n",
      "Outdoors & Recreation           19\n",
      "Travel & Transport              10\n",
      "Event                            9\n",
      "College & University             6\n",
      "Food                             2\n",
      "Name: 1st Most Common Venue, dtype: int64\n",
      "---------------------------------------------\n",
      "Professional & Other Places    115\n",
      "Shop & Service                  76\n",
      "Residence                       66\n",
      "Outdoors & Recreation           31\n",
      "Travel & Transport              17\n",
      "Food                            16\n",
      "College & University            13\n",
      "Event                            2\n",
      "Arts & Entertainment             1\n",
      "Name: 2nd Most Common Venue, dtype: int64\n",
      "---------------------------------------------\n",
      "Barnet                    36\n",
      "Bromley                   35\n",
      "Bexley                    30\n",
      "Havering                  21\n",
      "Croydon                   18\n",
      "Hillingdon                17\n",
      "Brent                     16\n",
      "Redbridge                 16\n",
      "Enfield                   16\n",
      "Harrow                    13\n",
      "Newham                    13\n",
      "Hounslow                  12\n",
      "Richmond upon Thames      12\n",
      "Kingston upon Thames      11\n",
      "Greenwich                 10\n",
      "Lewisham                   8\n",
      "Barking and Dagenham       8\n",
      "Ealing                     8\n",
      "Merton                     7\n",
      "Haringey                   6\n",
      "Sutton                     6\n",
      "Lambeth                    5\n",
      "Waltham Forest             4\n",
      "Hackney                    3\n",
      "Wandsworth                 1\n",
      "Dartford                   1\n",
      "Haringey and Barnet        1\n",
      "Camden                     1\n",
      "Kensington and Chelsea     1\n",
      "Southwark                  1\n",
      "Name: Borough, dtype: int64\n",
      "---------------------------------------------\n"
     ]
    }
   ],
   "source": [
    "for col in required_column:\n",
    "    print(cluster_0[col].value_counts(ascending = False))\n",
    "    print(\"---------------------------------------------\")"
   ]
  },
  {
   "cell_type": "markdown",
   "metadata": {},
   "source": [
    "We can see that this cluster has Shops, Professional places and Residences.\n",
    "Given that no other cluster has that many residences it looks like a distinction feature of that claster."
   ]
  },
  {
   "cell_type": "markdown",
   "metadata": {},
   "source": [
    "## Cluster 1"
   ]
  },
  {
   "cell_type": "code",
   "execution_count": 59,
   "metadata": {},
   "outputs": [
    {
     "data": {
      "text/html": [
       "<div>\n",
       "<style scoped>\n",
       "    .dataframe tbody tr th:only-of-type {\n",
       "        vertical-align: middle;\n",
       "    }\n",
       "\n",
       "    .dataframe tbody tr th {\n",
       "        vertical-align: top;\n",
       "    }\n",
       "\n",
       "    .dataframe thead th {\n",
       "        text-align: right;\n",
       "    }\n",
       "</style>\n",
       "<table border=\"1\" class=\"dataframe\">\n",
       "  <thead>\n",
       "    <tr style=\"text-align: right;\">\n",
       "      <th></th>\n",
       "      <th>Location</th>\n",
       "      <th>1st Most Common Venue</th>\n",
       "      <th>2nd Most Common Venue</th>\n",
       "      <th>3rd Most Common Venue</th>\n",
       "      <th>4th Most Common Venue</th>\n",
       "      <th>5th Most Common Venue</th>\n",
       "      <th>Borough</th>\n",
       "      <th>Town</th>\n",
       "      <th>Postcode</th>\n",
       "      <th>Lat</th>\n",
       "      <th>Lng</th>\n",
       "    </tr>\n",
       "  </thead>\n",
       "  <tbody>\n",
       "    <tr>\n",
       "      <th>1</th>\n",
       "      <td>Acton</td>\n",
       "      <td>Shop &amp; Service</td>\n",
       "      <td>Professional &amp; Other Places</td>\n",
       "      <td>Food</td>\n",
       "      <td>Travel &amp; Transport</td>\n",
       "      <td>Residence</td>\n",
       "      <td>Ealing</td>\n",
       "      <td>LONDON</td>\n",
       "      <td>W3</td>\n",
       "      <td>51.5181</td>\n",
       "      <td>-0.301954</td>\n",
       "    </tr>\n",
       "    <tr>\n",
       "      <th>3</th>\n",
       "      <td>Addiscombe</td>\n",
       "      <td>Shop &amp; Service</td>\n",
       "      <td>Professional &amp; Other Places</td>\n",
       "      <td>Travel &amp; Transport</td>\n",
       "      <td>Food</td>\n",
       "      <td>Residence</td>\n",
       "      <td>Croydon</td>\n",
       "      <td>CROYDON</td>\n",
       "      <td>CR0</td>\n",
       "      <td>51.3736</td>\n",
       "      <td>-0.0903331</td>\n",
       "    </tr>\n",
       "    <tr>\n",
       "      <th>16</th>\n",
       "      <td>Balham</td>\n",
       "      <td>Shop &amp; Service</td>\n",
       "      <td>Professional &amp; Other Places</td>\n",
       "      <td>Outdoors &amp; Recreation</td>\n",
       "      <td>Travel &amp; Transport</td>\n",
       "      <td>Food</td>\n",
       "      <td>Wandsworth</td>\n",
       "      <td>LONDON</td>\n",
       "      <td>SW12</td>\n",
       "      <td>51.4568</td>\n",
       "      <td>-0.19452</td>\n",
       "    </tr>\n",
       "    <tr>\n",
       "      <th>27</th>\n",
       "      <td>Battersea</td>\n",
       "      <td>Shop &amp; Service</td>\n",
       "      <td>Professional &amp; Other Places</td>\n",
       "      <td>Food</td>\n",
       "      <td>Travel &amp; Transport</td>\n",
       "      <td>Residence</td>\n",
       "      <td>Wandsworth</td>\n",
       "      <td>LONDON</td>\n",
       "      <td>SW11</td>\n",
       "      <td>51.4592</td>\n",
       "      <td>-0.173079</td>\n",
       "    </tr>\n",
       "    <tr>\n",
       "      <th>36</th>\n",
       "      <td>Bellingham</td>\n",
       "      <td>Shop &amp; Service</td>\n",
       "      <td>Residence</td>\n",
       "      <td>Professional &amp; Other Places</td>\n",
       "      <td>Travel &amp; Transport</td>\n",
       "      <td>Outdoors &amp; Recreation</td>\n",
       "      <td>Lewisham</td>\n",
       "      <td>LONDON</td>\n",
       "      <td>SE6</td>\n",
       "      <td>51.4592</td>\n",
       "      <td>-0.01213</td>\n",
       "    </tr>\n",
       "  </tbody>\n",
       "</table>\n",
       "</div>"
      ],
      "text/plain": [
       "      Location 1st Most Common Venue        2nd Most Common Venue  \\\n",
       "1        Acton        Shop & Service  Professional & Other Places   \n",
       "3   Addiscombe        Shop & Service  Professional & Other Places   \n",
       "16      Balham        Shop & Service  Professional & Other Places   \n",
       "27   Battersea        Shop & Service  Professional & Other Places   \n",
       "36  Bellingham        Shop & Service                    Residence   \n",
       "\n",
       "          3rd Most Common Venue 4th Most Common Venue  5th Most Common Venue  \\\n",
       "1                          Food    Travel & Transport              Residence   \n",
       "3            Travel & Transport                  Food              Residence   \n",
       "16        Outdoors & Recreation    Travel & Transport                   Food   \n",
       "27                         Food    Travel & Transport              Residence   \n",
       "36  Professional & Other Places    Travel & Transport  Outdoors & Recreation   \n",
       "\n",
       "       Borough     Town Postcode      Lat        Lng  \n",
       "1       Ealing   LONDON       W3  51.5181  -0.301954  \n",
       "3      Croydon  CROYDON      CR0  51.3736 -0.0903331  \n",
       "16  Wandsworth   LONDON     SW12  51.4568   -0.19452  \n",
       "27  Wandsworth   LONDON     SW11  51.4592  -0.173079  \n",
       "36    Lewisham   LONDON      SE6  51.4592   -0.01213  "
      ]
     },
     "execution_count": 59,
     "metadata": {},
     "output_type": "execute_result"
    }
   ],
   "source": [
    "cluster_1 = places_merged.loc[places_merged['Cluster Labels'] == 1, places_merged.columns[1:12]]\n",
    "cluster_1.head(5)"
   ]
  },
  {
   "cell_type": "code",
   "execution_count": 60,
   "metadata": {},
   "outputs": [
    {
     "name": "stdout",
     "output_type": "stream",
     "text": [
      "Shop & Service                 101\n",
      "Professional & Other Places     21\n",
      "Food                             7\n",
      "Travel & Transport               6\n",
      "Residence                        3\n",
      "College & University             1\n",
      "Name: 1st Most Common Venue, dtype: int64\n",
      "---------------------------------------------\n",
      "Professional & Other Places    58\n",
      "Food                           36\n",
      "Shop & Service                 17\n",
      "Residence                      13\n",
      "Outdoors & Recreation           7\n",
      "Travel & Transport              6\n",
      "Event                           2\n",
      "Name: 2nd Most Common Venue, dtype: int64\n",
      "---------------------------------------------\n",
      "Tower Hamlets                                   18\n",
      "Hackney                                         15\n",
      "Lewisham                                        13\n",
      "Haringey                                        10\n",
      "Wandsworth                                       9\n",
      "Hammersmith and Fulham                           8\n",
      "Richmond upon Thames                             7\n",
      "Camden                                           6\n",
      "Lambeth                                          6\n",
      "Brent                                            5\n",
      "Croydon                                          5\n",
      "Greenwich                                        4\n",
      "Hounslow                                         4\n",
      "Waltham Forest                                   4\n",
      "Kingston upon Thames                             3\n",
      "Merton                                           3\n",
      "Kensington and Chelsea                           2\n",
      "Bromley                                          2\n",
      "Newham                                           2\n",
      "Sutton                                           2\n",
      "Ealing                                           2\n",
      "Southwark                                        2\n",
      "Bexley                                           1\n",
      "Harrow                                           1\n",
      "Enfield                                          1\n",
      "Hillingdon                                       1\n",
      "Kensington and ChelseaHammersmith and Fulham     1\n",
      "Barnet                                           1\n",
      "Islington                                        1\n",
      "Name: Borough, dtype: int64\n",
      "---------------------------------------------\n"
     ]
    }
   ],
   "source": [
    "for col in required_column:\n",
    "    print(cluster_1[col].value_counts(ascending = False))\n",
    "    print(\"---------------------------------------------\")"
   ]
  },
  {
   "cell_type": "markdown",
   "metadata": {},
   "source": [
    "This one has mostly Shops and **Professional** places. We can assume it's a business area of London."
   ]
  },
  {
   "cell_type": "markdown",
   "metadata": {},
   "source": [
    "## Cluster 2"
   ]
  },
  {
   "cell_type": "code",
   "execution_count": 75,
   "metadata": {},
   "outputs": [
    {
     "data": {
      "text/html": [
       "<div>\n",
       "<style scoped>\n",
       "    .dataframe tbody tr th:only-of-type {\n",
       "        vertical-align: middle;\n",
       "    }\n",
       "\n",
       "    .dataframe tbody tr th {\n",
       "        vertical-align: top;\n",
       "    }\n",
       "\n",
       "    .dataframe thead th {\n",
       "        text-align: right;\n",
       "    }\n",
       "</style>\n",
       "<table border=\"1\" class=\"dataframe\">\n",
       "  <thead>\n",
       "    <tr style=\"text-align: right;\">\n",
       "      <th></th>\n",
       "      <th>Location</th>\n",
       "      <th>1st Most Common Venue</th>\n",
       "      <th>2nd Most Common Venue</th>\n",
       "      <th>3rd Most Common Venue</th>\n",
       "      <th>4th Most Common Venue</th>\n",
       "      <th>5th Most Common Venue</th>\n",
       "      <th>Borough</th>\n",
       "      <th>Town</th>\n",
       "      <th>Postcode</th>\n",
       "      <th>Lat</th>\n",
       "      <th>Lng</th>\n",
       "    </tr>\n",
       "  </thead>\n",
       "  <tbody>\n",
       "    <tr>\n",
       "      <th>6</th>\n",
       "      <td>Aldgate</td>\n",
       "      <td>Outdoors &amp; Recreation</td>\n",
       "      <td>Food</td>\n",
       "      <td>Travel &amp; Transport</td>\n",
       "      <td>Nightlife Spot</td>\n",
       "      <td>Professional &amp; Other Places</td>\n",
       "      <td>City</td>\n",
       "      <td>LONDON</td>\n",
       "      <td>EC3</td>\n",
       "      <td>51.5133</td>\n",
       "      <td>-0.0777621</td>\n",
       "    </tr>\n",
       "    <tr>\n",
       "      <th>17</th>\n",
       "      <td>Bankside</td>\n",
       "      <td>Food</td>\n",
       "      <td>Travel &amp; Transport</td>\n",
       "      <td>Professional &amp; Other Places</td>\n",
       "      <td>Outdoors &amp; Recreation</td>\n",
       "      <td>Shop &amp; Service</td>\n",
       "      <td>Southwark</td>\n",
       "      <td>LONDON</td>\n",
       "      <td>SE1</td>\n",
       "      <td>51.5082</td>\n",
       "      <td>-0.09523</td>\n",
       "    </tr>\n",
       "    <tr>\n",
       "      <th>18</th>\n",
       "      <td>Barbican</td>\n",
       "      <td>Outdoors &amp; Recreation</td>\n",
       "      <td>Food</td>\n",
       "      <td>Nightlife Spot</td>\n",
       "      <td>Travel &amp; Transport</td>\n",
       "      <td>Residence</td>\n",
       "      <td>City</td>\n",
       "      <td>LONDON</td>\n",
       "      <td>EC1</td>\n",
       "      <td>51.5201</td>\n",
       "      <td>-0.09247</td>\n",
       "    </tr>\n",
       "    <tr>\n",
       "      <th>41</th>\n",
       "      <td>Bermondsey</td>\n",
       "      <td>Food</td>\n",
       "      <td>Outdoors &amp; Recreation</td>\n",
       "      <td>Travel &amp; Transport</td>\n",
       "      <td>Professional &amp; Other Places</td>\n",
       "      <td>Shop &amp; Service</td>\n",
       "      <td>Southwark</td>\n",
       "      <td>LONDON</td>\n",
       "      <td>SE1</td>\n",
       "      <td>51.5057</td>\n",
       "      <td>-0.0892393</td>\n",
       "    </tr>\n",
       "    <tr>\n",
       "      <th>49</th>\n",
       "      <td>Blackfriars</td>\n",
       "      <td>Food</td>\n",
       "      <td>Nightlife Spot</td>\n",
       "      <td>Professional &amp; Other Places</td>\n",
       "      <td>Outdoors &amp; Recreation</td>\n",
       "      <td>Travel &amp; Transport</td>\n",
       "      <td>City</td>\n",
       "      <td>LONDON</td>\n",
       "      <td>EC4</td>\n",
       "      <td>51.512</td>\n",
       "      <td>-0.10356</td>\n",
       "    </tr>\n",
       "  </tbody>\n",
       "</table>\n",
       "</div>"
      ],
      "text/plain": [
       "       Location  1st Most Common Venue  2nd Most Common Venue  \\\n",
       "6       Aldgate  Outdoors & Recreation                   Food   \n",
       "17     Bankside                   Food     Travel & Transport   \n",
       "18     Barbican  Outdoors & Recreation                   Food   \n",
       "41   Bermondsey                   Food  Outdoors & Recreation   \n",
       "49  Blackfriars                   Food         Nightlife Spot   \n",
       "\n",
       "          3rd Most Common Venue        4th Most Common Venue  \\\n",
       "6            Travel & Transport               Nightlife Spot   \n",
       "17  Professional & Other Places        Outdoors & Recreation   \n",
       "18               Nightlife Spot           Travel & Transport   \n",
       "41           Travel & Transport  Professional & Other Places   \n",
       "49  Professional & Other Places        Outdoors & Recreation   \n",
       "\n",
       "          5th Most Common Venue    Borough    Town Postcode      Lat  \\\n",
       "6   Professional & Other Places       City  LONDON      EC3  51.5133   \n",
       "17               Shop & Service  Southwark  LONDON      SE1  51.5082   \n",
       "18                    Residence       City  LONDON      EC1  51.5201   \n",
       "41               Shop & Service  Southwark  LONDON      SE1  51.5057   \n",
       "49           Travel & Transport       City  LONDON      EC4   51.512   \n",
       "\n",
       "          Lng  \n",
       "6  -0.0777621  \n",
       "17   -0.09523  \n",
       "18   -0.09247  \n",
       "41 -0.0892393  \n",
       "49   -0.10356  "
      ]
     },
     "execution_count": 75,
     "metadata": {},
     "output_type": "execute_result"
    }
   ],
   "source": [
    "cluster_2 = places_merged.loc[places_merged['Cluster Labels'] == 2, places_merged.columns[1:12]]\n",
    "cluster_2.head(5)"
   ]
  },
  {
   "cell_type": "code",
   "execution_count": 76,
   "metadata": {},
   "outputs": [
    {
     "name": "stdout",
     "output_type": "stream",
     "text": [
      "Food                           10\n",
      "Outdoors & Recreation           3\n",
      "Shop & Service                  1\n",
      "Professional & Other Places     1\n",
      "Travel & Transport              1\n",
      "College & University            1\n",
      "Arts & Entertainment            1\n",
      "Name: 1st Most Common Venue, dtype: int64\n",
      "---------------------------------------------\n",
      "Outdoors & Recreation          7\n",
      "Food                           5\n",
      "Professional & Other Places    3\n",
      "Nightlife Spot                 1\n",
      "Travel & Transport             1\n",
      "College & University           1\n",
      "Name: 2nd Most Common Venue, dtype: int64\n",
      "---------------------------------------------\n",
      "Southwark        9\n",
      "City             4\n",
      "Camden           3\n",
      "Tower Hamlets    1\n",
      "Westminster      1\n",
      "Name: Borough, dtype: int64\n",
      "---------------------------------------------\n"
     ]
    }
   ],
   "source": [
    "for col in required_column:\n",
    "    print(cluster_2[col].value_counts(ascending = False))\n",
    "    print(\"---------------------------------------------\")"
   ]
  },
  {
   "cell_type": "markdown",
   "metadata": {},
   "source": [
    "This one has mostly Food and **Recreation**. Looks like a usual city center for Londoners."
   ]
  },
  {
   "cell_type": "markdown",
   "metadata": {},
   "source": [
    "## Cluster 3"
   ]
  },
  {
   "cell_type": "code",
   "execution_count": 65,
   "metadata": {},
   "outputs": [
    {
     "data": {
      "text/html": [
       "<div>\n",
       "<style scoped>\n",
       "    .dataframe tbody tr th:only-of-type {\n",
       "        vertical-align: middle;\n",
       "    }\n",
       "\n",
       "    .dataframe tbody tr th {\n",
       "        vertical-align: top;\n",
       "    }\n",
       "\n",
       "    .dataframe thead th {\n",
       "        text-align: right;\n",
       "    }\n",
       "</style>\n",
       "<table border=\"1\" class=\"dataframe\">\n",
       "  <thead>\n",
       "    <tr style=\"text-align: right;\">\n",
       "      <th></th>\n",
       "      <th>Location</th>\n",
       "      <th>1st Most Common Venue</th>\n",
       "      <th>2nd Most Common Venue</th>\n",
       "      <th>3rd Most Common Venue</th>\n",
       "      <th>4th Most Common Venue</th>\n",
       "      <th>5th Most Common Venue</th>\n",
       "      <th>Borough</th>\n",
       "      <th>Town</th>\n",
       "      <th>Postcode</th>\n",
       "      <th>Lat</th>\n",
       "      <th>Lng</th>\n",
       "    </tr>\n",
       "  </thead>\n",
       "  <tbody>\n",
       "    <tr>\n",
       "      <th>7</th>\n",
       "      <td>Aldwych</td>\n",
       "      <td>Professional &amp; Other Places</td>\n",
       "      <td>Food</td>\n",
       "      <td>Travel &amp; Transport</td>\n",
       "      <td>Outdoors &amp; Recreation</td>\n",
       "      <td>Arts &amp; Entertainment</td>\n",
       "      <td>Westminster</td>\n",
       "      <td>LONDON</td>\n",
       "      <td>WC2</td>\n",
       "      <td>51.5001</td>\n",
       "      <td>-0.12802</td>\n",
       "    </tr>\n",
       "    <tr>\n",
       "      <th>10</th>\n",
       "      <td>Angel</td>\n",
       "      <td>Food</td>\n",
       "      <td>Shop &amp; Service</td>\n",
       "      <td>College &amp; University</td>\n",
       "      <td>Outdoors &amp; Recreation</td>\n",
       "      <td>Travel &amp; Transport</td>\n",
       "      <td>Islington</td>\n",
       "      <td>LONDON</td>\n",
       "      <td>EC1</td>\n",
       "      <td>51.532</td>\n",
       "      <td>-0.10626</td>\n",
       "    </tr>\n",
       "    <tr>\n",
       "      <th>12</th>\n",
       "      <td>Archway</td>\n",
       "      <td>Food</td>\n",
       "      <td>Outdoors &amp; Recreation</td>\n",
       "      <td>College &amp; University</td>\n",
       "      <td>Shop &amp; Service</td>\n",
       "      <td>Travel &amp; Transport</td>\n",
       "      <td>Islington</td>\n",
       "      <td>LONDON</td>\n",
       "      <td>N19</td>\n",
       "      <td>51.5328</td>\n",
       "      <td>-0.10614</td>\n",
       "    </tr>\n",
       "    <tr>\n",
       "      <th>26</th>\n",
       "      <td>Barnsbury</td>\n",
       "      <td>Food</td>\n",
       "      <td>Shop &amp; Service</td>\n",
       "      <td>Travel &amp; Transport</td>\n",
       "      <td>Outdoors &amp; Recreation</td>\n",
       "      <td>Nightlife Spot</td>\n",
       "      <td>Islington</td>\n",
       "      <td>LONDON</td>\n",
       "      <td>N1</td>\n",
       "      <td>51.5365</td>\n",
       "      <td>-0.11091</td>\n",
       "    </tr>\n",
       "    <tr>\n",
       "      <th>28</th>\n",
       "      <td>Bayswater</td>\n",
       "      <td>Professional &amp; Other Places</td>\n",
       "      <td>Food</td>\n",
       "      <td>Travel &amp; Transport</td>\n",
       "      <td>Outdoors &amp; Recreation</td>\n",
       "      <td>Arts &amp; Entertainment</td>\n",
       "      <td>Westminster</td>\n",
       "      <td>LONDON</td>\n",
       "      <td>W2</td>\n",
       "      <td>51.5001</td>\n",
       "      <td>-0.12802</td>\n",
       "    </tr>\n",
       "  </tbody>\n",
       "</table>\n",
       "</div>"
      ],
      "text/plain": [
       "     Location        1st Most Common Venue  2nd Most Common Venue  \\\n",
       "7     Aldwych  Professional & Other Places                   Food   \n",
       "10      Angel                         Food         Shop & Service   \n",
       "12    Archway                         Food  Outdoors & Recreation   \n",
       "26  Barnsbury                         Food         Shop & Service   \n",
       "28  Bayswater  Professional & Other Places                   Food   \n",
       "\n",
       "   3rd Most Common Venue  4th Most Common Venue 5th Most Common Venue  \\\n",
       "7     Travel & Transport  Outdoors & Recreation  Arts & Entertainment   \n",
       "10  College & University  Outdoors & Recreation    Travel & Transport   \n",
       "12  College & University         Shop & Service    Travel & Transport   \n",
       "26    Travel & Transport  Outdoors & Recreation        Nightlife Spot   \n",
       "28    Travel & Transport  Outdoors & Recreation  Arts & Entertainment   \n",
       "\n",
       "        Borough    Town Postcode      Lat      Lng  \n",
       "7   Westminster  LONDON      WC2  51.5001 -0.12802  \n",
       "10    Islington  LONDON      EC1   51.532 -0.10626  \n",
       "12    Islington  LONDON      N19  51.5328 -0.10614  \n",
       "26    Islington  LONDON       N1  51.5365 -0.11091  \n",
       "28  Westminster  LONDON       W2  51.5001 -0.12802  "
      ]
     },
     "execution_count": 65,
     "metadata": {},
     "output_type": "execute_result"
    }
   ],
   "source": [
    "cluster_3 = places_merged.loc[places_merged['Cluster Labels'] == 3, places_merged.columns[1:12]]\n",
    "cluster_3.head(5)"
   ]
  },
  {
   "cell_type": "code",
   "execution_count": 66,
   "metadata": {},
   "outputs": [
    {
     "name": "stdout",
     "output_type": "stream",
     "text": [
      "Travel & Transport             16\n",
      "Food                           16\n",
      "Professional & Other Places    12\n",
      "Residence                       3\n",
      "Shop & Service                  2\n",
      "Outdoors & Recreation           1\n",
      "College & University            1\n",
      "Name: 1st Most Common Venue, dtype: int64\n",
      "---------------------------------------------\n",
      "Food                           16\n",
      "Outdoors & Recreation          12\n",
      "Shop & Service                  6\n",
      "Travel & Transport              6\n",
      "College & University            6\n",
      "Professional & Other Places     5\n",
      "Name: 2nd Most Common Venue, dtype: int64\n",
      "---------------------------------------------\n",
      "Westminster               18\n",
      "Islington                 14\n",
      "Camden                     7\n",
      "Kensington and Chelsea     5\n",
      "Tower Hamlets              2\n",
      "Camden and Islington       1\n",
      "Islington                  1\n",
      "Hammersmith and Fulham     1\n",
      "Lambeth                    1\n",
      "Southwark                  1\n",
      "Name: Borough, dtype: int64\n",
      "---------------------------------------------\n"
     ]
    }
   ],
   "source": [
    "for col in required_column:\n",
    "    print(cluster_3[col].value_counts(ascending = False))\n",
    "    print(\"---------------------------------------------\")"
   ]
  },
  {
   "cell_type": "markdown",
   "metadata": {},
   "source": [
    "And this one is Food and Travel. Guess **Tourism**."
   ]
  },
  {
   "cell_type": "markdown",
   "metadata": {},
   "source": [
    "#### Named Clusters on the map"
   ]
  },
  {
   "cell_type": "code",
   "execution_count": 29,
   "metadata": {},
   "outputs": [],
   "source": [
    "cluster_names = [\n",
    "    'Residential',\n",
    "    'Professional',\n",
    "    'Recreational',\n",
    "    'Tourist',\n",
    "]\n",
    "\n",
    "places_clusters_named = places_merged.copy()\n",
    "places_clusters_named['Cluster'] = places_clusters_named[\"Cluster Labels\"].apply(lambda x: cluster_names[x])"
   ]
  },
  {
   "cell_type": "code",
   "execution_count": 30,
   "metadata": {},
   "outputs": [
    {
     "data": {
      "application/vnd.plotly.v1+json": {
       "config": {
        "plotlyServerURL": "https://plot.ly"
       },
       "data": [
        {
         "customdata": [
          [
           "Bexley",
           "LONDON"
          ],
          [
           "Croydon",
           "CROYDON"
          ],
          [
           "Bexley",
           "BEXLEY"
          ],
          [
           "Redbridge",
           "ILFORD"
          ],
          [
           "Brent",
           "WEMBLEY"
          ],
          [
           "Bromley",
           "LONDON"
          ],
          [
           "Bromley",
           "WESTERHAM"
          ],
          [
           "Havering",
           "HORNCHURCH"
          ],
          [
           "Barnet",
           "BARNET"
          ],
          [
           "Enfield",
           "LONDON"
          ],
          [
           "Barking and Dagenham",
           "BARKING"
          ],
          [
           "Redbridge",
           "ILFORD"
          ],
          [
           "Bexley",
           "BEXLEYHEATH"
          ],
          [
           "Richmond upon Thames",
           "LONDON"
          ],
          [
           "Bexley",
           "DARTFORD"
          ],
          [
           "Barnet",
           "LONDON"
          ],
          [
           "Barnet",
           "BARNET"
          ],
          [
           "Bromley",
           "BECKENHAM"
          ],
          [
           "Newham",
           "LONDON"
          ],
          [
           "Barking and Dagenham",
           "DAGENHAM"
          ],
          [
           "Barking and Dagenham",
           "DAGENHAM"
          ],
          [
           "Sutton",
           "WALLINGTON"
          ],
          [
           "Ealing",
           "LONDON"
          ],
          [
           "Harrow",
           "HARROW"
          ],
          [
           "Sutton",
           "SUTTON"
          ],
          [
           "Harrow",
           "HARROW"
          ],
          [
           "Sutton",
           "SUTTON"
          ],
          [
           "Bexley",
           "BELVEDERE"
          ],
          [
           "Kingston upon Thames",
           "SURBITON"
          ],
          [
           "Bexley",
           "BEXLEY"
          ],
          [
           "Bexley",
           "BEXLEYHEATH"
          ],
          [
           "Bromley",
           "BROMLEY"
          ],
          [
           "Bromley",
           "WESTERHAM"
          ],
          [
           "Bexley",
           "SIDCUP"
          ],
          [
           "Greenwich",
           "LONDON"
          ],
          [
           "Bexley",
           "BEXLEY"
          ],
          [
           "Enfield",
           "ENFIELD"
          ],
          [
           "Haringey",
           "LONDON"
          ],
          [
           "Haringey",
           "LONDON"
          ],
          [
           "Hounslow",
           "BRENTFORD"
          ],
          [
           "Barnet",
           "LONDON"
          ],
          [
           "Enfield",
           "ENFIELD"
          ],
          [
           "Lambeth",
           "LONDON"
          ],
          [
           "Lewisham",
           "LONDON"
          ],
          [
           "Bromley",
           "BROMLEY"
          ],
          [
           "Bromley",
           "BROMLEY"
          ],
          [
           "Brent",
           "LONDON"
          ],
          [
           "Barnet",
           "LONDON"
          ],
          [
           "Enfield",
           "ENFIELD"
          ],
          [
           "Barnet",
           "EDGWARE"
          ],
          [
           "Barnet",
           "LONDON"
          ],
          [
           "Waltham Forest",
           "LONDON"
          ],
          [
           "Newham",
           "LONDON"
          ],
          [
           "Barking and Dagenham",
           "DAGENHAM"
          ],
          [
           "Redbridge",
           "ROMFORD"
          ],
          [
           "Havering",
           "ROMFORD"
          ],
          [
           "Bromley",
           "ORPINGTON"
          ],
          [
           "Kingston upon Thames",
           "CHESSINGTON"
          ],
          [
           "Barnet",
           "LONDON"
          ],
          [
           "Waltham Forest",
           "LONDON"
          ],
          [
           "Bromley",
           "CHISLEHURST"
          ],
          [
           "Brent",
           "LONDON"
          ],
          [
           "Barnet",
           "LONDON"
          ],
          [
           "Barnet",
           "BARNET"
          ],
          [
           "Barnet",
           "LONDON"
          ],
          [
           "Havering",
           "ROMFORD"
          ],
          [
           "Barnet",
           "LONDON"
          ],
          [
           "Bexley",
           "ERITH"
          ],
          [
           "Bromley",
           "WEST WICKHAM"
          ],
          [
           "Croydon",
           "COULSDON"
          ],
          [
           "Hillingdon",
           "UXBRIDGE"
          ],
          [
           "Hounslow",
           "HOUNSLOW"
          ],
          [
           "Havering",
           "UPMINSTER"
          ],
          [
           "Bexley",
           "DARTFORD"
          ],
          [
           "Barking and Dagenham",
           "BARKING"
          ],
          [
           "Enfield",
           "ENFIELD"
          ],
          [
           "Barnet",
           "LONDON"
          ],
          [
           "Bexley",
           "BEXLEYHEATH"
          ],
          [
           "Bexley",
           "LONDON"
          ],
          [
           "Croydon",
           "CROYDON"
          ],
          [
           "Bromley",
           "LONDON"
          ],
          [
           "Bromley",
           "SEVENOAKS"
          ],
          [
           "Newham",
           "LONDON"
          ],
          [
           "Barking and Dagenham",
           "DAGENHAM"
          ],
          [
           "Dartford",
           "LONDON"
          ],
          [
           "Bromley",
           "ORPINGTON"
          ],
          [
           "Brent",
           "LONDON"
          ],
          [
           "Bromley",
           "ORPINGTON"
          ],
          [
           "Lewisham",
           "BROMLEY"
          ],
          [
           "Wandsworth",
           "LONDON"
          ],
          [
           "Barnet",
           "BARNET"
          ],
          [
           "Hounslow",
           "FELTHAM"
          ],
          [
           "Southwark",
           "LONDON"
          ],
          [
           "Barnet",
           "LONDON"
          ],
          [
           "Newham",
           "LONDON"
          ],
          [
           "Richmond upon Thames",
           "LONDON"
          ],
          [
           "Bexley",
           "WELLING"
          ],
          [
           "Hillingdon",
           "PINNER"
          ],
          [
           "Bromley",
           "BECKENHAM"
          ],
          [
           "Barnet",
           "EDGWARE"
          ],
          [
           "Enfield",
           "LONDON"
          ],
          [
           "Havering",
           "HORNCHURCH"
          ],
          [
           "Bromley",
           "BECKENHAM"
          ],
          [
           "Bromley",
           "CHISLEHURST"
          ],
          [
           "Havering",
           "HORNCHURCH"
          ],
          [
           "Enfield",
           "ENFIELD"
          ],
          [
           "Enfield",
           "ENFIELD"
          ],
          [
           "Enfield",
           "ENFIELD"
          ],
          [
           "Enfield",
           "ENFIELD"
          ],
          [
           "Bexley",
           "ERITH"
          ],
          [
           "Bexley",
           "LONDON"
          ],
          [
           "Hounslow",
           "FELTHAM"
          ],
          [
           "Barnet",
           "LONDON"
          ],
          [
           "Bexley",
           "SIDCUP"
          ],
          [
           "Newham",
           "LONDON"
          ],
          [
           "Lewisham",
           "LONDON"
          ],
          [
           "Enfield",
           "ENFIELD"
          ],
          [
           "Barnet",
           "LONDON"
          ],
          [
           "Richmond upon Thames",
           "TEDDINGTON"
          ],
          [
           "Havering",
           "ROMFORD"
          ],
          [
           "Redbridge",
           "ILFORD"
          ],
          [
           "Havering",
           "ROMFORD"
          ],
          [
           "Bromley",
           "ORPINGTON"
          ],
          [
           "Barnet",
           "LONDON"
          ],
          [
           "Redbridge",
           "ILFORD"
          ],
          [
           "Barnet",
           "LONDON"
          ],
          [
           "Ealing",
           "GREENFORD"
          ],
          [
           "Hounslow",
           "LONDON"
          ],
          [
           "Lewisham",
           "LONDON"
          ],
          [
           "Hounslow",
           "LONDON"
          ],
          [
           "Hackney",
           "LONDON"
          ],
          [
           "Enfield",
           "BARNET"
          ],
          [
           "Redbridge",
           "CHIGWELL"
          ],
          [
           "Barnet",
           "LONDON"
          ],
          [
           "Richmond upon Thames",
           "RICHMOND"
          ],
          [
           "Barnet",
           "LONDON"
          ],
          [
           "Richmond upon Thames",
           "HAMPTON"
          ],
          [
           "Richmond upon Thames",
           "HAMPTON"
          ],
          [
           "Ealing",
           "LONDON"
          ],
          [
           "Hounslow",
           "FELTHAM"
          ],
          [
           "Hillingdon",
           "UXBRIDGE"
          ],
          [
           "Brent",
           "LONDON"
          ],
          [
           "Hillingdon",
           "HAYES"
          ],
          [
           "Hillingdon",
           "WEST DRAYTON"
          ],
          [
           "Havering",
           "ROMFORD"
          ],
          [
           "Havering",
           "ROMFORD"
          ],
          [
           "Havering",
           "ROMFORD"
          ],
          [
           "Harrow",
           "HARROW"
          ],
          [
           "Harrow",
           "HARROW"
          ],
          [
           "Harrow",
           "PINNER"
          ],
          [
           "Hounslow",
           "FELTHAM"
          ],
          [
           "Havering",
           "ROMFORD"
          ],
          [
           "Bromley",
           "BROMLEY"
          ],
          [
           "Hillingdon",
           "HAYES"
          ],
          [
           "Bromley",
           "ORPINGTON"
          ],
          [
           "Barnet",
           "LONDON"
          ],
          [
           "Lambeth",
           "LONDON"
          ],
          [
           "Hounslow",
           "HOUNSLOW"
          ],
          [
           "Waltham Forest",
           "LONDON"
          ],
          [
           "Camden",
           "LONDON"
          ],
          [
           "Hillingdon",
           "UXBRIDGE"
          ],
          [
           "Lewisham",
           "LONDON"
          ],
          [
           "Kingston upon Thames",
           "CHESSINGTON"
          ],
          [
           "Havering",
           "HORNCHURCH"
          ],
          [
           "Greenwich",
           "LONDON"
          ],
          [
           "Barnet",
           "LONDON"
          ],
          [
           "Hillingdon",
           "UXBRIDGE"
          ],
          [
           "Redbridge",
           "ILFORD"
          ],
          [
           "Hounslow",
           "ISLEWORTH"
          ],
          [
           "Croydon",
           "KENLEY"
          ],
          [
           "Brent",
           "LONDON"
          ],
          [
           "Brent",
           "HARROW"
          ],
          [
           "Bromley",
           "KESTON"
          ],
          [
           "Greenwich",
           "LONDON"
          ],
          [
           "Brent",
           "LONDON"
          ],
          [
           "Kingston upon Thames",
           "LONDON"
          ],
          [
           "Bexley",
           "SIDCUP"
          ],
          [
           "Hackney",
           "LONDON"
          ],
          [
           "Bromley",
           "KESTON"
          ],
          [
           "Bexley",
           "BELVEDERE"
          ],
          [
           "Waltham Forest",
           "LONDON"
          ],
          [
           "Newham",
           "LONDON"
          ],
          [
           "Bromley",
           "ORPINGTON"
          ],
          [
           "Hillingdon",
           "WEST DRAYTON"
          ],
          [
           "Merton",
           "MORDEN"
          ],
          [
           "Redbridge",
           "ILFORD"
          ],
          [
           "Kingston upon Thames",
           "CHESSINGTON"
          ],
          [
           "Newham",
           "LONDON"
          ],
          [
           "Barking and Dagenham",
           "ROMFORD"
          ],
          [
           "Merton",
           "LONDON"
          ],
          [
           "Greenwich",
           "LONDON"
          ],
          [
           "Barnet",
           "LONDON"
          ],
          [
           "Merton",
           "MITCHAM"
          ],
          [
           "Barnet",
           "BARNET"
          ],
          [
           "Merton",
           "MORDEN"
          ],
          [
           "Merton",
           "MORDEN"
          ],
          [
           "Richmond upon Thames",
           "LONDON"
          ],
          [
           "Kingston upon Thames",
           "NEW MALDEN"
          ],
          [
           "Bromley",
           "LONDON"
          ],
          [
           "Haringey and Barnet",
           "LONDON"
          ],
          [
           "Brent",
           "LONDON"
          ],
          [
           "Croydon",
           "CROYDON"
          ],
          [
           "Barnet",
           "BARNET"
          ],
          [
           "Lewisham",
           "LONDON"
          ],
          [
           "Greenwich",
           "LONDON"
          ],
          [
           "Kingston upon Thames",
           "NEW MALDEN"
          ],
          [
           "Barnet",
           "LONDON"
          ],
          [
           "Redbridge",
           "ILFORD"
          ],
          [
           "Havering",
           "ROMFORD"
          ],
          [
           "Kingston upon Thames",
           "KINGSTON UPON THAMES"
          ],
          [
           "Croydon",
           "LONDON"
          ],
          [
           "Bexley",
           "SIDCUP"
          ],
          [
           "Bexley",
           "ERITH"
          ],
          [
           "Barnet",
           "LONDON"
          ],
          [
           "Harrow",
           "HARROW"
          ],
          [
           "Havering",
           "UPMINSTER"
          ],
          [
           "Richmond upon Thames",
           "RICHMOND"
          ],
          [
           "Newham",
           "LONDON"
          ],
          [
           "Ealing",
           "NORTHOLT"
          ],
          [
           "Bexley",
           "ERITH"
          ],
          [
           "Hillingdon",
           "NORTHWOOD"
          ],
          [
           "Ealing",
           "SOUTHALL"
          ],
          [
           "Kensington and Chelsea",
           "LONDON"
          ],
          [
           "Barnet",
           "LONDON"
          ],
          [
           "Croydon",
           "COULSDON"
          ],
          [
           "Kingston upon Thames",
           "WORCESTER PARK"
          ],
          [
           "Bromley",
           "ORPINGTON"
          ],
          [
           "Barnet",
           "LONDON"
          ],
          [
           "Hounslow",
           "ISLEWORTH"
          ],
          [
           "Enfield",
           "LONDON"
          ],
          [
           "Brent",
           "LONDON"
          ],
          [
           "Bromley",
           "LONDON"
          ],
          [
           "Ealing",
           "GREENFORD"
          ],
          [
           "Richmond upon Thames",
           "RICHMOND"
          ],
          [
           "Bromley",
           "ORPINGTON"
          ],
          [
           "Harrow",
           "PINNER"
          ],
          [
           "Newham",
           "LONDON"
          ],
          [
           "Bromley",
           "BROMLEY"
          ],
          [
           "Newham",
           "LONDON"
          ],
          [
           "Bromley",
           "BROMLEY"
          ],
          [
           "Greenwich",
           "LONDON"
          ],
          [
           "Enfield",
           "ENFIELD"
          ],
          [
           "Bromley",
           "ORPINGTON"
          ],
          [
           "Brent",
           "WEMBLEY"
          ],
          [
           "Croydon",
           "PURLEY"
          ],
          [
           "Brent",
           "LONDON"
          ],
          [
           "Harrow",
           "HARROW"
          ],
          [
           "Havering",
           "RAINHAM"
          ],
          [
           "Harrow",
           "PINNER"
          ],
          [
           "Merton",
           "LONDON"
          ],
          [
           "Redbridge",
           "ILFORD"
          ],
          [
           "Croydon",
           "PURLEY"
          ],
          [
           "Havering",
           "ROMFORD"
          ],
          [
           "Hillingdon",
           "RUISLIP"
          ],
          [
           "Barking and Dagenham",
           "ROMFORD"
          ],
          [
           "Bexley",
           "SIDCUP"
          ],
          [
           "Croydon",
           "SOUTH CROYDON"
          ],
          [
           "Croydon",
           "LONDON"
          ],
          [
           "Croydon",
           "SOUTH CROYDON"
          ],
          [
           "Redbridge",
           "ILFORD"
          ],
          [
           "Haringey",
           "LONDON"
          ],
          [
           "Greenwich",
           "LONDON"
          ],
          [
           "Bexley",
           "SIDCUP"
          ],
          [
           "Newham",
           "LONDON"
          ],
          [
           "Hillingdon",
           "WEST DRAYTON"
          ],
          [
           "Bexley",
           "ERITH"
          ],
          [
           "Redbridge",
           "LONDON"
          ],
          [
           "Croydon",
           "SOUTH CROYDON"
          ],
          [
           "Harrow",
           "HARROW"
          ],
          [
           "Havering",
           "RAINHAM"
          ],
          [
           "Croydon",
           "LONDON"
          ],
          [
           "Hillingdon",
           "RUISLIP"
          ],
          [
           "Redbridge",
           "LONDON"
          ],
          [
           "Haringey",
           "LONDON"
          ],
          [
           "Ealing",
           "SOUTHALL"
          ],
          [
           "Bromley",
           "BROMLEY"
          ],
          [
           "Enfield",
           "LONDON"
          ],
          [
           "Merton",
           "MORDEN"
          ],
          [
           "Richmond upon Thames",
           "TWICKENHAM"
          ],
          [
           "Bromley",
           "ORPINGTON"
          ],
          [
           "Bromley",
           "ORPINGTON"
          ],
          [
           "Harrow",
           "STANMORE"
          ],
          [
           "Brent",
           "LONDON"
          ],
          [
           "Richmond upon Thames",
           "TWICKENHAM"
          ],
          [
           "Lambeth",
           "LONDON"
          ],
          [
           "Brent",
           "HARROW"
          ],
          [
           "Bromley",
           "BROMLEY"
          ],
          [
           "Kingston upon Thames",
           "SURBITON"
          ],
          [
           "Sutton",
           "SUTTON"
          ],
          [
           "Lewisham",
           "LONDON"
          ],
          [
           "Lewisham",
           "LONDON"
          ],
          [
           "Richmond upon Thames",
           "TEDDINGTON"
          ],
          [
           "Barnet",
           "BARNET"
          ],
          [
           "Bexley",
           "LONDON"
          ],
          [
           "Croydon",
           "THORNTON HEATH"
          ],
          [
           "Brent",
           "WEMBLEY"
          ],
          [
           "Kingston upon Thames",
           "SURBITON"
          ],
          [
           "Barnet",
           "LONDON"
          ],
          [
           "Lambeth",
           "LONDON"
          ],
          [
           "Havering",
           "UPMINSTER"
          ],
          [
           "Havering",
           "HORNCHURCH"
          ],
          [
           "Hackney",
           "LONDON"
          ],
          [
           "Croydon",
           "LONDON"
          ],
          [
           "Bexley",
           "SIDCUP"
          ],
          [
           "Bexley",
           "BEXLEYHEATH"
          ],
          [
           "Newham",
           "LONDON"
          ],
          [
           "Hillingdon",
           "UXBRIDGE"
          ],
          [
           "Croydon",
           "CROYDON"
          ],
          [
           "Sutton",
           "WALLINGTON"
          ],
          [
           "Redbridge",
           "LONDON"
          ],
          [
           "Harrow",
           "HARROW"
          ],
          [
           "Greenwich",
           "LONDON"
          ],
          [
           "Bexley",
           "WELLING"
          ],
          [
           "Havering",
           "RAINHAM"
          ],
          [
           "Hillingdon",
           "WEST DRAYTON"
          ],
          [
           "Ealing",
           "LONDON"
          ],
          [
           "Haringey",
           "LONDON"
          ],
          [
           "Newham",
           "LONDON"
          ],
          [
           "Harrow",
           "HARROW"
          ],
          [
           "Bexley",
           "LONDON"
          ],
          [
           "Barnet",
           "LONDON"
          ],
          [
           "Lambeth",
           "LONDON"
          ],
          [
           "Bromley",
           "WEST WICKHAM"
          ],
          [
           "Greenwich",
           "LONDON"
          ],
          [
           "Barnet",
           "LONDON"
          ],
          [
           "Brent",
           "LONDON"
          ],
          [
           "Enfield",
           "LONDON"
          ],
          [
           "Haringey",
           "LONDON"
          ],
          [
           "Redbridge",
           "LONDON"
          ],
          [
           "Redbridge",
           "LONDON"
          ],
          [
           "Hounslow",
           "ISLEWORTH"
          ],
          [
           "Croydon",
           "CROYDON"
          ],
          [
           "Barnet",
           "LONDON"
          ],
          [
           "Greenwich",
           "LONDON"
          ],
          [
           "Sutton",
           "WORCESTER PARK"
          ],
          [
           "Hillingdon",
           "HAYES"
          ],
          [
           "Hillingdon",
           "WEST DRAYTON"
          ]
         ],
         "hovertemplate": "<b>%{hovertext}</b><br><br>Cluster=Residential<br>Lat=%{lat}<br>Lng=%{lon}<br>Borough=%{customdata[0]}<br>Town=%{customdata[1]}<extra></extra>",
         "hovertext": [
          "Abbey Wood",
          "Addington",
          "Albany Park",
          "Aldborough Hatch",
          "Alperton",
          "Anerley",
          "Aperfield",
          "Ardleigh Green",
          "Arkley",
          "Arnos Grove",
          "Barking",
          "Barkingside",
          "Barnehurst",
          "Barnes",
          "Barnes Cray",
          "Barnet Gate",
          "Barnet (also Chipping Barnet, High Barnet)",
          "Beckenham",
          "Beckton",
          "Becontree",
          "Becontree Heath",
          "Beddington",
          "Bedford Park",
          "Belmont",
          "Belmont",
          "Belmont",
          "Belmont",
          "Belvedere",
          "Berrylands",
          "Bexley (also Old Bexley, Bexley Village)",
          "Bexleyheath (also Bexley New Town)",
          "Bickley",
          "Biggin Hill",
          "Blackfen",
          "Blackheath Royal Standard",
          "Blendon",
          "Botany Bay",
          "Bounds Green",
          "Bowes Park",
          "Brentford",
          "Brent Cross",
          "Brimsdown",
          "Brixton",
          "Brockley",
          "Bromley",
          "Bromley Common",
          "Brondesbury",
          "Brunswick Park",
          "Bulls Cross",
          "Burnt Oak",
          "Burroughs, The",
          "Cann Hall",
          "Canning Town",
          "Castle Green",
          "Chadwell Heath",
          "Chase Cross",
          "Chelsfield",
          "Chessington",
          "Childs Hill",
          "Chingford",
          "Chislehurst",
          "Church End",
          "Church End",
          "Cockfosters",
          "Colindale",
          "Collier Row",
          "Colney Hatch",
          "Colyers",
          "Coney Hall",
          "Coulsdon",
          "Cowley",
          "Cranford",
          "Cranham",
          "Crayford",
          "Creekmouth",
          "Crews Hill",
          "Cricklewood",
          "Crook Log",
          "Crossness",
          "Croydon",
          "Crystal Palace",
          "Cudham",
          "Custom House",
          "Dagenham",
          "Dartford",
          "Derry Downs",
          "Dollis Hill",
          "Downe",
          "Downham",
          "Earlsfield",
          "East Barnet",
          "East Bedfont",
          "East Dulwich",
          "East Finchley",
          "East Ham",
          "East Sheen",
          "East Wickham",
          "Eastcote",
          "Eden Park",
          "Edgware",
          "Edmonton",
          "Elm Park",
          "Elmers End",
          "Elmstead",
          "Emerson Park",
          "Enfield Highway",
          "Enfield Lock",
          "Enfield Town",
          "Enfield Wash",
          "Erith",
          "Falconwood",
          "Feltham",
          "Finchley",
          "Foots Cray",
          "Forest Gate",
          "Forest Hill",
          "Freezywater",
          "Friern Barnet",
          "Fulwell",
          "Gallows Corner",
          "Gants Hill",
          "Gidea Park",
          "Goddington",
          "Golders Green",
          "Goodmayes",
          "Grahame Park",
          "Greenford",
          "Grove Park",
          "Grove Park",
          "Gunnersbury",
          "Hackney Wick",
          "Hadley Wood",
          "Hainault",
          "The Hale",
          "Ham",
          "Hampstead Garden Suburb",
          "Hampton",
          "Hampton Hill",
          "Hanwell",
          "Hanworth",
          "Harefield",
          "Harlesden",
          "Harlington",
          "Harmondsworth",
          "Harold Hill",
          "Harold Park",
          "Harold Wood",
          "Harrow on the Hill",
          "Harrow Weald",
          "Hatch End",
          "Hatton",
          "Havering-atte-Bower",
          "Hayes",
          "Hayes",
          "Hazelwood",
          "Hendon",
          "Herne Hill",
          "Heston",
          "Highams Park",
          "Highgate",
          "Hillingdon",
          "Hither Green",
          "Hook",
          "Hornchurch",
          "Horn Park",
          "The Hyde",
          "Ickenham",
          "Ilford",
          "Isleworth",
          "Kenley",
          "Kensal Green",
          "Kenton",
          "Keston",
          "Kidbrooke",
          "Kingsbury",
          "Kingston Vale",
          "Lamorbey",
          "Lea Bridge",
          "Leaves Green",
          "Lessness Heath",
          "Leytonstone",
          "Little Ilford",
          "Locksbottom",
          "Longford",
          "Lower Morden",
          "Loxford",
          "Malden Rushett",
          "Manor Park",
          "Marks Gate",
          "Merton Park",
          "Middle Park",
          "Mill Hill",
          "Mitcham",
          "Monken Hadley",
          "Morden",
          "Morden Park",
          "Mortlake",
          "Motspur Park",
          "Mottingham",
          "Muswell Hill",
          "Neasden",
          "New Addington",
          "New Barnet",
          "New Cross",
          "New Eltham",
          "New Malden",
          "New Southgate",
          "Newbury Park",
          "Noak Hill",
          "Norbiton",
          "Norbury",
          "North Cray",
          "North End",
          "North Finchley",
          "North Harrow",
          "North Ockendon",
          "North Sheen",
          "North Woolwich",
          "Northolt",
          "Northumberland Heath",
          "Northwood",
          "Norwood Green",
          "Notting Hill",
          "Oakleigh Park",
          "Old Coulsdon",
          "Old Malden",
          "Orpington",
          "Osidge",
          "Osterley",
          "Palmers Green",
          "Park Royal",
          "Penge",
          "Perivale",
          "Petersham",
          "Petts Wood",
          "Pinner",
          "Plaistow",
          "Plaistow",
          "Plaistow",
          "Plaistow",
          "Plumstead",
          "Ponders End",
          "Pratt's Bottom",
          "Preston",
          "Purley",
          "Queen's Park",
          "Queensbury",
          "Rainham",
          "Rayners Lane",
          "Raynes Park",
          "Redbridge",
          "Riddlesdown",
          "Romford",
          "Ruislip",
          "Rush Green",
          "Ruxley",
          "Sanderstead",
          "Selhurst",
          "Selsdon",
          "Seven Kings",
          "Seven Sisters",
          "Shooter's Hill",
          "Sidcup",
          "Silvertown",
          "Sipson",
          "Slade Green",
          "Snaresbrook",
          "South Croydon",
          "South Harrow",
          "South Hornchurch",
          "South Norwood",
          "South Ruislip",
          "South Woodford",
          "South Tottenham",
          "Southall",
          "Southborough",
          "Southgate",
          "St Helier",
          "St Margarets",
          "St Mary Cray",
          "St Paul's Cray",
          "Stanmore",
          "Stonebridge",
          "Strawberry Hill",
          "Streatham",
          "Sudbury",
          "Sundridge",
          "Surbiton",
          "Sutton",
          "Sydenham (also Lower Sydenham, Upper Sydenham)",
          "Sydenham Hill",
          "Teddington",
          "Temple Fortune",
          "Thamesmead",
          "Thornton Heath",
          "Tokyngton",
          "Tolworth",
          "Totteridge",
          "Tulse Hill",
          "Upminster",
          "Upminster Bridge",
          "Upper Clapton",
          "Upper Norwood",
          "Upper Ruxley",
          "Upton",
          "Upton Park",
          "Uxbridge",
          "Waddon",
          "Wallington",
          "Wanstead",
          "Wealdstone",
          "Well Hall",
          "Welling",
          "Wennington",
          "West Drayton",
          "West Ealing",
          "West Green",
          "West Ham",
          "West Harrow",
          "West Heath",
          "West Hendon",
          "West Norwood",
          "West Wickham",
          "Westcombe Park",
          "Whetstone",
          "Willesden",
          "Winchmore Hill",
          "Wood Green",
          "Woodford",
          "Woodford Green",
          "Woodlands",
          "Woodside",
          "Woodside Park",
          "Woolwich",
          "Worcester Park",
          "Yeading",
          "Yiewsley"
         ],
         "lat": [
          51.492450000000076,
          51.35879700000001,
          51.435700000000054,
          51.563048473923104,
          51.53417376058907,
          51.41598495190199,
          51.31015431804546,
          51.58067733666435,
          51.65193000000005,
          51.62243647082235,
          52.146954,
          51.58511000000004,
          51.46362000000005,
          51.48284539965428,
          51.454074460771906,
          51.48284539965428,
          51.65872000000007,
          51.40215000000006,
          51.53292000000005,
          51.555979984996426,
          51.560510628882625,
          51.35889578219062,
          51.51189181117945,
          51.5953443434362,
          51.34373000000005,
          51.5953443434362,
          51.34373000000005,
          51.488420000000076,
          51.39401656380702,
          51.45125000000007,
          51.46013000000005,
          51.38966000000005,
          51.31051000000008,
          51.4515480681824,
          51.48664000000008,
          51.44643657705689,
          51.676720000000046,
          51.608181731947376,
          51.61498899340776,
          51.48967846184999,
          51.46959501358032,
          51.66130836237792,
          51.45238000000006,
          51.462680000000034,
          51.41135250000001,
          51.388153466188,
          51.55356000000006,
          51.58360000000005,
          51.675643889651504,
          51.60542000000004,
          51.58791727600407,
          51.5554974797784,
          51.51333000000005,
          51.53433000000007,
          51.57337000000007,
          51.603036421910055,
          51.355710000000045,
          51.3620458230684,
          51.56225000000006,
          51.61712000000006,
          51.419710000000066,
          51.584253344799436,
          51.47504632750984,
          51.6657241514579,
          51.59405592537353,
          51.59797000000003,
          51.61071692932876,
          51.47122950000001,
          51.36980088011006,
          51.31886000000003,
          51.543040000000076,
          51.48434629702106,
          51.56416946321474,
          51.45235000000008,
          51.51579817952464,
          51.68350800000001,
          51.564910000000054,
          51.45911946453059,
          51.419551275985086,
          51.39155485224665,
          51.41990000000004,
          51.315900000000056,
          51.45427997002137,
          51.546700000000044,
          51.452067760578885,
          51.385558544117,
          51.56096000000008,
          51.336430000000064,
          51.426082302811906,
          51.44232001832193,
          51.64759748896925,
          51.45196556966224,
          51.45256000000006,
          51.589270000000056,
          51.53323000000006,
          51.462570756261904,
          51.47559313298599,
          51.58828515261902,
          51.38753560397911,
          51.61209000000008,
          51.62879000000004,
          51.54496000000006,
          51.40135645217966,
          51.42621189948179,
          51.568155,
          51.65431329841614,
          51.666458625736375,
          51.65226000000007,
          51.65431329841614,
          51.48036187996607,
          51.45880000000005,
          51.44708000000003,
          51.60104000000007,
          51.413399308737766,
          51.54986268354492,
          51.441220000000044,
          51.65337000000005,
          51.61388000000005,
          51.43237184463742,
          51.59245829434858,
          51.576354000000016,
          51.615347569853654,
          51.364792401161246,
          51.576730000000055,
          51.56571129035198,
          51.59801605283478,
          51.54926000000006,
          51.60396403260681,
          51.46698021778042,
          51.50086827183735,
          51.5456050878122,
          51.666396674465034,
          51.61540809249462,
          51.58775000000003,
          51.43145642883387,
          51.58736000000005,
          51.42888752100201,
          51.42888752100201,
          51.50878000000006,
          51.430540000000065,
          51.53257470359681,
          51.53597141442344,
          51.53444550000002,
          51.48258000000004,
          51.60490000000004,
          51.615347569853654,
          51.592070000000035,
          51.56704370987824,
          51.6144596404303,
          51.60644000000008,
          51.46766566192055,
          51.61660000000006,
          51.39815637597911,
          51.50276529123459,
          51.34749958280941,
          51.58912000000004,
          51.45529000000005,
          51.48515000000003,
          51.59859972200624,
          51.57145000000003,
          51.543040000000076,
          51.45083000000005,
          51.366838153866276,
          51.562290000000075,
          51.48941439337224,
          51.582886180401005,
          51.543040000000076,
          51.56338000000005,
          51.47417000000007,
          51.317981829257036,
          51.53054000000003,
          51.58370000000008,
          51.361044708395056,
          51.4706370451607,
          51.58486000000005,
          51.43162741475799,
          51.43730849999999,
          51.551022353194455,
          51.336507845439314,
          51.48572538396719,
          51.55216105062294,
          51.55158705631924,
          51.366910000000075,
          51.478869798451356,
          51.39081941678327,
          51.547740766630135,
          51.338526568996016,
          51.454967756918094,
          51.54393218800004,
          51.41141840373778,
          51.44845808078221,
          51.46961870829243,
          51.40719000000007,
          51.655254332588534,
          51.401290000000074,
          51.39891985586477,
          51.46865993782111,
          51.39116912702434,
          51.43757000000005,
          51.59107000000006,
          51.56159800069314,
          51.35879700000001,
          51.64718469271825,
          51.47489000000007,
          51.433530000000076,
          51.40106670524288,
          51.63390000000004,
          51.574230130281876,
          51.6155625792314,
          51.41238000000004,
          51.41361382514268,
          51.42980370245267,
          51.47271450000001,
          51.615920000000074,
          51.585750000000075,
          51.541630000000055,
          51.46207310862528,
          51.50314636049505,
          51.544110000000046,
          51.47297000000003,
          51.60806439845446,
          51.4953632726068,
          51.510380000000055,
          51.63730000000004,
          51.31886000000003,
          51.376988320088074,
          51.378820000000076,
          51.47457000000003,
          51.48044099999999,
          51.62003000000004,
          51.52770000000004,
          51.40399686205487,
          51.53273005668594,
          51.44725767421175,
          51.386990000000026,
          51.591260000000034,
          51.52653000000004,
          51.40637595804564,
          51.52653000000004,
          51.40637595804564,
          51.48970278217071,
          51.645487499999994,
          51.34453345750154,
          51.56531043635615,
          51.35051219194073,
          51.53356000000008,
          51.58931000000007,
          51.53955456909107,
          51.569185546956156,
          51.41117000000003,
          50.91667000000007,
          51.33236622043336,
          51.6155625792314,
          51.587772590828706,
          51.5655,
          51.41641423342758,
          51.34829000000008,
          51.38957785396746,
          51.34355993060775,
          51.56191785081679,
          51.581314793709424,
          51.47443775691584,
          51.42593000000005,
          51.502680000000055,
          51.49001214513505,
          51.47168297669714,
          51.58332144210025,
          51.362310000000036,
          51.56860000000006,
          51.531709919499264,
          51.39925000000005,
          51.55761000000007,
          51.589770000000044,
          51.58196007446157,
          51.51139000000006,
          51.395991395556024,
          51.63390000000004,
          51.398484718524486,
          51.4587935746533,
          51.38884000000007,
          51.40360000000004,
          51.617560000000026,
          51.54455970906623,
          51.43567944883682,
          51.43023000000005,
          51.563607909162535,
          51.41052917094767,
          51.394616766077334,
          51.35967000000005,
          51.42674000000005,
          51.43920401273935,
          51.430312126852,
          51.638548500000006,
          51.50527000000005,
          51.39364601378024,
          51.54732612490108,
          51.379917504406436,
          51.63032000000004,
          51.44465000000008,
          51.55710000000005,
          51.55984286481587,
          51.55916318259063,
          51.41589000000005,
          51.40982751835143,
          51.445601576073464,
          51.539649022907504,
          51.5313261455904,
          51.367590000000064,
          51.36027000000007,
          51.57815716443278,
          51.59245000000004,
          51.46751000000006,
          51.46201000000008,
          51.50654000000003,
          51.50913000000003,
          51.513460000000066,
          51.608214000000004,
          51.53012100000001,
          51.564651862888816,
          51.479460520263444,
          51.584632383190815,
          51.43407000000008,
          51.37474000000003,
          51.48408000000006,
          51.63061000000005,
          51.54908000000006,
          51.63519000000008,
          51.608214000000004,
          51.58802095214995,
          51.58802095214995,
          51.47130951719695,
          51.38812438891392,
          51.60525000000007,
          51.48552002943043,
          51.37507000000005,
          51.52441287065046,
          51.51263000000006
         ],
         "legendgroup": "Residential",
         "line": {
          "color": "DarkSlateGrey",
          "width": 2
         },
         "lon": [
          0.12127000000003818,
          -0.0329062499999913,
          0.12588000000005195,
          0.0917635234442441,
          -0.3029839407012594,
          -0.06512439297397696,
          0.04272280842600311,
          0.22008114571229917,
          -0.22024999999996453,
          -0.1272340503978188,
          1.0530809999999915,
          0.07841000000001941,
          0.17396000000002232,
          -0.23987676413137018,
          0.18889922149637656,
          -0.23987676413137018,
          -0.2049499999999398,
          -0.03782999999992853,
          0.05461000000002514,
          0.11982002279395855,
          0.14756109494031153,
          -0.15253467081373884,
          -0.32077799999999,
          -0.3255905362673183,
          -0.19867999999996755,
          -0.3255905362673183,
          -0.19867999999996755,
          0.15256000000005088,
          -0.28813509152918465,
          0.12247000000002117,
          0.13808000000005904,
          0.049750000000074124,
          0.03603000000003931,
          0.09490451420039314,
          0.00407000000006974,
          0.1267730399837616,
          -0.1263399999999706,
          -0.1266473643199545,
          -0.12765302088347608,
          -0.2943075193363937,
          -0.2520516199589085,
          -0.030863947290489708,
          -0.1219499999999698,
          -0.035579999999924894,
          0.00943875000000998,
          0.036098206378367116,
          -0.2117299999999318,
          -0.07606999999995878,
          -0.05940721210840968,
          -0.2566299999999728,
          -0.22901037213082498,
          0.011584493267302235,
          0.03173000000003867,
          0.12332000000003518,
          0.14148000000005823,
          0.17518898877433137,
          0.10336000000006607,
          -0.2880083586229593,
          -0.20132999999992762,
          -0.0016899999999395732,
          0.06584000000003698,
          -0.01246795045038361,
          -0.24045883734011164,
          -0.15629950602053197,
          -0.2523096199168072,
          0.15642000000002554,
          -0.15409365282703674,
          0.16834950000000504,
          0.0017673863431249784,
          -0.13914999999997235,
          -0.44997999999992544,
          -0.3934451285058116,
          0.2661046634847648,
          0.17765000000002829,
          0.10290171871264056,
          -0.10009799999998512,
          -0.21650999999997111,
          0.12798335869739821,
          -0.14079006714282885,
          -0.13641567847120736,
          -0.08807999999993399,
          0.07484000000005153,
          -0.2213725820013558,
          0.13968000000005532,
          0.1722299153689439,
          0.11656974193766004,
          -0.23436999999995578,
          0.05380000000002383,
          0.002729755227861833,
          -0.1882299705696056,
          -0.1678177407543117,
          -0.44054470252815475,
          -0.0707599999999502,
          -0.16394999999994297,
          0.055660000000045784,
          -0.2622814474521747,
          0.10862559554823663,
          -0.38376503137452794,
          -0.026790779422022574,
          -0.2775599999999372,
          -0.05619999999993297,
          0.19153000000005704,
          -0.052676300585627694,
          0.05301694974088331,
          0.2193097500000133,
          -0.11035373180225709,
          -0.018543304211910427,
          -0.07971999999995205,
          -0.11035373180225709,
          0.1773254602713861,
          0.0796600000000467,
          -0.40918999999996686,
          -0.19400999999993473,
          0.11714056747332446,
          0.023895659082697054,
          -0.047639999999944393,
          -0.08805999999992764,
          -0.15185999999994237,
          -0.34862757199016803,
          0.21261632260565536,
          0.06632509230460792,
          0.181244095274236,
          0.1060224520321815,
          -0.19694999999995844,
          0.10856097152295957,
          -0.240785082940166,
          -0.3398499999999558,
          -0.12672536735443427,
          -0.02043808618523037,
          -0.2847790349397601,
          -0.03378148280527209,
          -0.17203648655172193,
          0.11686770293689595,
          -0.22915999999997894,
          -0.30686740933725076,
          -0.16417999999993071,
          -0.35328701531411527,
          -0.35328701531411527,
          -0.3362999999999374,
          -0.3902299999999741,
          -0.44842468227557,
          -0.24471648076986288,
          -0.4567589999999939,
          -0.4764799999999241,
          0.2294700000000489,
          0.181244095274236,
          0.2327700000000732,
          -0.3407345629035206,
          -0.34110948365125593,
          -0.3772899999999595,
          -0.42289453371384106,
          0.19531000000006316,
          0.015123704723472547,
          -0.40732924449493807,
          0.04187418610417248,
          -0.2280999999999267,
          -0.09927999999996473,
          -0.37316999999995915,
          -0.004255377903301961,
          -0.14982999999995172,
          -0.44997999999992544,
          -0.0006299999999441752,
          -0.3017478461664261,
          0.22019000000005917,
          0.018357170363404084,
          -0.2462409040013885,
          -0.44997999999992544,
          0.0674900000000207,
          -0.3383999999999787,
          -0.09885016384101082,
          -0.22547999999994772,
          -0.3140899999999647,
          0.030545926035616504,
          0.019273414744883522,
          -0.24880999999993492,
          -0.2648187831607458,
          0.09361125000000484,
          -0.022264352476853103,
          0.029835001077949355,
          0.1451854543003011,
          0.00568404181966624,
          0.05885489885104141,
          0.05455000000006294,
          -0.4944891046459438,
          -0.22524898807288216,
          0.08409083473721865,
          -0.31112248802149234,
          -0.0005980530365479037,
          0.1331566440000529,
          -0.20830209626220073,
          0.03640796258515495,
          -0.24014127316659745,
          -0.164229999999975,
          -0.20364516249576772,
          -0.1897799999999279,
          -0.18649775778641173,
          -0.27123992339426894,
          -0.2467623606631054,
          0.04260000000004993,
          -0.14851999999996224,
          -0.2558001868923714,
          -0.0329062499999913,
          -0.18848567121815052,
          -0.04037999999997055,
          0.06378000000006523,
          -0.24536303339136425,
          -0.13288999999997486,
          0.09263024828095105,
          0.20308771521739907,
          -0.28369999999995343,
          -0.1094034292696942,
          0.13895310706216807,
          0.1876117500000135,
          -0.1767399999999384,
          -0.36118999999996504,
          0.295690000000036,
          -0.2857844920149502,
          0.022499665753018944,
          -0.3744599999999423,
          0.1624100000000226,
          -0.40983495115914564,
          -0.3658834685470777,
          -0.3314699999999675,
          -0.1663799999999469,
          -0.13914999999997235,
          -0.26180433995597113,
          0.10185000000006994,
          -0.24211999999994305,
          -0.3444322499999955,
          -0.10659999999995762,
          -0.26746999999994614,
          -0.06837335084269645,
          -0.32725128547995885,
          -0.2987704638012943,
          0.08494000000007418,
          -0.38075999999995247,
          0.02876000000003387,
          0.033962906638363495,
          0.02876000000003387,
          0.033962906638363495,
          0.0851599571057346,
          -0.04653449999998409,
          0.11112261751375442,
          -0.293519329605383,
          -0.11496547539541899,
          -0.21105999999997493,
          -0.2894299999999248,
          0.18659205668737022,
          -0.363732017409817,
          -0.22622999999993,
          -1.466669999999965,
          -0.10357809963229665,
          0.20308771521739907,
          -0.43669035255806227,
          0.17615700000000467,
          0.12719142859680604,
          -0.09385999999994965,
          -0.08879480684604696,
          -0.06248997056959811,
          0.0898311046160824,
          -0.07637978376532768,
          0.02279406175205574,
          0.10395000000005439,
          0.03623000000004595,
          -0.45719399380852227,
          0.194868199203376,
          0.013122416085204562,
          -0.09337999999996782,
          -0.36924999999996544,
          0.18573994113932604,
          -0.07413999999994303,
          -0.4078299999999331,
          0.030520000000024083,
          -0.08351833883076074,
          -0.37832999999994854,
          0.0457962348155273,
          -0.13288999999997486,
          -0.18701829175478082,
          -0.3226782338024124,
          0.1097100000000637,
          0.10350000000005366,
          -0.310359999999946,
          -0.2608199999999917,
          -0.3389362583671815,
          -0.1299599999999259,
          -0.3334988901723898,
          0.03916334488470344,
          -0.3134852624904445,
          -0.1913399999999683,
          -0.05532999999996946,
          -0.06372680063696264,
          -0.33400097241770793,
          -0.1676474999999977,
          0.12013000000007423,
          -0.11462387237732108,
          -0.280548187351632,
          -0.2823338915436435,
          -0.19673999999997704,
          -0.11132999999995263,
          0.24960000000004356,
          0.2313362559772902,
          -0.056110273413864646,
          -0.09514999999993279,
          0.14509618576998018,
          0.1412639893995169,
          0.029277902104827294,
          -0.4498247043141586,
          -0.11606999999997925,
          -0.14992999999992662,
          0.02130430998687633,
          -0.3342899999999531,
          0.052950000000066666,
          0.11171000000007325,
          0.21904000000006363,
          -0.47395999999997684,
          -0.31970999999992955,
          -0.09229049999999575,
          0.020952000000000366,
          -0.3479242768767369,
          0.12481150588911631,
          -0.216208691793564,
          -0.10374999999993406,
          -0.009689999999977772,
          0.018630000000030122,
          -0.17501999999996087,
          -0.22098999999997204,
          -0.09302999999994199,
          -0.09229049999999575,
          0.0216386678407816,
          0.0216386678407816,
          -0.3370787067499256,
          -0.061081966561545985,
          -0.10978999999997541,
          0.006269996104913933,
          -0.2348899999999503,
          -0.3993893585312604,
          -0.4725899999999683
         ],
         "marker": {
          "color": "#636efa",
          "size": 12
         },
         "mode": "markers",
         "name": "Residential",
         "showlegend": true,
         "subplot": "mapbox",
         "type": "scattermapbox"
        },
        {
         "customdata": [
          [
           "Ealing",
           "LONDON"
          ],
          [
           "Croydon",
           "CROYDON"
          ],
          [
           "Wandsworth",
           "LONDON"
          ],
          [
           "Wandsworth",
           "LONDON"
          ],
          [
           "Lewisham",
           "LONDON"
          ],
          [
           "Camden",
           "LONDON"
          ],
          [
           "Tower Hamlets",
           "LONDON"
          ],
          [
           "Lewisham",
           "LONDON"
          ],
          [
           "Tower Hamlets",
           "LONDON"
          ],
          [
           "Tower Hamlets",
           "LONDON"
          ],
          [
           "Brent",
           "LONDON"
          ],
          [
           "Tower Hamlets",
           "LONDON"
          ],
          [
           "Kensington and ChelseaHammersmith and Fulham",
           "LONDON"
          ],
          [
           "Tower Hamlets",
           "LONDON"
          ],
          [
           "Camden",
           "LONDON"
          ],
          [
           "Tower Hamlets",
           "LONDON"
          ],
          [
           "Sutton",
           "CARSHALTON"
          ],
          [
           "Richmond upon Thames",
           "LONDON"
          ],
          [
           "Lewisham",
           "LONDON"
          ],
          [
           "Camden",
           "LONDON"
          ],
          [
           "Greenwich",
           "LONDON"
          ],
          [
           "Sutton",
           "SUTTON/MERTON"
          ],
          [
           "Kensington and Chelsea",
           "LONDON"
          ],
          [
           "Lewisham",
           "LONDON"
          ],
          [
           "Hounslow",
           "LONDON"
          ],
          [
           "Brent",
           "LONDON"
          ],
          [
           "Barnet",
           "LONDON"
          ],
          [
           "Lambeth",
           "LONDON"
          ],
          [
           "Merton",
           "LONDON"
          ],
          [
           "Croydon",
           "CROYDON"
          ],
          [
           "Kingston upon Thames",
           "KINGSTON UPON THAMES"
          ],
          [
           "Croydon",
           "CROYDON"
          ],
          [
           "Kingston upon Thames",
           "KINGSTON UPON THAMES"
          ],
          [
           "Lewisham",
           "LONDON"
          ],
          [
           "Haringey",
           "LONDON"
          ],
          [
           "Tower Hamlets",
           "LONDON"
          ],
          [
           "Hackney",
           "LONDON"
          ],
          [
           "Southwark",
           "LONDON"
          ],
          [
           "Lewisham",
           "LONDON"
          ],
          [
           "Ealing",
           "LONDON"
          ],
          [
           "Richmond upon Thames",
           "TWICKENHAM"
          ],
          [
           "Greenwich",
           "LONDON"
          ],
          [
           "Haringey",
           "LONDON"
          ],
          [
           "Croydon",
           "CROYDON"
          ],
          [
           "Haringey",
           "LONDON"
          ],
          [
           "Hammersmith and Fulham",
           "LONDON"
          ],
          [
           "Lambeth",
           "LONDON"
          ],
          [
           "Enfield",
           "LONDON"
          ],
          [
           "Greenwich",
           "LONDON"
          ],
          [
           "Hounslow",
           "LONDON"
          ],
          [
           "Lewisham",
           "LONDON"
          ],
          [
           "Hackney",
           "LONDON"
          ],
          [
           "Hackney",
           "LONDON"
          ],
          [
           "Hackney",
           "LONDON"
          ],
          [
           "Hackney",
           "LONDON"
          ],
          [
           "Hammersmith and Fulham",
           "LONDON"
          ],
          [
           "Richmond upon Thames",
           "KINGSTON UPON THAMES"
          ],
          [
           "Haringey",
           "LONDON"
          ],
          [
           "Harrow",
           "HARROW"
          ],
          [
           "Bromley",
           "BROMLEY"
          ],
          [
           "Hillingdon",
           "HAYES"
          ],
          [
           "Islington",
           "LONDON"
          ],
          [
           "Kensington and Chelsea",
           "LONDON"
          ],
          [
           "Hackney",
           "LONDON"
          ],
          [
           "Lewisham",
           "LONDON"
          ],
          [
           "Haringey",
           "LONDON"
          ],
          [
           "Hounslow",
           "HOUNSLOW"
          ],
          [
           "Hackney",
           "LONDON"
          ],
          [
           "Tower Hamlets",
           "LONDON"
          ],
          [
           "Camden",
           "LONDON"
          ],
          [
           "Richmond upon Thames",
           "RICHMOND"
          ],
          [
           "Brent",
           "LONDON"
          ],
          [
           "Kingston upon Thames",
           "KINGSTON UPON THAMES"
          ],
          [
           "Lewisham",
           "LONDON"
          ],
          [
           "Lambeth",
           "LONDON"
          ],
          [
           "Hounslow",
           "HOUNSLOW"
          ],
          [
           "Tower Hamlets",
           "LONDON"
          ],
          [
           "Lewisham",
           "LONDON"
          ],
          [
           "Lewisham",
           "LONDON"
          ],
          [
           "Waltham Forest",
           "LONDON"
          ],
          [
           "Tower Hamlets",
           "LONDON"
          ],
          [
           "Bexley",
           "LONDON"
          ],
          [
           "Hackney",
           "LONDON"
          ],
          [
           "Hackney",
           "LONDON"
          ],
          [
           "Newham",
           "LONDON"
          ],
          [
           "Greenwich",
           "LONDON"
          ],
          [
           "Tower Hamlets",
           "LONDON"
          ],
          [
           "Tower Hamlets",
           "LONDON"
          ],
          [
           "Wandsworth",
           "LONDON"
          ],
          [
           "Tower Hamlets",
           "LONDON"
          ],
          [
           "Hammersmith and Fulham",
           "LONDON"
          ],
          [
           "Lambeth",
           "LONDON"
          ],
          [
           "Hammersmith and Fulham",
           "LONDON"
          ],
          [
           "Tower Hamlets",
           "LONDON"
          ],
          [
           "Camden",
           "LONDON"
          ],
          [
           "Wandsworth",
           "LONDON"
          ],
          [
           "Tower Hamlets",
           "LONDON"
          ],
          [
           "Richmond upon Thames",
           "RICHMOND"
          ],
          [
           "Wandsworth",
           "LONDON"
          ],
          [
           "Southwark",
           "LONDON"
          ],
          [
           "Hammersmith and Fulham",
           "LONDON"
          ],
          [
           "Hackney",
           "LONDON"
          ],
          [
           "Tower Hamlets",
           "LONDON"
          ],
          [
           "Croydon",
           "CROYDON"
          ],
          [
           "Hackney",
           "LONDON"
          ],
          [
           "Hackney",
           "LONDON"
          ],
          [
           "Merton",
           "LONDON"
          ],
          [
           "Lewisham",
           "LONDON"
          ],
          [
           "Wandsworth",
           "LONDON"
          ],
          [
           "Lewisham",
           "LONDON"
          ],
          [
           "Hackney",
           "LONDON"
          ],
          [
           "Tower Hamlets",
           "LONDON"
          ],
          [
           "Lambeth",
           "LONDON"
          ],
          [
           "Hackney",
           "LONDON"
          ],
          [
           "Newham",
           "LONDON"
          ],
          [
           "Haringey",
           "LONDON"
          ],
          [
           "Camden",
           "LONDON"
          ],
          [
           "Wandsworth",
           "LONDON"
          ],
          [
           "Wandsworth",
           "LONDON"
          ],
          [
           "Haringey",
           "LONDON"
          ],
          [
           "Haringey",
           "LONDON"
          ],
          [
           "Haringey",
           "LONDON"
          ],
          [
           "Haringey",
           "LONDON"
          ],
          [
           "Richmond upon Thames",
           "TWICKENHAM"
          ],
          [
           "Waltham Forest",
           "LONDON"
          ],
          [
           "Lambeth",
           "LONDON"
          ],
          [
           "Waltham Forest",
           "LONDON"
          ],
          [
           "Waltham Forest",
           "LONDON"
          ],
          [
           "Wandsworth",
           "LONDON"
          ],
          [
           "Tower Hamlets",
           "LONDON"
          ],
          [
           "Brent",
           "WEMBLEY"
          ],
          [
           "Brent",
           "WEMBLEY"
          ],
          [
           "Hackney",
           "LONDON"
          ],
          [
           "Hammersmith and Fulham",
           "LONDON"
          ],
          [
           "Hammersmith and Fulham",
           "LONDON"
          ],
          [
           "Bromley",
           "BROMLEY"
          ],
          [
           "Richmond upon Thames",
           "TWICKENHAM"
          ],
          [
           "Merton",
           "LONDON"
          ],
          [
           "Hammersmith and Fulham",
           "LONDON"
          ]
         ],
         "hovertemplate": "<b>%{hovertext}</b><br><br>Cluster=Tourist<br>Lat=%{lat}<br>Lng=%{lon}<br>Borough=%{customdata[0]}<br>Town=%{customdata[1]}<extra></extra>",
         "hovertext": [
          "Acton",
          "Addiscombe",
          "Balham",
          "Battersea",
          "Bellingham",
          "Belsize Park",
          "Bethnal Green",
          "Blackheath",
          "Blackwall",
          "Bow",
          "Brent Park",
          "Bromley (also Bromley-by-Bow)",
          "Brompton",
          "Cambridge Heath",
          "Camden Town",
          "Canary Wharf",
          "Carshalton",
          "Castelnau",
          "Catford",
          "Chalk Farm",
          "Charlton",
          "Cheam",
          "Chelsea",
          "Chinbrook",
          "Chiswick",
          "Church End",
          "Church End",
          "Clapham",
          "Colliers Wood",
          "Coombe",
          "Coombe",
          "Coombe",
          "Coombe",
          "Crofton Park",
          "Crouch End",
          "Cubitt Town",
          "Dalston",
          "Denmark Hill",
          "Deptford",
          "Ealing",
          "Eel Pie Island",
          "Eltham",
          "Finsbury Park",
          "Forestdale",
          "Fortis Green",
          "Fulham",
          "Gipsy Hill",
          "Grange Park",
          "Greenwich",
          "Grove Park",
          "Grove Park",
          "Hackney",
          "Hackney Central",
          "Hackney Marshes",
          "Haggerston",
          "Hammersmith",
          "Hampton Wick",
          "Harringay",
          "Harrow",
          "Hayes",
          "Hayes",
          "Highbury",
          "Holland Park",
          "Homerton",
          "Honor Oak",
          "Hornsey",
          "Hounslow",
          "Hoxton",
          "Isle of Dogs",
          "Kentish Town",
          "Kew",
          "Kilburn",
          "Kingston upon Thames",
          "Ladywell",
          "Lambeth",
          "Lampton",
          "Leamouth",
          "Lee",
          "Lewisham",
          "Leyton",
          "Limehouse",
          "Longlands",
          "Lower Clapton",
          "Manor House",
          "Maryland",
          "Maze Hill",
          "Mile End",
          "Millwall",
          "Nine Elms",
          "Old Ford",
          "Old Oak Common",
          "Oval",
          "Parsons Green",
          "Poplar",
          "Primrose Hill",
          "Putney",
          "Ratcliff",
          "Richmond",
          "Roehampton",
          "Rotherhithe",
          "Sands End",
          "Shacklewell",
          "Shadwell",
          "Shirley",
          "Shoreditch",
          "South Hackney",
          "South Wimbledon",
          "Southend",
          "Southfields",
          "St Johns",
          "Stamford Hill",
          "Stepney",
          "Stockwell",
          "Stoke Newington",
          "Stratford",
          "Stroud Green",
          "Swiss Cottage",
          "Tooting",
          "Tooting Bec",
          "Tottenham",
          "Tottenham Green",
          "Tottenham Hale",
          "Turnpike Lane",
          "Twickenham",
          "Upper Walthamstow",
          "Vauxhall",
          "Walthamstow",
          "Walthamstow Village",
          "Wandsworth",
          "Wapping",
          "Wembley",
          "Wembley Park",
          "West Hackney",
          "West Kensington",
          "White City",
          "Widmore (also Widmore Green)",
          "Whitton",
          "Wimbledon",
          "Wormwood Scrubs"
         ],
         "lat": [
          51.51806549999999,
          51.3735680787325,
          51.45682000000005,
          51.459232500000006,
          51.459160000000054,
          51.546898398855184,
          51.504126600453446,
          51.47236330464883,
          51.52022000000005,
          51.52022000000005,
          51.57395193404126,
          51.52022000000005,
          51.47772000000003,
          51.52203958714199,
          51.53761995614299,
          51.52022000000005,
          51.36284002943043,
          51.485597803398825,
          51.459160000000054,
          51.542821467115445,
          51.48454000000004,
          51.36132435148824,
          51.48198000000008,
          51.459160000000054,
          51.487373748466936,
          51.584253344799436,
          51.47504632750984,
          51.49084000000005,
          51.42069001110853,
          51.3671697217131,
          51.412031999999996,
          51.3671697217131,
          51.412031999999996,
          51.459160000000054,
          51.57635101698774,
          51.52022000000005,
          51.54834845382215,
          51.473736211092046,
          51.474270034018765,
          51.51406000000003,
          51.46337441920929,
          51.48454000000004,
          51.56878000000006,
          51.372340000000065,
          51.59095911304599,
          51.4826899378211,
          51.49084000000005,
          51.510295326548984,
          51.48454000000004,
          51.60396403260681,
          51.46698021778042,
          51.54505000000006,
          51.54713000000004,
          51.54505000000006,
          51.53849000000008,
          51.49617000000006,
          51.415950000000066,
          51.58478152594502,
          51.58263000000005,
          51.39815637597911,
          51.50276529123459,
          51.54624000000007,
          51.50163975059008,
          51.54690000000005,
          51.459160000000054,
          51.57428850000001,
          51.46228000000008,
          51.544887992859934,
          51.52022000000005,
          51.55078000000003,
          51.468628422834044,
          51.541870000000074,
          51.40984000000003,
          51.45641000000006,
          51.49084000000005,
          51.470299039126076,
          51.52022000000005,
          51.46257959777167,
          51.459160000000054,
          51.547985135879436,
          51.52022000000005,
          51.471981000000014,
          51.550862117718694,
          51.556846431040384,
          51.54764158006811,
          51.481701000000015,
          51.52040369910079,
          51.52022000000005,
          51.45682000000005,
          51.51660764694028,
          51.47772000000003,
          51.49084000000005,
          51.474150000000066,
          51.52022000000005,
          51.54083905632829,
          51.45682000000005,
          51.510718561483586,
          51.45400915453738,
          51.45682000000005,
          51.49574000000007,
          51.4826899378211,
          51.55416215382668,
          51.51111000000003,
          51.36983987399733,
          51.53942700000002,
          51.54505000000006,
          51.41534000000007,
          51.459160000000054,
          51.454321573173694,
          51.469897499999995,
          51.548184056155186,
          51.51670190834722,
          51.47001000000006,
          51.552283427674936,
          51.54220000000004,
          51.56547179987947,
          51.54367000000008,
          51.45682000000005,
          51.45682000000005,
          51.586679745472225,
          51.586679745472225,
          51.586679745472225,
          51.58944024263658,
          51.455988000000005,
          51.57898000000006,
          51.48559000000006,
          51.57898000000006,
          51.57898000000006,
          51.45682000000005,
          51.50458000000003,
          51.55297000000007,
          51.561586980800406,
          51.54505000000006,
          51.47772000000003,
          51.4826899378211,
          51.4060704911339,
          51.452986010228564,
          51.41539000000006,
          51.47772000000003
         ],
         "legendgroup": "Tourist",
         "line": {
          "color": "DarkSlateGrey",
          "width": 2
         },
         "lon": [
          -0.3019544999999981,
          -0.09033311937051809,
          -0.1945199999999545,
          -0.1730789999999962,
          -0.012129999999956453,
          -0.17282773457354447,
          -0.05922569467192267,
          -0.01301957962362178,
          -0.054309999999929914,
          -0.054309999999929914,
          -0.2301453242060037,
          -0.054309999999929914,
          -0.2014499999999657,
          -0.05549610229373748,
          -0.1450899816781068,
          -0.054309999999929914,
          -0.1839700183218063,
          -0.23313753284896066,
          -0.012129999999956453,
          -0.148578235240569,
          0.002750000000048658,
          -0.19358758665781206,
          -0.1854999999999336,
          -0.012129999999956453,
          -0.247567752541106,
          -0.01246795045038361,
          -0.24045883734011164,
          -0.11107999999995855,
          -0.17567000779025538,
          -0.09600631040756821,
          -0.2898697500000028,
          -0.09600631040756821,
          -0.2898697500000028,
          -0.012129999999956453,
          -0.12596601963658563,
          -0.054309999999929914,
          -0.06484092455136468,
          -0.09315897826992249,
          -0.02174931183870372,
          -0.30072999999993044,
          -0.3093145707527385,
          0.002750000000048658,
          -0.09846999999996342,
          -0.09944999999993342,
          -0.1508334651723848,
          -0.2129099233942567,
          -0.11107999999995855,
          -0.2979067501672565,
          0.002750000000048658,
          -0.12672536735443427,
          -0.02043808618523037,
          -0.05531999999993786,
          -0.055099999999924876,
          -0.05531999999993786,
          -0.07554999999996426,
          -0.22934999999995398,
          -0.31370999999995774,
          -0.09814679145519253,
          -0.33202999999997473,
          0.015123704723472547,
          -0.40732924449493807,
          -0.10326999999995223,
          -0.2055284999999931,
          -0.042339999999967404,
          -0.012129999999956453,
          -0.12737474999998466,
          -0.3621599999999603,
          -0.05954051061888684,
          -0.054309999999929914,
          -0.14064999999993688,
          -0.29469289595136133,
          -0.1979499999999348,
          -0.3006099999999492,
          -0.01949999999993679,
          -0.11107999999995855,
          -0.36690024622638734,
          -0.054309999999929914,
          -0.009841944150654258,
          -0.012129999999956453,
          -0.002230369576499119,
          -0.054309999999929914,
          -0.19277549999998178,
          -0.051984239076214064,
          -0.061591143632053036,
          0.004312571469792642,
          0.002405249999993659,
          -0.053405490595804975,
          -0.054309999999929914,
          -0.1945199999999545,
          -0.056547346008563246,
          -0.2014499999999657,
          -0.11107999999995855,
          -0.20021999999994478,
          -0.054309999999929914,
          -0.15706646653347683,
          -0.1945199999999545,
          -0.04333289336377088,
          -0.29975626969156677,
          -0.1945199999999545,
          -0.051569999999969696,
          -0.2129099233942567,
          -0.06862033688411363,
          -0.05674999999996544,
          -0.11168976798994026,
          -0.07100774999999408,
          -0.05531999999993786,
          -0.1925099999999702,
          -0.012129999999956453,
          -0.1998087256084327,
          -0.013578749999988253,
          -0.06545100623946794,
          -0.04389372420888454,
          -0.11248999999997977,
          -0.07494975516607283,
          0.005330000000071777,
          -0.1060226998192129,
          -0.172649999999976,
          -0.1945199999999545,
          -0.1945199999999545,
          -0.07045849818887971,
          -0.07045849818887971,
          -0.07045849818887971,
          -0.10765449026122992,
          -0.33030899999999963,
          -0.011219999999980246,
          -0.12332999999995309,
          -0.011219999999980246,
          -0.011219999999980246,
          -0.1945199999999545,
          -0.05598999999995158,
          -0.29552999999992835,
          -0.2819689143230941,
          -0.05531999999993786,
          -0.2014499999999657,
          -0.2129099233942567,
          0.016465591081097304,
          -0.3350880748761787,
          -0.19534999999996217,
          -0.2014499999999657
         ],
         "marker": {
          "color": "#EF553B",
          "size": 12
         },
         "mode": "markers",
         "name": "Tourist",
         "showlegend": true,
         "subplot": "mapbox",
         "type": "scattermapbox"
        },
        {
         "customdata": [
          [
           "City",
           "LONDON"
          ],
          [
           "Southwark",
           "LONDON"
          ],
          [
           "City",
           "LONDON"
          ],
          [
           "Southwark",
           "LONDON"
          ],
          [
           "City",
           "LONDON"
          ],
          [
           "Camden",
           "LONDON"
          ],
          [
           "Southwark",
           "LONDON"
          ],
          [
           "Westminster",
           "LONDON"
          ],
          [
           "Southwark",
           "LONDON"
          ],
          [
           "Camden",
           "LONDON"
          ],
          [
           "Camden",
           "LONDON"
          ],
          [
           "Southwark",
           "LONDON"
          ],
          [
           "Southwark",
           "LONDON"
          ],
          [
           "Southwark",
           "LONDON"
          ],
          [
           "Tower Hamlets",
           "LONDON"
          ],
          [
           "Southwark",
           "LONDON"
          ],
          [
           "City",
           "LONDON"
          ],
          [
           "Southwark",
           "LONDON"
          ]
         ],
         "hovertemplate": "<b>%{hovertext}</b><br><br>Cluster=Professional<br>Lat=%{lat}<br>Lng=%{lon}<br>Borough=%{customdata[0]}<br>Town=%{customdata[1]}<extra></extra>",
         "hovertext": [
          "Aldgate",
          "Bankside",
          "Barbican",
          "Bermondsey",
          "Blackfriars",
          "Bloomsbury",
          "Camberwell",
          "Charing Cross",
          "Dulwich",
          "Fitzrovia",
          "Holborn",
          "Newington",
          "Nunhead",
          "Peckham",
          "Spitalfields",
          "Surrey Quays",
          "Temple",
          "Walworth"
         ],
         "lat": [
          51.513308435920024,
          51.50816773788799,
          51.52005005107048,
          51.505718012162625,
          51.51204000000007,
          51.520740000000046,
          51.50541000000004,
          51.507212550837544,
          51.50541000000004,
          51.51873000000006,
          51.51651000000004,
          51.50541000000004,
          51.50541000000004,
          51.50541000000004,
          51.518380000000036,
          51.502415522976754,
          51.51367880282308,
          51.50541000000004
         ],
         "legendgroup": "Professional",
         "line": {
          "color": "DarkSlateGrey",
          "width": 2
         },
         "lon": [
          -0.077762090020195,
          -0.09523001191694887,
          -0.09247002452461052,
          -0.08923926542542779,
          -0.10355999999995902,
          -0.12309999999996535,
          -0.08920999999998003,
          -0.12752129664989184,
          -0.08920999999998003,
          -0.1373699999999758,
          -0.11967999999995982,
          -0.08920999999998003,
          -0.08920999999998003,
          -0.08920999999998003,
          -0.0746799999999439,
          -0.102682358010783,
          -0.11088490141152504,
          -0.08920999999998003
         ],
         "marker": {
          "color": "#00cc96",
          "size": 12
         },
         "mode": "markers",
         "name": "Professional",
         "showlegend": true,
         "subplot": "mapbox",
         "type": "scattermapbox"
        },
        {
         "customdata": [
          [
           "Westminster",
           "LONDON"
          ],
          [
           "Islington",
           "LONDON"
          ],
          [
           "Islington",
           "LONDON"
          ],
          [
           "Islington",
           "LONDON"
          ],
          [
           "Westminster",
           "LONDON"
          ],
          [
           "Westminster",
           "LONDON"
          ],
          [
           "Islington",
           "LONDON"
          ],
          [
           "Westminster",
           "LONDON"
          ],
          [
           "Islington",
           "LONDON"
          ],
          [
           "Westminster",
           "LONDON"
          ],
          [
           "Islington",
           "LONDON"
          ],
          [
           "Kensington and Chelsea",
           "LONDON"
          ],
          [
           "Southwark",
           "LONDON"
          ],
          [
           "Islington ",
           "LONDON"
          ],
          [
           "Islington",
           "LONDON"
          ],
          [
           "Camden",
           "LONDON"
          ],
          [
           "Camden",
           "LONDON"
          ],
          [
           "Camden",
           "LONDON"
          ],
          [
           "Islington",
           "LONDON"
          ],
          [
           "Islington",
           "LONDON"
          ],
          [
           "Lambeth",
           "LONDON"
          ],
          [
           "Kensington and Chelsea",
           "LONDON"
          ],
          [
           "Camden and Islington",
           "LONDON"
          ],
          [
           "Westminster",
           "LONDON"
          ],
          [
           "Westminster",
           "LONDON"
          ],
          [
           "Westminster",
           "LONDON"
          ],
          [
           "Westminster",
           "LONDON"
          ],
          [
           "Westminster",
           "LONDON"
          ],
          [
           "Westminster",
           "LONDON"
          ],
          [
           "Westminster",
           "LONDON"
          ],
          [
           "Islington",
           "LONDON"
          ],
          [
           "Kensington and Chelsea",
           "LONDON"
          ],
          [
           "Westminster",
           "LONDON"
          ],
          [
           "Islington",
           "LONDON"
          ],
          [
           "Westminster",
           "LONDON"
          ],
          [
           "Hammersmith and Fulham",
           "LONDON"
          ],
          [
           "Westminster",
           "LONDON"
          ],
          [
           "Camden",
           "LONDON"
          ],
          [
           "Kensington and Chelsea",
           "LONDON"
          ],
          [
           "Westminster",
           "LONDON"
          ],
          [
           "Camden",
           "LONDON"
          ],
          [
           "Westminster",
           "LONDON"
          ],
          [
           "Islington",
           "LONDON"
          ],
          [
           "Camden",
           "LONDON"
          ],
          [
           "Tower Hamlets",
           "LONDON"
          ],
          [
           "Islington",
           "LONDON"
          ],
          [
           "Islington",
           "LONDON"
          ],
          [
           "Kensington and Chelsea",
           "LONDON"
          ],
          [
           "Camden",
           "LONDON"
          ],
          [
           "Westminster",
           "LONDON"
          ],
          [
           "Tower Hamlets",
           "LONDON"
          ]
         ],
         "hovertemplate": "<b>%{hovertext}</b><br><br>Cluster=Recreational<br>Lat=%{lat}<br>Lng=%{lon}<br>Borough=%{customdata[0]}<br>Town=%{customdata[1]}<extra></extra>",
         "hovertext": [
          "Aldwych",
          "Angel",
          "Archway",
          "Barnsbury",
          "Bayswater",
          "Belgravia",
          "Canonbury",
          "Chinatown",
          "Clerkenwell",
          "Covent Garden",
          "De Beauvoir Town",
          "Earls Court",
          "Elephant and Castle",
          "Farringdon",
          "Finsbury",
          "Frognal",
          "Gospel Oak",
          "Hampstead",
          "Holloway",
          "Islington",
          "Kennington",
          "Kensington",
          "King's Cross",
          "Knightsbridge",
          "Lisson Grove",
          "Little Venice",
          "Maida Vale",
          "Marylebone (also St Marylebone)",
          "Mayfair",
          "Millbank",
          "Nag's Head",
          "North Kensington",
          "Paddington",
          "Pentonville",
          "Pimlico",
          "Shepherd's Bush",
          "Soho",
          "Somerstown",
          "South Kensington",
          "St James's",
          "St Giles",
          "St John's Wood",
          "St Luke's",
          "St Pancras",
          "Tower Hill",
          "Tufnell Park",
          "Upper Holloway",
          "West Brompton",
          "West Hampstead",
          "Westminster",
          "Whitechapel"
         ],
         "lat": [
          51.50008000000008,
          51.532020000000045,
          51.532790000000034,
          51.536480534879935,
          51.50008000000008,
          51.494857585883956,
          51.532790000000034,
          51.50008000000008,
          51.532790000000034,
          51.49319400000002,
          51.532790000000034,
          51.49750000000006,
          51.49503000000004,
          51.532790000000034,
          51.532790000000034,
          51.53236000000004,
          51.53236000000004,
          51.53405473364255,
          51.533630036643764,
          51.532790000000034,
          51.49805994134637,
          51.49906000000004,
          51.535737,
          51.50089180718563,
          51.52621993392596,
          51.50008000000008,
          51.50008000000008,
          51.523840000000064,
          51.50008000000008,
          51.49564036479073,
          51.53363000000007,
          51.49014000000005,
          51.50008000000008,
          51.53136428187524,
          51.49176994892964,
          51.4960199766923,
          51.50008000000008,
          51.53588642797144,
          51.49807000000004,
          51.491190000000074,
          51.53236000000004,
          51.495715376511676,
          51.532790000000034,
          51.532350000000065,
          51.50604755297273,
          51.532790000000034,
          51.53545425365254,
          51.49014000000005,
          51.53405473364255,
          51.50008000000008,
          51.51917000000003
         ],
         "legendgroup": "Recreational",
         "line": {
          "color": "DarkSlateGrey",
          "width": 2
         },
         "lon": [
          -0.1280199999999354,
          -0.10625999999996338,
          -0.1061399999999253,
          -0.1109095599068421,
          -0.1280199999999354,
          -0.12745119894784956,
          -0.1061399999999253,
          -0.1280199999999354,
          -0.1061399999999253,
          -0.12893740282209368,
          -0.1061399999999253,
          -0.19760999999994056,
          -0.09890999999993255,
          -0.1061399999999253,
          -0.1061399999999253,
          -0.1279599999999732,
          -0.1279599999999732,
          -0.1391765653310896,
          -0.10726005107039317,
          -0.1061399999999253,
          -0.11211230167805922,
          -0.19873999999992975,
          -0.10332000000000313,
          -0.12279855209604336,
          -0.17149005164730943,
          -0.1280199999999354,
          -0.1280199999999354,
          -0.15756999999996424,
          -0.1280199999999354,
          -0.12531052201516182,
          -0.10577999999992471,
          -0.16247999999995955,
          -0.1280199999999354,
          -0.11445304702839991,
          -0.13979003332543358,
          -0.2239514999999983,
          -0.1280199999999354,
          -0.1275258685428388,
          -0.17403999999993403,
          -0.13481999999993377,
          -0.1279599999999732,
          -0.12736106476750578,
          -0.1061399999999253,
          -0.12575999999995702,
          -0.07500042081554159,
          -0.1061399999999253,
          -0.10409409146715132,
          -0.16247999999995955,
          -0.1391765653310896,
          -0.1280199999999354,
          -0.059659999999951197
         ],
         "marker": {
          "color": "#ab63fa",
          "size": 12
         },
         "mode": "markers",
         "name": "Recreational",
         "showlegend": true,
         "subplot": "mapbox",
         "type": "scattermapbox"
        }
       ],
       "layout": {
        "height": 600,
        "legend": {
         "title": {
          "text": "Cluster"
         },
         "tracegroupgap": 0
        },
        "mapbox": {
         "center": {
          "lat": 51.50223865763299,
          "lon": -0.10806065956225025
         },
         "domain": {
          "x": [
           0,
           1
          ],
          "y": [
           0,
           1
          ]
         },
         "style": "open-street-map",
         "zoom": 9
        },
        "margin": {
         "b": 0,
         "l": 0,
         "r": 0,
         "t": 0
        },
        "template": {
         "data": {
          "bar": [
           {
            "error_x": {
             "color": "#2a3f5f"
            },
            "error_y": {
             "color": "#2a3f5f"
            },
            "marker": {
             "line": {
              "color": "#E5ECF6",
              "width": 0.5
             }
            },
            "type": "bar"
           }
          ],
          "barpolar": [
           {
            "marker": {
             "line": {
              "color": "#E5ECF6",
              "width": 0.5
             }
            },
            "type": "barpolar"
           }
          ],
          "carpet": [
           {
            "aaxis": {
             "endlinecolor": "#2a3f5f",
             "gridcolor": "white",
             "linecolor": "white",
             "minorgridcolor": "white",
             "startlinecolor": "#2a3f5f"
            },
            "baxis": {
             "endlinecolor": "#2a3f5f",
             "gridcolor": "white",
             "linecolor": "white",
             "minorgridcolor": "white",
             "startlinecolor": "#2a3f5f"
            },
            "type": "carpet"
           }
          ],
          "choropleth": [
           {
            "colorbar": {
             "outlinewidth": 0,
             "ticks": ""
            },
            "type": "choropleth"
           }
          ],
          "contour": [
           {
            "colorbar": {
             "outlinewidth": 0,
             "ticks": ""
            },
            "colorscale": [
             [
              0,
              "#0d0887"
             ],
             [
              0.1111111111111111,
              "#46039f"
             ],
             [
              0.2222222222222222,
              "#7201a8"
             ],
             [
              0.3333333333333333,
              "#9c179e"
             ],
             [
              0.4444444444444444,
              "#bd3786"
             ],
             [
              0.5555555555555556,
              "#d8576b"
             ],
             [
              0.6666666666666666,
              "#ed7953"
             ],
             [
              0.7777777777777778,
              "#fb9f3a"
             ],
             [
              0.8888888888888888,
              "#fdca26"
             ],
             [
              1,
              "#f0f921"
             ]
            ],
            "type": "contour"
           }
          ],
          "contourcarpet": [
           {
            "colorbar": {
             "outlinewidth": 0,
             "ticks": ""
            },
            "type": "contourcarpet"
           }
          ],
          "heatmap": [
           {
            "colorbar": {
             "outlinewidth": 0,
             "ticks": ""
            },
            "colorscale": [
             [
              0,
              "#0d0887"
             ],
             [
              0.1111111111111111,
              "#46039f"
             ],
             [
              0.2222222222222222,
              "#7201a8"
             ],
             [
              0.3333333333333333,
              "#9c179e"
             ],
             [
              0.4444444444444444,
              "#bd3786"
             ],
             [
              0.5555555555555556,
              "#d8576b"
             ],
             [
              0.6666666666666666,
              "#ed7953"
             ],
             [
              0.7777777777777778,
              "#fb9f3a"
             ],
             [
              0.8888888888888888,
              "#fdca26"
             ],
             [
              1,
              "#f0f921"
             ]
            ],
            "type": "heatmap"
           }
          ],
          "heatmapgl": [
           {
            "colorbar": {
             "outlinewidth": 0,
             "ticks": ""
            },
            "colorscale": [
             [
              0,
              "#0d0887"
             ],
             [
              0.1111111111111111,
              "#46039f"
             ],
             [
              0.2222222222222222,
              "#7201a8"
             ],
             [
              0.3333333333333333,
              "#9c179e"
             ],
             [
              0.4444444444444444,
              "#bd3786"
             ],
             [
              0.5555555555555556,
              "#d8576b"
             ],
             [
              0.6666666666666666,
              "#ed7953"
             ],
             [
              0.7777777777777778,
              "#fb9f3a"
             ],
             [
              0.8888888888888888,
              "#fdca26"
             ],
             [
              1,
              "#f0f921"
             ]
            ],
            "type": "heatmapgl"
           }
          ],
          "histogram": [
           {
            "marker": {
             "colorbar": {
              "outlinewidth": 0,
              "ticks": ""
             }
            },
            "type": "histogram"
           }
          ],
          "histogram2d": [
           {
            "colorbar": {
             "outlinewidth": 0,
             "ticks": ""
            },
            "colorscale": [
             [
              0,
              "#0d0887"
             ],
             [
              0.1111111111111111,
              "#46039f"
             ],
             [
              0.2222222222222222,
              "#7201a8"
             ],
             [
              0.3333333333333333,
              "#9c179e"
             ],
             [
              0.4444444444444444,
              "#bd3786"
             ],
             [
              0.5555555555555556,
              "#d8576b"
             ],
             [
              0.6666666666666666,
              "#ed7953"
             ],
             [
              0.7777777777777778,
              "#fb9f3a"
             ],
             [
              0.8888888888888888,
              "#fdca26"
             ],
             [
              1,
              "#f0f921"
             ]
            ],
            "type": "histogram2d"
           }
          ],
          "histogram2dcontour": [
           {
            "colorbar": {
             "outlinewidth": 0,
             "ticks": ""
            },
            "colorscale": [
             [
              0,
              "#0d0887"
             ],
             [
              0.1111111111111111,
              "#46039f"
             ],
             [
              0.2222222222222222,
              "#7201a8"
             ],
             [
              0.3333333333333333,
              "#9c179e"
             ],
             [
              0.4444444444444444,
              "#bd3786"
             ],
             [
              0.5555555555555556,
              "#d8576b"
             ],
             [
              0.6666666666666666,
              "#ed7953"
             ],
             [
              0.7777777777777778,
              "#fb9f3a"
             ],
             [
              0.8888888888888888,
              "#fdca26"
             ],
             [
              1,
              "#f0f921"
             ]
            ],
            "type": "histogram2dcontour"
           }
          ],
          "mesh3d": [
           {
            "colorbar": {
             "outlinewidth": 0,
             "ticks": ""
            },
            "type": "mesh3d"
           }
          ],
          "parcoords": [
           {
            "line": {
             "colorbar": {
              "outlinewidth": 0,
              "ticks": ""
             }
            },
            "type": "parcoords"
           }
          ],
          "pie": [
           {
            "automargin": true,
            "type": "pie"
           }
          ],
          "scatter": [
           {
            "marker": {
             "colorbar": {
              "outlinewidth": 0,
              "ticks": ""
             }
            },
            "type": "scatter"
           }
          ],
          "scatter3d": [
           {
            "line": {
             "colorbar": {
              "outlinewidth": 0,
              "ticks": ""
             }
            },
            "marker": {
             "colorbar": {
              "outlinewidth": 0,
              "ticks": ""
             }
            },
            "type": "scatter3d"
           }
          ],
          "scattercarpet": [
           {
            "marker": {
             "colorbar": {
              "outlinewidth": 0,
              "ticks": ""
             }
            },
            "type": "scattercarpet"
           }
          ],
          "scattergeo": [
           {
            "marker": {
             "colorbar": {
              "outlinewidth": 0,
              "ticks": ""
             }
            },
            "type": "scattergeo"
           }
          ],
          "scattergl": [
           {
            "marker": {
             "colorbar": {
              "outlinewidth": 0,
              "ticks": ""
             }
            },
            "type": "scattergl"
           }
          ],
          "scattermapbox": [
           {
            "marker": {
             "colorbar": {
              "outlinewidth": 0,
              "ticks": ""
             }
            },
            "type": "scattermapbox"
           }
          ],
          "scatterpolar": [
           {
            "marker": {
             "colorbar": {
              "outlinewidth": 0,
              "ticks": ""
             }
            },
            "type": "scatterpolar"
           }
          ],
          "scatterpolargl": [
           {
            "marker": {
             "colorbar": {
              "outlinewidth": 0,
              "ticks": ""
             }
            },
            "type": "scatterpolargl"
           }
          ],
          "scatterternary": [
           {
            "marker": {
             "colorbar": {
              "outlinewidth": 0,
              "ticks": ""
             }
            },
            "type": "scatterternary"
           }
          ],
          "surface": [
           {
            "colorbar": {
             "outlinewidth": 0,
             "ticks": ""
            },
            "colorscale": [
             [
              0,
              "#0d0887"
             ],
             [
              0.1111111111111111,
              "#46039f"
             ],
             [
              0.2222222222222222,
              "#7201a8"
             ],
             [
              0.3333333333333333,
              "#9c179e"
             ],
             [
              0.4444444444444444,
              "#bd3786"
             ],
             [
              0.5555555555555556,
              "#d8576b"
             ],
             [
              0.6666666666666666,
              "#ed7953"
             ],
             [
              0.7777777777777778,
              "#fb9f3a"
             ],
             [
              0.8888888888888888,
              "#fdca26"
             ],
             [
              1,
              "#f0f921"
             ]
            ],
            "type": "surface"
           }
          ],
          "table": [
           {
            "cells": {
             "fill": {
              "color": "#EBF0F8"
             },
             "line": {
              "color": "white"
             }
            },
            "header": {
             "fill": {
              "color": "#C8D4E3"
             },
             "line": {
              "color": "white"
             }
            },
            "type": "table"
           }
          ]
         },
         "layout": {
          "annotationdefaults": {
           "arrowcolor": "#2a3f5f",
           "arrowhead": 0,
           "arrowwidth": 1
          },
          "coloraxis": {
           "colorbar": {
            "outlinewidth": 0,
            "ticks": ""
           }
          },
          "colorscale": {
           "diverging": [
            [
             0,
             "#8e0152"
            ],
            [
             0.1,
             "#c51b7d"
            ],
            [
             0.2,
             "#de77ae"
            ],
            [
             0.3,
             "#f1b6da"
            ],
            [
             0.4,
             "#fde0ef"
            ],
            [
             0.5,
             "#f7f7f7"
            ],
            [
             0.6,
             "#e6f5d0"
            ],
            [
             0.7,
             "#b8e186"
            ],
            [
             0.8,
             "#7fbc41"
            ],
            [
             0.9,
             "#4d9221"
            ],
            [
             1,
             "#276419"
            ]
           ],
           "sequential": [
            [
             0,
             "#0d0887"
            ],
            [
             0.1111111111111111,
             "#46039f"
            ],
            [
             0.2222222222222222,
             "#7201a8"
            ],
            [
             0.3333333333333333,
             "#9c179e"
            ],
            [
             0.4444444444444444,
             "#bd3786"
            ],
            [
             0.5555555555555556,
             "#d8576b"
            ],
            [
             0.6666666666666666,
             "#ed7953"
            ],
            [
             0.7777777777777778,
             "#fb9f3a"
            ],
            [
             0.8888888888888888,
             "#fdca26"
            ],
            [
             1,
             "#f0f921"
            ]
           ],
           "sequentialminus": [
            [
             0,
             "#0d0887"
            ],
            [
             0.1111111111111111,
             "#46039f"
            ],
            [
             0.2222222222222222,
             "#7201a8"
            ],
            [
             0.3333333333333333,
             "#9c179e"
            ],
            [
             0.4444444444444444,
             "#bd3786"
            ],
            [
             0.5555555555555556,
             "#d8576b"
            ],
            [
             0.6666666666666666,
             "#ed7953"
            ],
            [
             0.7777777777777778,
             "#fb9f3a"
            ],
            [
             0.8888888888888888,
             "#fdca26"
            ],
            [
             1,
             "#f0f921"
            ]
           ]
          },
          "colorway": [
           "#636efa",
           "#EF553B",
           "#00cc96",
           "#ab63fa",
           "#FFA15A",
           "#19d3f3",
           "#FF6692",
           "#B6E880",
           "#FF97FF",
           "#FECB52"
          ],
          "font": {
           "color": "#2a3f5f"
          },
          "geo": {
           "bgcolor": "white",
           "lakecolor": "white",
           "landcolor": "#E5ECF6",
           "showlakes": true,
           "showland": true,
           "subunitcolor": "white"
          },
          "hoverlabel": {
           "align": "left"
          },
          "hovermode": "closest",
          "mapbox": {
           "style": "light"
          },
          "paper_bgcolor": "white",
          "plot_bgcolor": "#E5ECF6",
          "polar": {
           "angularaxis": {
            "gridcolor": "white",
            "linecolor": "white",
            "ticks": ""
           },
           "bgcolor": "#E5ECF6",
           "radialaxis": {
            "gridcolor": "white",
            "linecolor": "white",
            "ticks": ""
           }
          },
          "scene": {
           "xaxis": {
            "backgroundcolor": "#E5ECF6",
            "gridcolor": "white",
            "gridwidth": 2,
            "linecolor": "white",
            "showbackground": true,
            "ticks": "",
            "zerolinecolor": "white"
           },
           "yaxis": {
            "backgroundcolor": "#E5ECF6",
            "gridcolor": "white",
            "gridwidth": 2,
            "linecolor": "white",
            "showbackground": true,
            "ticks": "",
            "zerolinecolor": "white"
           },
           "zaxis": {
            "backgroundcolor": "#E5ECF6",
            "gridcolor": "white",
            "gridwidth": 2,
            "linecolor": "white",
            "showbackground": true,
            "ticks": "",
            "zerolinecolor": "white"
           }
          },
          "shapedefaults": {
           "line": {
            "color": "#2a3f5f"
           }
          },
          "ternary": {
           "aaxis": {
            "gridcolor": "white",
            "linecolor": "white",
            "ticks": ""
           },
           "baxis": {
            "gridcolor": "white",
            "linecolor": "white",
            "ticks": ""
           },
           "bgcolor": "#E5ECF6",
           "caxis": {
            "gridcolor": "white",
            "linecolor": "white",
            "ticks": ""
           }
          },
          "title": {
           "x": 0.05
          },
          "xaxis": {
           "automargin": true,
           "gridcolor": "white",
           "linecolor": "white",
           "ticks": "",
           "title": {
            "standoff": 15
           },
           "zerolinecolor": "white",
           "zerolinewidth": 2
          },
          "yaxis": {
           "automargin": true,
           "gridcolor": "white",
           "linecolor": "white",
           "ticks": "",
           "title": {
            "standoff": 15
           },
           "zerolinecolor": "white",
           "zerolinewidth": 2
          }
         }
        }
       }
      },
      "text/html": [
       "<div>\n",
       "        \n",
       "        \n",
       "            <div id=\"69b0585e-92bc-47ae-a04a-9de0987fffca\" class=\"plotly-graph-div\" style=\"height:600px; width:100%;\"></div>\n",
       "            <script type=\"text/javascript\">\n",
       "                require([\"plotly\"], function(Plotly) {\n",
       "                    window.PLOTLYENV=window.PLOTLYENV || {};\n",
       "                    \n",
       "                if (document.getElementById(\"69b0585e-92bc-47ae-a04a-9de0987fffca\")) {\n",
       "                    Plotly.newPlot(\n",
       "                        '69b0585e-92bc-47ae-a04a-9de0987fffca',\n",
       "                        [{\"customdata\": [[\"Bexley\", \"LONDON\"], [\"Croydon\", \"CROYDON\"], [\"Bexley\", \"BEXLEY\"], [\"Redbridge\", \"ILFORD\"], [\"Brent\", \"WEMBLEY\"], [\"Bromley\", \"LONDON\"], [\"Bromley\", \"WESTERHAM\"], [\"Havering\", \"HORNCHURCH\"], [\"Barnet\", \"BARNET\"], [\"Enfield\", \"LONDON\"], [\"Barking and Dagenham\", \"BARKING\"], [\"Redbridge\", \"ILFORD\"], [\"Bexley\", \"BEXLEYHEATH\"], [\"Richmond upon Thames\", \"LONDON\"], [\"Bexley\", \"DARTFORD\"], [\"Barnet\", \"LONDON\"], [\"Barnet\", \"BARNET\"], [\"Bromley\", \"BECKENHAM\"], [\"Newham\", \"LONDON\"], [\"Barking and Dagenham\", \"DAGENHAM\"], [\"Barking and Dagenham\", \"DAGENHAM\"], [\"Sutton\", \"WALLINGTON\"], [\"Ealing\", \"LONDON\"], [\"Harrow\", \"HARROW\"], [\"Sutton\", \"SUTTON\"], [\"Harrow\", \"HARROW\"], [\"Sutton\", \"SUTTON\"], [\"Bexley\", \"BELVEDERE\"], [\"Kingston upon Thames\", \"SURBITON\"], [\"Bexley\", \"BEXLEY\"], [\"Bexley\", \"BEXLEYHEATH\"], [\"Bromley\", \"BROMLEY\"], [\"Bromley\", \"WESTERHAM\"], [\"Bexley\", \"SIDCUP\"], [\"Greenwich\", \"LONDON\"], [\"Bexley\", \"BEXLEY\"], [\"Enfield\", \"ENFIELD\"], [\"Haringey\", \"LONDON\"], [\"Haringey\", \"LONDON\"], [\"Hounslow\", \"BRENTFORD\"], [\"Barnet\", \"LONDON\"], [\"Enfield\", \"ENFIELD\"], [\"Lambeth\", \"LONDON\"], [\"Lewisham\", \"LONDON\"], [\"Bromley\", \"BROMLEY\"], [\"Bromley\", \"BROMLEY\"], [\"Brent\", \"LONDON\"], [\"Barnet\", \"LONDON\"], [\"Enfield\", \"ENFIELD\"], [\"Barnet\", \"EDGWARE\"], [\"Barnet\", \"LONDON\"], [\"Waltham Forest\", \"LONDON\"], [\"Newham\", \"LONDON\"], [\"Barking and Dagenham\", \"DAGENHAM\"], [\"Redbridge\", \"ROMFORD\"], [\"Havering\", \"ROMFORD\"], [\"Bromley\", \"ORPINGTON\"], [\"Kingston upon Thames\", \"CHESSINGTON\"], [\"Barnet\", \"LONDON\"], [\"Waltham Forest\", \"LONDON\"], [\"Bromley\", \"CHISLEHURST\"], [\"Brent\", \"LONDON\"], [\"Barnet\", \"LONDON\"], [\"Barnet\", \"BARNET\"], [\"Barnet\", \"LONDON\"], [\"Havering\", \"ROMFORD\"], [\"Barnet\", \"LONDON\"], [\"Bexley\", \"ERITH\"], [\"Bromley\", \"WEST WICKHAM\"], [\"Croydon\", \"COULSDON\"], [\"Hillingdon\", \"UXBRIDGE\"], [\"Hounslow\", \"HOUNSLOW\"], [\"Havering\", \"UPMINSTER\"], [\"Bexley\", \"DARTFORD\"], [\"Barking and Dagenham\", \"BARKING\"], [\"Enfield\", \"ENFIELD\"], [\"Barnet\", \"LONDON\"], [\"Bexley\", \"BEXLEYHEATH\"], [\"Bexley\", \"LONDON\"], [\"Croydon\", \"CROYDON\"], [\"Bromley\", \"LONDON\"], [\"Bromley\", \"SEVENOAKS\"], [\"Newham\", \"LONDON\"], [\"Barking and Dagenham\", \"DAGENHAM\"], [\"Dartford\", \"LONDON\"], [\"Bromley\", \"ORPINGTON\"], [\"Brent\", \"LONDON\"], [\"Bromley\", \"ORPINGTON\"], [\"Lewisham\", \"BROMLEY\"], [\"Wandsworth\", \"LONDON\"], [\"Barnet\", \"BARNET\"], [\"Hounslow\", \"FELTHAM\"], [\"Southwark\", \"LONDON\"], [\"Barnet\", \"LONDON\"], [\"Newham\", \"LONDON\"], [\"Richmond upon Thames\", \"LONDON\"], [\"Bexley\", \"WELLING\"], [\"Hillingdon\", \"PINNER\"], [\"Bromley\", \"BECKENHAM\"], [\"Barnet\", \"EDGWARE\"], [\"Enfield\", \"LONDON\"], [\"Havering\", \"HORNCHURCH\"], [\"Bromley\", \"BECKENHAM\"], [\"Bromley\", \"CHISLEHURST\"], [\"Havering\", \"HORNCHURCH\"], [\"Enfield\", \"ENFIELD\"], [\"Enfield\", \"ENFIELD\"], [\"Enfield\", \"ENFIELD\"], [\"Enfield\", \"ENFIELD\"], [\"Bexley\", \"ERITH\"], [\"Bexley\", \"LONDON\"], [\"Hounslow\", \"FELTHAM\"], [\"Barnet\", \"LONDON\"], [\"Bexley\", \"SIDCUP\"], [\"Newham\", \"LONDON\"], [\"Lewisham\", \"LONDON\"], [\"Enfield\", \"ENFIELD\"], [\"Barnet\", \"LONDON\"], [\"Richmond upon Thames\", \"TEDDINGTON\"], [\"Havering\", \"ROMFORD\"], [\"Redbridge\", \"ILFORD\"], [\"Havering\", \"ROMFORD\"], [\"Bromley\", \"ORPINGTON\"], [\"Barnet\", \"LONDON\"], [\"Redbridge\", \"ILFORD\"], [\"Barnet\", \"LONDON\"], [\"Ealing\", \"GREENFORD\"], [\"Hounslow\", \"LONDON\"], [\"Lewisham\", \"LONDON\"], [\"Hounslow\", \"LONDON\"], [\"Hackney\", \"LONDON\"], [\"Enfield\", \"BARNET\"], [\"Redbridge\", \"CHIGWELL\"], [\"Barnet\", \"LONDON\"], [\"Richmond upon Thames\", \"RICHMOND\"], [\"Barnet\", \"LONDON\"], [\"Richmond upon Thames\", \"HAMPTON\"], [\"Richmond upon Thames\", \"HAMPTON\"], [\"Ealing\", \"LONDON\"], [\"Hounslow\", \"FELTHAM\"], [\"Hillingdon\", \"UXBRIDGE\"], [\"Brent\", \"LONDON\"], [\"Hillingdon\", \"HAYES\"], [\"Hillingdon\", \"WEST DRAYTON\"], [\"Havering\", \"ROMFORD\"], [\"Havering\", \"ROMFORD\"], [\"Havering\", \"ROMFORD\"], [\"Harrow\", \"HARROW\"], [\"Harrow\", \"HARROW\"], [\"Harrow\", \"PINNER\"], [\"Hounslow\", \"FELTHAM\"], [\"Havering\", \"ROMFORD\"], [\"Bromley\", \"BROMLEY\"], [\"Hillingdon\", \"HAYES\"], [\"Bromley\", \"ORPINGTON\"], [\"Barnet\", \"LONDON\"], [\"Lambeth\", \"LONDON\"], [\"Hounslow\", \"HOUNSLOW\"], [\"Waltham Forest\", \"LONDON\"], [\"Camden\", \"LONDON\"], [\"Hillingdon\", \"UXBRIDGE\"], [\"Lewisham\", \"LONDON\"], [\"Kingston upon Thames\", \"CHESSINGTON\"], [\"Havering\", \"HORNCHURCH\"], [\"Greenwich\", \"LONDON\"], [\"Barnet\", \"LONDON\"], [\"Hillingdon\", \"UXBRIDGE\"], [\"Redbridge\", \"ILFORD\"], [\"Hounslow\", \"ISLEWORTH\"], [\"Croydon\", \"KENLEY\"], [\"Brent\", \"LONDON\"], [\"Brent\", \"HARROW\"], [\"Bromley\", \"KESTON\"], [\"Greenwich\", \"LONDON\"], [\"Brent\", \"LONDON\"], [\"Kingston upon Thames\", \"LONDON\"], [\"Bexley\", \"SIDCUP\"], [\"Hackney\", \"LONDON\"], [\"Bromley\", \"KESTON\"], [\"Bexley\", \"BELVEDERE\"], [\"Waltham Forest\", \"LONDON\"], [\"Newham\", \"LONDON\"], [\"Bromley\", \"ORPINGTON\"], [\"Hillingdon\", \"WEST DRAYTON\"], [\"Merton\", \"MORDEN\"], [\"Redbridge\", \"ILFORD\"], [\"Kingston upon Thames\", \"CHESSINGTON\"], [\"Newham\", \"LONDON\"], [\"Barking and Dagenham\", \"ROMFORD\"], [\"Merton\", \"LONDON\"], [\"Greenwich\", \"LONDON\"], [\"Barnet\", \"LONDON\"], [\"Merton\", \"MITCHAM\"], [\"Barnet\", \"BARNET\"], [\"Merton\", \"MORDEN\"], [\"Merton\", \"MORDEN\"], [\"Richmond upon Thames\", \"LONDON\"], [\"Kingston upon Thames\", \"NEW MALDEN\"], [\"Bromley\", \"LONDON\"], [\"Haringey and Barnet\", \"LONDON\"], [\"Brent\", \"LONDON\"], [\"Croydon\", \"CROYDON\"], [\"Barnet\", \"BARNET\"], [\"Lewisham\", \"LONDON\"], [\"Greenwich\", \"LONDON\"], [\"Kingston upon Thames\", \"NEW MALDEN\"], [\"Barnet\", \"LONDON\"], [\"Redbridge\", \"ILFORD\"], [\"Havering\", \"ROMFORD\"], [\"Kingston upon Thames\", \"KINGSTON UPON THAMES\"], [\"Croydon\", \"LONDON\"], [\"Bexley\", \"SIDCUP\"], [\"Bexley\", \"ERITH\"], [\"Barnet\", \"LONDON\"], [\"Harrow\", \"HARROW\"], [\"Havering\", \"UPMINSTER\"], [\"Richmond upon Thames\", \"RICHMOND\"], [\"Newham\", \"LONDON\"], [\"Ealing\", \"NORTHOLT\"], [\"Bexley\", \"ERITH\"], [\"Hillingdon\", \"NORTHWOOD\"], [\"Ealing\", \"SOUTHALL\"], [\"Kensington and Chelsea\", \"LONDON\"], [\"Barnet\", \"LONDON\"], [\"Croydon\", \"COULSDON\"], [\"Kingston upon Thames\", \"WORCESTER PARK\"], [\"Bromley\", \"ORPINGTON\"], [\"Barnet\", \"LONDON\"], [\"Hounslow\", \"ISLEWORTH\"], [\"Enfield\", \"LONDON\"], [\"Brent\", \"LONDON\"], [\"Bromley\", \"LONDON\"], [\"Ealing\", \"GREENFORD\"], [\"Richmond upon Thames\", \"RICHMOND\"], [\"Bromley\", \"ORPINGTON\"], [\"Harrow\", \"PINNER\"], [\"Newham\", \"LONDON\"], [\"Bromley\", \"BROMLEY\"], [\"Newham\", \"LONDON\"], [\"Bromley\", \"BROMLEY\"], [\"Greenwich\", \"LONDON\"], [\"Enfield\", \"ENFIELD\"], [\"Bromley\", \"ORPINGTON\"], [\"Brent\", \"WEMBLEY\"], [\"Croydon\", \"PURLEY\"], [\"Brent\", \"LONDON\"], [\"Harrow\", \"HARROW\"], [\"Havering\", \"RAINHAM\"], [\"Harrow\", \"PINNER\"], [\"Merton\", \"LONDON\"], [\"Redbridge\", \"ILFORD\"], [\"Croydon\", \"PURLEY\"], [\"Havering\", \"ROMFORD\"], [\"Hillingdon\", \"RUISLIP\"], [\"Barking and Dagenham\", \"ROMFORD\"], [\"Bexley\", \"SIDCUP\"], [\"Croydon\", \"SOUTH CROYDON\"], [\"Croydon\", \"LONDON\"], [\"Croydon\", \"SOUTH CROYDON\"], [\"Redbridge\", \"ILFORD\"], [\"Haringey\", \"LONDON\"], [\"Greenwich\", \"LONDON\"], [\"Bexley\", \"SIDCUP\"], [\"Newham\", \"LONDON\"], [\"Hillingdon\", \"WEST DRAYTON\"], [\"Bexley\", \"ERITH\"], [\"Redbridge\", \"LONDON\"], [\"Croydon\", \"SOUTH CROYDON\"], [\"Harrow\", \"HARROW\"], [\"Havering\", \"RAINHAM\"], [\"Croydon\", \"LONDON\"], [\"Hillingdon\", \"RUISLIP\"], [\"Redbridge\", \"LONDON\"], [\"Haringey\", \"LONDON\"], [\"Ealing\", \"SOUTHALL\"], [\"Bromley\", \"BROMLEY\"], [\"Enfield\", \"LONDON\"], [\"Merton\", \"MORDEN\"], [\"Richmond upon Thames\", \"TWICKENHAM\"], [\"Bromley\", \"ORPINGTON\"], [\"Bromley\", \"ORPINGTON\"], [\"Harrow\", \"STANMORE\"], [\"Brent\", \"LONDON\"], [\"Richmond upon Thames\", \"TWICKENHAM\"], [\"Lambeth\", \"LONDON\"], [\"Brent\", \"HARROW\"], [\"Bromley\", \"BROMLEY\"], [\"Kingston upon Thames\", \"SURBITON\"], [\"Sutton\", \"SUTTON\"], [\"Lewisham\", \"LONDON\"], [\"Lewisham\", \"LONDON\"], [\"Richmond upon Thames\", \"TEDDINGTON\"], [\"Barnet\", \"BARNET\"], [\"Bexley\", \"LONDON\"], [\"Croydon\", \"THORNTON HEATH\"], [\"Brent\", \"WEMBLEY\"], [\"Kingston upon Thames\", \"SURBITON\"], [\"Barnet\", \"LONDON\"], [\"Lambeth\", \"LONDON\"], [\"Havering\", \"UPMINSTER\"], [\"Havering\", \"HORNCHURCH\"], [\"Hackney\", \"LONDON\"], [\"Croydon\", \"LONDON\"], [\"Bexley\", \"SIDCUP\"], [\"Bexley\", \"BEXLEYHEATH\"], [\"Newham\", \"LONDON\"], [\"Hillingdon\", \"UXBRIDGE\"], [\"Croydon\", \"CROYDON\"], [\"Sutton\", \"WALLINGTON\"], [\"Redbridge\", \"LONDON\"], [\"Harrow\", \"HARROW\"], [\"Greenwich\", \"LONDON\"], [\"Bexley\", \"WELLING\"], [\"Havering\", \"RAINHAM\"], [\"Hillingdon\", \"WEST DRAYTON\"], [\"Ealing\", \"LONDON\"], [\"Haringey\", \"LONDON\"], [\"Newham\", \"LONDON\"], [\"Harrow\", \"HARROW\"], [\"Bexley\", \"LONDON\"], [\"Barnet\", \"LONDON\"], [\"Lambeth\", \"LONDON\"], [\"Bromley\", \"WEST WICKHAM\"], [\"Greenwich\", \"LONDON\"], [\"Barnet\", \"LONDON\"], [\"Brent\", \"LONDON\"], [\"Enfield\", \"LONDON\"], [\"Haringey\", \"LONDON\"], [\"Redbridge\", \"LONDON\"], [\"Redbridge\", \"LONDON\"], [\"Hounslow\", \"ISLEWORTH\"], [\"Croydon\", \"CROYDON\"], [\"Barnet\", \"LONDON\"], [\"Greenwich\", \"LONDON\"], [\"Sutton\", \"WORCESTER PARK\"], [\"Hillingdon\", \"HAYES\"], [\"Hillingdon\", \"WEST DRAYTON\"]], \"hovertemplate\": \"<b>%{hovertext}</b><br><br>Cluster=Residential<br>Lat=%{lat}<br>Lng=%{lon}<br>Borough=%{customdata[0]}<br>Town=%{customdata[1]}<extra></extra>\", \"hovertext\": [\"Abbey Wood\", \"Addington\", \"Albany Park\", \"Aldborough Hatch\", \"Alperton\", \"Anerley\", \"Aperfield\", \"Ardleigh Green\", \"Arkley\", \"Arnos Grove\", \"Barking\", \"Barkingside\", \"Barnehurst\", \"Barnes\", \"Barnes Cray\", \"Barnet Gate\", \"Barnet (also Chipping Barnet, High Barnet)\", \"Beckenham\", \"Beckton\", \"Becontree\", \"Becontree Heath\", \"Beddington\", \"Bedford Park\", \"Belmont\", \"Belmont\", \"Belmont\", \"Belmont\", \"Belvedere\", \"Berrylands\", \"Bexley (also Old Bexley, Bexley Village)\", \"Bexleyheath (also Bexley New Town)\", \"Bickley\", \"Biggin Hill\", \"Blackfen\", \"Blackheath Royal Standard\", \"Blendon\", \"Botany Bay\", \"Bounds Green\", \"Bowes Park\", \"Brentford\", \"Brent Cross\", \"Brimsdown\", \"Brixton\", \"Brockley\", \"Bromley\", \"Bromley Common\", \"Brondesbury\", \"Brunswick Park\", \"Bulls Cross\", \"Burnt Oak\", \"Burroughs, The\", \"Cann Hall\", \"Canning Town\", \"Castle Green\", \"Chadwell Heath\", \"Chase Cross\", \"Chelsfield\", \"Chessington\", \"Childs Hill\", \"Chingford\", \"Chislehurst\", \"Church End\", \"Church End\", \"Cockfosters\", \"Colindale\", \"Collier Row\", \"Colney Hatch\", \"Colyers\", \"Coney Hall\", \"Coulsdon\", \"Cowley\", \"Cranford\", \"Cranham\", \"Crayford\", \"Creekmouth\", \"Crews Hill\", \"Cricklewood\", \"Crook Log\", \"Crossness\", \"Croydon\", \"Crystal Palace\", \"Cudham\", \"Custom House\", \"Dagenham\", \"Dartford\", \"Derry Downs\", \"Dollis Hill\", \"Downe\", \"Downham\", \"Earlsfield\", \"East Barnet\", \"East Bedfont\", \"East Dulwich\", \"East Finchley\", \"East Ham\", \"East Sheen\", \"East Wickham\", \"Eastcote\", \"Eden Park\", \"Edgware\", \"Edmonton\", \"Elm Park\", \"Elmers End\", \"Elmstead\", \"Emerson Park\", \"Enfield Highway\", \"Enfield Lock\", \"Enfield Town\", \"Enfield Wash\", \"Erith\", \"Falconwood\", \"Feltham\", \"Finchley\", \"Foots Cray\", \"Forest Gate\", \"Forest Hill\", \"Freezywater\", \"Friern Barnet\", \"Fulwell\", \"Gallows Corner\", \"Gants Hill\", \"Gidea Park\", \"Goddington\", \"Golders Green\", \"Goodmayes\", \"Grahame Park\", \"Greenford\", \"Grove Park\", \"Grove Park\", \"Gunnersbury\", \"Hackney Wick\", \"Hadley Wood\", \"Hainault\", \"The Hale\", \"Ham\", \"Hampstead Garden Suburb\", \"Hampton\", \"Hampton Hill\", \"Hanwell\", \"Hanworth\", \"Harefield\", \"Harlesden\", \"Harlington\", \"Harmondsworth\", \"Harold Hill\", \"Harold Park\", \"Harold Wood\", \"Harrow on the Hill\", \"Harrow Weald\", \"Hatch End\", \"Hatton\", \"Havering-atte-Bower\", \"Hayes\", \"Hayes\", \"Hazelwood\", \"Hendon\", \"Herne Hill\", \"Heston\", \"Highams Park\", \"Highgate\", \"Hillingdon\", \"Hither Green\", \"Hook\", \"Hornchurch\", \"Horn Park\", \"The Hyde\", \"Ickenham\", \"Ilford\", \"Isleworth\", \"Kenley\", \"Kensal Green\", \"Kenton\", \"Keston\", \"Kidbrooke\", \"Kingsbury\", \"Kingston Vale\", \"Lamorbey\", \"Lea Bridge\", \"Leaves Green\", \"Lessness Heath\", \"Leytonstone\", \"Little Ilford\", \"Locksbottom\", \"Longford\", \"Lower Morden\", \"Loxford\", \"Malden Rushett\", \"Manor Park\", \"Marks Gate\", \"Merton Park\", \"Middle Park\", \"Mill Hill\", \"Mitcham\", \"Monken Hadley\", \"Morden\", \"Morden Park\", \"Mortlake\", \"Motspur Park\", \"Mottingham\", \"Muswell Hill\", \"Neasden\", \"New Addington\", \"New Barnet\", \"New Cross\", \"New Eltham\", \"New Malden\", \"New Southgate\", \"Newbury Park\", \"Noak Hill\", \"Norbiton\", \"Norbury\", \"North Cray\", \"North End\", \"North Finchley\", \"North Harrow\", \"North Ockendon\", \"North Sheen\", \"North Woolwich\", \"Northolt\", \"Northumberland Heath\", \"Northwood\", \"Norwood Green\", \"Notting Hill\", \"Oakleigh Park\", \"Old Coulsdon\", \"Old Malden\", \"Orpington\", \"Osidge\", \"Osterley\", \"Palmers Green\", \"Park Royal\", \"Penge\", \"Perivale\", \"Petersham\", \"Petts Wood\", \"Pinner\", \"Plaistow\", \"Plaistow\", \"Plaistow\", \"Plaistow\", \"Plumstead\", \"Ponders End\", \"Pratt's Bottom\", \"Preston\", \"Purley\", \"Queen's Park\", \"Queensbury\", \"Rainham\", \"Rayners Lane\", \"Raynes Park\", \"Redbridge\", \"Riddlesdown\", \"Romford\", \"Ruislip\", \"Rush Green\", \"Ruxley\", \"Sanderstead\", \"Selhurst\", \"Selsdon\", \"Seven Kings\", \"Seven Sisters\", \"Shooter's Hill\", \"Sidcup\", \"Silvertown\", \"Sipson\", \"Slade Green\", \"Snaresbrook\", \"South Croydon\", \"South Harrow\", \"South Hornchurch\", \"South Norwood\", \"South Ruislip\", \"South Woodford\", \"South Tottenham\", \"Southall\", \"Southborough\", \"Southgate\", \"St Helier\", \"St Margarets\", \"St Mary Cray\", \"St Paul's Cray\", \"Stanmore\", \"Stonebridge\", \"Strawberry Hill\", \"Streatham\", \"Sudbury\", \"Sundridge\", \"Surbiton\", \"Sutton\", \"Sydenham (also Lower Sydenham, Upper Sydenham)\", \"Sydenham Hill\", \"Teddington\", \"Temple Fortune\", \"Thamesmead\", \"Thornton Heath\", \"Tokyngton\", \"Tolworth\", \"Totteridge\", \"Tulse Hill\", \"Upminster\", \"Upminster Bridge\", \"Upper Clapton\", \"Upper Norwood\", \"Upper Ruxley\", \"Upton\", \"Upton Park\", \"Uxbridge\", \"Waddon\", \"Wallington\", \"Wanstead\", \"Wealdstone\", \"Well Hall\", \"Welling\", \"Wennington\", \"West Drayton\", \"West Ealing\", \"West Green\", \"West Ham\", \"West Harrow\", \"West Heath\", \"West Hendon\", \"West Norwood\", \"West Wickham\", \"Westcombe Park\", \"Whetstone\", \"Willesden\", \"Winchmore Hill\", \"Wood Green\", \"Woodford\", \"Woodford Green\", \"Woodlands\", \"Woodside\", \"Woodside Park\", \"Woolwich\", \"Worcester Park\", \"Yeading\", \"Yiewsley\"], \"lat\": [51.492450000000076, 51.35879700000001, 51.435700000000054, 51.563048473923104, 51.53417376058907, 51.41598495190199, 51.31015431804546, 51.58067733666435, 51.65193000000005, 51.62243647082235, 52.146954, 51.58511000000004, 51.46362000000005, 51.48284539965428, 51.454074460771906, 51.48284539965428, 51.65872000000007, 51.40215000000006, 51.53292000000005, 51.555979984996426, 51.560510628882625, 51.35889578219062, 51.51189181117945, 51.5953443434362, 51.34373000000005, 51.5953443434362, 51.34373000000005, 51.488420000000076, 51.39401656380702, 51.45125000000007, 51.46013000000005, 51.38966000000005, 51.31051000000008, 51.4515480681824, 51.48664000000008, 51.44643657705689, 51.676720000000046, 51.608181731947376, 51.61498899340776, 51.48967846184999, 51.46959501358032, 51.66130836237792, 51.45238000000006, 51.462680000000034, 51.41135250000001, 51.388153466188, 51.55356000000006, 51.58360000000005, 51.675643889651504, 51.60542000000004, 51.58791727600407, 51.5554974797784, 51.51333000000005, 51.53433000000007, 51.57337000000007, 51.603036421910055, 51.355710000000045, 51.3620458230684, 51.56225000000006, 51.61712000000006, 51.419710000000066, 51.584253344799436, 51.47504632750984, 51.6657241514579, 51.59405592537353, 51.59797000000003, 51.61071692932876, 51.47122950000001, 51.36980088011006, 51.31886000000003, 51.543040000000076, 51.48434629702106, 51.56416946321474, 51.45235000000008, 51.51579817952464, 51.68350800000001, 51.564910000000054, 51.45911946453059, 51.419551275985086, 51.39155485224665, 51.41990000000004, 51.315900000000056, 51.45427997002137, 51.546700000000044, 51.452067760578885, 51.385558544117, 51.56096000000008, 51.336430000000064, 51.426082302811906, 51.44232001832193, 51.64759748896925, 51.45196556966224, 51.45256000000006, 51.589270000000056, 51.53323000000006, 51.462570756261904, 51.47559313298599, 51.58828515261902, 51.38753560397911, 51.61209000000008, 51.62879000000004, 51.54496000000006, 51.40135645217966, 51.42621189948179, 51.568155, 51.65431329841614, 51.666458625736375, 51.65226000000007, 51.65431329841614, 51.48036187996607, 51.45880000000005, 51.44708000000003, 51.60104000000007, 51.413399308737766, 51.54986268354492, 51.441220000000044, 51.65337000000005, 51.61388000000005, 51.43237184463742, 51.59245829434858, 51.576354000000016, 51.615347569853654, 51.364792401161246, 51.576730000000055, 51.56571129035198, 51.59801605283478, 51.54926000000006, 51.60396403260681, 51.46698021778042, 51.50086827183735, 51.5456050878122, 51.666396674465034, 51.61540809249462, 51.58775000000003, 51.43145642883387, 51.58736000000005, 51.42888752100201, 51.42888752100201, 51.50878000000006, 51.430540000000065, 51.53257470359681, 51.53597141442344, 51.53444550000002, 51.48258000000004, 51.60490000000004, 51.615347569853654, 51.592070000000035, 51.56704370987824, 51.6144596404303, 51.60644000000008, 51.46766566192055, 51.61660000000006, 51.39815637597911, 51.50276529123459, 51.34749958280941, 51.58912000000004, 51.45529000000005, 51.48515000000003, 51.59859972200624, 51.57145000000003, 51.543040000000076, 51.45083000000005, 51.366838153866276, 51.562290000000075, 51.48941439337224, 51.582886180401005, 51.543040000000076, 51.56338000000005, 51.47417000000007, 51.317981829257036, 51.53054000000003, 51.58370000000008, 51.361044708395056, 51.4706370451607, 51.58486000000005, 51.43162741475799, 51.43730849999999, 51.551022353194455, 51.336507845439314, 51.48572538396719, 51.55216105062294, 51.55158705631924, 51.366910000000075, 51.478869798451356, 51.39081941678327, 51.547740766630135, 51.338526568996016, 51.454967756918094, 51.54393218800004, 51.41141840373778, 51.44845808078221, 51.46961870829243, 51.40719000000007, 51.655254332588534, 51.401290000000074, 51.39891985586477, 51.46865993782111, 51.39116912702434, 51.43757000000005, 51.59107000000006, 51.56159800069314, 51.35879700000001, 51.64718469271825, 51.47489000000007, 51.433530000000076, 51.40106670524288, 51.63390000000004, 51.574230130281876, 51.6155625792314, 51.41238000000004, 51.41361382514268, 51.42980370245267, 51.47271450000001, 51.615920000000074, 51.585750000000075, 51.541630000000055, 51.46207310862528, 51.50314636049505, 51.544110000000046, 51.47297000000003, 51.60806439845446, 51.4953632726068, 51.510380000000055, 51.63730000000004, 51.31886000000003, 51.376988320088074, 51.378820000000076, 51.47457000000003, 51.48044099999999, 51.62003000000004, 51.52770000000004, 51.40399686205487, 51.53273005668594, 51.44725767421175, 51.386990000000026, 51.591260000000034, 51.52653000000004, 51.40637595804564, 51.52653000000004, 51.40637595804564, 51.48970278217071, 51.645487499999994, 51.34453345750154, 51.56531043635615, 51.35051219194073, 51.53356000000008, 51.58931000000007, 51.53955456909107, 51.569185546956156, 51.41117000000003, 50.91667000000007, 51.33236622043336, 51.6155625792314, 51.587772590828706, 51.5655, 51.41641423342758, 51.34829000000008, 51.38957785396746, 51.34355993060775, 51.56191785081679, 51.581314793709424, 51.47443775691584, 51.42593000000005, 51.502680000000055, 51.49001214513505, 51.47168297669714, 51.58332144210025, 51.362310000000036, 51.56860000000006, 51.531709919499264, 51.39925000000005, 51.55761000000007, 51.589770000000044, 51.58196007446157, 51.51139000000006, 51.395991395556024, 51.63390000000004, 51.398484718524486, 51.4587935746533, 51.38884000000007, 51.40360000000004, 51.617560000000026, 51.54455970906623, 51.43567944883682, 51.43023000000005, 51.563607909162535, 51.41052917094767, 51.394616766077334, 51.35967000000005, 51.42674000000005, 51.43920401273935, 51.430312126852, 51.638548500000006, 51.50527000000005, 51.39364601378024, 51.54732612490108, 51.379917504406436, 51.63032000000004, 51.44465000000008, 51.55710000000005, 51.55984286481587, 51.55916318259063, 51.41589000000005, 51.40982751835143, 51.445601576073464, 51.539649022907504, 51.5313261455904, 51.367590000000064, 51.36027000000007, 51.57815716443278, 51.59245000000004, 51.46751000000006, 51.46201000000008, 51.50654000000003, 51.50913000000003, 51.513460000000066, 51.608214000000004, 51.53012100000001, 51.564651862888816, 51.479460520263444, 51.584632383190815, 51.43407000000008, 51.37474000000003, 51.48408000000006, 51.63061000000005, 51.54908000000006, 51.63519000000008, 51.608214000000004, 51.58802095214995, 51.58802095214995, 51.47130951719695, 51.38812438891392, 51.60525000000007, 51.48552002943043, 51.37507000000005, 51.52441287065046, 51.51263000000006], \"legendgroup\": \"Residential\", \"line\": {\"color\": \"DarkSlateGrey\", \"width\": 2}, \"lon\": [0.12127000000003818, -0.0329062499999913, 0.12588000000005195, 0.0917635234442441, -0.3029839407012594, -0.06512439297397696, 0.04272280842600311, 0.22008114571229917, -0.22024999999996453, -0.1272340503978188, 1.0530809999999915, 0.07841000000001941, 0.17396000000002232, -0.23987676413137018, 0.18889922149637656, -0.23987676413137018, -0.2049499999999398, -0.03782999999992853, 0.05461000000002514, 0.11982002279395855, 0.14756109494031153, -0.15253467081373884, -0.32077799999999, -0.3255905362673183, -0.19867999999996755, -0.3255905362673183, -0.19867999999996755, 0.15256000000005088, -0.28813509152918465, 0.12247000000002117, 0.13808000000005904, 0.049750000000074124, 0.03603000000003931, 0.09490451420039314, 0.00407000000006974, 0.1267730399837616, -0.1263399999999706, -0.1266473643199545, -0.12765302088347608, -0.2943075193363937, -0.2520516199589085, -0.030863947290489708, -0.1219499999999698, -0.035579999999924894, 0.00943875000000998, 0.036098206378367116, -0.2117299999999318, -0.07606999999995878, -0.05940721210840968, -0.2566299999999728, -0.22901037213082498, 0.011584493267302235, 0.03173000000003867, 0.12332000000003518, 0.14148000000005823, 0.17518898877433137, 0.10336000000006607, -0.2880083586229593, -0.20132999999992762, -0.0016899999999395732, 0.06584000000003698, -0.01246795045038361, -0.24045883734011164, -0.15629950602053197, -0.2523096199168072, 0.15642000000002554, -0.15409365282703674, 0.16834950000000504, 0.0017673863431249784, -0.13914999999997235, -0.44997999999992544, -0.3934451285058116, 0.2661046634847648, 0.17765000000002829, 0.10290171871264056, -0.10009799999998512, -0.21650999999997111, 0.12798335869739821, -0.14079006714282885, -0.13641567847120736, -0.08807999999993399, 0.07484000000005153, -0.2213725820013558, 0.13968000000005532, 0.1722299153689439, 0.11656974193766004, -0.23436999999995578, 0.05380000000002383, 0.002729755227861833, -0.1882299705696056, -0.1678177407543117, -0.44054470252815475, -0.0707599999999502, -0.16394999999994297, 0.055660000000045784, -0.2622814474521747, 0.10862559554823663, -0.38376503137452794, -0.026790779422022574, -0.2775599999999372, -0.05619999999993297, 0.19153000000005704, -0.052676300585627694, 0.05301694974088331, 0.2193097500000133, -0.11035373180225709, -0.018543304211910427, -0.07971999999995205, -0.11035373180225709, 0.1773254602713861, 0.0796600000000467, -0.40918999999996686, -0.19400999999993473, 0.11714056747332446, 0.023895659082697054, -0.047639999999944393, -0.08805999999992764, -0.15185999999994237, -0.34862757199016803, 0.21261632260565536, 0.06632509230460792, 0.181244095274236, 0.1060224520321815, -0.19694999999995844, 0.10856097152295957, -0.240785082940166, -0.3398499999999558, -0.12672536735443427, -0.02043808618523037, -0.2847790349397601, -0.03378148280527209, -0.17203648655172193, 0.11686770293689595, -0.22915999999997894, -0.30686740933725076, -0.16417999999993071, -0.35328701531411527, -0.35328701531411527, -0.3362999999999374, -0.3902299999999741, -0.44842468227557, -0.24471648076986288, -0.4567589999999939, -0.4764799999999241, 0.2294700000000489, 0.181244095274236, 0.2327700000000732, -0.3407345629035206, -0.34110948365125593, -0.3772899999999595, -0.42289453371384106, 0.19531000000006316, 0.015123704723472547, -0.40732924449493807, 0.04187418610417248, -0.2280999999999267, -0.09927999999996473, -0.37316999999995915, -0.004255377903301961, -0.14982999999995172, -0.44997999999992544, -0.0006299999999441752, -0.3017478461664261, 0.22019000000005917, 0.018357170363404084, -0.2462409040013885, -0.44997999999992544, 0.0674900000000207, -0.3383999999999787, -0.09885016384101082, -0.22547999999994772, -0.3140899999999647, 0.030545926035616504, 0.019273414744883522, -0.24880999999993492, -0.2648187831607458, 0.09361125000000484, -0.022264352476853103, 0.029835001077949355, 0.1451854543003011, 0.00568404181966624, 0.05885489885104141, 0.05455000000006294, -0.4944891046459438, -0.22524898807288216, 0.08409083473721865, -0.31112248802149234, -0.0005980530365479037, 0.1331566440000529, -0.20830209626220073, 0.03640796258515495, -0.24014127316659745, -0.164229999999975, -0.20364516249576772, -0.1897799999999279, -0.18649775778641173, -0.27123992339426894, -0.2467623606631054, 0.04260000000004993, -0.14851999999996224, -0.2558001868923714, -0.0329062499999913, -0.18848567121815052, -0.04037999999997055, 0.06378000000006523, -0.24536303339136425, -0.13288999999997486, 0.09263024828095105, 0.20308771521739907, -0.28369999999995343, -0.1094034292696942, 0.13895310706216807, 0.1876117500000135, -0.1767399999999384, -0.36118999999996504, 0.295690000000036, -0.2857844920149502, 0.022499665753018944, -0.3744599999999423, 0.1624100000000226, -0.40983495115914564, -0.3658834685470777, -0.3314699999999675, -0.1663799999999469, -0.13914999999997235, -0.26180433995597113, 0.10185000000006994, -0.24211999999994305, -0.3444322499999955, -0.10659999999995762, -0.26746999999994614, -0.06837335084269645, -0.32725128547995885, -0.2987704638012943, 0.08494000000007418, -0.38075999999995247, 0.02876000000003387, 0.033962906638363495, 0.02876000000003387, 0.033962906638363495, 0.0851599571057346, -0.04653449999998409, 0.11112261751375442, -0.293519329605383, -0.11496547539541899, -0.21105999999997493, -0.2894299999999248, 0.18659205668737022, -0.363732017409817, -0.22622999999993, -1.466669999999965, -0.10357809963229665, 0.20308771521739907, -0.43669035255806227, 0.17615700000000467, 0.12719142859680604, -0.09385999999994965, -0.08879480684604696, -0.06248997056959811, 0.0898311046160824, -0.07637978376532768, 0.02279406175205574, 0.10395000000005439, 0.03623000000004595, -0.45719399380852227, 0.194868199203376, 0.013122416085204562, -0.09337999999996782, -0.36924999999996544, 0.18573994113932604, -0.07413999999994303, -0.4078299999999331, 0.030520000000024083, -0.08351833883076074, -0.37832999999994854, 0.0457962348155273, -0.13288999999997486, -0.18701829175478082, -0.3226782338024124, 0.1097100000000637, 0.10350000000005366, -0.310359999999946, -0.2608199999999917, -0.3389362583671815, -0.1299599999999259, -0.3334988901723898, 0.03916334488470344, -0.3134852624904445, -0.1913399999999683, -0.05532999999996946, -0.06372680063696264, -0.33400097241770793, -0.1676474999999977, 0.12013000000007423, -0.11462387237732108, -0.280548187351632, -0.2823338915436435, -0.19673999999997704, -0.11132999999995263, 0.24960000000004356, 0.2313362559772902, -0.056110273413864646, -0.09514999999993279, 0.14509618576998018, 0.1412639893995169, 0.029277902104827294, -0.4498247043141586, -0.11606999999997925, -0.14992999999992662, 0.02130430998687633, -0.3342899999999531, 0.052950000000066666, 0.11171000000007325, 0.21904000000006363, -0.47395999999997684, -0.31970999999992955, -0.09229049999999575, 0.020952000000000366, -0.3479242768767369, 0.12481150588911631, -0.216208691793564, -0.10374999999993406, -0.009689999999977772, 0.018630000000030122, -0.17501999999996087, -0.22098999999997204, -0.09302999999994199, -0.09229049999999575, 0.0216386678407816, 0.0216386678407816, -0.3370787067499256, -0.061081966561545985, -0.10978999999997541, 0.006269996104913933, -0.2348899999999503, -0.3993893585312604, -0.4725899999999683], \"marker\": {\"color\": \"#636efa\", \"size\": 12}, \"mode\": \"markers\", \"name\": \"Residential\", \"showlegend\": true, \"subplot\": \"mapbox\", \"type\": \"scattermapbox\"}, {\"customdata\": [[\"Ealing\", \"LONDON\"], [\"Croydon\", \"CROYDON\"], [\"Wandsworth\", \"LONDON\"], [\"Wandsworth\", \"LONDON\"], [\"Lewisham\", \"LONDON\"], [\"Camden\", \"LONDON\"], [\"Tower Hamlets\", \"LONDON\"], [\"Lewisham\", \"LONDON\"], [\"Tower Hamlets\", \"LONDON\"], [\"Tower Hamlets\", \"LONDON\"], [\"Brent\", \"LONDON\"], [\"Tower Hamlets\", \"LONDON\"], [\"Kensington and ChelseaHammersmith and Fulham\", \"LONDON\"], [\"Tower Hamlets\", \"LONDON\"], [\"Camden\", \"LONDON\"], [\"Tower Hamlets\", \"LONDON\"], [\"Sutton\", \"CARSHALTON\"], [\"Richmond upon Thames\", \"LONDON\"], [\"Lewisham\", \"LONDON\"], [\"Camden\", \"LONDON\"], [\"Greenwich\", \"LONDON\"], [\"Sutton\", \"SUTTON/MERTON\"], [\"Kensington and Chelsea\", \"LONDON\"], [\"Lewisham\", \"LONDON\"], [\"Hounslow\", \"LONDON\"], [\"Brent\", \"LONDON\"], [\"Barnet\", \"LONDON\"], [\"Lambeth\", \"LONDON\"], [\"Merton\", \"LONDON\"], [\"Croydon\", \"CROYDON\"], [\"Kingston upon Thames\", \"KINGSTON UPON THAMES\"], [\"Croydon\", \"CROYDON\"], [\"Kingston upon Thames\", \"KINGSTON UPON THAMES\"], [\"Lewisham\", \"LONDON\"], [\"Haringey\", \"LONDON\"], [\"Tower Hamlets\", \"LONDON\"], [\"Hackney\", \"LONDON\"], [\"Southwark\", \"LONDON\"], [\"Lewisham\", \"LONDON\"], [\"Ealing\", \"LONDON\"], [\"Richmond upon Thames\", \"TWICKENHAM\"], [\"Greenwich\", \"LONDON\"], [\"Haringey\", \"LONDON\"], [\"Croydon\", \"CROYDON\"], [\"Haringey\", \"LONDON\"], [\"Hammersmith and Fulham\", \"LONDON\"], [\"Lambeth\", \"LONDON\"], [\"Enfield\", \"LONDON\"], [\"Greenwich\", \"LONDON\"], [\"Hounslow\", \"LONDON\"], [\"Lewisham\", \"LONDON\"], [\"Hackney\", \"LONDON\"], [\"Hackney\", \"LONDON\"], [\"Hackney\", \"LONDON\"], [\"Hackney\", \"LONDON\"], [\"Hammersmith and Fulham\", \"LONDON\"], [\"Richmond upon Thames\", \"KINGSTON UPON THAMES\"], [\"Haringey\", \"LONDON\"], [\"Harrow\", \"HARROW\"], [\"Bromley\", \"BROMLEY\"], [\"Hillingdon\", \"HAYES\"], [\"Islington\", \"LONDON\"], [\"Kensington and Chelsea\", \"LONDON\"], [\"Hackney\", \"LONDON\"], [\"Lewisham\", \"LONDON\"], [\"Haringey\", \"LONDON\"], [\"Hounslow\", \"HOUNSLOW\"], [\"Hackney\", \"LONDON\"], [\"Tower Hamlets\", \"LONDON\"], [\"Camden\", \"LONDON\"], [\"Richmond upon Thames\", \"RICHMOND\"], [\"Brent\", \"LONDON\"], [\"Kingston upon Thames\", \"KINGSTON UPON THAMES\"], [\"Lewisham\", \"LONDON\"], [\"Lambeth\", \"LONDON\"], [\"Hounslow\", \"HOUNSLOW\"], [\"Tower Hamlets\", \"LONDON\"], [\"Lewisham\", \"LONDON\"], [\"Lewisham\", \"LONDON\"], [\"Waltham Forest\", \"LONDON\"], [\"Tower Hamlets\", \"LONDON\"], [\"Bexley\", \"LONDON\"], [\"Hackney\", \"LONDON\"], [\"Hackney\", \"LONDON\"], [\"Newham\", \"LONDON\"], [\"Greenwich\", \"LONDON\"], [\"Tower Hamlets\", \"LONDON\"], [\"Tower Hamlets\", \"LONDON\"], [\"Wandsworth\", \"LONDON\"], [\"Tower Hamlets\", \"LONDON\"], [\"Hammersmith and Fulham\", \"LONDON\"], [\"Lambeth\", \"LONDON\"], [\"Hammersmith and Fulham\", \"LONDON\"], [\"Tower Hamlets\", \"LONDON\"], [\"Camden\", \"LONDON\"], [\"Wandsworth\", \"LONDON\"], [\"Tower Hamlets\", \"LONDON\"], [\"Richmond upon Thames\", \"RICHMOND\"], [\"Wandsworth\", \"LONDON\"], [\"Southwark\", \"LONDON\"], [\"Hammersmith and Fulham\", \"LONDON\"], [\"Hackney\", \"LONDON\"], [\"Tower Hamlets\", \"LONDON\"], [\"Croydon\", \"CROYDON\"], [\"Hackney\", \"LONDON\"], [\"Hackney\", \"LONDON\"], [\"Merton\", \"LONDON\"], [\"Lewisham\", \"LONDON\"], [\"Wandsworth\", \"LONDON\"], [\"Lewisham\", \"LONDON\"], [\"Hackney\", \"LONDON\"], [\"Tower Hamlets\", \"LONDON\"], [\"Lambeth\", \"LONDON\"], [\"Hackney\", \"LONDON\"], [\"Newham\", \"LONDON\"], [\"Haringey\", \"LONDON\"], [\"Camden\", \"LONDON\"], [\"Wandsworth\", \"LONDON\"], [\"Wandsworth\", \"LONDON\"], [\"Haringey\", \"LONDON\"], [\"Haringey\", \"LONDON\"], [\"Haringey\", \"LONDON\"], [\"Haringey\", \"LONDON\"], [\"Richmond upon Thames\", \"TWICKENHAM\"], [\"Waltham Forest\", \"LONDON\"], [\"Lambeth\", \"LONDON\"], [\"Waltham Forest\", \"LONDON\"], [\"Waltham Forest\", \"LONDON\"], [\"Wandsworth\", \"LONDON\"], [\"Tower Hamlets\", \"LONDON\"], [\"Brent\", \"WEMBLEY\"], [\"Brent\", \"WEMBLEY\"], [\"Hackney\", \"LONDON\"], [\"Hammersmith and Fulham\", \"LONDON\"], [\"Hammersmith and Fulham\", \"LONDON\"], [\"Bromley\", \"BROMLEY\"], [\"Richmond upon Thames\", \"TWICKENHAM\"], [\"Merton\", \"LONDON\"], [\"Hammersmith and Fulham\", \"LONDON\"]], \"hovertemplate\": \"<b>%{hovertext}</b><br><br>Cluster=Tourist<br>Lat=%{lat}<br>Lng=%{lon}<br>Borough=%{customdata[0]}<br>Town=%{customdata[1]}<extra></extra>\", \"hovertext\": [\"Acton\", \"Addiscombe\", \"Balham\", \"Battersea\", \"Bellingham\", \"Belsize Park\", \"Bethnal Green\", \"Blackheath\", \"Blackwall\", \"Bow\", \"Brent Park\", \"Bromley (also Bromley-by-Bow)\", \"Brompton\", \"Cambridge Heath\", \"Camden Town\", \"Canary Wharf\", \"Carshalton\", \"Castelnau\", \"Catford\", \"Chalk Farm\", \"Charlton\", \"Cheam\", \"Chelsea\", \"Chinbrook\", \"Chiswick\", \"Church End\", \"Church End\", \"Clapham\", \"Colliers Wood\", \"Coombe\", \"Coombe\", \"Coombe\", \"Coombe\", \"Crofton Park\", \"Crouch End\", \"Cubitt Town\", \"Dalston\", \"Denmark Hill\", \"Deptford\", \"Ealing\", \"Eel Pie Island\", \"Eltham\", \"Finsbury Park\", \"Forestdale\", \"Fortis Green\", \"Fulham\", \"Gipsy Hill\", \"Grange Park\", \"Greenwich\", \"Grove Park\", \"Grove Park\", \"Hackney\", \"Hackney Central\", \"Hackney Marshes\", \"Haggerston\", \"Hammersmith\", \"Hampton Wick\", \"Harringay\", \"Harrow\", \"Hayes\", \"Hayes\", \"Highbury\", \"Holland Park\", \"Homerton\", \"Honor Oak\", \"Hornsey\", \"Hounslow\", \"Hoxton\", \"Isle of Dogs\", \"Kentish Town\", \"Kew\", \"Kilburn\", \"Kingston upon Thames\", \"Ladywell\", \"Lambeth\", \"Lampton\", \"Leamouth\", \"Lee\", \"Lewisham\", \"Leyton\", \"Limehouse\", \"Longlands\", \"Lower Clapton\", \"Manor House\", \"Maryland\", \"Maze Hill\", \"Mile End\", \"Millwall\", \"Nine Elms\", \"Old Ford\", \"Old Oak Common\", \"Oval\", \"Parsons Green\", \"Poplar\", \"Primrose Hill\", \"Putney\", \"Ratcliff\", \"Richmond\", \"Roehampton\", \"Rotherhithe\", \"Sands End\", \"Shacklewell\", \"Shadwell\", \"Shirley\", \"Shoreditch\", \"South Hackney\", \"South Wimbledon\", \"Southend\", \"Southfields\", \"St Johns\", \"Stamford Hill\", \"Stepney\", \"Stockwell\", \"Stoke Newington\", \"Stratford\", \"Stroud Green\", \"Swiss Cottage\", \"Tooting\", \"Tooting Bec\", \"Tottenham\", \"Tottenham Green\", \"Tottenham Hale\", \"Turnpike Lane\", \"Twickenham\", \"Upper Walthamstow\", \"Vauxhall\", \"Walthamstow\", \"Walthamstow Village\", \"Wandsworth\", \"Wapping\", \"Wembley\", \"Wembley Park\", \"West Hackney\", \"West Kensington\", \"White City\", \"Widmore (also Widmore Green)\", \"Whitton\", \"Wimbledon\", \"Wormwood Scrubs\"], \"lat\": [51.51806549999999, 51.3735680787325, 51.45682000000005, 51.459232500000006, 51.459160000000054, 51.546898398855184, 51.504126600453446, 51.47236330464883, 51.52022000000005, 51.52022000000005, 51.57395193404126, 51.52022000000005, 51.47772000000003, 51.52203958714199, 51.53761995614299, 51.52022000000005, 51.36284002943043, 51.485597803398825, 51.459160000000054, 51.542821467115445, 51.48454000000004, 51.36132435148824, 51.48198000000008, 51.459160000000054, 51.487373748466936, 51.584253344799436, 51.47504632750984, 51.49084000000005, 51.42069001110853, 51.3671697217131, 51.412031999999996, 51.3671697217131, 51.412031999999996, 51.459160000000054, 51.57635101698774, 51.52022000000005, 51.54834845382215, 51.473736211092046, 51.474270034018765, 51.51406000000003, 51.46337441920929, 51.48454000000004, 51.56878000000006, 51.372340000000065, 51.59095911304599, 51.4826899378211, 51.49084000000005, 51.510295326548984, 51.48454000000004, 51.60396403260681, 51.46698021778042, 51.54505000000006, 51.54713000000004, 51.54505000000006, 51.53849000000008, 51.49617000000006, 51.415950000000066, 51.58478152594502, 51.58263000000005, 51.39815637597911, 51.50276529123459, 51.54624000000007, 51.50163975059008, 51.54690000000005, 51.459160000000054, 51.57428850000001, 51.46228000000008, 51.544887992859934, 51.52022000000005, 51.55078000000003, 51.468628422834044, 51.541870000000074, 51.40984000000003, 51.45641000000006, 51.49084000000005, 51.470299039126076, 51.52022000000005, 51.46257959777167, 51.459160000000054, 51.547985135879436, 51.52022000000005, 51.471981000000014, 51.550862117718694, 51.556846431040384, 51.54764158006811, 51.481701000000015, 51.52040369910079, 51.52022000000005, 51.45682000000005, 51.51660764694028, 51.47772000000003, 51.49084000000005, 51.474150000000066, 51.52022000000005, 51.54083905632829, 51.45682000000005, 51.510718561483586, 51.45400915453738, 51.45682000000005, 51.49574000000007, 51.4826899378211, 51.55416215382668, 51.51111000000003, 51.36983987399733, 51.53942700000002, 51.54505000000006, 51.41534000000007, 51.459160000000054, 51.454321573173694, 51.469897499999995, 51.548184056155186, 51.51670190834722, 51.47001000000006, 51.552283427674936, 51.54220000000004, 51.56547179987947, 51.54367000000008, 51.45682000000005, 51.45682000000005, 51.586679745472225, 51.586679745472225, 51.586679745472225, 51.58944024263658, 51.455988000000005, 51.57898000000006, 51.48559000000006, 51.57898000000006, 51.57898000000006, 51.45682000000005, 51.50458000000003, 51.55297000000007, 51.561586980800406, 51.54505000000006, 51.47772000000003, 51.4826899378211, 51.4060704911339, 51.452986010228564, 51.41539000000006, 51.47772000000003], \"legendgroup\": \"Tourist\", \"line\": {\"color\": \"DarkSlateGrey\", \"width\": 2}, \"lon\": [-0.3019544999999981, -0.09033311937051809, -0.1945199999999545, -0.1730789999999962, -0.012129999999956453, -0.17282773457354447, -0.05922569467192267, -0.01301957962362178, -0.054309999999929914, -0.054309999999929914, -0.2301453242060037, -0.054309999999929914, -0.2014499999999657, -0.05549610229373748, -0.1450899816781068, -0.054309999999929914, -0.1839700183218063, -0.23313753284896066, -0.012129999999956453, -0.148578235240569, 0.002750000000048658, -0.19358758665781206, -0.1854999999999336, -0.012129999999956453, -0.247567752541106, -0.01246795045038361, -0.24045883734011164, -0.11107999999995855, -0.17567000779025538, -0.09600631040756821, -0.2898697500000028, -0.09600631040756821, -0.2898697500000028, -0.012129999999956453, -0.12596601963658563, -0.054309999999929914, -0.06484092455136468, -0.09315897826992249, -0.02174931183870372, -0.30072999999993044, -0.3093145707527385, 0.002750000000048658, -0.09846999999996342, -0.09944999999993342, -0.1508334651723848, -0.2129099233942567, -0.11107999999995855, -0.2979067501672565, 0.002750000000048658, -0.12672536735443427, -0.02043808618523037, -0.05531999999993786, -0.055099999999924876, -0.05531999999993786, -0.07554999999996426, -0.22934999999995398, -0.31370999999995774, -0.09814679145519253, -0.33202999999997473, 0.015123704723472547, -0.40732924449493807, -0.10326999999995223, -0.2055284999999931, -0.042339999999967404, -0.012129999999956453, -0.12737474999998466, -0.3621599999999603, -0.05954051061888684, -0.054309999999929914, -0.14064999999993688, -0.29469289595136133, -0.1979499999999348, -0.3006099999999492, -0.01949999999993679, -0.11107999999995855, -0.36690024622638734, -0.054309999999929914, -0.009841944150654258, -0.012129999999956453, -0.002230369576499119, -0.054309999999929914, -0.19277549999998178, -0.051984239076214064, -0.061591143632053036, 0.004312571469792642, 0.002405249999993659, -0.053405490595804975, -0.054309999999929914, -0.1945199999999545, -0.056547346008563246, -0.2014499999999657, -0.11107999999995855, -0.20021999999994478, -0.054309999999929914, -0.15706646653347683, -0.1945199999999545, -0.04333289336377088, -0.29975626969156677, -0.1945199999999545, -0.051569999999969696, -0.2129099233942567, -0.06862033688411363, -0.05674999999996544, -0.11168976798994026, -0.07100774999999408, -0.05531999999993786, -0.1925099999999702, -0.012129999999956453, -0.1998087256084327, -0.013578749999988253, -0.06545100623946794, -0.04389372420888454, -0.11248999999997977, -0.07494975516607283, 0.005330000000071777, -0.1060226998192129, -0.172649999999976, -0.1945199999999545, -0.1945199999999545, -0.07045849818887971, -0.07045849818887971, -0.07045849818887971, -0.10765449026122992, -0.33030899999999963, -0.011219999999980246, -0.12332999999995309, -0.011219999999980246, -0.011219999999980246, -0.1945199999999545, -0.05598999999995158, -0.29552999999992835, -0.2819689143230941, -0.05531999999993786, -0.2014499999999657, -0.2129099233942567, 0.016465591081097304, -0.3350880748761787, -0.19534999999996217, -0.2014499999999657], \"marker\": {\"color\": \"#EF553B\", \"size\": 12}, \"mode\": \"markers\", \"name\": \"Tourist\", \"showlegend\": true, \"subplot\": \"mapbox\", \"type\": \"scattermapbox\"}, {\"customdata\": [[\"City\", \"LONDON\"], [\"Southwark\", \"LONDON\"], [\"City\", \"LONDON\"], [\"Southwark\", \"LONDON\"], [\"City\", \"LONDON\"], [\"Camden\", \"LONDON\"], [\"Southwark\", \"LONDON\"], [\"Westminster\", \"LONDON\"], [\"Southwark\", \"LONDON\"], [\"Camden\", \"LONDON\"], [\"Camden\", \"LONDON\"], [\"Southwark\", \"LONDON\"], [\"Southwark\", \"LONDON\"], [\"Southwark\", \"LONDON\"], [\"Tower Hamlets\", \"LONDON\"], [\"Southwark\", \"LONDON\"], [\"City\", \"LONDON\"], [\"Southwark\", \"LONDON\"]], \"hovertemplate\": \"<b>%{hovertext}</b><br><br>Cluster=Professional<br>Lat=%{lat}<br>Lng=%{lon}<br>Borough=%{customdata[0]}<br>Town=%{customdata[1]}<extra></extra>\", \"hovertext\": [\"Aldgate\", \"Bankside\", \"Barbican\", \"Bermondsey\", \"Blackfriars\", \"Bloomsbury\", \"Camberwell\", \"Charing Cross\", \"Dulwich\", \"Fitzrovia\", \"Holborn\", \"Newington\", \"Nunhead\", \"Peckham\", \"Spitalfields\", \"Surrey Quays\", \"Temple\", \"Walworth\"], \"lat\": [51.513308435920024, 51.50816773788799, 51.52005005107048, 51.505718012162625, 51.51204000000007, 51.520740000000046, 51.50541000000004, 51.507212550837544, 51.50541000000004, 51.51873000000006, 51.51651000000004, 51.50541000000004, 51.50541000000004, 51.50541000000004, 51.518380000000036, 51.502415522976754, 51.51367880282308, 51.50541000000004], \"legendgroup\": \"Professional\", \"line\": {\"color\": \"DarkSlateGrey\", \"width\": 2}, \"lon\": [-0.077762090020195, -0.09523001191694887, -0.09247002452461052, -0.08923926542542779, -0.10355999999995902, -0.12309999999996535, -0.08920999999998003, -0.12752129664989184, -0.08920999999998003, -0.1373699999999758, -0.11967999999995982, -0.08920999999998003, -0.08920999999998003, -0.08920999999998003, -0.0746799999999439, -0.102682358010783, -0.11088490141152504, -0.08920999999998003], \"marker\": {\"color\": \"#00cc96\", \"size\": 12}, \"mode\": \"markers\", \"name\": \"Professional\", \"showlegend\": true, \"subplot\": \"mapbox\", \"type\": \"scattermapbox\"}, {\"customdata\": [[\"Westminster\", \"LONDON\"], [\"Islington\", \"LONDON\"], [\"Islington\", \"LONDON\"], [\"Islington\", \"LONDON\"], [\"Westminster\", \"LONDON\"], [\"Westminster\", \"LONDON\"], [\"Islington\", \"LONDON\"], [\"Westminster\", \"LONDON\"], [\"Islington\", \"LONDON\"], [\"Westminster\", \"LONDON\"], [\"Islington\", \"LONDON\"], [\"Kensington and Chelsea\", \"LONDON\"], [\"Southwark\", \"LONDON\"], [\"Islington \", \"LONDON\"], [\"Islington\", \"LONDON\"], [\"Camden\", \"LONDON\"], [\"Camden\", \"LONDON\"], [\"Camden\", \"LONDON\"], [\"Islington\", \"LONDON\"], [\"Islington\", \"LONDON\"], [\"Lambeth\", \"LONDON\"], [\"Kensington and Chelsea\", \"LONDON\"], [\"Camden and Islington\", \"LONDON\"], [\"Westminster\", \"LONDON\"], [\"Westminster\", \"LONDON\"], [\"Westminster\", \"LONDON\"], [\"Westminster\", \"LONDON\"], [\"Westminster\", \"LONDON\"], [\"Westminster\", \"LONDON\"], [\"Westminster\", \"LONDON\"], [\"Islington\", \"LONDON\"], [\"Kensington and Chelsea\", \"LONDON\"], [\"Westminster\", \"LONDON\"], [\"Islington\", \"LONDON\"], [\"Westminster\", \"LONDON\"], [\"Hammersmith and Fulham\", \"LONDON\"], [\"Westminster\", \"LONDON\"], [\"Camden\", \"LONDON\"], [\"Kensington and Chelsea\", \"LONDON\"], [\"Westminster\", \"LONDON\"], [\"Camden\", \"LONDON\"], [\"Westminster\", \"LONDON\"], [\"Islington\", \"LONDON\"], [\"Camden\", \"LONDON\"], [\"Tower Hamlets\", \"LONDON\"], [\"Islington\", \"LONDON\"], [\"Islington\", \"LONDON\"], [\"Kensington and Chelsea\", \"LONDON\"], [\"Camden\", \"LONDON\"], [\"Westminster\", \"LONDON\"], [\"Tower Hamlets\", \"LONDON\"]], \"hovertemplate\": \"<b>%{hovertext}</b><br><br>Cluster=Recreational<br>Lat=%{lat}<br>Lng=%{lon}<br>Borough=%{customdata[0]}<br>Town=%{customdata[1]}<extra></extra>\", \"hovertext\": [\"Aldwych\", \"Angel\", \"Archway\", \"Barnsbury\", \"Bayswater\", \"Belgravia\", \"Canonbury\", \"Chinatown\", \"Clerkenwell\", \"Covent Garden\", \"De Beauvoir Town\", \"Earls Court\", \"Elephant and Castle\", \"Farringdon\", \"Finsbury\", \"Frognal\", \"Gospel Oak\", \"Hampstead\", \"Holloway\", \"Islington\", \"Kennington\", \"Kensington\", \"King's Cross\", \"Knightsbridge\", \"Lisson Grove\", \"Little Venice\", \"Maida Vale\", \"Marylebone (also St Marylebone)\", \"Mayfair\", \"Millbank\", \"Nag's Head\", \"North Kensington\", \"Paddington\", \"Pentonville\", \"Pimlico\", \"Shepherd's Bush\", \"Soho\", \"Somerstown\", \"South Kensington\", \"St James's\", \"St Giles\", \"St John's Wood\", \"St Luke's\", \"St Pancras\", \"Tower Hill\", \"Tufnell Park\", \"Upper Holloway\", \"West Brompton\", \"West Hampstead\", \"Westminster\", \"Whitechapel\"], \"lat\": [51.50008000000008, 51.532020000000045, 51.532790000000034, 51.536480534879935, 51.50008000000008, 51.494857585883956, 51.532790000000034, 51.50008000000008, 51.532790000000034, 51.49319400000002, 51.532790000000034, 51.49750000000006, 51.49503000000004, 51.532790000000034, 51.532790000000034, 51.53236000000004, 51.53236000000004, 51.53405473364255, 51.533630036643764, 51.532790000000034, 51.49805994134637, 51.49906000000004, 51.535737, 51.50089180718563, 51.52621993392596, 51.50008000000008, 51.50008000000008, 51.523840000000064, 51.50008000000008, 51.49564036479073, 51.53363000000007, 51.49014000000005, 51.50008000000008, 51.53136428187524, 51.49176994892964, 51.4960199766923, 51.50008000000008, 51.53588642797144, 51.49807000000004, 51.491190000000074, 51.53236000000004, 51.495715376511676, 51.532790000000034, 51.532350000000065, 51.50604755297273, 51.532790000000034, 51.53545425365254, 51.49014000000005, 51.53405473364255, 51.50008000000008, 51.51917000000003], \"legendgroup\": \"Recreational\", \"line\": {\"color\": \"DarkSlateGrey\", \"width\": 2}, \"lon\": [-0.1280199999999354, -0.10625999999996338, -0.1061399999999253, -0.1109095599068421, -0.1280199999999354, -0.12745119894784956, -0.1061399999999253, -0.1280199999999354, -0.1061399999999253, -0.12893740282209368, -0.1061399999999253, -0.19760999999994056, -0.09890999999993255, -0.1061399999999253, -0.1061399999999253, -0.1279599999999732, -0.1279599999999732, -0.1391765653310896, -0.10726005107039317, -0.1061399999999253, -0.11211230167805922, -0.19873999999992975, -0.10332000000000313, -0.12279855209604336, -0.17149005164730943, -0.1280199999999354, -0.1280199999999354, -0.15756999999996424, -0.1280199999999354, -0.12531052201516182, -0.10577999999992471, -0.16247999999995955, -0.1280199999999354, -0.11445304702839991, -0.13979003332543358, -0.2239514999999983, -0.1280199999999354, -0.1275258685428388, -0.17403999999993403, -0.13481999999993377, -0.1279599999999732, -0.12736106476750578, -0.1061399999999253, -0.12575999999995702, -0.07500042081554159, -0.1061399999999253, -0.10409409146715132, -0.16247999999995955, -0.1391765653310896, -0.1280199999999354, -0.059659999999951197], \"marker\": {\"color\": \"#ab63fa\", \"size\": 12}, \"mode\": \"markers\", \"name\": \"Recreational\", \"showlegend\": true, \"subplot\": \"mapbox\", \"type\": \"scattermapbox\"}],\n",
       "                        {\"height\": 600, \"legend\": {\"title\": {\"text\": \"Cluster\"}, \"tracegroupgap\": 0}, \"mapbox\": {\"center\": {\"lat\": 51.50223865763299, \"lon\": -0.10806065956225025}, \"domain\": {\"x\": [0.0, 1.0], \"y\": [0.0, 1.0]}, \"style\": \"open-street-map\", \"zoom\": 9}, \"margin\": {\"b\": 0, \"l\": 0, \"r\": 0, \"t\": 0}, \"template\": {\"data\": {\"bar\": [{\"error_x\": {\"color\": \"#2a3f5f\"}, \"error_y\": {\"color\": \"#2a3f5f\"}, \"marker\": {\"line\": {\"color\": \"#E5ECF6\", \"width\": 0.5}}, \"type\": \"bar\"}], \"barpolar\": [{\"marker\": {\"line\": {\"color\": \"#E5ECF6\", \"width\": 0.5}}, \"type\": \"barpolar\"}], \"carpet\": [{\"aaxis\": {\"endlinecolor\": \"#2a3f5f\", \"gridcolor\": \"white\", \"linecolor\": \"white\", \"minorgridcolor\": \"white\", \"startlinecolor\": \"#2a3f5f\"}, \"baxis\": {\"endlinecolor\": \"#2a3f5f\", \"gridcolor\": \"white\", \"linecolor\": \"white\", \"minorgridcolor\": \"white\", \"startlinecolor\": \"#2a3f5f\"}, \"type\": \"carpet\"}], \"choropleth\": [{\"colorbar\": {\"outlinewidth\": 0, \"ticks\": \"\"}, \"type\": \"choropleth\"}], \"contour\": [{\"colorbar\": {\"outlinewidth\": 0, \"ticks\": \"\"}, \"colorscale\": [[0.0, \"#0d0887\"], [0.1111111111111111, \"#46039f\"], [0.2222222222222222, \"#7201a8\"], [0.3333333333333333, \"#9c179e\"], [0.4444444444444444, \"#bd3786\"], [0.5555555555555556, \"#d8576b\"], [0.6666666666666666, \"#ed7953\"], [0.7777777777777778, \"#fb9f3a\"], [0.8888888888888888, \"#fdca26\"], [1.0, \"#f0f921\"]], \"type\": \"contour\"}], \"contourcarpet\": [{\"colorbar\": {\"outlinewidth\": 0, \"ticks\": \"\"}, \"type\": \"contourcarpet\"}], \"heatmap\": [{\"colorbar\": {\"outlinewidth\": 0, \"ticks\": \"\"}, \"colorscale\": [[0.0, \"#0d0887\"], [0.1111111111111111, \"#46039f\"], [0.2222222222222222, \"#7201a8\"], [0.3333333333333333, \"#9c179e\"], [0.4444444444444444, \"#bd3786\"], [0.5555555555555556, \"#d8576b\"], [0.6666666666666666, \"#ed7953\"], [0.7777777777777778, \"#fb9f3a\"], [0.8888888888888888, \"#fdca26\"], [1.0, \"#f0f921\"]], \"type\": \"heatmap\"}], \"heatmapgl\": [{\"colorbar\": {\"outlinewidth\": 0, \"ticks\": \"\"}, \"colorscale\": [[0.0, \"#0d0887\"], [0.1111111111111111, \"#46039f\"], [0.2222222222222222, \"#7201a8\"], [0.3333333333333333, \"#9c179e\"], [0.4444444444444444, \"#bd3786\"], [0.5555555555555556, \"#d8576b\"], [0.6666666666666666, \"#ed7953\"], [0.7777777777777778, \"#fb9f3a\"], [0.8888888888888888, \"#fdca26\"], [1.0, \"#f0f921\"]], \"type\": \"heatmapgl\"}], \"histogram\": [{\"marker\": {\"colorbar\": {\"outlinewidth\": 0, \"ticks\": \"\"}}, \"type\": \"histogram\"}], \"histogram2d\": [{\"colorbar\": {\"outlinewidth\": 0, \"ticks\": \"\"}, \"colorscale\": [[0.0, \"#0d0887\"], [0.1111111111111111, \"#46039f\"], [0.2222222222222222, \"#7201a8\"], [0.3333333333333333, \"#9c179e\"], [0.4444444444444444, \"#bd3786\"], [0.5555555555555556, \"#d8576b\"], [0.6666666666666666, \"#ed7953\"], [0.7777777777777778, \"#fb9f3a\"], [0.8888888888888888, \"#fdca26\"], [1.0, \"#f0f921\"]], \"type\": \"histogram2d\"}], \"histogram2dcontour\": [{\"colorbar\": {\"outlinewidth\": 0, \"ticks\": \"\"}, \"colorscale\": [[0.0, \"#0d0887\"], [0.1111111111111111, \"#46039f\"], [0.2222222222222222, \"#7201a8\"], [0.3333333333333333, \"#9c179e\"], [0.4444444444444444, \"#bd3786\"], [0.5555555555555556, \"#d8576b\"], [0.6666666666666666, \"#ed7953\"], [0.7777777777777778, \"#fb9f3a\"], [0.8888888888888888, \"#fdca26\"], [1.0, \"#f0f921\"]], \"type\": \"histogram2dcontour\"}], \"mesh3d\": [{\"colorbar\": {\"outlinewidth\": 0, \"ticks\": \"\"}, \"type\": \"mesh3d\"}], \"parcoords\": [{\"line\": {\"colorbar\": {\"outlinewidth\": 0, \"ticks\": \"\"}}, \"type\": \"parcoords\"}], \"pie\": [{\"automargin\": true, \"type\": \"pie\"}], \"scatter\": [{\"marker\": {\"colorbar\": {\"outlinewidth\": 0, \"ticks\": \"\"}}, \"type\": \"scatter\"}], \"scatter3d\": [{\"line\": {\"colorbar\": {\"outlinewidth\": 0, \"ticks\": \"\"}}, \"marker\": {\"colorbar\": {\"outlinewidth\": 0, \"ticks\": \"\"}}, \"type\": \"scatter3d\"}], \"scattercarpet\": [{\"marker\": {\"colorbar\": {\"outlinewidth\": 0, \"ticks\": \"\"}}, \"type\": \"scattercarpet\"}], \"scattergeo\": [{\"marker\": {\"colorbar\": {\"outlinewidth\": 0, \"ticks\": \"\"}}, \"type\": \"scattergeo\"}], \"scattergl\": [{\"marker\": {\"colorbar\": {\"outlinewidth\": 0, \"ticks\": \"\"}}, \"type\": \"scattergl\"}], \"scattermapbox\": [{\"marker\": {\"colorbar\": {\"outlinewidth\": 0, \"ticks\": \"\"}}, \"type\": \"scattermapbox\"}], \"scatterpolar\": [{\"marker\": {\"colorbar\": {\"outlinewidth\": 0, \"ticks\": \"\"}}, \"type\": \"scatterpolar\"}], \"scatterpolargl\": [{\"marker\": {\"colorbar\": {\"outlinewidth\": 0, \"ticks\": \"\"}}, \"type\": \"scatterpolargl\"}], \"scatterternary\": [{\"marker\": {\"colorbar\": {\"outlinewidth\": 0, \"ticks\": \"\"}}, \"type\": \"scatterternary\"}], \"surface\": [{\"colorbar\": {\"outlinewidth\": 0, \"ticks\": \"\"}, \"colorscale\": [[0.0, \"#0d0887\"], [0.1111111111111111, \"#46039f\"], [0.2222222222222222, \"#7201a8\"], [0.3333333333333333, \"#9c179e\"], [0.4444444444444444, \"#bd3786\"], [0.5555555555555556, \"#d8576b\"], [0.6666666666666666, \"#ed7953\"], [0.7777777777777778, \"#fb9f3a\"], [0.8888888888888888, \"#fdca26\"], [1.0, \"#f0f921\"]], \"type\": \"surface\"}], \"table\": [{\"cells\": {\"fill\": {\"color\": \"#EBF0F8\"}, \"line\": {\"color\": \"white\"}}, \"header\": {\"fill\": {\"color\": \"#C8D4E3\"}, \"line\": {\"color\": \"white\"}}, \"type\": \"table\"}]}, \"layout\": {\"annotationdefaults\": {\"arrowcolor\": \"#2a3f5f\", \"arrowhead\": 0, \"arrowwidth\": 1}, \"coloraxis\": {\"colorbar\": {\"outlinewidth\": 0, \"ticks\": \"\"}}, \"colorscale\": {\"diverging\": [[0, \"#8e0152\"], [0.1, \"#c51b7d\"], [0.2, \"#de77ae\"], [0.3, \"#f1b6da\"], [0.4, \"#fde0ef\"], [0.5, \"#f7f7f7\"], [0.6, \"#e6f5d0\"], [0.7, \"#b8e186\"], [0.8, \"#7fbc41\"], [0.9, \"#4d9221\"], [1, \"#276419\"]], \"sequential\": [[0.0, \"#0d0887\"], [0.1111111111111111, \"#46039f\"], [0.2222222222222222, \"#7201a8\"], [0.3333333333333333, \"#9c179e\"], [0.4444444444444444, \"#bd3786\"], [0.5555555555555556, \"#d8576b\"], [0.6666666666666666, \"#ed7953\"], [0.7777777777777778, \"#fb9f3a\"], [0.8888888888888888, \"#fdca26\"], [1.0, \"#f0f921\"]], \"sequentialminus\": [[0.0, \"#0d0887\"], [0.1111111111111111, \"#46039f\"], [0.2222222222222222, \"#7201a8\"], [0.3333333333333333, \"#9c179e\"], [0.4444444444444444, \"#bd3786\"], [0.5555555555555556, \"#d8576b\"], [0.6666666666666666, \"#ed7953\"], [0.7777777777777778, \"#fb9f3a\"], [0.8888888888888888, \"#fdca26\"], [1.0, \"#f0f921\"]]}, \"colorway\": [\"#636efa\", \"#EF553B\", \"#00cc96\", \"#ab63fa\", \"#FFA15A\", \"#19d3f3\", \"#FF6692\", \"#B6E880\", \"#FF97FF\", \"#FECB52\"], \"font\": {\"color\": \"#2a3f5f\"}, \"geo\": {\"bgcolor\": \"white\", \"lakecolor\": \"white\", \"landcolor\": \"#E5ECF6\", \"showlakes\": true, \"showland\": true, \"subunitcolor\": \"white\"}, \"hoverlabel\": {\"align\": \"left\"}, \"hovermode\": \"closest\", \"mapbox\": {\"style\": \"light\"}, \"paper_bgcolor\": \"white\", \"plot_bgcolor\": \"#E5ECF6\", \"polar\": {\"angularaxis\": {\"gridcolor\": \"white\", \"linecolor\": \"white\", \"ticks\": \"\"}, \"bgcolor\": \"#E5ECF6\", \"radialaxis\": {\"gridcolor\": \"white\", \"linecolor\": \"white\", \"ticks\": \"\"}}, \"scene\": {\"xaxis\": {\"backgroundcolor\": \"#E5ECF6\", \"gridcolor\": \"white\", \"gridwidth\": 2, \"linecolor\": \"white\", \"showbackground\": true, \"ticks\": \"\", \"zerolinecolor\": \"white\"}, \"yaxis\": {\"backgroundcolor\": \"#E5ECF6\", \"gridcolor\": \"white\", \"gridwidth\": 2, \"linecolor\": \"white\", \"showbackground\": true, \"ticks\": \"\", \"zerolinecolor\": \"white\"}, \"zaxis\": {\"backgroundcolor\": \"#E5ECF6\", \"gridcolor\": \"white\", \"gridwidth\": 2, \"linecolor\": \"white\", \"showbackground\": true, \"ticks\": \"\", \"zerolinecolor\": \"white\"}}, \"shapedefaults\": {\"line\": {\"color\": \"#2a3f5f\"}}, \"ternary\": {\"aaxis\": {\"gridcolor\": \"white\", \"linecolor\": \"white\", \"ticks\": \"\"}, \"baxis\": {\"gridcolor\": \"white\", \"linecolor\": \"white\", \"ticks\": \"\"}, \"bgcolor\": \"#E5ECF6\", \"caxis\": {\"gridcolor\": \"white\", \"linecolor\": \"white\", \"ticks\": \"\"}}, \"title\": {\"x\": 0.05}, \"xaxis\": {\"automargin\": true, \"gridcolor\": \"white\", \"linecolor\": \"white\", \"ticks\": \"\", \"title\": {\"standoff\": 15}, \"zerolinecolor\": \"white\", \"zerolinewidth\": 2}, \"yaxis\": {\"automargin\": true, \"gridcolor\": \"white\", \"linecolor\": \"white\", \"ticks\": \"\", \"title\": {\"standoff\": 15}, \"zerolinecolor\": \"white\", \"zerolinewidth\": 2}}}},\n",
       "                        {\"responsive\": true}\n",
       "                    ).then(function(){\n",
       "                            \n",
       "var gd = document.getElementById('69b0585e-92bc-47ae-a04a-9de0987fffca');\n",
       "var x = new MutationObserver(function (mutations, observer) {{\n",
       "        var display = window.getComputedStyle(gd).display;\n",
       "        if (!display || display === 'none') {{\n",
       "            console.log([gd, 'removed!']);\n",
       "            Plotly.purge(gd);\n",
       "            observer.disconnect();\n",
       "        }}\n",
       "}});\n",
       "\n",
       "// Listen for the removal of the full notebook cells\n",
       "var notebookContainer = gd.closest('#notebook-container');\n",
       "if (notebookContainer) {{\n",
       "    x.observe(notebookContainer, {childList: true});\n",
       "}}\n",
       "\n",
       "// Listen for the clearing of the current output cell\n",
       "var outputEl = gd.closest('.output');\n",
       "if (outputEl) {{\n",
       "    x.observe(outputEl, {childList: true});\n",
       "}}\n",
       "\n",
       "                        })\n",
       "                };\n",
       "                });\n",
       "            </script>\n",
       "        </div>"
      ]
     },
     "metadata": {},
     "output_type": "display_data"
    }
   ],
   "source": [
    "fig = px.scatter_mapbox(places_clusters_named, lat=\"Lat\", lon=\"Lng\", hover_name=\"Location\", hover_data=[\"Borough\", \"Town\"],\n",
    "                        color=\"Cluster\", zoom=9, height=600)\n",
    "fig.update_traces(marker=dict(size=12), line=dict(width=2,\n",
    "                                        color='DarkSlateGrey'))\n",
    "fig.update_layout(mapbox_style=\"open-street-map\")\n",
    "fig.update_layout(margin={\"r\":0,\"t\":0,\"l\":0,\"b\":0})\n",
    "fig.show()"
   ]
  },
  {
   "cell_type": "markdown",
   "metadata": {},
   "source": [
    "# 6. Discussion\n",
    "Foursquare data is not fair for all categories. Some, like Food, dominate others. Size of the place is not taken into account too."
   ]
  },
  {
   "cell_type": "markdown",
   "metadata": {},
   "source": [
    "# 7. Conclusion"
   ]
  },
  {
   "cell_type": "markdown",
   "metadata": {},
   "source": [
    "Foursquare data together with unsupervised learning can give useful insights into a city structure."
   ]
  }
 ],
 "metadata": {
  "kernelspec": {
   "display_name": "Python 3",
   "language": "python",
   "name": "python3"
  },
  "language_info": {
   "codemirror_mode": {
    "name": "ipython",
    "version": 3
   },
   "file_extension": ".py",
   "mimetype": "text/x-python",
   "name": "python",
   "nbconvert_exporter": "python",
   "pygments_lexer": "ipython3",
   "version": "3.7.6"
  }
 },
 "nbformat": 4,
 "nbformat_minor": 4
}
